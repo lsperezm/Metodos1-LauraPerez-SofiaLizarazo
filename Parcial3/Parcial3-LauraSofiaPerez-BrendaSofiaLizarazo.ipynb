{
 "cells": [
  {
   "cell_type": "code",
   "execution_count": 2,
   "id": "a0dd5194",
   "metadata": {},
   "outputs": [],
   "source": [
    "import numpy as np\n",
    "import matplotlib.pyplot as plt\n",
    "import sympy as sym"
   ]
  },
  {
   "cell_type": "code",
   "execution_count": 157,
   "id": "6bcf6943",
   "metadata": {},
   "outputs": [],
   "source": [
    "#a\n",
    "x=sym.Symbol('x',real=True)\n",
    "y=sym.Symbol('y',real=True)\n"
   ]
  },
  {
   "cell_type": "code",
   "execution_count": 158,
   "id": "0a1792d8",
   "metadata": {},
   "outputs": [
    {
     "data": {
      "text/latex": [
       "$\\displaystyle x + i y$"
      ],
      "text/plain": [
       "x + I*y"
      ]
     },
     "execution_count": 158,
     "metadata": {},
     "output_type": "execute_result"
    }
   ],
   "source": [
    "#b\n",
    "\n",
    "z= x+sym.I*y\n",
    "z\n"
   ]
  },
  {
   "cell_type": "code",
   "execution_count": 159,
   "id": "6104780a",
   "metadata": {},
   "outputs": [],
   "source": [
    "#c\n",
    "\n",
    "func=z**3 - 1\n",
    "    "
   ]
  },
  {
   "cell_type": "code",
   "execution_count": 160,
   "id": "d7120bd4",
   "metadata": {},
   "outputs": [
    {
     "data": {
      "text/latex": [
       "$\\displaystyle 3 x^{2} - 3 y^{2}$"
      ],
      "text/plain": [
       "3*x**2 - 3*y**2"
      ]
     },
     "execution_count": 160,
     "metadata": {},
     "output_type": "execute_result"
    }
   ],
   "source": [
    "#d\n",
    "\n",
    "F=[sym.re(func), sym.im(func)]\n",
    "F\n",
    "sym.diff(F[0],x)\n",
    "\n",
    "   \n"
   ]
  },
  {
   "cell_type": "code",
   "execution_count": 161,
   "id": "7604ddaf",
   "metadata": {},
   "outputs": [],
   "source": [
    "#e\n",
    "def GetJacobian(G,h=1e-6):\n",
    "    \n",
    "    dim = len(G)\n",
    "    \n",
    "    J = sym.matrices.Matrix([[0,0],[0,0]])\n",
    "    \n",
    "    J[0,0]=sym.diff(G[0],x,1)\n",
    "    J[0,1]=sym.diff(G[0],y,1)\n",
    "    J[1,0]=sym.diff(G[1],x,1)\n",
    "    J[1,1]=sym.diff(G[1],y,1)\n",
    "    \n",
    "    return J"
   ]
  },
  {
   "cell_type": "code",
   "execution_count": 162,
   "id": "40c88919",
   "metadata": {},
   "outputs": [
    {
     "data": {
      "text/latex": [
       "$\\displaystyle \\left[\\begin{matrix}3 x^{2} - 3 y^{2} & - 6 x y\\\\6 x y & 3 x^{2} - 3 y^{2}\\end{matrix}\\right]$"
      ],
      "text/plain": [
       "Matrix([\n",
       "[3*x**2 - 3*y**2,          -6*x*y],\n",
       "[          6*x*y, 3*x**2 - 3*y**2]])"
      ]
     },
     "execution_count": 162,
     "metadata": {},
     "output_type": "execute_result"
    }
   ],
   "source": [
    "J=GetJacobian(F)\n",
    "J"
   ]
  },
  {
   "cell_type": "code",
   "execution_count": 163,
   "id": "4a523a76",
   "metadata": {},
   "outputs": [
    {
     "data": {
      "text/plain": [
       "array([[ 0.        ,  0.66666667],\n",
       "       [-0.66666667, -0.        ]])"
      ]
     },
     "execution_count": 163,
     "metadata": {},
     "output_type": "execute_result"
    }
   ],
   "source": [
    "#f\n",
    "\n",
    "Fn=sym.lambdify([x,y],F,'numpy')\n",
    "Jn=sym.lambdify([x,y],J,'numpy')\n",
    "np.linalg.inv(Jn(0.5,0.5))"
   ]
  },
  {
   "cell_type": "code",
   "execution_count": 164,
   "id": "5bb31e2b",
   "metadata": {},
   "outputs": [],
   "source": [
    "#g\n",
    "def Raiz_poly(z_o,Fn,Jn):\n",
    "    \n",
    "    error=4\n",
    "    n=0\n",
    "    zn_=z_o\n",
    "    \n",
    "    while error > 10e-7:\n",
    "        \n",
    "        J_inv=np.linalg.inv(Jn(zn_[0],zn_[1]))\n",
    "        zn=zn_ - np.dot(J_inv,Fn(zn_[0],zn_[1]))\n",
    "       # print(zn_)\n",
    "        error= np.linalg.norm(zn-zn_)\n",
    "        zn_=zn\n",
    "        #print(zn)\n",
    "        \n",
    "        \n",
    "    return zn_"
   ]
  },
  {
   "cell_type": "code",
   "execution_count": 165,
   "id": "6f31ab36",
   "metadata": {},
   "outputs": [
    {
     "data": {
      "text/plain": [
       "array([-0.5      ,  0.8660254])"
      ]
     },
     "execution_count": 165,
     "metadata": {},
     "output_type": "execute_result"
    }
   ],
   "source": [
    "#h\n",
    "\n",
    "r1=Raiz_poly([0.5,0.5],Fn,Jn)\n",
    "r1"
   ]
  },
  {
   "cell_type": "code",
   "execution_count": 186,
   "id": "3b17c9b4",
   "metadata": {},
   "outputs": [],
   "source": [
    "#i\n",
    "N=300\n",
    "x=np.linspace(-1,1,N)\n",
    "y=np.linspace(-1,1,N)\n",
    "r2=np.array([-0.5,-1*r1[1]])\n",
    "r3=np.array([1,0])\n",
    "raices=np.array([r1,r2,r3])"
   ]
  },
  {
   "cell_type": "code",
   "execution_count": 187,
   "id": "9cd7d8c0",
   "metadata": {},
   "outputs": [],
   "source": [
    "#j\n",
    "Fractal=np.zeros((N,N),np.int64)\n"
   ]
  },
  {
   "cell_type": "code",
   "execution_count": 188,
   "id": "317c0d4d",
   "metadata": {},
   "outputs": [],
   "source": [
    "for i in range(len(x)):\n",
    "    for j in range(len(y)):\n",
    "        raiz=Raiz_poly([x[i],y[j]],Fn,Jn)\n",
    "        norm1=np.linalg.norm(raiz-raices[0])\n",
    "        norm2=np.linalg.norm(raiz-raices[1])\n",
    "        norm3=np.linalg.norm(raiz-raices[2])\n",
    "        if norm1<norm2 and norm1<norm3:\n",
    "            color=20\n",
    "            Fractal[i,j]=color\n",
    "            \n",
    "        if norm2<norm1 and norm2<norm3:\n",
    "            color=100\n",
    "            Fractal[i,j]=color\n",
    "        \n",
    "        if norm3<norm2 and norm3<norm1:\n",
    "            color=255\n",
    "            Fractal[i,j]=color"
   ]
  },
  {
   "cell_type": "code",
   "execution_count": 189,
   "id": "d1f3e423",
   "metadata": {},
   "outputs": [
    {
     "data": {
      "text/plain": [
       "<matplotlib.image.AxesImage at 0x1cd80e30d00>"
      ]
     },
     "execution_count": 189,
     "metadata": {},
     "output_type": "execute_result"
    },
    {
     "data": {
      "image/png": "[encoded data removed]",
      "text/plain": [
       "<Figure size 432x288 with 1 Axes>"
      ]
     },
     "metadata": {
      "needs_background": "light"
     },
     "output_type": "display_data"
    }
   ],
   "source": [
    "#k\n",
    "plt.imshow(Fractal,cmap='inferno',extent=[-1,1,-1,1])"
   ]
  },
  {
   "cell_type": "code",
   "execution_count": null,
   "id": "0176d5a5",
   "metadata": {},
   "outputs": [],
   "source": []
  }
 ],
 "metadata": {
  "kernelspec": {
   "display_name": "Python 3 (ipykernel)",
   "language": "python",
   "name": "python3"
  },
  "language_info": {
   "codemirror_mode": {
    "name": "ipython",
    "version": 3
   },
   "file_extension": ".py",
   "mimetype": "text/x-python",
   "name": "python",
   "nbconvert_exporter": "python",
   "pygments_lexer": "ipython3",
   "version": "3.9.7"
  }
 },
 "nbformat": 4,
 "nbformat_minor": 5
}
