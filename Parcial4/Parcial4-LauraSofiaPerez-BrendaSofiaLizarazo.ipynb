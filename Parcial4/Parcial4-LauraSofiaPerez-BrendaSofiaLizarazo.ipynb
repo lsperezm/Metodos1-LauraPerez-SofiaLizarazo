{
 "cells": [
  {
   "cell_type": "markdown",
   "id": "33419280",
   "metadata": {},
   "source": [
    "## Parcial Final"
   ]
  },
  {
   "cell_type": "code",
   "execution_count": 8,
   "id": "af25b78d",
   "metadata": {},
   "outputs": [],
   "source": [
    "import numpy as np\n",
    "import matplotlib.pyplot as plt\n",
    "import sympy as sym\n",
    "import pandas as pd\n",
    "import scipy.optimize as spo"
   ]
  },
  {
   "cell_type": "code",
   "execution_count": 9,
   "id": "af902276",
   "metadata": {},
   "outputs": [
    {
     "data": {
      "text/html": [
       "<div>\n",
       "<style scoped>\n",
       "    .dataframe tbody tr th:only-of-type {\n",
       "        vertical-align: middle;\n",
       "    }\n",
       "\n",
       "    .dataframe tbody tr th {\n",
       "        vertical-align: top;\n",
       "    }\n",
       "\n",
       "    .dataframe thead th {\n",
       "        text-align: right;\n",
       "    }\n",
       "</style>\n",
       "<table border=\"1\" class=\"dataframe\">\n",
       "  <thead>\n",
       "    <tr style=\"text-align: right;\">\n",
       "      <th></th>\n",
       "      <th>h</th>\n",
       "      <th>angle</th>\n",
       "      <th>y</th>\n",
       "      <th>sigmay</th>\n",
       "    </tr>\n",
       "  </thead>\n",
       "  <tbody>\n",
       "    <tr>\n",
       "      <th>20</th>\n",
       "      <td>10.0</td>\n",
       "      <td>30.0</td>\n",
       "      <td>0.0013</td>\n",
       "      <td>0.0015</td>\n",
       "    </tr>\n",
       "    <tr>\n",
       "      <th>21</th>\n",
       "      <td>20.0</td>\n",
       "      <td>30.0</td>\n",
       "      <td>0.0017</td>\n",
       "      <td>0.0015</td>\n",
       "    </tr>\n",
       "    <tr>\n",
       "      <th>22</th>\n",
       "      <td>30.0</td>\n",
       "      <td>30.0</td>\n",
       "      <td>0.0038</td>\n",
       "      <td>0.0015</td>\n",
       "    </tr>\n",
       "    <tr>\n",
       "      <th>23</th>\n",
       "      <td>40.0</td>\n",
       "      <td>30.0</td>\n",
       "      <td>0.0059</td>\n",
       "      <td>0.0015</td>\n",
       "    </tr>\n",
       "    <tr>\n",
       "      <th>24</th>\n",
       "      <td>50.0</td>\n",
       "      <td>30.0</td>\n",
       "      <td>0.0067</td>\n",
       "      <td>0.0015</td>\n",
       "    </tr>\n",
       "    <tr>\n",
       "      <th>25</th>\n",
       "      <td>60.0</td>\n",
       "      <td>30.0</td>\n",
       "      <td>0.0094</td>\n",
       "      <td>0.0015</td>\n",
       "    </tr>\n",
       "    <tr>\n",
       "      <th>26</th>\n",
       "      <td>70.0</td>\n",
       "      <td>30.0</td>\n",
       "      <td>0.0122</td>\n",
       "      <td>0.0015</td>\n",
       "    </tr>\n",
       "    <tr>\n",
       "      <th>27</th>\n",
       "      <td>80.0</td>\n",
       "      <td>30.0</td>\n",
       "      <td>0.0132</td>\n",
       "      <td>0.0015</td>\n",
       "    </tr>\n",
       "    <tr>\n",
       "      <th>28</th>\n",
       "      <td>90.0</td>\n",
       "      <td>30.0</td>\n",
       "      <td>0.0151</td>\n",
       "      <td>0.0015</td>\n",
       "    </tr>\n",
       "    <tr>\n",
       "      <th>29</th>\n",
       "      <td>100.0</td>\n",
       "      <td>30.0</td>\n",
       "      <td>0.0186</td>\n",
       "      <td>0.0015</td>\n",
       "    </tr>\n",
       "  </tbody>\n",
       "</table>\n",
       "</div>"
      ],
      "text/plain": [
       "        h  angle       y  sigmay\n",
       "20   10.0   30.0  0.0013  0.0015\n",
       "21   20.0   30.0  0.0017  0.0015\n",
       "22   30.0   30.0  0.0038  0.0015\n",
       "23   40.0   30.0  0.0059  0.0015\n",
       "24   50.0   30.0  0.0067  0.0015\n",
       "25   60.0   30.0  0.0094  0.0015\n",
       "26   70.0   30.0  0.0122  0.0015\n",
       "27   80.0   30.0  0.0132  0.0015\n",
       "28   90.0   30.0  0.0151  0.0015\n",
       "29  100.0   30.0  0.0186  0.0015"
      ]
     },
     "execution_count": 9,
     "metadata": {},
     "output_type": "execute_result"
    }
   ],
   "source": [
    "datos=pd.read_csv('Datos.txt')\n",
    "lam_30= datos[datos.angle==30]\n",
    "lam_30"
   ]
  },
  {
   "cell_type": "code",
   "execution_count": 17,
   "id": "ae32b238",
   "metadata": {},
   "outputs": [
    {
     "data": {
      "text/plain": [
       "20     10.0\n",
       "21     20.0\n",
       "22     30.0\n",
       "23     40.0\n",
       "24     50.0\n",
       "25     60.0\n",
       "26     70.0\n",
       "27     80.0\n",
       "28     90.0\n",
       "29    100.0\n",
       "Name: h, dtype: float64"
      ]
     },
     "execution_count": 17,
     "metadata": {},
     "output_type": "execute_result"
    }
   ],
   "source": [
    "lam_30.h"
   ]
  },
  {
   "cell_type": "code",
   "execution_count": 63,
   "id": "77f79179",
   "metadata": {},
   "outputs": [
    {
     "data": {
      "text/latex": [
       "$\\displaystyle 0.942809041582063 w \\left(\\frac{h^{3}}{g}\\right)^{0.5} \\cos{\\left(\\lambda \\right)}$"
      ],
      "text/plain": [
       "0.942809041582063*w*(h**3/g)**0.5*cos(lambda)"
      ]
     },
     "execution_count": 63,
     "metadata": {},
     "output_type": "execute_result"
    }
   ],
   "source": [
    "h_=sym.Symbol('h',real=True)\n",
    "w_=sym.Symbol('w',real=True)\n",
    "lamd=sym.Symbol('lambda',real=True)\n",
    "g_=sym.Symbol('g',real=True)\n",
    "\n",
    "def Coriolis_sym(h,w,lam,g):\n",
    "    res=(2*(2**(1/2))/3) *w*sym.cos(lam)*((h**3)/g)**(1/2)\n",
    "    return res\n",
    "\n",
    "Coriolis_sym(h_,w_,lamd,g_)"
   ]
  },
  {
   "cell_type": "code",
   "execution_count": 64,
   "id": "95511ddd",
   "metadata": {},
   "outputs": [],
   "source": [
    "def Coriolis_np(h,w,lam,g):\n",
    "    res=(2*(2**(1/2))/3) *w*np.cos(lam)*((h**3)/g)**(1/2)\n",
    "    return res"
   ]
  },
  {
   "cell_type": "code",
   "execution_count": 65,
   "id": "8ef08fe9",
   "metadata": {},
   "outputs": [],
   "source": [
    "def chi2(w,h,y,sigmay,angle,g):\n",
    "    resp=np.sum((y-Coriolis_np(h,w,angle,g))**2 /(2*sigmay**2))\n",
    "    return resp"
   ]
  },
  {
   "cell_type": "markdown",
   "id": "2829397e",
   "metadata": {},
   "source": [
    "e)"
   ]
  },
  {
   "cell_type": "code",
   "execution_count": 104,
   "id": "d53dccc9",
   "metadata": {},
   "outputs": [],
   "source": [
    "h=lam_30.h\n",
    "y=lam_30.y\n",
    "sigmay=lam_30.sigmay\n",
    "angle=lam_30.angle\n",
    "g=9.81\n",
    "\n",
    "nll=lambda *w:chi2(*w)\n",
    "p0=np.ones(10)\n"
   ]
  },
  {
   "cell_type": "code",
   "execution_count": 109,
   "id": "ad1bc329",
   "metadata": {},
   "outputs": [
    {
     "name": "stdout",
     "output_type": "stream",
     "text": [
      "Optimization terminated successfully.\n",
      "         Current function value: 0.000000\n",
      "         Iterations: 14\n",
      "         Function evaluations: 264\n",
      "         Gradient evaluations: 24\n"
     ]
    },
    {
     "data": {
      "text/plain": [
       "  message: Optimization terminated successfully.\n",
       "  success: True\n",
       "   status: 0\n",
       "      fun: 8.04507864996885e-08\n",
       "        x: [ 8.854e-04  4.093e-04  4.981e-04  5.023e-04  4.081e-04\n",
       "             4.356e-04  4.486e-04  3.973e-04  3.809e-04  4.006e-04]\n",
       "      nit: 14\n",
       "      jac: [-5.935e-07  5.354e-07 -2.312e-06 -6.111e-07  1.303e-07\n",
       "            -1.322e-07  7.259e-07 -7.665e-08  2.781e-07 -3.287e-06]\n",
       " hess_inv: [[ 1.044e-06  2.866e-14 ...  9.418e-16 -1.062e-16]\n",
       "            [ 2.866e-14  1.305e-07 ... -1.605e-17  4.639e-16]\n",
       "            ...\n",
       "            [ 9.408e-16 -2.046e-17 ...  1.432e-09  8.547e-18]\n",
       "            [-1.065e-16  4.631e-16 ...  4.413e-19  1.044e-09]]\n",
       "     nfev: 264\n",
       "     njev: 24"
      ]
     },
     "execution_count": 109,
     "metadata": {},
     "output_type": "execute_result"
    }
   ],
   "source": [
    "minimizar = spo.minimize( nll, p0, args=(h,y,sigmay,angle,g),options={'disp':True} )\n",
    "\n",
    "minimizar\n"
   ]
  },
  {
   "cell_type": "code",
   "execution_count": 91,
   "id": "d0abda50",
   "metadata": {},
   "outputs": [
    {
     "data": {
      "text/plain": [
       "0.12730173386282867"
      ]
     },
     "execution_count": 91,
     "metadata": {},
     "output_type": "execute_result"
    }
   ],
   "source": [
    "minimizar.fun/(10-1)"
   ]
  },
  {
   "cell_type": "markdown",
   "id": "1e3cc7eb",
   "metadata": {},
   "source": [
    "f)"
   ]
  },
  {
   "cell_type": "code",
   "execution_count": 108,
   "id": "022a8933",
   "metadata": {},
   "outputs": [
    {
     "ename": "TypeError",
     "evalue": "Coriolis_np() missing 2 required positional arguments: 'lam' and 'g'",
     "output_type": "error",
     "traceback": [
      "\u001b[1;31m---------------------------------------------------------------------------\u001b[0m",
      "\u001b[1;31mTypeError\u001b[0m                                 Traceback (most recent call last)",
      "Cell \u001b[1;32mIn[108], line 3\u001b[0m\n\u001b[0;32m      1\u001b[0m _x \u001b[38;5;241m=\u001b[39m np\u001b[38;5;241m.\u001b[39mlinspace(np\u001b[38;5;241m.\u001b[39mmin(h),np\u001b[38;5;241m.\u001b[39mmax(h),\u001b[38;5;241m100\u001b[39m)\n\u001b[0;32m      2\u001b[0m bestparam\u001b[38;5;241m=\u001b[39mminimizar\u001b[38;5;241m.\u001b[39mx\n\u001b[1;32m----> 3\u001b[0m _y \u001b[38;5;241m=\u001b[39m \u001b[43mCoriolis_np\u001b[49m\u001b[43m(\u001b[49m\u001b[43m_x\u001b[49m\u001b[43m,\u001b[49m\u001b[43mbestparam\u001b[49m\u001b[43m)\u001b[49m\n\u001b[0;32m      5\u001b[0m \u001b[38;5;66;03m#plt.errorbar(x,y,yerr=sigma,fmt='.')\u001b[39;00m\n\u001b[0;32m      6\u001b[0m plt\u001b[38;5;241m.\u001b[39mplot(_x,_y,color\u001b[38;5;241m=\u001b[39m\u001b[38;5;124m'\u001b[39m\u001b[38;5;124mr\u001b[39m\u001b[38;5;124m'\u001b[39m)\n",
      "\u001b[1;31mTypeError\u001b[0m: Coriolis_np() missing 2 required positional arguments: 'lam' and 'g'"
     ]
    }
   ],
   "source": [
    "_x = np.linspace(np.min(h),np.max(h),100)\n",
    "bestparam=minimizar.x\n",
    "_y = Coriolis_np(_x,bestparam)\n",
    "\n",
    "#plt.errorbar(x,y,yerr=sigma,fmt='.')\n",
    "plt.plot(_x,_y,color='r')"
   ]
  },
  {
   "cell_type": "code",
   "execution_count": null,
   "id": "b815ce79",
   "metadata": {},
   "outputs": [],
   "source": []
  }
 ],
 "metadata": {
  "kernelspec": {
   "display_name": "Python 3 (ipykernel)",
   "language": "python",
   "name": "python3"
  },
  "language_info": {
   "codemirror_mode": {
    "name": "ipython",
    "version": 3
   },
   "file_extension": ".py",
   "mimetype": "text/x-python",
   "name": "python",
   "nbconvert_exporter": "python",
   "pygments_lexer": "ipython3",
   "version": "3.10.9"
  }
 },
 "nbformat": 4,
 "nbformat_minor": 5
}
