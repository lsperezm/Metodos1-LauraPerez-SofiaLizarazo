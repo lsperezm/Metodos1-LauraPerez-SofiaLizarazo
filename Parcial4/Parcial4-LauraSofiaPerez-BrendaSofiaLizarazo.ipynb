{
 "cells": [
  {
   "cell_type": "markdown",
   "id": "445ce4e9",
   "metadata": {},
   "source": [
    "## Parcial Final"
   ]
  },
  {
   "cell_type": "code",
   "execution_count": 446,
   "id": "af25b78d",
   "metadata": {},
   "outputs": [],
   "source": [
    "import numpy as np\n",
    "import matplotlib.pyplot as plt\n",
    "import sympy as sym\n",
    "import pandas as pd\n",
    "import scipy.optimize as spo"
   ]
  },
  {
   "cell_type": "markdown",
   "id": "e9757944",
   "metadata": {},
   "source": [
    "## Teórico:"
   ]
  },
  {
   "cell_type": "markdown",
   "id": "319f795a",
   "metadata": {},
   "source": [
    "Partiendo de las siguientes premisas:\n",
    "    \n",
    "$$\n",
    "\\sum \\vec F =m(\\vec a +2 \\vec w \\times \\vec v)\\\\\n",
    "\\vec w=[-wcos\\lambda,0,wsin\\lambda]\\\\\n",
    "\\vec r= [rcos\\theta,rsin\\theta,r]\n",
    "$$\n",
    "\n",
    "Y de que $wr=v$. Podemos obtener el vector de velocidad a partir de:\n",
    "\n",
    "\n",
    "$$\n",
    "\\begin{equation}\n",
    "\\begin{split}\n",
    "\\vec v&=\\vec w\\times \\vec r \\\\\n",
    "&=\\begin{pmatrix}\n",
    "-wrsin\\theta sin\\lambda\\\\\n",
    "wrcos\\lambda\\\\\n",
    "-wrcos\\lambda sin\\theta\n",
    "\\end{pmatrix}\n",
    "\\end{split}\n",
    "\\end{equation}\n",
    "$$\n",
    "\n",
    "\n",
    "De modo que se puede plantear la siguiente ecuación:\n",
    "\n",
    "$$\\begin{equation}\n",
    "\\begin{split}\n",
    "-m\\begin{pmatrix}\n",
    "0\\\\\n",
    "0\\\\\n",
    "g\n",
    "\\end{pmatrix}\n",
    "&= \n",
    "m\\Big(\\begin{pmatrix}\n",
    "\\ddot{x}\\\\\n",
    "\\ddot{y}\\\\\n",
    "\\ddot{z}\n",
    "\\end{pmatrix} + 2\\begin{pmatrix}\n",
    "-wcos\\lambda\\\\\n",
    "0\\\\\n",
    "wsin\\lambda\n",
    "\\end{pmatrix}\\times \\begin{pmatrix}\n",
    "-wrsin\\theta sin\\lambda\\\\\n",
    "wrcos\\lambda\\\\\n",
    "-wrcos\\lambda sin\\theta\n",
    "\\end{pmatrix}\n",
    "\\Big)\\\\\n",
    "-\\begin{pmatrix}\n",
    "0\\\\\n",
    "0\\\\\n",
    "g\n",
    "\\end{pmatrix}&=\\begin{pmatrix}\n",
    "\\ddot{x}\\\\\n",
    "\\ddot{y}\\\\\n",
    "\\ddot{z}\n",
    "\\end{pmatrix} +2\\begin{pmatrix}\n",
    "-w^2 r sin\\lambda cos\\lambda\\\\\n",
    "w^2rsin^2\\theta sen\\theta + w^2rcos^2\\lambda cos\\theta\\\\\n",
    "-w^2 r cos^2\\lambda\n",
    "\\end{pmatrix}\n",
    "\\end{split}\n",
    "\\end{equation}\n",
    "$$\n",
    "\n",
    "De esta manera obtenemos el siguiente sistema de ecuaciones:\n",
    "\n",
    "$$\n",
    "\\begin{equation}\n",
    "\\begin{split}\n",
    "\\ddot{x}&=2w^2rsin^2 \\lambda cos \\lambda \\\\\n",
    "\\ddot{y}&=-2w^2rcos^2\\lambda sin\\theta - 2w^2rsin\\lambda sin\\theta\\\\\n",
    "\\ddot{z}&=-g+2w^2rcos^2\\lambda\n",
    "\\end{split}\n",
    "\\end{equation}\n",
    "$$\n",
    "\n",
    "Y teniendo en cuenta el vector de velocidad hallado previamente tenemos que:\n",
    "\n",
    "$$\n",
    "\\begin{equation}\n",
    "\\begin{split}\n",
    "\\dot{x}&=wrsin\\lambda sin\\theta\\\\\n",
    "\\dot{y}&=wrcos\\lambda\\\\\n",
    "\\dot{z}&=wrcos\\lambda sin\\theta\n",
    "\\end{split}\n",
    "\\end{equation}\n",
    "$$\n",
    "\n",
    "Por lo tanto, llegamos a:\n",
    "\n",
    "$$\n",
    "\\begin{equation}\n",
    "\\begin{split}\n",
    "\\ddot{x}&=2wsin\\lambda \\dot{y}\\\\\n",
    "\\ddot{y}&=-2wcos\\lambda \\dot{z}-2wsin\\lambda \\dot{x}\\\\\n",
    "\\ddot{z}&=-g + 2wcos\\lambda \\dot{y}\n",
    "\\end{split}\n",
    "\\end{equation}\n",
    "$$"
   ]
  },
  {
   "cell_type": "markdown",
   "id": "536e4764",
   "metadata": {},
   "source": [
    "## Parte 1"
   ]
  },
  {
   "cell_type": "markdown",
   "id": "939cec31",
   "metadata": {},
   "source": [
    "a, b)"
   ]
  },
  {
   "cell_type": "code",
   "execution_count": 447,
   "id": "af902276",
   "metadata": {},
   "outputs": [
    {
     "data": {
      "text/html": [
       "<div>\n",
       "<style scoped>\n",
       "    .dataframe tbody tr th:only-of-type {\n",
       "        vertical-align: middle;\n",
       "    }\n",
       "\n",
       "    .dataframe tbody tr th {\n",
       "        vertical-align: top;\n",
       "    }\n",
       "\n",
       "    .dataframe thead th {\n",
       "        text-align: right;\n",
       "    }\n",
       "</style>\n",
       "<table border=\"1\" class=\"dataframe\">\n",
       "  <thead>\n",
       "    <tr style=\"text-align: right;\">\n",
       "      <th></th>\n",
       "      <th>h</th>\n",
       "      <th>angle</th>\n",
       "      <th>y</th>\n",
       "      <th>sigmay</th>\n",
       "    </tr>\n",
       "  </thead>\n",
       "  <tbody>\n",
       "    <tr>\n",
       "      <th>20</th>\n",
       "      <td>10.0</td>\n",
       "      <td>30.0</td>\n",
       "      <td>0.0013</td>\n",
       "      <td>0.0015</td>\n",
       "    </tr>\n",
       "    <tr>\n",
       "      <th>21</th>\n",
       "      <td>20.0</td>\n",
       "      <td>30.0</td>\n",
       "      <td>0.0017</td>\n",
       "      <td>0.0015</td>\n",
       "    </tr>\n",
       "    <tr>\n",
       "      <th>22</th>\n",
       "      <td>30.0</td>\n",
       "      <td>30.0</td>\n",
       "      <td>0.0038</td>\n",
       "      <td>0.0015</td>\n",
       "    </tr>\n",
       "    <tr>\n",
       "      <th>23</th>\n",
       "      <td>40.0</td>\n",
       "      <td>30.0</td>\n",
       "      <td>0.0059</td>\n",
       "      <td>0.0015</td>\n",
       "    </tr>\n",
       "    <tr>\n",
       "      <th>24</th>\n",
       "      <td>50.0</td>\n",
       "      <td>30.0</td>\n",
       "      <td>0.0067</td>\n",
       "      <td>0.0015</td>\n",
       "    </tr>\n",
       "    <tr>\n",
       "      <th>25</th>\n",
       "      <td>60.0</td>\n",
       "      <td>30.0</td>\n",
       "      <td>0.0094</td>\n",
       "      <td>0.0015</td>\n",
       "    </tr>\n",
       "    <tr>\n",
       "      <th>26</th>\n",
       "      <td>70.0</td>\n",
       "      <td>30.0</td>\n",
       "      <td>0.0122</td>\n",
       "      <td>0.0015</td>\n",
       "    </tr>\n",
       "    <tr>\n",
       "      <th>27</th>\n",
       "      <td>80.0</td>\n",
       "      <td>30.0</td>\n",
       "      <td>0.0132</td>\n",
       "      <td>0.0015</td>\n",
       "    </tr>\n",
       "    <tr>\n",
       "      <th>28</th>\n",
       "      <td>90.0</td>\n",
       "      <td>30.0</td>\n",
       "      <td>0.0151</td>\n",
       "      <td>0.0015</td>\n",
       "    </tr>\n",
       "    <tr>\n",
       "      <th>29</th>\n",
       "      <td>100.0</td>\n",
       "      <td>30.0</td>\n",
       "      <td>0.0186</td>\n",
       "      <td>0.0015</td>\n",
       "    </tr>\n",
       "  </tbody>\n",
       "</table>\n",
       "</div>"
      ],
      "text/plain": [
       "        h  angle       y  sigmay\n",
       "20   10.0   30.0  0.0013  0.0015\n",
       "21   20.0   30.0  0.0017  0.0015\n",
       "22   30.0   30.0  0.0038  0.0015\n",
       "23   40.0   30.0  0.0059  0.0015\n",
       "24   50.0   30.0  0.0067  0.0015\n",
       "25   60.0   30.0  0.0094  0.0015\n",
       "26   70.0   30.0  0.0122  0.0015\n",
       "27   80.0   30.0  0.0132  0.0015\n",
       "28   90.0   30.0  0.0151  0.0015\n",
       "29  100.0   30.0  0.0186  0.0015"
      ]
     },
     "execution_count": 447,
     "metadata": {},
     "output_type": "execute_result"
    }
   ],
   "source": [
    "datos=pd.read_csv('Datos.txt')\n",
    "lam_30= datos[datos.angle==30]\n",
    "lam_30"
   ]
  },
  {
   "cell_type": "markdown",
   "id": "d7a22370",
   "metadata": {},
   "source": [
    "c)"
   ]
  },
  {
   "cell_type": "code",
   "execution_count": 448,
   "id": "77f79179",
   "metadata": {},
   "outputs": [
    {
     "data": {
      "text/latex": [
       "$\\displaystyle 0.942809041582063 w \\left(\\frac{h^{3}}{g}\\right)^{0.5} \\cos{\\left(\\lambda \\right)}$"
      ],
      "text/plain": [
       "0.942809041582063*w*(h**3/g)**0.5*cos(lambda)"
      ]
     },
     "execution_count": 448,
     "metadata": {},
     "output_type": "execute_result"
    }
   ],
   "source": [
    "h_=sym.Symbol('h',real=True)\n",
    "w_=sym.Symbol('w',real=True)\n",
    "lamd=sym.Symbol('lambda',real=True)\n",
    "g_=sym.Symbol('g',real=True)\n",
    "\n",
    "def Coriolis_sym(h,w,lam,g):\n",
    "    res=(2*(2**(1/2))/3) *w*sym.cos(lam)*((h**3)/g)**(1/2)\n",
    "    return res\n",
    "\n",
    "Coriolis_sym(h_,w_,lamd,g_)"
   ]
  },
  {
   "cell_type": "code",
   "execution_count": 449,
   "id": "e87aa7d7",
   "metadata": {},
   "outputs": [],
   "source": [
    "def Coriolis_np(h,w,lam,g):\n",
    "    ang=lam*2*np.pi/360\n",
    "    res=(2*(2**(1/2))/3) *w*np.cos(ang)*((h**3)/g)**(1/2)\n",
    "    return res"
   ]
  },
  {
   "cell_type": "markdown",
   "id": "f58bbdd5",
   "metadata": {},
   "source": [
    "d)"
   ]
  },
  {
   "cell_type": "code",
   "execution_count": 450,
   "id": "8ef08fe9",
   "metadata": {},
   "outputs": [],
   "source": [
    "def chi2(w,h,y,sigmay,angle,g):\n",
    "    resp=np.sum((y-Coriolis_np(h,w,angle,g))**2 /(2*sigmay**2))\n",
    "    return resp"
   ]
  },
  {
   "cell_type": "markdown",
   "id": "131b3430",
   "metadata": {},
   "source": [
    "e)"
   ]
  },
  {
   "cell_type": "code",
   "execution_count": 451,
   "id": "0c818092",
   "metadata": {},
   "outputs": [],
   "source": [
    "h=lam_30.h\n",
    "y=lam_30.y\n",
    "sigmay=lam_30.sigmay\n",
    "angle=lam_30.angle\n",
    "g=9.81\n",
    "\n",
    "nll=lambda *w:chi2(*w)\n",
    "p0=np.ones(1)\n"
   ]
  },
  {
   "cell_type": "code",
   "execution_count": 452,
   "id": "da2f6c47",
   "metadata": {},
   "outputs": [
    {
     "name": "stdout",
     "output_type": "stream",
     "text": [
      "Optimization terminated successfully.\n",
      "         Current function value: 1.145718\n",
      "         Iterations: 3\n",
      "         Function evaluations: 8\n",
      "         Gradient evaluations: 4\n"
     ]
    },
    {
     "data": {
      "text/plain": [
       "array([7.24399804e-05])"
      ]
     },
     "execution_count": 452,
     "metadata": {},
     "output_type": "execute_result"
    }
   ],
   "source": [
    "minimizar = spo.minimize( nll, p0, args=(h,y,sigmay,angle,g),options={'disp':True} )\n",
    "\n",
    "bestparam=minimizar.x\n",
    "bestparam\n"
   ]
  },
  {
   "cell_type": "markdown",
   "id": "f1a7cb5f",
   "metadata": {},
   "source": [
    "f)"
   ]
  },
  {
   "cell_type": "code",
   "execution_count": 453,
   "id": "e2547be6",
   "metadata": {},
   "outputs": [
    {
     "data": {
      "text/plain": [
       "Text(0, 0.5, 'y[m]')"
      ]
     },
     "execution_count": 453,
     "metadata": {},
     "output_type": "execute_result"
    },
    {
     "data": {
      "image/png": "[encoded data removed]",
      "text/plain": [
       "<Figure size 640x480 with 1 Axes>"
      ]
     },
     "metadata": {},
     "output_type": "display_data"
    }
   ],
   "source": [
    "_x = np.linspace(np.min(h),np.max(h),10)\n",
    "_y = Coriolis_np(_x,bestparam,angle,g)\n",
    "\n",
    "plt.errorbar(h,y,yerr=sigmay,fmt='o')\n",
    "plt.plot(_x,_y,color='r')\n",
    "plt.xlabel('h[m]')\n",
    "plt.ylabel('y[m]')"
   ]
  },
  {
   "cell_type": "markdown",
   "id": "97e4146b",
   "metadata": {},
   "source": [
    "## Parte 2:\n",
    "## Propagarción de la incertidumbre de la aceleración de la gravedad:\n",
    "\n",
    "a, b, c, d, e)"
   ]
  },
  {
   "cell_type": "code",
   "execution_count": 454,
   "id": "80fbfe51",
   "metadata": {},
   "outputs": [],
   "source": [
    "y_arr=np.array(y)\n",
    "h=np.array(h)\n",
    "sigmay_arr=np.array(sigmay)\n",
    "N=300"
   ]
  },
  {
   "cell_type": "code",
   "execution_count": 455,
   "id": "affa6d62",
   "metadata": {},
   "outputs": [],
   "source": [
    "def Optimizar(lamb,y,h,sigmay):\n",
    "    Gravedad=np.zeros(300)\n",
    "    Omega=np.zeros(300)\n",
    "\n",
    "    for i in range(N):\n",
    "        g_i= 9.81+np.random.normal(loc=0,scale=1)\n",
    "        y_n=y+np.random.normal(loc=0,scale=sigmay[0],size=len(y))\n",
    "        Gravedad[i]=g_i\n",
    "        optim = spo.minimize( nll, p0, args=(h,y_n,sigmay,lamb,g_i),options={'disp':True} )\n",
    "        Omega[i]=optim.x\n",
    "        \n",
    "    return Omega,Gravedad\n"
   ]
  },
  {
   "cell_type": "markdown",
   "id": "bc972506",
   "metadata": {},
   "source": [
    "f)"
   ]
  },
  {
   "cell_type": "code",
   "execution_count": 456,
   "id": "9c62e05e",
   "metadata": {},
   "outputs": [],
   "source": [
    "def DistConjunta(Omega,Gravedad):\n",
    "    binsx=np.linspace(min(Omega),max(Omega),33)\n",
    "    binsy=np.linspace(min(Gravedad),max(Gravedad),33)\n",
    "    H2,binsx,binsy = np.histogram2d(Omega,Gravedad,bins=(binsx,binsy))\n",
    "    \n",
    "    return H2,binsx,binsy"
   ]
  },
  {
   "cell_type": "code",
   "execution_count": null,
   "id": "215d45f7",
   "metadata": {},
   "outputs": [],
   "source": [
    "Omega_30,Gravedad_30=Optimizar(30,y_arr,h,sigmay_arr)\n",
    "H230,binsx30,binsy30=DistConjunta(Omega_30,Gravedad_30)\n",
    "H230"
   ]
  },
  {
   "cell_type": "code",
   "execution_count": 458,
   "id": "f633bf91",
   "metadata": {},
   "outputs": [
    {
     "data": {
      "text/plain": [
       "<matplotlib.image.AxesImage at 0x293fef1e9e0>"
      ]
     },
     "execution_count": 458,
     "metadata": {},
     "output_type": "execute_result"
    },
    {
     "data": {
      "image/png": "[encoded data removed]",
      "text/plain": [
       "<Figure size 400x400 with 1 Axes>"
      ]
     },
     "metadata": {},
     "output_type": "display_data"
    }
   ],
   "source": [
    "fig= plt.figure(figsize=(4,4))\n",
    "plt.imshow(H230.T, origin='lower', extent=[binsx30[0], binsx30[-1], binsy30[0], binsy30[-1]], aspect='auto')\n"
   ]
  },
  {
   "cell_type": "markdown",
   "id": "d80c6669",
   "metadata": {},
   "source": [
    "g)\n",
    "\n",
    "Las variables sí están correlacionadas ya que en la gráfica se percibe una pendiente positiva. De modo que esto implica la correlación entre las variables implicadas."
   ]
  },
  {
   "cell_type": "markdown",
   "id": "5559e959",
   "metadata": {},
   "source": [
    "h,i)"
   ]
  },
  {
   "cell_type": "code",
   "execution_count": 459,
   "id": "71bbfae4",
   "metadata": {},
   "outputs": [],
   "source": [
    "def Int_conf(H2,binsx):\n",
    "    H1=np.sum(H2,axis=1)\n",
    "    cs = np.cumsum(H1)\n",
    "    ij = np.searchsorted( cs, np.percentile(cs,16) )\n",
    "    ii = np.searchsorted( cs, np.percentile(cs,50) )\n",
    "    ji = np.searchsorted( cs, np.percentile(cs,84) )  \n",
    "    \n",
    "    int_lower=binsx[ij]\n",
    "    best_w=binsx[ii]\n",
    "    int_upper=binsx[ji]\n",
    "    \n",
    "    return int_lower,int_upper,best_w\n"
   ]
  },
  {
   "cell_type": "code",
   "execution_count": 460,
   "id": "fd5acb1d",
   "metadata": {},
   "outputs": [
    {
     "data": {
      "text/plain": [
       "(6.33982620931407e-05, 8.07145671397244e-05, 7.205641461643255e-05)"
      ]
     },
     "execution_count": 460,
     "metadata": {},
     "output_type": "execute_result"
    }
   ],
   "source": [
    "int_lower_30,int_upper_30,best_w= Int_conf(H230,binsx30)\n",
    "\n",
    "int_lower_30,int_upper_30,best_w"
   ]
  },
  {
   "cell_type": "markdown",
   "id": "e402b553",
   "metadata": {},
   "source": [
    "j)"
   ]
  },
  {
   "cell_type": "code",
   "execution_count": 461,
   "id": "766a41a9",
   "metadata": {},
   "outputs": [],
   "source": [
    "omegas=[]\n",
    "errores=[]"
   ]
  },
  {
   "cell_type": "code",
   "execution_count": null,
   "id": "64be74fb",
   "metadata": {},
   "outputs": [],
   "source": [
    "latis=[10,20,30,40,50,60]\n",
    "\n",
    "for j in range(1,7):\n",
    "    lam_j=datos[datos.angle==latis[j-1]]\n",
    "    h=np.array(lam_j.h)\n",
    "    angle=np.array(lam_j.angle)\n",
    "    sigmay=np.array(lam_j.sigmay)\n",
    "    y=np.array(lam_j.y)\n",
    "    \n",
    "    Omega_j,Gravedad_j=Optimizar(j*10,y,h,sigmay)\n",
    "    H2_j,binsx_j,binsy_j=DistConjunta(Omega_j,Gravedad_j)\n",
    "    \n",
    "    int_lower_j,int_upper_j,best_w_j= Int_conf(H2_j,binsx_j)\n",
    "    \n",
    "    omegas.append(best_w_j)\n",
    "    errores.append([int_lower_j,int_upper_j])"
   ]
  },
  {
   "cell_type": "code",
   "execution_count": 463,
   "id": "361df8be",
   "metadata": {},
   "outputs": [
    {
     "data": {
      "text/plain": [
       "([6.87837503843625e-05,\n",
       "  7.227522833595183e-05,\n",
       "  7.338260498184409e-05,\n",
       "  7.4639959012455e-05,\n",
       "  6.50301676524565e-05,\n",
       "  7.374887619589625e-05],\n",
       " [[5.965686632742961e-05, 7.791063444129539e-05],\n",
       "  [6.184218150900373e-05, 8.270827516289992e-05],\n",
       "  [6.335345990400403e-05, 8.341175005968417e-05],\n",
       "  [6.511719879422978e-05, 8.41627192306802e-05],\n",
       "  [5.1356401613973415e-05, 7.870393369093957e-05],\n",
       "  [6.103815340106683e-05, 8.645959899072568e-05]])"
      ]
     },
     "execution_count": 463,
     "metadata": {},
     "output_type": "execute_result"
    }
   ],
   "source": [
    "omegas, errores"
   ]
  },
  {
   "cell_type": "code",
   "execution_count": 464,
   "id": "096a5611",
   "metadata": {},
   "outputs": [
    {
     "data": {
      "text/plain": [
       "7.131009776049435e-05"
      ]
     },
     "execution_count": 464,
     "metadata": {},
     "output_type": "execute_result"
    }
   ],
   "source": [
    "Combinado=np.mean(omegas)\n",
    "Combinado"
   ]
  },
  {
   "cell_type": "code",
   "execution_count": 465,
   "id": "bb0be02f",
   "metadata": {},
   "outputs": [],
   "source": [
    "errores_new=[]\n",
    "for i in range(len(errores)):\n",
    "    prom=np.abs(errores[i][0]-errores[i][1])/2\n",
    "    errores_new.append(prom)"
   ]
  },
  {
   "cell_type": "code",
   "execution_count": 466,
   "id": "d89b7ea2",
   "metadata": {},
   "outputs": [
    {
     "data": {
      "text/plain": [
       "<matplotlib.legend.Legend at 0x293fecfe1a0>"
      ]
     },
     "execution_count": 466,
     "metadata": {},
     "output_type": "execute_result"
    },
    {
     "data": {
      "image/png": "[encoded data removed]",
      "text/plain": [
       "<Figure size 640x480 with 1 Axes>"
      ]
     },
     "metadata": {},
     "output_type": "display_data"
    }
   ],
   "source": [
    "plt.scatter(latis,omegas)\n",
    "plt.axhline(7.27e-5, linestyle = 'dashed', color = 'r', label=\"Día Solar\")\n",
    "\n",
    "for i in range(len(omegas)):\n",
    "    ax = plt.errorbar(latis[i], omegas[i], yerr = errores_new[i], fmt=\"ob\", capsize=7, ecolor=\"k\")\n",
    "    \n",
    "plt.errorbar(70, Combinado, linestyle=\"None\", yerr = np.sum(errores_new)/len(errores_new), fmt=\"ob\", capsize=7, ecolor=\"k\", label = \"Estimación\")\n",
    "plt.xticks(latis + [70],[\" λ=10\", \"λ=20\", \"λ=30\", \"λ=40\", \"λ=50\", \"λ=60\", \"Combinado\"])\n",
    "plt.ylabel('wx10^(-5)')\n",
    "plt.legend()"
   ]
  },
  {
   "cell_type": "code",
   "execution_count": null,
   "id": "376fe175",
   "metadata": {},
   "outputs": [],
   "source": []
  }
 ],
 "metadata": {
  "kernelspec": {
   "display_name": "Python 3 (ipykernel)",
   "language": "python",
   "name": "python3"
  },
  "language_info": {
   "codemirror_mode": {
    "name": "ipython",
    "version": 3
   },
   "file_extension": ".py",
   "mimetype": "text/x-python",
   "name": "python",
   "nbconvert_exporter": "python",
   "pygments_lexer": "ipython3",
   "version": "3.10.9"
  }
 },
 "nbformat": 4,
 "nbformat_minor": 5
}
