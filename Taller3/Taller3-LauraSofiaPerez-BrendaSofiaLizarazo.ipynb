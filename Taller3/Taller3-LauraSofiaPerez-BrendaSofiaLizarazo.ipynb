{
 "cells": [
  {
   "cell_type": "code",
   "execution_count": 1,
   "id": "1871aa80",
   "metadata": {},
   "outputs": [],
   "source": [
    "import numpy as np\n",
    "import matplotlib.pyplot as plt\n",
    "import sympy as sym\n",
    "from scipy import integrate\n",
    "import pandas as pd\n",
    "from matplotlib import rc\n",
    "import os.path as path\n",
    "import os\n"
   ]
  },
  {
   "cell_type": "markdown",
   "id": "f0b8b137",
   "metadata": {},
   "source": [
    "Álgebra Lineal\n",
    "\n",
    "3."
   ]
  },
  {
   "cell_type": "code",
   "execution_count": 2,
   "id": "9012197d",
   "metadata": {},
   "outputs": [],
   "source": [
    "def Multiplica(m_1, m_2):\n",
    "    resp=np.dot(m_1,m_2)\n",
    "    \n",
    "    return resp"
   ]
  },
  {
   "cell_type": "code",
   "execution_count": 5,
   "id": "ede1f13b",
   "metadata": {},
   "outputs": [
    {
     "data": {
      "text/plain": [
       "(array([[ 1,  0,  0],\n",
       "        [ 5,  1,  0],\n",
       "        [-2,  3,  1]]),\n",
       " array([[ 4, -2,  1],\n",
       "        [ 0,  3,  7],\n",
       "        [ 0,  0,  2]]))"
      ]
     },
     "execution_count": 5,
     "metadata": {},
     "output_type": "execute_result"
    }
   ],
   "source": [
    "a=np.array([[1,0,0],[5,1,0],[-2,3,1]])\n",
    "b=np.array([[4,-2,1],[0,3,7],[0,0,2]])\n",
    "\n",
    "a,b"
   ]
  },
  {
   "cell_type": "code",
   "execution_count": 6,
   "id": "78a61d9b",
   "metadata": {},
   "outputs": [
    {
     "data": {
      "text/plain": [
       "array([[ 4, -2,  1],\n",
       "       [20, -7, 12],\n",
       "       [-8, 13, 21]])"
      ]
     },
     "execution_count": 6,
     "metadata": {},
     "output_type": "execute_result"
    }
   ],
   "source": [
    "Multiplica(a,b)"
   ]
  },
  {
   "cell_type": "markdown",
   "id": "d5906c46",
   "metadata": {},
   "source": [
    "4."
   ]
  },
  {
   "cell_type": "markdown",
   "id": "68d2a517",
   "metadata": {},
   "source": [
    "Sustitución hacia adelante:\n",
    "\n",
    "Partiendo de un sistema de ecuaciones $Ax=b$ se utiliza la factorización $LU$ para tener $A=LU$, donde $L$ es una matriz triangular superior y $U$ es una matriz triangular inferior. Para la sustitución hacia adelante se utiliza la matriz triangular inferior. De modo que se tiene,\n",
    "\n",
    "$$\\begin{pmatrix}\n",
    "L_{00} & 0 & 0 & \\cdots & \\cdots & 0 & 0\\\\\n",
    "L_{10} & L_{11} & 0 & \\cdots & \\cdots & 0 & 0\\\\\n",
    "\\vdots & \\vdots & \\vdots & \\ddots & \\vdots &\\vdots &\\vdots \\\\\n",
    "L_{i1} & L_{i2} & \\cdots & L_{ii} & 0 &\\cdots & 0\\\\\n",
    "\\vdots & \\vdots & \\vdots & \\ddots & \\vdots &\\vdots &\\vdots \\\\\n",
    "L_{n1} & L_{n2} & \\cdots & \\cdots &\\cdots &\\cdots & L_{nn}\n",
    "\\end{pmatrix}\n",
    "\\begin{pmatrix}\n",
    "x_{0} \\\\\n",
    "x_{1} \\\\\n",
    "\\vdots \\\\\n",
    "x_{i}\\\\\n",
    "\\vdots \\\\\n",
    "x_{n}\n",
    "\\end{pmatrix}\n",
    "=\n",
    "\\begin{pmatrix}\n",
    "b_{0} \\\\\n",
    "b_{1} \\\\\n",
    "\\vdots \\\\\n",
    "b_{i}\\\\\n",
    "\\vdots \\\\\n",
    "b_{n}\n",
    "\\end{pmatrix}$$\n",
    "$$ $$\n",
    "De modo que los sistemas de ecuaciones estarían dados por,\n",
    "\n",
    "\n",
    "$$b_{0}=L_{00}x_{0}$$\n",
    "$$x_{0}=\\frac{b_{0}}{L_{00}}$$\n",
    "$$ $$\n",
    "$$b_{1}=L_{10}x_{0} + L_{11}x_{1}$$\n",
    "$$x_{1}=\\frac{b_{1}-L_{10}x_{0}}{L_{11}}$$\n",
    "$$\\cdots$$\n",
    "$$b_{i}=L_{i0}x_{0} + L_{i1}x_{1}+\\cdots+L_{ii}x_{i}$$\n",
    "$$x_{i}=\\frac{b_{i}-L_{i0}x_{0}-L_{i1}x_{1} - \\cdots - L_{i i-1}x_{i-1}}{L_{ii}}$$\n",
    "$$ $$\n",
    "Obteniendo la fórmula de sustitución hacia adelante:\n",
    "\n",
    "$$x_{i}= \\frac{b_{i} -\\sum_{j=0}^{i-1}L_{ij}x_{j}}{L_{ii}}$$\n",
    "\n",
    "\n"
   ]
  },
  {
   "cell_type": "markdown",
   "id": "04a6f362",
   "metadata": {},
   "source": [
    "5."
   ]
  },
  {
   "cell_type": "markdown",
   "id": "a7158aa2",
   "metadata": {},
   "source": [
    "Sustitución hacia atras:\n",
    "\n",
    "Como se mencionó en el punto anterior, se hace uso de la factorización $LU$, pero en el caso de la sustitución hacia atrás, se utiliza la matriz triangular superior. De modo que se tiene,\n",
    "\n",
    "$$\\begin{pmatrix}\n",
    "L_{11} & L_{12} & L_{13} & \\cdots & \\cdots & L_{1 n-1} & L_{1n}\\\\\n",
    "0 & L_{22} & L_{23} & \\cdots & \\cdots & L_{2 n-1} & L_{2n}\\\\\n",
    "\\vdots & \\vdots & \\vdots & \\ddots & \\vdots &\\vdots &\\vdots \\\\\n",
    "0 & 0 & \\cdots & L_{ii} & L_{i i+1} &\\cdots & L_{in}\\\\\n",
    "\\vdots & \\vdots & \\vdots & \\ddots & \\vdots &\\vdots &\\vdots \\\\\n",
    "0 & 0 & \\cdots & \\cdots &\\cdots &\\cdots & L_{nn}\n",
    "\\end{pmatrix}\n",
    "\\begin{pmatrix}\n",
    "x_{1} \\\\\n",
    "x_{2} \\\\\n",
    "\\vdots \\\\\n",
    "x_{i}\\\\\n",
    "\\vdots \\\\\n",
    "x_{n}\n",
    "\\end{pmatrix}\n",
    "=\n",
    "\\begin{pmatrix}\n",
    "b_{1} \\\\\n",
    "b_{2} \\\\\n",
    "\\vdots \\\\\n",
    "b_{i}\\\\\n",
    "\\vdots \\\\\n",
    "b_{n}\n",
    "\\end{pmatrix}$$\n",
    "\n",
    "De modo que los sistemas de ecuaciones estarían dados por,\n",
    "\n",
    "\n",
    "$$b_{0}=L_{00}x_{0}+L_{01}x_{1}+\\cdots+L_{0n}x_{n}$$\n",
    "$$x_{0}=\\frac{b_{0}-L_{01}x_{1}-\\cdots-L_{0 n}x_{n}}{L_{00}}$$\n",
    "$$ $$\n",
    "$$b_{1}=L_{11}x_{1}+L_{12}x_{2}+\\cdots+L_{1n}x_{n}$$\n",
    "$$x_{1}=\\frac{b_{1}-L_{12}x_{2}-\\cdots-L_{1 n}x_{n}}{L_{11}}$$\n",
    "$$\\cdots$$\n",
    "$$b_{i}=L_{ii}x_{i}+\\cdots+L_{in}x_{n}$$\n",
    "$$x_{i}=\\frac{b_{i}-L_{i i+1}x_{i+1}-\\cdots-L_{i n}x_{n}}{L_{ii}}$$\n",
    "\n",
    "\n",
    "Obteniendo la fórmula de sustitución hacia adelante:\n",
    "\n",
    "$$x_{i}= \\frac{b_{i} -\\sum_{j=i+1}^{n}L_{ij}x_{j}}{L_{ii}}$$\n"
   ]
  },
  {
   "cell_type": "markdown",
   "id": "1511010c",
   "metadata": {},
   "source": [
    "6."
   ]
  },
  {
   "cell_type": "code",
   "execution_count": null,
   "id": "ef5bd72e",
   "metadata": {},
   "outputs": [],
   "source": []
  },
  {
   "cell_type": "markdown",
   "id": "6bd5a3e0",
   "metadata": {},
   "source": [
    "7."
   ]
  },
  {
   "cell_type": "code",
   "execution_count": 4,
   "id": "5827503e",
   "metadata": {},
   "outputs": [
    {
     "data": {
      "text/plain": [
       "array([[ 4, -2,  1],\n",
       "       [20, -7, 12],\n",
       "       [-8, 13, 17]])"
      ]
     },
     "execution_count": 4,
     "metadata": {},
     "output_type": "execute_result"
    }
   ],
   "source": [
    "A=np.array([[4,-2,1],[20,-7,12],[-8,13,17]])\n",
    "A"
   ]
  },
  {
   "cell_type": "code",
   "execution_count": 28,
   "id": "8565d2e3",
   "metadata": {},
   "outputs": [
    {
     "data": {
      "text/plain": [
       "array([[1., 0., 0.],\n",
       "       [0., 1., 0.],\n",
       "       [0., 0., 1.]])"
      ]
     },
     "execution_count": 28,
     "metadata": {},
     "output_type": "execute_result"
    }
   ],
   "source": [
    "n = len(A)\n",
    "L = np.eye(n)\n",
    "U = np.copy(A)\n",
    "L"
   ]
  },
  {
   "cell_type": "code",
   "execution_count": 29,
   "id": "34109f04",
   "metadata": {},
   "outputs": [],
   "source": [
    "for j in range(n-1):\n",
    "    for i in range(j+1, n):\n",
    "        valor = U[i, j] / U[j, j]\n",
    "        L[i, j] = valor\n",
    "        U[i, j:] = U[i, j:] - valor * U[j, j:]"
   ]
  },
  {
   "cell_type": "code",
   "execution_count": 30,
   "id": "35496416",
   "metadata": {},
   "outputs": [
    {
     "data": {
      "text/plain": [
       "(array([[ 1.,  0.,  0.],\n",
       "        [ 5.,  1.,  0.],\n",
       "        [-2.,  3.,  1.]]),\n",
       " array([[ 4, -2,  1],\n",
       "        [ 0,  3,  7],\n",
       "        [ 0,  0, -2]]))"
      ]
     },
     "execution_count": 30,
     "metadata": {},
     "output_type": "execute_result"
    }
   ],
   "source": [
    "L,U"
   ]
  },
  {
   "cell_type": "markdown",
   "id": "11b2ae19",
   "metadata": {},
   "source": [
    "9."
   ]
  },
  {
   "cell_type": "markdown",
   "id": "48c8f26c",
   "metadata": {},
   "source": [
    "a)"
   ]
  },
  {
   "cell_type": "code",
   "execution_count": 23,
   "id": "c7dd8245",
   "metadata": {},
   "outputs": [],
   "source": [
    "A=np.array([[4,1,1],[1,3,2],[1,2,5]])\n",
    "b=np.array([1.,3.,7.])"
   ]
  },
  {
   "cell_type": "code",
   "execution_count": 24,
   "id": "5f39b586",
   "metadata": {},
   "outputs": [],
   "source": [
    "def Jacobi(A,b,x0, itmax=1000, tolerancia= 1e-9):\n",
    "    \n",
    "    x = x0.copy()\n",
    "    \n",
    "    for it in range(itmax):\n",
    "        \n",
    "        xn = np.zeros_like(x0)\n",
    "        \n",
    "        for i in range(A.shape[0]):\n",
    "            \n",
    "            sum_ = 0.\n",
    "            \n",
    "            for j in range(A.shape[1]):\n",
    "                \n",
    "                if j!=i:\n",
    "                    sum_ += A[i,j]*x[j]\n",
    "                    \n",
    "            xn[i] = (b[i] - sum_)/A[i,i]\n",
    "            \n",
    "        print(it,xn)\n",
    "        \n",
    "        residuo = np.linalg.norm( np.dot(A,xn) - b )\n",
    "        x = xn.copy()\n",
    "        #print(residuo)\n",
    "        \n",
    "        if np.allclose(residuo,tolerancia,atol=tolerancia):\n",
    "            break\n",
    "        \n",
    "    return x\n"
   ]
  },
  {
   "cell_type": "code",
   "execution_count": 22,
   "id": "99f71abf",
   "metadata": {},
   "outputs": [
    {
     "name": "stdout",
     "output_type": "stream",
     "text": [
      "0 [0.25       0.33333333 0.2       ]\n",
      "1 [0.11666667 0.11666667 0.01666667]\n",
      "2 [0.21666667 0.28333333 0.13      ]\n",
      "3 [0.14666667 0.17444444 0.04333333]\n",
      "4 [0.19555556 0.25555556 0.10088889]\n",
      "5 [0.16088889 0.20088889 0.05866667]\n",
      "6 [0.18511111 0.24059259 0.08746667]\n",
      "7 [0.16798519 0.21331852 0.06674074]\n",
      "8 [0.17998519 0.23284444 0.08107556]\n",
      "9 [0.17152    0.2192879  0.07086519]\n",
      "10 [0.17746173 0.22891654 0.07798084]\n",
      "11 [0.17327565 0.2221922  0.07294104]\n",
      "12 [0.17621669 0.22694742 0.07646799]\n",
      "13 [0.17414615 0.22361578 0.07397769]\n",
      "14 [0.17560163 0.22596616 0.07572446]\n",
      "15 [0.17457735 0.22431648 0.07449321]\n",
      "16 [0.17529758 0.22547874 0.07535794]\n",
      "17 [0.17479083 0.22466218 0.07474899]\n",
      "18 [0.17514721 0.22523707 0.07517696]\n",
      "19 [0.17489649 0.22483296 0.07487573]\n",
      "20 [0.17507283 0.22511735 0.07508752]\n",
      "21 [0.17494878 0.22491738 0.0749385 ]\n",
      "22 [0.17503603 0.22505808 0.07504329]\n",
      "23 [0.17497466 0.22495913 0.07496956]\n",
      "24 [0.17501783 0.22502874 0.07502142]\n",
      "25 [0.17498746 0.22497978 0.07498494]\n",
      "26 [0.17500882 0.22501422 0.0750106 ]\n",
      "27 [0.1749938  0.22499    0.07499255]\n",
      "28 [0.17500436 0.22500704 0.07500524]\n",
      "29 [0.17499693 0.22499505 0.07499631]\n",
      "30 [0.17500216 0.22500348 0.07500259]\n",
      "31 [0.17499848 0.22499755 0.07499818]\n",
      "32 [0.17500107 0.22500172 0.07500128]\n",
      "33 [0.17499925 0.22499879 0.0749991 ]\n",
      "34 [0.17500053 0.22500085 0.07500063]\n",
      "35 [0.17499963 0.2249994  0.07499955]\n",
      "36 [0.17500026 0.22500042 0.07500031]\n",
      "37 [0.17499982 0.2249997  0.07499978]\n",
      "38 [0.17500013 0.22500021 0.07500016]\n",
      "39 [0.17499991 0.22499985 0.07499989]\n",
      "40 [0.17500006 0.2250001  0.07500008]\n",
      "41 [0.17499995 0.22499993 0.07499995]\n",
      "42 [0.17500003 0.22500005 0.07500004]\n",
      "43 [0.17499998 0.22499996 0.07499997]\n",
      "44 [0.17500002 0.22500003 0.07500002]\n",
      "45 [0.17499999 0.22499998 0.07499999]\n",
      "46 [0.17500001 0.22500001 0.07500001]\n",
      "47 [0.17499999 0.22499999 0.07499999]\n",
      "48 [0.175      0.22500001 0.075     ]\n",
      "49 [0.175 0.225 0.075]\n",
      "50 [0.175 0.225 0.075]\n",
      "51 [0.175 0.225 0.075]\n",
      "52 [0.175 0.225 0.075]\n",
      "53 [0.175 0.225 0.075]\n",
      "54 [0.175 0.225 0.075]\n",
      "55 [0.175 0.225 0.075]\n",
      "56 [0.175 0.225 0.075]\n",
      "57 [0.175 0.225 0.075]\n",
      "58 [0.175 0.225 0.075]\n"
     ]
    },
    {
     "data": {
      "text/plain": [
       "array([0.175, 0.225, 0.075])"
      ]
     },
     "execution_count": 22,
     "metadata": {},
     "output_type": "execute_result"
    }
   ],
   "source": [
    "x0 = np.array([0.,0.,0.])\n",
    "Jacobi(A,b,x0)"
   ]
  },
  {
   "cell_type": "markdown",
   "id": "c6573424",
   "metadata": {},
   "source": [
    "b)"
   ]
  },
  {
   "cell_type": "code",
   "execution_count": 25,
   "id": "bd347a8f",
   "metadata": {},
   "outputs": [
    {
     "data": {
      "text/plain": [
       "(array([6.89510652, 3.39729507, 1.70759841]),\n",
       " array([[ 0.43170413,  0.88573564,  0.17059871],\n",
       "        [ 0.49725362, -0.07589338, -0.86427949],\n",
       "        [ 0.75257583, -0.45794385,  0.47319874]]))"
      ]
     },
     "execution_count": 25,
     "metadata": {},
     "output_type": "execute_result"
    }
   ],
   "source": [
    "resp=np.linalg.eig(A)\n",
    "resp"
   ]
  },
  {
   "cell_type": "code",
   "execution_count": null,
   "id": "4c92f7ee",
   "metadata": {},
   "outputs": [],
   "source": []
  },
  {
   "cell_type": "markdown",
   "id": "be6970d5",
   "metadata": {},
   "source": [
    "10."
   ]
  },
  {
   "cell_type": "code",
   "execution_count": 54,
   "id": "0150b037",
   "metadata": {},
   "outputs": [
    {
     "data": {
      "text/plain": [
       "array([[ 1,  2, -1],\n",
       "       [ 1,  0, -1],\n",
       "       [ 4, -4,  5]])"
      ]
     },
     "execution_count": 54,
     "metadata": {},
     "output_type": "execute_result"
    }
   ],
   "source": [
    "A = np.array([[1, 2, -1], [1,0, -1], [4, -4, 5]])\n",
    "x0 = np.array([1, 1, 1])\n",
    "\n",
    "A"
   ]
  },
  {
   "cell_type": "code",
   "execution_count": null,
   "id": "975c822f",
   "metadata": {},
   "outputs": [],
   "source": []
  },
  {
   "cell_type": "code",
   "execution_count": null,
   "id": "c9338436",
   "metadata": {},
   "outputs": [],
   "source": []
  },
  {
   "cell_type": "code",
   "execution_count": null,
   "id": "025cfafc",
   "metadata": {},
   "outputs": [],
   "source": []
  },
  {
   "cell_type": "markdown",
   "id": "c6d90b20",
   "metadata": {},
   "source": [
    "12.\n",
    "\n",
    "a)"
   ]
  },
  {
   "cell_type": "code",
   "execution_count": 19,
   "id": "050086b5",
   "metadata": {},
   "outputs": [],
   "source": [
    "x=sym.Symbol('x',real=True)\n",
    "\n",
    "h=sym.Symbol('h',real=True)\n",
    "\n",
    "X=[-2*h,-1*h,0*h,1*h,2*h]\n",
    "\n",
    "def Lagrange(x,xi,j):\n",
    "    \n",
    "    prod = 1\n",
    "    n = len(xi)\n",
    "    \n",
    "    for i in range(n):\n",
    "        if i != j:\n",
    "            prod *= (x - xi[i])/(xi[j]-xi[i])\n",
    "            \n",
    "    return prod"
   ]
  },
  {
   "cell_type": "code",
   "execution_count": 20,
   "id": "04302211",
   "metadata": {},
   "outputs": [],
   "source": [
    "def GetCoefficients(x,p,X):\n",
    "    coefficients=[]\n",
    "    \n",
    "    for i in range(len(X)):\n",
    "        Li=Lagrange(x,X,i)\n",
    "        \n",
    "        dLi=sym.diff(Li,x,1)\n",
    "        \n",
    "        C=dLi.subs(x,X[p])\n",
    "        \n",
    "        coefficients.append(C)\n",
    "        \n",
    "    return coefficients"
   ]
  },
  {
   "cell_type": "code",
   "execution_count": 21,
   "id": "253044d1",
   "metadata": {},
   "outputs": [
    {
     "data": {
      "text/plain": [
       "[-25/(12*h), 4/h, -3/h, 4/(3*h), -1/(4*h)]"
      ]
     },
     "execution_count": 21,
     "metadata": {},
     "output_type": "execute_result"
    }
   ],
   "source": [
    "coef=GetCoefficients(x,0,X)\n",
    "coef"
   ]
  },
  {
   "cell_type": "code",
   "execution_count": 36,
   "id": "a02eedd7",
   "metadata": {},
   "outputs": [],
   "source": [
    "def GetJacobian_4(G,r,h):\n",
    "    \n",
    "    dim = len(G)\n",
    "    \n",
    "    J = np.zeros((dim,dim))\n",
    "    \n",
    "    for i in range(dim):\n",
    "        J[i,0] = (G[i]( r[0] - 2*h,r[1],r[2]) - 8*G[i]( r[0] - h,r[1],r[2])+8*G[i]( r[0] +h,r[1],r[2]) - G[i]( r[0] + 2*h,r[1],r[2]))/(12*h)\n",
    "        J[i,1] = (G[i]( r[0] ,r[1]-2*h,r[2]) - 8*G[i]( r[0],r[1]-h,r[2])+8*G[i]( r[0] ,r[1]+h,r[2]) - G[i]( r[0],r[1]+2*h,r[2]))/(12*h)\n",
    "        J[i,2] = (G[i]( r[0],r[1],r[2]-2*h) - 8*G[i]( r[0],r[1],r[2]-h)+8*G[i]( r[0],r[1],r[2]+h) - G[i]( r[0],r[1],r[2]+2*h))/(12*h)\n",
    "        \n",
    "    return J.T\n",
    "\n"
   ]
  },
  {
   "cell_type": "markdown",
   "id": "7e02bcb6",
   "metadata": {},
   "source": [
    "b)"
   ]
  },
  {
   "cell_type": "code",
   "execution_count": 37,
   "id": "5ffbd940",
   "metadata": {},
   "outputs": [],
   "source": [
    "G=(lambda x_1,x_2,x_3: 6*x_1 - 2*np.cos(x_2*x_3) - 1., \\\n",
    "    lambda x_1,x_2,x_3: 9*x_2 + (x_1**2 + np.sin(x_3) + 1.06)**(1/2) +0.9, \\\n",
    "    lambda x_1,x_2,x_3: 60*x_3 + 3*np.e**(-x_1*x_2)+10*np.pi -3)"
   ]
  },
  {
   "cell_type": "code",
   "execution_count": 38,
   "id": "783504db",
   "metadata": {},
   "outputs": [
    {
     "data": {
      "text/plain": [
       "array([[ 6.        ,  0.37377753, -1.16820117],\n",
       "       [ 0.24740396,  9.        , -1.16820117],\n",
       "       [ 0.24740396,  0.32802064, 60.        ]])"
      ]
     },
     "execution_count": 38,
     "metadata": {},
     "output_type": "execute_result"
    }
   ],
   "source": [
    "GetJacobian_4(G,(0.5,0.5,0.5),0.01)\n"
   ]
  },
  {
   "cell_type": "markdown",
   "id": "97439d4d",
   "metadata": {},
   "source": [
    "c)"
   ]
  },
  {
   "cell_type": "code",
   "execution_count": 42,
   "id": "17be3f63",
   "metadata": {},
   "outputs": [
    {
     "data": {
      "text/plain": [
       "array([[ 6.        ,  0.37377753, -1.16820117],\n",
       "       [ 0.24740396,  9.        , -1.16820117],\n",
       "       [ 0.24740396,  0.32802064, 60.        ]])"
      ]
     },
     "execution_count": 42,
     "metadata": {},
     "output_type": "execute_result"
    }
   ],
   "source": [
    "def GetJacobian_2(G,r,h):\n",
    "    \n",
    "    dim = len(G)\n",
    "    \n",
    "    J = np.zeros((dim,dim))\n",
    "    \n",
    "    for i in range(dim):\n",
    "        J[i,0] = (G[i]( r[0] + h,r[1],r[2]) - G[i]( r[0] - h,r[1],r[2]))/(2*h)\n",
    "        J[i,1] = (G[i]( r[0] ,r[1]+h,r[2]) - G[i]( r[0],r[1]-h,r[2]))/(2*h)\n",
    "        J[i,2] = (G[i]( r[0],r[1],r[2]+h) - G[i]( r[0],r[1],r[2]-h))/(2*h)\n",
    "        \n",
    "    return J.T\n",
    "\n",
    "GetJacobian_2(G,(0.5,0.5,0.5),0.01)"
   ]
  },
  {
   "cell_type": "markdown",
   "id": "88c64725",
   "metadata": {},
   "source": [
    "Usando $h=0.00001$ se logra igualar en precisión al operador de cuarto orden."
   ]
  },
  {
   "cell_type": "code",
   "execution_count": 44,
   "id": "88406a2a",
   "metadata": {},
   "outputs": [
    {
     "data": {
      "text/plain": [
       "array([[ 6.        ,  0.37377753, -1.16820117],\n",
       "       [ 0.24740396,  9.        , -1.16820117],\n",
       "       [ 0.24740396,  0.32802064, 60.        ]])"
      ]
     },
     "execution_count": 44,
     "metadata": {},
     "output_type": "execute_result"
    }
   ],
   "source": [
    "GetJacobian_2(G,(0.5,0.5,0.5),0.00001)"
   ]
  },
  {
   "cell_type": "markdown",
   "id": "b2ce2802",
   "metadata": {},
   "source": [
    "13."
   ]
  },
  {
   "cell_type": "code",
   "execution_count": 3,
   "id": "65a1821c",
   "metadata": {},
   "outputs": [
    {
     "data": {
      "text/plain": [
       "(Matrix([\n",
       " [0, 0,  0],\n",
       " [0, 0, -1],\n",
       " [0, 1,  0]]),\n",
       " Matrix([\n",
       " [ 0, 0, 1],\n",
       " [ 0, 0, 0],\n",
       " [-1, 0, 0]]),\n",
       " Matrix([\n",
       " [0, -1, 0],\n",
       " [1,  0, 0],\n",
       " [0,  0, 0]]))"
      ]
     },
     "execution_count": 3,
     "metadata": {},
     "output_type": "execute_result"
    }
   ],
   "source": [
    "J_x=sym.matrices.Matrix([[0,0,0],[0,0,-1],[0,1,0]])\n",
    "J_y=sym.matrices.Matrix([[0,0,1],[0,0,0],[-1,0,0]])\n",
    "J_z=sym.matrices.Matrix([[0,-1,0],[1,0,0],[0,0,0]])\n",
    "\n",
    "J_x,J_y,J_z"
   ]
  },
  {
   "cell_type": "markdown",
   "id": "58f85963",
   "metadata": {},
   "source": [
    "Realizando todas las posibles combinaciones para A y B a partir de J_x, J_y, J_z:\n",
    "\n",
    "\n",
    "Para J_x y J_y:"
   ]
  },
  {
   "cell_type": "code",
   "execution_count": 4,
   "id": "48e72578",
   "metadata": {},
   "outputs": [
    {
     "data": {
      "text/latex": [
       "$\\displaystyle \\left[\\begin{matrix}0 & -1 & 0\\\\1 & 0 & 0\\\\0 & 0 & 0\\end{matrix}\\right]$"
      ],
      "text/plain": [
       "Matrix([\n",
       "[0, -1, 0],\n",
       "[1,  0, 0],\n",
       "[0,  0, 0]])"
      ]
     },
     "execution_count": 4,
     "metadata": {},
     "output_type": "execute_result"
    }
   ],
   "source": [
    "J_x*J_y - J_y*J_x"
   ]
  },
  {
   "cell_type": "markdown",
   "id": "57a134bf",
   "metadata": {},
   "source": [
    "Se cumple que  $[J_{x},J_{y}]=\\epsilon_{ijk}J_{z}$ ya que $\\epsilon_{xyz}=1$ y \n",
    "$$J_{z}=\\begin{pmatrix}\n",
    "0 & -1 & 0 \\\\\n",
    "1 & 0 & 0 \\\\\n",
    "0 & 0 & 0\n",
    "\\end{pmatrix} $$"
   ]
  },
  {
   "cell_type": "markdown",
   "id": "46156f90",
   "metadata": {},
   "source": [
    "Para J_x y J_z:"
   ]
  },
  {
   "cell_type": "code",
   "execution_count": 6,
   "id": "a13f6a58",
   "metadata": {},
   "outputs": [
    {
     "data": {
      "text/latex": [
       "$\\displaystyle \\left[\\begin{matrix}0 & 0 & -1\\\\0 & 0 & 0\\\\1 & 0 & 0\\end{matrix}\\right]$"
      ],
      "text/plain": [
       "Matrix([\n",
       "[0, 0, -1],\n",
       "[0, 0,  0],\n",
       "[1, 0,  0]])"
      ]
     },
     "execution_count": 6,
     "metadata": {},
     "output_type": "execute_result"
    }
   ],
   "source": [
    "J_x*J_z - J_z*J_x"
   ]
  },
  {
   "cell_type": "markdown",
   "id": "4d7266a3",
   "metadata": {},
   "source": [
    "Se cumple que  $[J_{x},J_{z}]=\\epsilon_{ijk}J_{y}$ ya que $\\epsilon_{xyz}=-1$ y \n",
    "$$J_{y}=\\begin{pmatrix}\n",
    "0 & 0 & 1 \\\\\n",
    "0 & 0 & 0 \\\\\n",
    "-1 & 0 & 0\n",
    "\\end{pmatrix} $$"
   ]
  },
  {
   "cell_type": "markdown",
   "id": "329275f6",
   "metadata": {},
   "source": [
    "Para J_y y J_x:"
   ]
  },
  {
   "cell_type": "code",
   "execution_count": 7,
   "id": "4f58af70",
   "metadata": {},
   "outputs": [
    {
     "data": {
      "text/latex": [
       "$\\displaystyle \\left[\\begin{matrix}0 & 1 & 0\\\\-1 & 0 & 0\\\\0 & 0 & 0\\end{matrix}\\right]$"
      ],
      "text/plain": [
       "Matrix([\n",
       "[ 0, 1, 0],\n",
       "[-1, 0, 0],\n",
       "[ 0, 0, 0]])"
      ]
     },
     "execution_count": 7,
     "metadata": {},
     "output_type": "execute_result"
    }
   ],
   "source": [
    "J_y*J_x - J_x*J_y"
   ]
  },
  {
   "cell_type": "markdown",
   "id": "ca51ae1d",
   "metadata": {},
   "source": [
    "Se cumple que  $[J_{y},J_{x}]=\\epsilon_{ijk}J_{z}$ ya que $\\epsilon_{xyz}=-1$ y \n",
    "$$J_{z}=\\begin{pmatrix}\n",
    "0 & -1 & 0 \\\\\n",
    "1 & 0 & 0 \\\\\n",
    "0 & 0 & 0\n",
    "\\end{pmatrix} $$"
   ]
  },
  {
   "cell_type": "markdown",
   "id": "d3c1ecbe",
   "metadata": {},
   "source": [
    "Para J_y y J_z:"
   ]
  },
  {
   "cell_type": "code",
   "execution_count": 8,
   "id": "5f262edf",
   "metadata": {},
   "outputs": [
    {
     "data": {
      "text/latex": [
       "$\\displaystyle \\left[\\begin{matrix}0 & 0 & 0\\\\0 & 0 & -1\\\\0 & 1 & 0\\end{matrix}\\right]$"
      ],
      "text/plain": [
       "Matrix([\n",
       "[0, 0,  0],\n",
       "[0, 0, -1],\n",
       "[0, 1,  0]])"
      ]
     },
     "execution_count": 8,
     "metadata": {},
     "output_type": "execute_result"
    }
   ],
   "source": [
    "J_y*J_z - J_z*J_y"
   ]
  },
  {
   "cell_type": "markdown",
   "id": "4bcd9c42",
   "metadata": {},
   "source": [
    "Se cumple que  $[J_{y},J_{z}]=\\epsilon_{ijk}J_{x}$ ya que $\\epsilon_{xyz}=1$ y \n",
    "$$J_{x}=\\begin{pmatrix}\n",
    "0 & 0 & 0 \\\\\n",
    "0 & 0 & -1 \\\\\n",
    "0 & 1 & 0\n",
    "\\end{pmatrix} $$"
   ]
  },
  {
   "cell_type": "markdown",
   "id": "f244196f",
   "metadata": {},
   "source": [
    "Para J_z y J_x:"
   ]
  },
  {
   "cell_type": "code",
   "execution_count": 9,
   "id": "7c1356f5",
   "metadata": {},
   "outputs": [
    {
     "data": {
      "text/latex": [
       "$\\displaystyle \\left[\\begin{matrix}0 & 0 & 1\\\\0 & 0 & 0\\\\-1 & 0 & 0\\end{matrix}\\right]$"
      ],
      "text/plain": [
       "Matrix([\n",
       "[ 0, 0, 1],\n",
       "[ 0, 0, 0],\n",
       "[-1, 0, 0]])"
      ]
     },
     "execution_count": 9,
     "metadata": {},
     "output_type": "execute_result"
    }
   ],
   "source": [
    "J_z*J_x - J_x*J_z"
   ]
  },
  {
   "cell_type": "markdown",
   "id": "dfe7d992",
   "metadata": {},
   "source": [
    "Se cumple que  $[J_{z},J_{x}]=\\epsilon_{ijk}J_{y}$ ya que $\\epsilon_{xyz}=1$ y \n",
    "$$J_{y}=\\begin{pmatrix}\n",
    "0 & 0 & 1 \\\\\n",
    "0 & 0 & 0 \\\\\n",
    "-1 & 0 & 0\n",
    "\\end{pmatrix} $$"
   ]
  },
  {
   "cell_type": "markdown",
   "id": "ceb94fc8",
   "metadata": {},
   "source": [
    "Para J_z y J_x:"
   ]
  },
  {
   "cell_type": "code",
   "execution_count": 10,
   "id": "51441406",
   "metadata": {},
   "outputs": [
    {
     "data": {
      "text/latex": [
       "$\\displaystyle \\left[\\begin{matrix}0 & 0 & 0\\\\0 & 0 & 1\\\\0 & -1 & 0\\end{matrix}\\right]$"
      ],
      "text/plain": [
       "Matrix([\n",
       "[0,  0, 0],\n",
       "[0,  0, 1],\n",
       "[0, -1, 0]])"
      ]
     },
     "execution_count": 10,
     "metadata": {},
     "output_type": "execute_result"
    }
   ],
   "source": [
    "J_z*J_y - J_y*J_z"
   ]
  },
  {
   "cell_type": "markdown",
   "id": "788a8792",
   "metadata": {},
   "source": [
    "Se cumple que  $[J_{z},J_{y}]=\\epsilon_{ijk}J_{x}$ ya que $\\epsilon_{xyz}=-1$ y \n",
    "$$J_{x}=\\begin{pmatrix}\n",
    "0 & 0 & 0 \\\\\n",
    "0 & 0 & -1 \\\\\n",
    "0 & 1 & 0\n",
    "\\end{pmatrix} $$"
   ]
  },
  {
   "cell_type": "markdown",
   "id": "7d062f39",
   "metadata": {},
   "source": [
    "Para J_x y J_x:"
   ]
  },
  {
   "cell_type": "code",
   "execution_count": 11,
   "id": "97889294",
   "metadata": {},
   "outputs": [
    {
     "data": {
      "text/latex": [
       "$\\displaystyle \\left[\\begin{matrix}0 & 0 & 0\\\\0 & 0 & 0\\\\0 & 0 & 0\\end{matrix}\\right]$"
      ],
      "text/plain": [
       "Matrix([\n",
       "[0, 0, 0],\n",
       "[0, 0, 0],\n",
       "[0, 0, 0]])"
      ]
     },
     "execution_count": 11,
     "metadata": {},
     "output_type": "execute_result"
    }
   ],
   "source": [
    "J_x*J_x - J_x*J_x"
   ]
  },
  {
   "cell_type": "markdown",
   "id": "69845459",
   "metadata": {},
   "source": [
    "Se cumple que  $[J_{x},J_{x}]=\\epsilon_{ijk}J_{z}$ ya que $\\epsilon_{xyz}=0$ "
   ]
  },
  {
   "cell_type": "markdown",
   "id": "6623ae51",
   "metadata": {},
   "source": [
    "Para J_y y J_y:"
   ]
  },
  {
   "cell_type": "code",
   "execution_count": 15,
   "id": "51152968",
   "metadata": {},
   "outputs": [
    {
     "data": {
      "text/latex": [
       "$\\displaystyle \\left[\\begin{matrix}0 & 0 & 0\\\\0 & 0 & 0\\\\0 & 0 & 0\\end{matrix}\\right]$"
      ],
      "text/plain": [
       "Matrix([\n",
       "[0, 0, 0],\n",
       "[0, 0, 0],\n",
       "[0, 0, 0]])"
      ]
     },
     "execution_count": 15,
     "metadata": {},
     "output_type": "execute_result"
    }
   ],
   "source": [
    "J_y*J_y - J_y*J_y"
   ]
  },
  {
   "cell_type": "markdown",
   "id": "f6820b7e",
   "metadata": {},
   "source": [
    "Se cumple que  $[J_{y},J_{y}]=\\epsilon_{ijk}J_{z}$ ya que $\\epsilon_{xyz}=0$ "
   ]
  },
  {
   "cell_type": "markdown",
   "id": "30988abd",
   "metadata": {},
   "source": [
    "Para J_z y J_z:"
   ]
  },
  {
   "cell_type": "code",
   "execution_count": 16,
   "id": "be4e1c8e",
   "metadata": {},
   "outputs": [
    {
     "data": {
      "text/latex": [
       "$\\displaystyle \\left[\\begin{matrix}0 & 0 & 0\\\\0 & 0 & 0\\\\0 & 0 & 0\\end{matrix}\\right]$"
      ],
      "text/plain": [
       "Matrix([\n",
       "[0, 0, 0],\n",
       "[0, 0, 0],\n",
       "[0, 0, 0]])"
      ]
     },
     "execution_count": 16,
     "metadata": {},
     "output_type": "execute_result"
    }
   ],
   "source": [
    "J_z*J_z - J_z*J_z"
   ]
  },
  {
   "cell_type": "markdown",
   "id": "e951336d",
   "metadata": {},
   "source": [
    "Se cumple que  $[J_{y},J_{y}]=\\epsilon_{ijk}J_{z}$ ya que $\\epsilon_{xyz}=0$ "
   ]
  },
  {
   "cell_type": "markdown",
   "id": "ef3246dd",
   "metadata": {},
   "source": [
    "14."
   ]
  },
  {
   "cell_type": "code",
   "execution_count": 20,
   "id": "1b5f088b",
   "metadata": {},
   "outputs": [
    {
     "data": {
      "text/plain": [
       "(Matrix([\n",
       " [0, 1],\n",
       " [1, 0]]),\n",
       " Matrix([\n",
       " [    0, -1.0*I],\n",
       " [1.0*I,      0]]),\n",
       " Matrix([\n",
       " [1,  0],\n",
       " [0, -1]]))"
      ]
     },
     "execution_count": 20,
     "metadata": {},
     "output_type": "execute_result"
    }
   ],
   "source": [
    "sigma_x = sym.matrices.Matrix([[0,1],[1,0]])\n",
    "sigma_y = sym.matrices.Matrix([[0,-1j],[1j,0]])\n",
    "sigma_z = sym.matrices.Matrix([[1,0],[0,-1]])\n",
    "sigma_x,sigma_y,sigma_z"
   ]
  },
  {
   "cell_type": "markdown",
   "id": "1c534868",
   "metadata": {},
   "source": [
    "Para $\\sigma_{x}$ y $\\sigma_{y}$"
   ]
  },
  {
   "cell_type": "code",
   "execution_count": 21,
   "id": "5c0730d5",
   "metadata": {},
   "outputs": [
    {
     "data": {
      "text/latex": [
       "$\\displaystyle \\left[\\begin{matrix}2.0 i & 0\\\\0 & - 2.0 i\\end{matrix}\\right]$"
      ],
      "text/plain": [
       "Matrix([\n",
       "[2.0*I,      0],\n",
       "[    0, -2.0*I]])"
      ]
     },
     "execution_count": 21,
     "metadata": {},
     "output_type": "execute_result"
    }
   ],
   "source": [
    "sigma_x*sigma_y- sigma_y*sigma_x"
   ]
  },
  {
   "cell_type": "markdown",
   "id": "89ff632a",
   "metadata": {},
   "source": [
    "Se cumple que  $[\\sigma_{x},\\sigma_{y}]=2i \\epsilon_{ijk} \\sigma_{z}$ ya que $\\epsilon_{xyz}=1$ y \n",
    "$$\\sigma_{x}=\\begin{pmatrix}\n",
    " 1 & 0 \\\\\n",
    " 0 & -1 \n",
    "\\end{pmatrix} $$"
   ]
  },
  {
   "cell_type": "markdown",
   "id": "57614ee9",
   "metadata": {},
   "source": [
    "Para $\\sigma_{x}$ y $\\sigma_{z}$"
   ]
  },
  {
   "cell_type": "code",
   "execution_count": 23,
   "id": "04edff11",
   "metadata": {},
   "outputs": [
    {
     "data": {
      "text/latex": [
       "$\\displaystyle \\left[\\begin{matrix}0 & -2\\\\2 & 0\\end{matrix}\\right]$"
      ],
      "text/plain": [
       "Matrix([\n",
       "[0, -2],\n",
       "[2,  0]])"
      ]
     },
     "execution_count": 23,
     "metadata": {},
     "output_type": "execute_result"
    }
   ],
   "source": [
    "sigma_x*sigma_z- sigma_z*sigma_x"
   ]
  },
  {
   "cell_type": "markdown",
   "id": "bbb129f7",
   "metadata": {},
   "source": [
    "Se cumple que  $[\\sigma_{x},\\sigma_{z}]=2i \\epsilon_{ijk} \\sigma_{y}$ ya que $\\epsilon_{xyz}=1$ y \n",
    "$$\\sigma_{y}=\\begin{pmatrix}\n",
    " 0 & -i \\\\\n",
    " i & 0 \n",
    "\\end{pmatrix} $$"
   ]
  },
  {
   "cell_type": "markdown",
   "id": "4777cce2",
   "metadata": {},
   "source": [
    "Para $\\sigma_{y}$ y $\\sigma_{x}$"
   ]
  },
  {
   "cell_type": "code",
   "execution_count": 25,
   "id": "4f607c80",
   "metadata": {},
   "outputs": [
    {
     "data": {
      "text/latex": [
       "$\\displaystyle \\left[\\begin{matrix}- 2.0 i & 0\\\\0 & 2.0 i\\end{matrix}\\right]$"
      ],
      "text/plain": [
       "Matrix([\n",
       "[-2.0*I,     0],\n",
       "[     0, 2.0*I]])"
      ]
     },
     "execution_count": 25,
     "metadata": {},
     "output_type": "execute_result"
    }
   ],
   "source": [
    "sigma_y*sigma_x- sigma_x*sigma_y"
   ]
  },
  {
   "cell_type": "markdown",
   "id": "5f82fa9f",
   "metadata": {},
   "source": [
    "Se cumple que  $[\\sigma_{y},\\sigma_{x}]=2i \\epsilon_{ijk} \\sigma_{z}$ ya que $\\epsilon_{xyz}=-1$ y \n",
    "$$\\sigma_{z}=\\begin{pmatrix}\n",
    " 1 & 0 \\\\\n",
    " 0 & -1 \n",
    "\\end{pmatrix} $$"
   ]
  },
  {
   "cell_type": "markdown",
   "id": "4d6c75db",
   "metadata": {},
   "source": [
    "Para $\\sigma_{y}$ y $\\sigma_{z}$"
   ]
  },
  {
   "cell_type": "code",
   "execution_count": 26,
   "id": "e69a3ad2",
   "metadata": {},
   "outputs": [
    {
     "data": {
      "text/latex": [
       "$\\displaystyle \\left[\\begin{matrix}0 & 2.0 i\\\\2.0 i & 0\\end{matrix}\\right]$"
      ],
      "text/plain": [
       "Matrix([\n",
       "[    0, 2.0*I],\n",
       "[2.0*I,     0]])"
      ]
     },
     "execution_count": 26,
     "metadata": {},
     "output_type": "execute_result"
    }
   ],
   "source": [
    "sigma_y*sigma_z- sigma_z*sigma_y"
   ]
  },
  {
   "cell_type": "markdown",
   "id": "53c1dc72",
   "metadata": {},
   "source": [
    "Se cumple que  $[\\sigma_{y},\\sigma_{z}]=2i \\epsilon_{ijk} \\sigma_{x}$ ya que $\\epsilon_{xyz}=1$ y \n",
    "$$\\sigma_{x}=\\begin{pmatrix}\n",
    " 0 & 1 \\\\\n",
    " 1 & 0 \n",
    "\\end{pmatrix} $$"
   ]
  },
  {
   "cell_type": "markdown",
   "id": "f5ad516d",
   "metadata": {},
   "source": [
    "Para $\\sigma_{z}$ y $\\sigma_{x}$"
   ]
  },
  {
   "cell_type": "code",
   "execution_count": 28,
   "id": "f75e4b73",
   "metadata": {},
   "outputs": [
    {
     "data": {
      "text/latex": [
       "$\\displaystyle \\left[\\begin{matrix}0 & 2\\\\-2 & 0\\end{matrix}\\right]$"
      ],
      "text/plain": [
       "Matrix([\n",
       "[ 0, 2],\n",
       "[-2, 0]])"
      ]
     },
     "execution_count": 28,
     "metadata": {},
     "output_type": "execute_result"
    }
   ],
   "source": [
    "sigma_z*sigma_x- sigma_x*sigma_z"
   ]
  },
  {
   "cell_type": "markdown",
   "id": "02d33be3",
   "metadata": {},
   "source": [
    "Se cumple que  $[\\sigma_{z},\\sigma_{x}]=2i \\epsilon_{ijk} \\sigma_{y}$ ya que $\\epsilon_{xyz}=-1$ y \n",
    "$$\\sigma_{y}=\\begin{pmatrix}\n",
    " 0 & -i \\\\\n",
    " i& 0 \n",
    "\\end{pmatrix} $$"
   ]
  },
  {
   "cell_type": "markdown",
   "id": "81a2c106",
   "metadata": {},
   "source": [
    "Para $\\sigma_{z}$ y $\\sigma_{y}$"
   ]
  },
  {
   "cell_type": "code",
   "execution_count": 30,
   "id": "6149c3d1",
   "metadata": {},
   "outputs": [
    {
     "data": {
      "text/latex": [
       "$\\displaystyle \\left[\\begin{matrix}0 & - 2.0 i\\\\- 2.0 i & 0\\end{matrix}\\right]$"
      ],
      "text/plain": [
       "Matrix([\n",
       "[     0, -2.0*I],\n",
       "[-2.0*I,      0]])"
      ]
     },
     "execution_count": 30,
     "metadata": {},
     "output_type": "execute_result"
    }
   ],
   "source": [
    "sigma_z*sigma_y- sigma_y*sigma_z"
   ]
  },
  {
   "cell_type": "markdown",
   "id": "6dc85427",
   "metadata": {},
   "source": [
    "Se cumple que  $[\\sigma_{z},\\sigma_{y}]=2i \\epsilon_{ijk} \\sigma_{x}$ ya que $\\epsilon_{xyz}=-1$ y \n",
    "$$\\sigma_{x}=\\begin{pmatrix}\n",
    " 0 & 1 \\\\\n",
    " 1& 0 \n",
    "\\end{pmatrix} $$"
   ]
  },
  {
   "cell_type": "markdown",
   "id": "a5143767",
   "metadata": {},
   "source": [
    "Para $\\sigma_{x}$ y $\\sigma_{x}$"
   ]
  },
  {
   "cell_type": "code",
   "execution_count": 32,
   "id": "e7134c6c",
   "metadata": {},
   "outputs": [
    {
     "data": {
      "text/latex": [
       "$\\displaystyle \\left[\\begin{matrix}0 & 0\\\\0 & 0\\end{matrix}\\right]$"
      ],
      "text/plain": [
       "Matrix([\n",
       "[0, 0],\n",
       "[0, 0]])"
      ]
     },
     "execution_count": 32,
     "metadata": {},
     "output_type": "execute_result"
    }
   ],
   "source": [
    "sigma_x*sigma_x- sigma_x*sigma_x"
   ]
  },
  {
   "cell_type": "markdown",
   "id": "1f4a6d86",
   "metadata": {},
   "source": [
    "Se cumple que  $[\\sigma_{x},\\sigma_{x}]=2i \\epsilon_{ijk} \\sigma_{z}$ ya que $\\epsilon_{xyz}=0$"
   ]
  },
  {
   "cell_type": "markdown",
   "id": "ea6f02c8",
   "metadata": {},
   "source": [
    "Para $\\sigma_{y}$ y $\\sigma_{y}$"
   ]
  },
  {
   "cell_type": "code",
   "execution_count": 34,
   "id": "60a3f533",
   "metadata": {},
   "outputs": [
    {
     "data": {
      "text/latex": [
       "$\\displaystyle \\left[\\begin{matrix}0 & 0\\\\0 & 0\\end{matrix}\\right]$"
      ],
      "text/plain": [
       "Matrix([\n",
       "[0, 0],\n",
       "[0, 0]])"
      ]
     },
     "execution_count": 34,
     "metadata": {},
     "output_type": "execute_result"
    }
   ],
   "source": [
    "sigma_y*sigma_y- sigma_y*sigma_y"
   ]
  },
  {
   "cell_type": "markdown",
   "id": "c93ae4da",
   "metadata": {},
   "source": [
    "Se cumple que  $[\\sigma_{y},\\sigma_{y}]=2i \\epsilon_{ijk} \\sigma_{z}$ ya que $\\epsilon_{xyz}=0$"
   ]
  },
  {
   "cell_type": "markdown",
   "id": "86f0d4f7",
   "metadata": {},
   "source": [
    "Para $\\sigma_{z}$ y $\\sigma_{z}$"
   ]
  },
  {
   "cell_type": "code",
   "execution_count": 35,
   "id": "4fe5f577",
   "metadata": {},
   "outputs": [
    {
     "data": {
      "text/latex": [
       "$\\displaystyle \\left[\\begin{matrix}0 & 0\\\\0 & 0\\end{matrix}\\right]$"
      ],
      "text/plain": [
       "Matrix([\n",
       "[0, 0],\n",
       "[0, 0]])"
      ]
     },
     "execution_count": 35,
     "metadata": {},
     "output_type": "execute_result"
    }
   ],
   "source": [
    "sigma_z*sigma_z- sigma_z*sigma_z"
   ]
  },
  {
   "cell_type": "markdown",
   "id": "a15e72dd",
   "metadata": {},
   "source": [
    "Se cumple que  $[\\sigma_{z},\\sigma_{z}]=2i \\epsilon_{ijk} \\sigma_{x}$ ya que $\\epsilon_{xyz}=0$"
   ]
  },
  {
   "cell_type": "code",
   "execution_count": null,
   "id": "7111c332",
   "metadata": {},
   "outputs": [],
   "source": [
    "15. "
   ]
  },
  {
   "cell_type": "code",
   "execution_count": 38,
   "id": "5530b5cd",
   "metadata": {},
   "outputs": [
    {
     "data": {
      "text/plain": [
       "(Matrix([\n",
       " [1, 0,  0,  0],\n",
       " [0, 1,  0,  0],\n",
       " [0, 0, -1,  0],\n",
       " [0, 0,  0, -1]]),\n",
       " Matrix([\n",
       " [ 0,  0, 0, 1],\n",
       " [ 0,  0, 1, 0],\n",
       " [ 0, -1, 0, 0],\n",
       " [-1,  0, 0, 0]]),\n",
       " Matrix([\n",
       " [     0,     0,     0, -1.0*I],\n",
       " [     0,     0, 1.0*I,      0],\n",
       " [     0, 1.0*I,     0,      0],\n",
       " [-1.0*I,     0,     0,      0]]),\n",
       " Matrix([\n",
       " [ 0, 0, 1,  0],\n",
       " [ 0, 0, 0, -1],\n",
       " [-1, 0, 0,  0],\n",
       " [ 0, 1, 0,  0]]))"
      ]
     },
     "execution_count": 38,
     "metadata": {},
     "output_type": "execute_result"
    }
   ],
   "source": [
    "gamma_0 = sym.matrices.Matrix([[1,0,0,0],[0,1,0,0],[0,0,-1,0],[0,0,0,-1]])\n",
    "gamma_1 = sym.matrices.Matrix([[0,0,0,1],[0,0,1,0],[0,-1,0,0],[-1,0,0,0]])\n",
    "gamma_2 = sym.matrices.Matrix([[0,0,0,-1j],[0,0,1j,0],[0,1j,0,0],[-1j,0,0,0]])\n",
    "gamma_3 = sym.matrices.Matrix([[0,0,1,0],[0,0,0,-1],[-1,0,0,0],[0,1,0,0]])\n",
    "\n",
    "gamma_0, gamma_1,gamma_2,gamma_3"
   ]
  },
  {
   "cell_type": "markdown",
   "id": "615e9c2b",
   "metadata": {},
   "source": [
    "Para $\\gamma^0$ y $\\gamma^1$"
   ]
  },
  {
   "cell_type": "code",
   "execution_count": 40,
   "id": "f039fd60",
   "metadata": {},
   "outputs": [
    {
     "data": {
      "text/latex": [
       "$\\displaystyle \\left[\\begin{matrix}0 & 0 & 0 & 0\\\\0 & 0 & 0 & 0\\\\0 & 0 & 0 & 0\\\\0 & 0 & 0 & 0\\end{matrix}\\right]$"
      ],
      "text/plain": [
       "Matrix([\n",
       "[0, 0, 0, 0],\n",
       "[0, 0, 0, 0],\n",
       "[0, 0, 0, 0],\n",
       "[0, 0, 0, 0]])"
      ]
     },
     "execution_count": 40,
     "metadata": {},
     "output_type": "execute_result"
    }
   ],
   "source": [
    "gamma_0*gamma_1+gamma_1*gamma_0"
   ]
  },
  {
   "cell_type": "markdown",
   "id": "60affc45",
   "metadata": {},
   "source": [
    "Para $\\gamma^0$ y $\\gamma^2$"
   ]
  },
  {
   "cell_type": "code",
   "execution_count": 42,
   "id": "d31ac5ba",
   "metadata": {},
   "outputs": [
    {
     "data": {
      "text/latex": [
       "$\\displaystyle \\left[\\begin{matrix}0 & 0 & 0 & 0\\\\0 & 0 & 0 & 0\\\\0 & 0 & 0 & 0\\\\0 & 0 & 0 & 0\\end{matrix}\\right]$"
      ],
      "text/plain": [
       "Matrix([\n",
       "[0, 0, 0, 0],\n",
       "[0, 0, 0, 0],\n",
       "[0, 0, 0, 0],\n",
       "[0, 0, 0, 0]])"
      ]
     },
     "execution_count": 42,
     "metadata": {},
     "output_type": "execute_result"
    }
   ],
   "source": [
    "gamma_0*gamma_2+gamma_2*gamma_0"
   ]
  },
  {
   "cell_type": "markdown",
   "id": "80b6aa98",
   "metadata": {},
   "source": [
    "Para $\\gamma^0$ y $\\gamma^3$"
   ]
  },
  {
   "cell_type": "code",
   "execution_count": 43,
   "id": "3676cd4a",
   "metadata": {},
   "outputs": [
    {
     "data": {
      "text/latex": [
       "$\\displaystyle \\left[\\begin{matrix}0 & 0 & 0 & 0\\\\0 & 0 & 0 & 0\\\\0 & 0 & 0 & 0\\\\0 & 0 & 0 & 0\\end{matrix}\\right]$"
      ],
      "text/plain": [
       "Matrix([\n",
       "[0, 0, 0, 0],\n",
       "[0, 0, 0, 0],\n",
       "[0, 0, 0, 0],\n",
       "[0, 0, 0, 0]])"
      ]
     },
     "execution_count": 43,
     "metadata": {},
     "output_type": "execute_result"
    }
   ],
   "source": [
    "gamma_0*gamma_3+gamma_3*gamma_0"
   ]
  },
  {
   "cell_type": "markdown",
   "id": "3ca066e7",
   "metadata": {},
   "source": [
    "Para $\\gamma^0$ y $\\gamma^3$"
   ]
  },
  {
   "cell_type": "code",
   "execution_count": 46,
   "id": "8d1a7874",
   "metadata": {},
   "outputs": [
    {
     "data": {
      "text/latex": [
       "$\\displaystyle \\left[\\begin{matrix}0 & 0 & 0 & 0\\\\0 & 0 & 0 & 0\\\\0 & 0 & 0 & 0\\\\0 & 0 & 0 & 0\\end{matrix}\\right]$"
      ],
      "text/plain": [
       "Matrix([\n",
       "[0, 0, 0, 0],\n",
       "[0, 0, 0, 0],\n",
       "[0, 0, 0, 0],\n",
       "[0, 0, 0, 0]])"
      ]
     },
     "execution_count": 46,
     "metadata": {},
     "output_type": "execute_result"
    }
   ],
   "source": [
    "gamma_0*gamma_3+gamma_3*gamma_0"
   ]
  },
  {
   "cell_type": "markdown",
   "id": "ea383a24",
   "metadata": {},
   "source": [
    "Para $\\gamma^1$ y $\\gamma^0$"
   ]
  },
  {
   "cell_type": "code",
   "execution_count": 47,
   "id": "d1be7768",
   "metadata": {},
   "outputs": [
    {
     "data": {
      "text/latex": [
       "$\\displaystyle \\left[\\begin{matrix}0 & 0 & 0 & 0\\\\0 & 0 & 0 & 0\\\\0 & 0 & 0 & 0\\\\0 & 0 & 0 & 0\\end{matrix}\\right]$"
      ],
      "text/plain": [
       "Matrix([\n",
       "[0, 0, 0, 0],\n",
       "[0, 0, 0, 0],\n",
       "[0, 0, 0, 0],\n",
       "[0, 0, 0, 0]])"
      ]
     },
     "execution_count": 47,
     "metadata": {},
     "output_type": "execute_result"
    }
   ],
   "source": [
    "gamma_1*gamma_0+gamma_0*gamma_1"
   ]
  },
  {
   "cell_type": "markdown",
   "id": "4a87c07a",
   "metadata": {},
   "source": [
    "Para $\\gamma^1$ y $\\gamma^2$\n"
   ]
  },
  {
   "cell_type": "code",
   "execution_count": 48,
   "id": "21de1274",
   "metadata": {},
   "outputs": [
    {
     "data": {
      "text/latex": [
       "$\\displaystyle \\left[\\begin{matrix}0 & 0 & 0 & 0\\\\0 & 0 & 0 & 0\\\\0 & 0 & 0 & 0\\\\0 & 0 & 0 & 0\\end{matrix}\\right]$"
      ],
      "text/plain": [
       "Matrix([\n",
       "[0, 0, 0, 0],\n",
       "[0, 0, 0, 0],\n",
       "[0, 0, 0, 0],\n",
       "[0, 0, 0, 0]])"
      ]
     },
     "execution_count": 48,
     "metadata": {},
     "output_type": "execute_result"
    }
   ],
   "source": [
    "gamma_1*gamma_2+gamma_2*gamma_1"
   ]
  },
  {
   "cell_type": "markdown",
   "id": "93105875",
   "metadata": {},
   "source": [
    "Para $\\gamma^1$ y $\\gamma^3$"
   ]
  },
  {
   "cell_type": "code",
   "execution_count": 50,
   "id": "46da356a",
   "metadata": {},
   "outputs": [
    {
     "data": {
      "text/latex": [
       "$\\displaystyle \\left[\\begin{matrix}0 & 0 & 0 & 0\\\\0 & 0 & 0 & 0\\\\0 & 0 & 0 & 0\\\\0 & 0 & 0 & 0\\end{matrix}\\right]$"
      ],
      "text/plain": [
       "Matrix([\n",
       "[0, 0, 0, 0],\n",
       "[0, 0, 0, 0],\n",
       "[0, 0, 0, 0],\n",
       "[0, 0, 0, 0]])"
      ]
     },
     "execution_count": 50,
     "metadata": {},
     "output_type": "execute_result"
    }
   ],
   "source": [
    "gamma_1*gamma_3+gamma_3*gamma_1"
   ]
  },
  {
   "cell_type": "markdown",
   "id": "23968cbf",
   "metadata": {},
   "source": [
    "Para $\\gamma^2$ y $\\gamma^0$"
   ]
  },
  {
   "cell_type": "code",
   "execution_count": 51,
   "id": "264cb766",
   "metadata": {},
   "outputs": [
    {
     "data": {
      "text/latex": [
       "$\\displaystyle \\left[\\begin{matrix}0 & 0 & 0 & 0\\\\0 & 0 & 0 & 0\\\\0 & 0 & 0 & 0\\\\0 & 0 & 0 & 0\\end{matrix}\\right]$"
      ],
      "text/plain": [
       "Matrix([\n",
       "[0, 0, 0, 0],\n",
       "[0, 0, 0, 0],\n",
       "[0, 0, 0, 0],\n",
       "[0, 0, 0, 0]])"
      ]
     },
     "execution_count": 51,
     "metadata": {},
     "output_type": "execute_result"
    }
   ],
   "source": [
    "gamma_2*gamma_0+gamma_0*gamma_2"
   ]
  },
  {
   "cell_type": "markdown",
   "id": "0b1b2cd4",
   "metadata": {},
   "source": [
    "Para $\\gamma^2$ y $\\gamma^1$"
   ]
  },
  {
   "cell_type": "code",
   "execution_count": 53,
   "id": "1327b305",
   "metadata": {},
   "outputs": [
    {
     "data": {
      "text/latex": [
       "$\\displaystyle \\left[\\begin{matrix}0 & 0 & 0 & 0\\\\0 & 0 & 0 & 0\\\\0 & 0 & 0 & 0\\\\0 & 0 & 0 & 0\\end{matrix}\\right]$"
      ],
      "text/plain": [
       "Matrix([\n",
       "[0, 0, 0, 0],\n",
       "[0, 0, 0, 0],\n",
       "[0, 0, 0, 0],\n",
       "[0, 0, 0, 0]])"
      ]
     },
     "execution_count": 53,
     "metadata": {},
     "output_type": "execute_result"
    }
   ],
   "source": [
    "gamma_2*gamma_1+gamma_1*gamma_2"
   ]
  },
  {
   "cell_type": "markdown",
   "id": "cce5a42d",
   "metadata": {},
   "source": [
    "Para $\\gamma^2$ y $\\gamma^3$"
   ]
  },
  {
   "cell_type": "code",
   "execution_count": 55,
   "id": "9b22a067",
   "metadata": {},
   "outputs": [
    {
     "data": {
      "text/latex": [
       "$\\displaystyle \\left[\\begin{matrix}0 & 0 & 0 & 0\\\\0 & 0 & 0 & 0\\\\0 & 0 & 0 & 0\\\\0 & 0 & 0 & 0\\end{matrix}\\right]$"
      ],
      "text/plain": [
       "Matrix([\n",
       "[0, 0, 0, 0],\n",
       "[0, 0, 0, 0],\n",
       "[0, 0, 0, 0],\n",
       "[0, 0, 0, 0]])"
      ]
     },
     "execution_count": 55,
     "metadata": {},
     "output_type": "execute_result"
    }
   ],
   "source": [
    "gamma_2*gamma_3+gamma_3*gamma_2\n"
   ]
  },
  {
   "cell_type": "markdown",
   "id": "0d8bebc6",
   "metadata": {},
   "source": [
    "Para $\\gamma^3$ y $\\gamma^0$"
   ]
  },
  {
   "cell_type": "code",
   "execution_count": 57,
   "id": "6c8e36be",
   "metadata": {},
   "outputs": [
    {
     "data": {
      "text/latex": [
       "$\\displaystyle \\left[\\begin{matrix}0 & 0 & 0 & 0\\\\0 & 0 & 0 & 0\\\\0 & 0 & 0 & 0\\\\0 & 0 & 0 & 0\\end{matrix}\\right]$"
      ],
      "text/plain": [
       "Matrix([\n",
       "[0, 0, 0, 0],\n",
       "[0, 0, 0, 0],\n",
       "[0, 0, 0, 0],\n",
       "[0, 0, 0, 0]])"
      ]
     },
     "execution_count": 57,
     "metadata": {},
     "output_type": "execute_result"
    }
   ],
   "source": [
    "gamma_3*gamma_0+gamma_0*gamma_3"
   ]
  },
  {
   "cell_type": "markdown",
   "id": "8277ee05",
   "metadata": {},
   "source": [
    "Para $\\gamma^3$ y $\\gamma^1$"
   ]
  },
  {
   "cell_type": "code",
   "execution_count": 59,
   "id": "f5891562",
   "metadata": {},
   "outputs": [
    {
     "data": {
      "text/latex": [
       "$\\displaystyle \\left[\\begin{matrix}0 & 0 & 0 & 0\\\\0 & 0 & 0 & 0\\\\0 & 0 & 0 & 0\\\\0 & 0 & 0 & 0\\end{matrix}\\right]$"
      ],
      "text/plain": [
       "Matrix([\n",
       "[0, 0, 0, 0],\n",
       "[0, 0, 0, 0],\n",
       "[0, 0, 0, 0],\n",
       "[0, 0, 0, 0]])"
      ]
     },
     "execution_count": 59,
     "metadata": {},
     "output_type": "execute_result"
    }
   ],
   "source": [
    "gamma_3*gamma_1+gamma_1*gamma_3"
   ]
  },
  {
   "cell_type": "markdown",
   "id": "05f7e1d8",
   "metadata": {},
   "source": [
    "Para $\\gamma^3$ y $\\gamma^2$"
   ]
  },
  {
   "cell_type": "code",
   "execution_count": 61,
   "id": "ecd566db",
   "metadata": {},
   "outputs": [
    {
     "data": {
      "text/latex": [
       "$\\displaystyle \\left[\\begin{matrix}0 & 0 & 0 & 0\\\\0 & 0 & 0 & 0\\\\0 & 0 & 0 & 0\\\\0 & 0 & 0 & 0\\end{matrix}\\right]$"
      ],
      "text/plain": [
       "Matrix([\n",
       "[0, 0, 0, 0],\n",
       "[0, 0, 0, 0],\n",
       "[0, 0, 0, 0],\n",
       "[0, 0, 0, 0]])"
      ]
     },
     "execution_count": 61,
     "metadata": {},
     "output_type": "execute_result"
    }
   ],
   "source": [
    "gamma_3*gamma_2+gamma_2*gamma_3"
   ]
  },
  {
   "cell_type": "markdown",
   "id": "696f3b0f",
   "metadata": {},
   "source": [
    "Para todos las relaciones don $i\\neq$j se cumple que  $[\\gamma^\\mu,\\gamma^\\nu]=\\eta^{\\mu \\nu} $ ya que $$\\eta^{\\mu \\nu}=\\begin{pmatrix}\n",
    " 1 & 0 & 0 & 0 \\\\\n",
    " 0 & -1 & 0 & 0\\\\\n",
    " 0 & 0 & -1 & 0\\\\\n",
    " 0 & 0 & 0 & -1\n",
    "\\end{pmatrix} $$\n",
    "y $$ I_{4x4}=\\begin{pmatrix}\n",
    " 1 & 0 & 0 & 0 \\\\\n",
    " 0 & 1 & 0 & 0\\\\\n",
    " 0 & 0 & 1 & 0\\\\\n",
    " 0 & 0 & 0 & 1\n",
    "\\end{pmatrix} $$\n",
    "\n",
    "Obteniendo \n",
    "\n",
    "$$\\begin{pmatrix}\n",
    " 0 & 0 & 0 & 0 \\\\\n",
    " 0 & 0 & 0 & 0\\\\\n",
    " 0 & 0 & 0 & 0\\\\\n",
    " 0 & 0 & 0 & 0\n",
    "\\end{pmatrix} $$"
   ]
  },
  {
   "cell_type": "markdown",
   "id": "3b3defa4",
   "metadata": {},
   "source": [
    "Para $\\gamma^0$ y $\\gamma^0$"
   ]
  },
  {
   "cell_type": "code",
   "execution_count": 63,
   "id": "67a1129c",
   "metadata": {},
   "outputs": [
    {
     "data": {
      "text/latex": [
       "$\\displaystyle \\left[\\begin{matrix}2 & 0 & 0 & 0\\\\0 & 2 & 0 & 0\\\\0 & 0 & 2 & 0\\\\0 & 0 & 0 & 2\\end{matrix}\\right]$"
      ],
      "text/plain": [
       "Matrix([\n",
       "[2, 0, 0, 0],\n",
       "[0, 2, 0, 0],\n",
       "[0, 0, 2, 0],\n",
       "[0, 0, 0, 2]])"
      ]
     },
     "execution_count": 63,
     "metadata": {},
     "output_type": "execute_result"
    }
   ],
   "source": [
    "gamma_0*gamma_0+gamma_0*gamma_0"
   ]
  },
  {
   "cell_type": "code",
   "execution_count": null,
   "id": "b602caa0",
   "metadata": {},
   "outputs": [],
   "source": []
  },
  {
   "cell_type": "markdown",
   "id": "4243994e",
   "metadata": {},
   "source": [
    "Para $\\gamma^1$ y $\\gamma^1$"
   ]
  },
  {
   "cell_type": "code",
   "execution_count": 65,
   "id": "f67cc4cf",
   "metadata": {},
   "outputs": [
    {
     "data": {
      "text/latex": [
       "$\\displaystyle \\left[\\begin{matrix}-2 & 0 & 0 & 0\\\\0 & -2 & 0 & 0\\\\0 & 0 & -2 & 0\\\\0 & 0 & 0 & -2\\end{matrix}\\right]$"
      ],
      "text/plain": [
       "Matrix([\n",
       "[-2,  0,  0,  0],\n",
       "[ 0, -2,  0,  0],\n",
       "[ 0,  0, -2,  0],\n",
       "[ 0,  0,  0, -2]])"
      ]
     },
     "execution_count": 65,
     "metadata": {},
     "output_type": "execute_result"
    }
   ],
   "source": [
    "gamma_1*gamma_1+gamma_1*gamma_1"
   ]
  },
  {
   "cell_type": "code",
   "execution_count": null,
   "id": "baae65f7",
   "metadata": {},
   "outputs": [],
   "source": []
  },
  {
   "cell_type": "markdown",
   "id": "43868a64",
   "metadata": {},
   "source": [
    "Para $\\gamma^2$ y $\\gamma^2$"
   ]
  },
  {
   "cell_type": "code",
   "execution_count": 67,
   "id": "6717d966",
   "metadata": {},
   "outputs": [
    {
     "data": {
      "text/latex": [
       "$\\displaystyle \\left[\\begin{matrix}-2.0 & 0 & 0 & 0\\\\0 & -2.0 & 0 & 0\\\\0 & 0 & -2.0 & 0\\\\0 & 0 & 0 & -2.0\\end{matrix}\\right]$"
      ],
      "text/plain": [
       "Matrix([\n",
       "[-2.0,    0,    0,    0],\n",
       "[   0, -2.0,    0,    0],\n",
       "[   0,    0, -2.0,    0],\n",
       "[   0,    0,    0, -2.0]])"
      ]
     },
     "execution_count": 67,
     "metadata": {},
     "output_type": "execute_result"
    }
   ],
   "source": [
    "gamma_2*gamma_2+gamma_2*gamma_2"
   ]
  },
  {
   "cell_type": "code",
   "execution_count": null,
   "id": "9042c1b5",
   "metadata": {},
   "outputs": [],
   "source": []
  },
  {
   "cell_type": "markdown",
   "id": "f723a8fa",
   "metadata": {},
   "source": [
    "Para $\\gamma^3$ y $\\gamma^3$"
   ]
  },
  {
   "cell_type": "code",
   "execution_count": 69,
   "id": "861f5669",
   "metadata": {},
   "outputs": [
    {
     "data": {
      "text/latex": [
       "$\\displaystyle \\left[\\begin{matrix}-2 & 0 & 0 & 0\\\\0 & -2 & 0 & 0\\\\0 & 0 & -2 & 0\\\\0 & 0 & 0 & -2\\end{matrix}\\right]$"
      ],
      "text/plain": [
       "Matrix([\n",
       "[-2,  0,  0,  0],\n",
       "[ 0, -2,  0,  0],\n",
       "[ 0,  0, -2,  0],\n",
       "[ 0,  0,  0, -2]])"
      ]
     },
     "execution_count": 69,
     "metadata": {},
     "output_type": "execute_result"
    }
   ],
   "source": [
    "gamma_3*gamma_3+gamma_3*gamma_3\n"
   ]
  },
  {
   "cell_type": "code",
   "execution_count": null,
   "id": "aad2e425",
   "metadata": {},
   "outputs": [],
   "source": []
  },
  {
   "cell_type": "markdown",
   "id": "5e3fa127",
   "metadata": {},
   "source": [
    "Mínimos Cuadrados\n",
    "\n",
    "1."
   ]
  },
  {
   "cell_type": "code",
   "execution_count": null,
   "id": "9cfdcc31",
   "metadata": {},
   "outputs": [],
   "source": []
  },
  {
   "cell_type": "markdown",
   "id": "3af9ea3b",
   "metadata": {},
   "source": [
    "3. "
   ]
  },
  {
   "cell_type": "code",
   "execution_count": null,
   "id": "97ab4842",
   "metadata": {},
   "outputs": [],
   "source": []
  },
  {
   "cell_type": "markdown",
   "id": "9501d1f3",
   "metadata": {},
   "source": [
    "6."
   ]
  },
  {
   "cell_type": "code",
   "execution_count": null,
   "id": "283940b3",
   "metadata": {},
   "outputs": [],
   "source": []
  },
  {
   "cell_type": "markdown",
   "id": "e377c9ba",
   "metadata": {},
   "source": [
    "7."
   ]
  },
  {
   "cell_type": "code",
   "execution_count": null,
   "id": "1e60b228",
   "metadata": {},
   "outputs": [],
   "source": []
  },
  {
   "cell_type": "code",
   "execution_count": null,
   "id": "9e374c54",
   "metadata": {},
   "outputs": [],
   "source": []
  }
 ],
 "metadata": {
  "kernelspec": {
   "display_name": "Python 3 (ipykernel)",
   "language": "python",
   "name": "python3"
  },
  "language_info": {
   "codemirror_mode": {
    "name": "ipython",
    "version": 3
   },
   "file_extension": ".py",
   "mimetype": "text/x-python",
   "name": "python",
   "nbconvert_exporter": "python",
   "pygments_lexer": "ipython3",
   "version": "3.9.7"
  }
 },
 "nbformat": 4,
 "nbformat_minor": 5
}
