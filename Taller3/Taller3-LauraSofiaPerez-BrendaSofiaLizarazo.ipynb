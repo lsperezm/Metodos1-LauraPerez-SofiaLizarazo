{
 "cells": [
  {
   "cell_type": "code",
   "execution_count": 1,
   "id": "1871aa80",
   "metadata": {},
   "outputs": [],
   "source": [
    "import numpy as np\n",
    "import matplotlib.pyplot as plt\n",
    "import sympy as sym\n",
    "from scipy import integrate\n",
    "import pandas as pd\n",
    "from matplotlib import rc\n",
    "import os.path as path\n",
    "import os\n"
   ]
  },
  {
   "cell_type": "markdown",
   "id": "f0b8b137",
   "metadata": {},
   "source": [
    "Álgebra Lineal\n",
    "\n",
    "3."
   ]
  },
  {
   "cell_type": "code",
   "execution_count": 2,
   "id": "9012197d",
   "metadata": {},
   "outputs": [],
   "source": [
    "def Multiplica(m_1, m_2):\n",
    "    resp=np.dot(m_1,m_2)\n",
    "    \n",
    "    return resp"
   ]
  },
  {
   "cell_type": "code",
   "execution_count": 5,
   "id": "ede1f13b",
   "metadata": {},
   "outputs": [
    {
     "data": {
      "text/plain": [
       "(array([[ 1,  0,  0],\n",
       "        [ 5,  1,  0],\n",
       "        [-2,  3,  1]]),\n",
       " array([[ 4, -2,  1],\n",
       "        [ 0,  3,  7],\n",
       "        [ 0,  0,  2]]))"
      ]
     },
     "execution_count": 5,
     "metadata": {},
     "output_type": "execute_result"
    }
   ],
   "source": [
    "a=np.array([[1,0,0],[5,1,0],[-2,3,1]])\n",
    "b=np.array([[4,-2,1],[0,3,7],[0,0,2]])\n",
    "\n",
    "a,b"
   ]
  },
  {
   "cell_type": "code",
   "execution_count": 6,
   "id": "78a61d9b",
   "metadata": {},
   "outputs": [
    {
     "data": {
      "text/plain": [
       "array([[ 4, -2,  1],\n",
       "       [20, -7, 12],\n",
       "       [-8, 13, 21]])"
      ]
     },
     "execution_count": 6,
     "metadata": {},
     "output_type": "execute_result"
    }
   ],
   "source": [
    "Multiplica(a,b)"
   ]
  },
  {
   "cell_type": "markdown",
   "id": "d5906c46",
   "metadata": {},
   "source": [
    "4."
   ]
  },
  {
   "cell_type": "markdown",
   "id": "68d2a517",
   "metadata": {},
   "source": [
    "Sustitución hacia adelante:\n",
    "\n",
    "Partiendo de un sistema de ecuaciones $Ax=b$ se utiliza la factorización $LU$ para tener $A=LU$, donde $L$ es una matriz triangular superior y $U$ es una matriz triangular inferior. Para la sustitución hacia adelante se utiliza la matriz triangular inferior. De modo que se tiene,\n",
    "\n",
    "$$\\begin{pmatrix}\n",
    "L_{00} & 0 & 0 & \\cdots & \\cdots & 0 & 0\\\\\n",
    "L_{10} & L_{11} & 0 & \\cdots & \\cdots & 0 & 0\\\\\n",
    "\\vdots & \\vdots & \\vdots & \\ddots & \\vdots &\\vdots &\\vdots \\\\\n",
    "L_{i1} & L_{i2} & \\cdots & L_{ii} & 0 &\\cdots & 0\\\\\n",
    "\\vdots & \\vdots & \\vdots & \\ddots & \\vdots &\\vdots &\\vdots \\\\\n",
    "L_{n1} & L_{n2} & \\cdots & \\cdots &\\cdots &\\cdots & L_{nn}\n",
    "\\end{pmatrix}\n",
    "\\begin{pmatrix}\n",
    "x_{0} \\\\\n",
    "x_{1} \\\\\n",
    "\\vdots \\\\\n",
    "x_{i}\\\\\n",
    "\\vdots \\\\\n",
    "x_{n}\n",
    "\\end{pmatrix}\n",
    "=\n",
    "\\begin{pmatrix}\n",
    "b_{0} \\\\\n",
    "b_{1} \\\\\n",
    "\\vdots \\\\\n",
    "b_{i}\\\\\n",
    "\\vdots \\\\\n",
    "b_{n}\n",
    "\\end{pmatrix}$$\n",
    "$$ $$\n",
    "De modo que los sistemas de ecuaciones estarían dados por,\n",
    "\n",
    "\n",
    "$$b_{0}=L_{00}x_{0}$$\n",
    "$$x_{0}=\\frac{b_{0}}{L_{00}}$$\n",
    "$$ $$\n",
    "$$b_{1}=L_{10}x_{0} + L_{11}x_{1}$$\n",
    "$$x_{1}=\\frac{b_{1}-L_{10}x_{0}}{L_{11}}$$\n",
    "$$\\cdots$$\n",
    "$$b_{i}=L_{i0}x_{0} + L_{i1}x_{1}+\\cdots+L_{ii}x_{i}$$\n",
    "$$x_{i}=\\frac{b_{i}-L_{i0}x_{0}-L_{i1}x_{1} - \\cdots - L_{i i-1}x_{i-1}}{L_{ii}}$$\n",
    "$$ $$\n",
    "Obteniendo la fórmula de sustitución hacia adelante:\n",
    "\n",
    "$$x_{i}= \\frac{b_{i} -\\sum_{j=0}^{i-1}L_{ij}x_{j}}{L_{ii}}$$\n",
    "\n",
    "\n"
   ]
  },
  {
   "cell_type": "markdown",
   "id": "04a6f362",
   "metadata": {},
   "source": [
    "5."
   ]
  },
  {
   "cell_type": "markdown",
   "id": "a7158aa2",
   "metadata": {},
   "source": [
    "Sustitución hacia atras:\n",
    "\n",
    "Como se mencionó en el punto anterior, se hace uso de la factorización $LU$, pero en el caso de la sustitución hacia atrás, se utiliza la matriz triangular superior. De modo que se tiene,\n",
    "\n",
    "$$\\begin{pmatrix}\n",
    "L_{11} & L_{12} & L_{13} & \\cdots & \\cdots & L_{1 n-1} & L_{1n}\\\\\n",
    "0 & L_{22} & L_{23} & \\cdots & \\cdots & L_{2 n-1} & L_{2n}\\\\\n",
    "\\vdots & \\vdots & \\vdots & \\ddots & \\vdots &\\vdots &\\vdots \\\\\n",
    "0 & 0 & \\cdots & L_{ii} & L_{i i+1} &\\cdots & L_{in}\\\\\n",
    "\\vdots & \\vdots & \\vdots & \\ddots & \\vdots &\\vdots &\\vdots \\\\\n",
    "0 & 0 & \\cdots & \\cdots &\\cdots &\\cdots & L_{nn}\n",
    "\\end{pmatrix}\n",
    "\\begin{pmatrix}\n",
    "x_{1} \\\\\n",
    "x_{2} \\\\\n",
    "\\vdots \\\\\n",
    "x_{i}\\\\\n",
    "\\vdots \\\\\n",
    "x_{n}\n",
    "\\end{pmatrix}\n",
    "=\n",
    "\\begin{pmatrix}\n",
    "b_{1} \\\\\n",
    "b_{2} \\\\\n",
    "\\vdots \\\\\n",
    "b_{i}\\\\\n",
    "\\vdots \\\\\n",
    "b_{n}\n",
    "\\end{pmatrix}$$\n",
    "\n",
    "De modo que los sistemas de ecuaciones estarían dados por,\n",
    "\n",
    "\n",
    "$$b_{0}=L_{00}x_{0}+L_{01}x_{1}+\\cdots+L_{0n}x_{n}$$\n",
    "$$x_{0}=\\frac{b_{0}-L_{01}x_{1}-\\cdots-L_{0 n}x_{n}}{L_{00}}$$\n",
    "$$ $$\n",
    "$$b_{1}=L_{11}x_{1}+L_{12}x_{2}+\\cdots+L_{1n}x_{n}$$\n",
    "$$x_{1}=\\frac{b_{1}-L_{12}x_{2}-\\cdots-L_{1 n}x_{n}}{L_{11}}$$\n",
    "$$\\cdots$$\n",
    "$$b_{i}=L_{ii}x_{i}+\\cdots+L_{in}x_{n}$$\n",
    "$$x_{i}=\\frac{b_{i}-L_{i i+1}x_{i+1}-\\cdots-L_{i n}x_{n}}{L_{ii}}$$\n",
    "\n",
    "\n",
    "Obteniendo la fórmula de sustitución hacia adelante:\n",
    "\n",
    "$$x_{i}= \\frac{b_{i} -\\sum_{j=i+1}^{n}L_{ij}x_{j}}{L_{ii}}$$\n"
   ]
  },
  {
   "cell_type": "markdown",
   "id": "1511010c",
   "metadata": {},
   "source": [
    "6."
   ]
  },
  {
   "cell_type": "code",
   "execution_count": null,
   "id": "ef5bd72e",
   "metadata": {},
   "outputs": [],
   "source": []
  },
  {
   "cell_type": "markdown",
   "id": "6bd5a3e0",
   "metadata": {},
   "source": [
    "7."
   ]
  },
  {
   "cell_type": "code",
   "execution_count": 4,
   "id": "5827503e",
   "metadata": {},
   "outputs": [
    {
     "data": {
      "text/plain": [
       "array([[ 4, -2,  1],\n",
       "       [20, -7, 12],\n",
       "       [-8, 13, 17]])"
      ]
     },
     "execution_count": 4,
     "metadata": {},
     "output_type": "execute_result"
    }
   ],
   "source": [
    "A=np.array([[4,-2,1],[20,-7,12],[-8,13,17]])\n",
    "A"
   ]
  },
  {
   "cell_type": "code",
   "execution_count": 28,
   "id": "8565d2e3",
   "metadata": {},
   "outputs": [
    {
     "data": {
      "text/plain": [
       "array([[1., 0., 0.],\n",
       "       [0., 1., 0.],\n",
       "       [0., 0., 1.]])"
      ]
     },
     "execution_count": 28,
     "metadata": {},
     "output_type": "execute_result"
    }
   ],
   "source": [
    "n = len(A)\n",
    "L = np.eye(n)\n",
    "U = np.copy(A)\n",
    "L"
   ]
  },
  {
   "cell_type": "code",
   "execution_count": 29,
   "id": "34109f04",
   "metadata": {},
   "outputs": [],
   "source": [
    "for j in range(n-1):\n",
    "    for i in range(j+1, n):\n",
    "        valor = U[i, j] / U[j, j]\n",
    "        L[i, j] = valor\n",
    "        U[i, j:] = U[i, j:] - valor * U[j, j:]"
   ]
  },
  {
   "cell_type": "code",
   "execution_count": 30,
   "id": "35496416",
   "metadata": {},
   "outputs": [
    {
     "data": {
      "text/plain": [
       "(array([[ 1.,  0.,  0.],\n",
       "        [ 5.,  1.,  0.],\n",
       "        [-2.,  3.,  1.]]),\n",
       " array([[ 4, -2,  1],\n",
       "        [ 0,  3,  7],\n",
       "        [ 0,  0, -2]]))"
      ]
     },
     "execution_count": 30,
     "metadata": {},
     "output_type": "execute_result"
    }
   ],
   "source": [
    "L,U"
   ]
  },
  {
   "cell_type": "markdown",
   "id": "11b2ae19",
   "metadata": {},
   "source": [
    "9."
   ]
  },
  {
   "cell_type": "markdown",
   "id": "48c8f26c",
   "metadata": {},
   "source": [
    "a)"
   ]
  },
  {
   "cell_type": "code",
   "execution_count": 46,
   "id": "c7dd8245",
   "metadata": {},
   "outputs": [],
   "source": [
    "A=np.array([[4,1,1],[1,3,2],[1,2,5]])\n",
    "b=np.array([1.,3.,7.])"
   ]
  },
  {
   "cell_type": "code",
   "execution_count": 47,
   "id": "85f9ddf4",
   "metadata": {},
   "outputs": [],
   "source": [
    "def Jacobi(A,b,x0, itmax=1000, tolerancia= 1e-9):\n",
    "    \n",
    "    x = x0.copy()\n",
    "    \n",
    "    for it in range(itmax):\n",
    "        \n",
    "        xn = np.zeros_like(x0)\n",
    "        \n",
    "        for i in range(A.shape[0]):\n",
    "            \n",
    "            sum_ = 0.\n",
    "            \n",
    "            for j in range(A.shape[1]):\n",
    "                \n",
    "                if j!=i:\n",
    "                    sum_ += A[i,j]*x[j]\n",
    "                    \n",
    "            xn[i] = (b[i] - sum_)/A[i,i]\n",
    "            \n",
    "        print(it,xn)\n",
    "        \n",
    "        residuo = np.linalg.norm( np.dot(A,xn) - b )\n",
    "        x = xn.copy()\n",
    "        #print(residuo)\n",
    "        \n",
    "        if np.allclose(residuo,tolerancia,atol=tolerancia):\n",
    "            break\n",
    "        \n",
    "    return x\n"
   ]
  },
  {
   "cell_type": "code",
   "execution_count": 48,
   "id": "7d750574",
   "metadata": {},
   "outputs": [
    {
     "name": "stdout",
     "output_type": "stream",
     "text": [
      "0 [0.25 1.   1.4 ]\n",
      "1 [-0.35       -0.01666667  0.95      ]\n",
      "2 [0.01666667 0.48333333 1.47666667]\n",
      "3 [-0.24        0.01        1.20333333]\n",
      "4 [-0.05333333  0.27777778  1.444     ]\n",
      "5 [-0.18044444  0.05511111  1.29955556]\n",
      "6 [-0.08866667  0.19377778  1.41404444]\n",
      "7 [-0.15195556  0.08685926  1.34022222]\n",
      "8 [-0.10677037  0.15717037  1.39564741]\n",
      "9 [-0.13820444  0.10515852  1.35848593]\n",
      "10 [-0.11591111  0.14041086  1.38557748]\n",
      "11 [-0.13149709  0.11491872  1.36701788]\n",
      "12 [-0.12048415  0.13248711  1.38033193]\n",
      "13 [-0.12820476  0.1199401   1.37110199]\n",
      "14 [-0.12276052  0.12866693  1.37766491]\n",
      "15 [-0.12658296  0.1224769   1.37308533]\n",
      "16 [-0.12389056  0.1268041   1.37632583]\n",
      "17 [-0.12578248  0.1237463   1.37405647]\n",
      "18 [-0.12445069  0.12588985  1.37565798]\n",
      "19 [-0.12538696  0.12437825  1.3745342 ]\n",
      "20 [-0.12472811  0.12543952  1.37532609]\n",
      "21 [-0.1251914   0.12469198  1.37476981]\n",
      "22 [-0.12486545  0.12521726  1.37516149]\n",
      "23 [-0.12509469  0.12484749  1.37488619]\n",
      "24 [-0.12493342  0.12510744  1.37507994]\n",
      "25 [-0.12504685  0.12492451  1.37494371]\n",
      "26 [-0.12496706  0.12505314  1.37503956]\n",
      "27 [-0.12502318  0.12496264  1.37497215]\n",
      "28 [-0.1249837   0.12502629  1.37501958]\n",
      "29 [-0.12501147  0.12498151  1.37498622]\n",
      "30 [-0.12499193  0.12501301  1.37500969]\n",
      "31 [-0.12500567  0.12499085  1.37499318]\n",
      "32 [-0.12499601  0.12500643  1.37500479]\n",
      "33 [-0.12500281  0.12499547  1.37499663]\n",
      "34 [-0.12499803  0.12500318  1.37500237]\n",
      "35 [-0.12500139  0.12499776  1.37499833]\n",
      "36 [-0.12499902  0.12500158  1.37500117]\n",
      "37 [-0.12500069  0.12499889  1.37499917]\n",
      "38 [-0.12499952  0.12500078  1.37500058]\n",
      "39 [-0.12500034  0.12499945  1.37499959]\n",
      "40 [-0.12499976  0.12500039  1.37500029]\n",
      "41 [-0.12500017  0.12499973  1.3749998 ]\n",
      "42 [-0.12499988  0.12500019  1.37500014]\n",
      "43 [-0.12500008  0.12499987  1.3749999 ]\n",
      "44 [-0.12499994  0.12500009  1.37500007]\n",
      "45 [-0.12500004  0.12499993  1.37499995]\n",
      "46 [-0.12499997  0.12500005  1.37500003]\n",
      "47 [-0.12500002  0.12499997  1.37499998]\n",
      "48 [-0.12499999  0.12500002  1.37500002]\n",
      "49 [-0.12500001  0.12499998  1.37499999]\n",
      "50 [-0.12499999  0.12500001  1.37500001]\n",
      "51 [-0.125       0.12499999  1.37499999]\n",
      "52 [-0.125       0.12500001  1.375     ]\n",
      "53 [-0.125  0.125  1.375]\n",
      "54 [-0.125  0.125  1.375]\n",
      "55 [-0.125  0.125  1.375]\n",
      "56 [-0.125  0.125  1.375]\n",
      "57 [-0.125  0.125  1.375]\n",
      "58 [-0.125  0.125  1.375]\n",
      "59 [-0.125  0.125  1.375]\n",
      "60 [-0.125  0.125  1.375]\n",
      "61 [-0.125  0.125  1.375]\n",
      "62 [-0.125  0.125  1.375]\n"
     ]
    },
    {
     "data": {
      "text/plain": [
       "array([-0.125,  0.125,  1.375])"
      ]
     },
     "execution_count": 48,
     "metadata": {},
     "output_type": "execute_result"
    }
   ],
   "source": [
    "x0 = np.array([0.,0.,0.])\n",
    "Jacobi(A,b,x0)"
   ]
  },
  {
   "cell_type": "markdown",
   "id": "c6573424",
   "metadata": {},
   "source": [
    "b)"
   ]
  },
  {
   "cell_type": "code",
   "execution_count": 14,
   "id": "bd347a8f",
   "metadata": {},
   "outputs": [
    {
     "data": {
      "text/plain": [
       "(array([6.89510652, 3.39729507, 1.70759841]),\n",
       " array([[ 0.43170413,  0.88573564,  0.17059871],\n",
       "        [ 0.49725362, -0.07589338, -0.86427949],\n",
       "        [ 0.75257583, -0.45794385,  0.47319874]]))"
      ]
     },
     "execution_count": 14,
     "metadata": {},
     "output_type": "execute_result"
    }
   ],
   "source": [
    "resp=np.linalg.eig(A)\n",
    "resp"
   ]
  },
  {
   "cell_type": "code",
   "execution_count": null,
   "id": "4c92f7ee",
   "metadata": {},
   "outputs": [],
   "source": []
  },
  {
   "cell_type": "markdown",
   "id": "be6970d5",
   "metadata": {},
   "source": [
    "10."
   ]
  },
  {
   "cell_type": "code",
   "execution_count": 2,
   "id": "0150b037",
   "metadata": {},
   "outputs": [
    {
     "data": {
      "text/plain": [
       "array([[ 1,  2, -1],\n",
       "       [ 1,  0, -1],\n",
       "       [ 4, -4,  5]])"
      ]
     },
     "execution_count": 2,
     "metadata": {},
     "output_type": "execute_result"
    }
   ],
   "source": [
    "H = np.array([[1, 2, -1], [1,0, -1], [4, -4, 5]])\n",
    "x0 = np.array([1, 1, 1])\n",
    "\n",
    "H"
   ]
  },
  {
   "cell_type": "code",
   "execution_count": 5,
   "id": "975c822f",
   "metadata": {},
   "outputs": [],
   "source": []
  },
  {
   "cell_type": "code",
   "execution_count": 6,
   "id": "c9338436",
   "metadata": {},
   "outputs": [
    {
     "name": "stderr",
     "output_type": "stream",
     "text": [
      "C:\\Users\\lsper\\AppData\\Local\\Temp/ipykernel_1348/2796448148.py:10: RuntimeWarning: divide by zero encountered in double_scalars\n",
      "  newl=new[c]/old[c]\n"
     ]
    },
    {
     "data": {
      "text/plain": [
       "(4.372281323269014, array([ 0.42753829,  0.29335141, -0.85507658]))"
      ]
     },
     "execution_count": 6,
     "metadata": {},
     "output_type": "execute_result"
    }
   ],
   "source": []
  },
  {
   "cell_type": "code",
   "execution_count": null,
   "id": "025cfafc",
   "metadata": {},
   "outputs": [],
   "source": []
  },
  {
   "cell_type": "markdown",
   "id": "c6d90b20",
   "metadata": {},
   "source": [
    "12.\n",
    "\n",
    "a)"
   ]
  },
  {
   "cell_type": "code",
   "execution_count": 19,
   "id": "050086b5",
   "metadata": {},
   "outputs": [],
   "source": [
    "x=sym.Symbol('x',real=True)\n",
    "\n",
    "h=sym.Symbol('h',real=True)\n",
    "\n",
    "X=[-2*h,-1*h,0*h,1*h,2*h]\n",
    "\n",
    "def Lagrange(x,xi,j):\n",
    "    \n",
    "    prod = 1\n",
    "    n = len(xi)\n",
    "    \n",
    "    for i in range(n):\n",
    "        if i != j:\n",
    "            prod *= (x - xi[i])/(xi[j]-xi[i])\n",
    "            \n",
    "    return prod"
   ]
  },
  {
   "cell_type": "code",
   "execution_count": 20,
   "id": "04302211",
   "metadata": {},
   "outputs": [],
   "source": [
    "def GetCoefficients(x,p,X):\n",
    "    coefficients=[]\n",
    "    \n",
    "    for i in range(len(X)):\n",
    "        Li=Lagrange(x,X,i)\n",
    "        \n",
    "        dLi=sym.diff(Li,x,1)\n",
    "        \n",
    "        C=dLi.subs(x,X[p])\n",
    "        \n",
    "        coefficients.append(C)\n",
    "        \n",
    "    return coefficients"
   ]
  },
  {
   "cell_type": "code",
   "execution_count": 21,
   "id": "253044d1",
   "metadata": {},
   "outputs": [
    {
     "data": {
      "text/plain": [
       "[-25/(12*h), 4/h, -3/h, 4/(3*h), -1/(4*h)]"
      ]
     },
     "execution_count": 21,
     "metadata": {},
     "output_type": "execute_result"
    }
   ],
   "source": [
    "coef=GetCoefficients(x,0,X)\n",
    "coef"
   ]
  },
  {
   "cell_type": "code",
   "execution_count": 36,
   "id": "a02eedd7",
   "metadata": {},
   "outputs": [],
   "source": [
    "def GetJacobian_4(G,r,h):\n",
    "    \n",
    "    dim = len(G)\n",
    "    \n",
    "    J = np.zeros((dim,dim))\n",
    "    \n",
    "    for i in range(dim):\n",
    "        J[i,0] = (G[i]( r[0] - 2*h,r[1],r[2]) - 8*G[i]( r[0] - h,r[1],r[2])+8*G[i]( r[0] +h,r[1],r[2]) - G[i]( r[0] + 2*h,r[1],r[2]))/(12*h)\n",
    "        J[i,1] = (G[i]( r[0] ,r[1]-2*h,r[2]) - 8*G[i]( r[0],r[1]-h,r[2])+8*G[i]( r[0] ,r[1]+h,r[2]) - G[i]( r[0],r[1]+2*h,r[2]))/(12*h)\n",
    "        J[i,2] = (G[i]( r[0],r[1],r[2]-2*h) - 8*G[i]( r[0],r[1],r[2]-h)+8*G[i]( r[0],r[1],r[2]+h) - G[i]( r[0],r[1],r[2]+2*h))/(12*h)\n",
    "        \n",
    "    return J.T\n",
    "\n"
   ]
  },
  {
   "cell_type": "markdown",
   "id": "7e02bcb6",
   "metadata": {},
   "source": [
    "b)"
   ]
  },
  {
   "cell_type": "code",
   "execution_count": 37,
   "id": "5ffbd940",
   "metadata": {},
   "outputs": [],
   "source": [
    "G=(lambda x_1,x_2,x_3: 6*x_1 - 2*np.cos(x_2*x_3) - 1., \\\n",
    "    lambda x_1,x_2,x_3: 9*x_2 + (x_1**2 + np.sin(x_3) + 1.06)**(1/2) +0.9, \\\n",
    "    lambda x_1,x_2,x_3: 60*x_3 + 3*np.e**(-x_1*x_2)+10*np.pi -3)"
   ]
  },
  {
   "cell_type": "code",
   "execution_count": 38,
   "id": "783504db",
   "metadata": {},
   "outputs": [
    {
     "data": {
      "text/plain": [
       "array([[ 6.        ,  0.37377753, -1.16820117],\n",
       "       [ 0.24740396,  9.        , -1.16820117],\n",
       "       [ 0.24740396,  0.32802064, 60.        ]])"
      ]
     },
     "execution_count": 38,
     "metadata": {},
     "output_type": "execute_result"
    }
   ],
   "source": [
    "GetJacobian_4(G,(0.5,0.5,0.5),0.01)\n"
   ]
  },
  {
   "cell_type": "markdown",
   "id": "97439d4d",
   "metadata": {},
   "source": [
    "c)"
   ]
  },
  {
   "cell_type": "code",
   "execution_count": 42,
   "id": "17be3f63",
   "metadata": {},
   "outputs": [
    {
     "data": {
      "text/plain": [
       "array([[ 6.        ,  0.37377753, -1.16820117],\n",
       "       [ 0.24740396,  9.        , -1.16820117],\n",
       "       [ 0.24740396,  0.32802064, 60.        ]])"
      ]
     },
     "execution_count": 42,
     "metadata": {},
     "output_type": "execute_result"
    }
   ],
   "source": [
    "def GetJacobian_2(G,r,h):\n",
    "    \n",
    "    dim = len(G)\n",
    "    \n",
    "    J = np.zeros((dim,dim))\n",
    "    \n",
    "    for i in range(dim):\n",
    "        J[i,0] = (G[i]( r[0] + h,r[1],r[2]) - G[i]( r[0] - h,r[1],r[2]))/(2*h)\n",
    "        J[i,1] = (G[i]( r[0] ,r[1]+h,r[2]) - G[i]( r[0],r[1]-h,r[2]))/(2*h)\n",
    "        J[i,2] = (G[i]( r[0],r[1],r[2]+h) - G[i]( r[0],r[1],r[2]-h))/(2*h)\n",
    "        \n",
    "    return J.T\n",
    "\n",
    "GetJacobian_2(G,(0.5,0.5,0.5),0.01)"
   ]
  },
  {
   "cell_type": "markdown",
   "id": "88c64725",
   "metadata": {},
   "source": [
    "Usando $h=0.00001$ se logra igualar en precisión al operador de cuarto orden."
   ]
  },
  {
   "cell_type": "code",
   "execution_count": 44,
   "id": "88406a2a",
   "metadata": {},
   "outputs": [
    {
     "data": {
      "text/plain": [
       "array([[ 6.        ,  0.37377753, -1.16820117],\n",
       "       [ 0.24740396,  9.        , -1.16820117],\n",
       "       [ 0.24740396,  0.32802064, 60.        ]])"
      ]
     },
     "execution_count": 44,
     "metadata": {},
     "output_type": "execute_result"
    }
   ],
   "source": [
    "GetJacobian_2(G,(0.5,0.5,0.5),0.00001)"
   ]
  },
  {
   "cell_type": "markdown",
   "id": "b2ce2802",
   "metadata": {},
   "source": [
    "13."
   ]
  },
  {
   "cell_type": "code",
   "execution_count": 3,
   "id": "65a1821c",
   "metadata": {},
   "outputs": [
    {
     "data": {
      "text/plain": [
       "(Matrix([\n",
       " [0, 0,  0],\n",
       " [0, 0, -1],\n",
       " [0, 1,  0]]),\n",
       " Matrix([\n",
       " [ 0, 0, 1],\n",
       " [ 0, 0, 0],\n",
       " [-1, 0, 0]]),\n",
       " Matrix([\n",
       " [0, -1, 0],\n",
       " [1,  0, 0],\n",
       " [0,  0, 0]]))"
      ]
     },
     "execution_count": 3,
     "metadata": {},
     "output_type": "execute_result"
    }
   ],
   "source": [
    "J_x=sym.matrices.Matrix([[0,0,0],[0,0,-1],[0,1,0]])\n",
    "J_y=sym.matrices.Matrix([[0,0,1],[0,0,0],[-1,0,0]])\n",
    "J_z=sym.matrices.Matrix([[0,-1,0],[1,0,0],[0,0,0]])\n",
    "\n",
    "J_x,J_y,J_z"
   ]
  },
  {
   "cell_type": "markdown",
   "id": "95b51526",
   "metadata": {},
   "source": [
    "Realizando todas las posibles combinaciones para A y B a partir de J_x, J_y, J_z:\n",
    "\n",
    "\n",
    "Para J_x y J_y:"
   ]
  },
  {
   "cell_type": "code",
   "execution_count": 4,
   "id": "8f34711a",
   "metadata": {},
   "outputs": [
    {
     "data": {
      "text/latex": [
       "$\\displaystyle \\left[\\begin{matrix}0 & -1 & 0\\\\1 & 0 & 0\\\\0 & 0 & 0\\end{matrix}\\right]$"
      ],
      "text/plain": [
       "Matrix([\n",
       "[0, -1, 0],\n",
       "[1,  0, 0],\n",
       "[0,  0, 0]])"
      ]
     },
     "execution_count": 4,
     "metadata": {},
     "output_type": "execute_result"
    }
   ],
   "source": [
    "J_x*J_y - J_y*J_x"
   ]
  },
  {
   "cell_type": "markdown",
   "id": "60ec5b56",
   "metadata": {},
   "source": [
    "Se cumple que  $[J_{x},J_{y}]=\\epsilon_{ijk}J_{z}$ ya que $\\epsilon_{xyz}=1$ y \n",
    "$$J_{z}=\\begin{pmatrix}\n",
    "0 & -1 & 0 \\\\\n",
    "1 & 0 & 0 \\\\\n",
    "0 & 0 & 0\n",
    "\\end{pmatrix} $$"
   ]
  },
  {
   "cell_type": "markdown",
   "id": "5b132cf7",
   "metadata": {},
   "source": [
    "Para J_x y J_z:"
   ]
  },
  {
   "cell_type": "code",
   "execution_count": 6,
   "id": "382ed5ac",
   "metadata": {},
   "outputs": [
    {
     "data": {
      "text/latex": [
       "$\\displaystyle \\left[\\begin{matrix}0 & 0 & -1\\\\0 & 0 & 0\\\\1 & 0 & 0\\end{matrix}\\right]$"
      ],
      "text/plain": [
       "Matrix([\n",
       "[0, 0, -1],\n",
       "[0, 0,  0],\n",
       "[1, 0,  0]])"
      ]
     },
     "execution_count": 6,
     "metadata": {},
     "output_type": "execute_result"
    }
   ],
   "source": [
    "J_x*J_z - J_z*J_x"
   ]
  },
  {
   "cell_type": "markdown",
   "id": "9bfab736",
   "metadata": {},
   "source": [
    "Se cumple que  $[J_{x},J_{z}]=\\epsilon_{ijk}J_{y}$ ya que $\\epsilon_{xyz}=-1$ y \n",
    "$$J_{y}=\\begin{pmatrix}\n",
    "0 & 0 & 1 \\\\\n",
    "0 & 0 & 0 \\\\\n",
    "-1 & 0 & 0\n",
    "\\end{pmatrix} $$"
   ]
  },
  {
   "cell_type": "markdown",
   "id": "cfe9cddc",
   "metadata": {},
   "source": [
    "Para J_y y J_x:"
   ]
  },
  {
   "cell_type": "code",
   "execution_count": 7,
   "id": "b5e60d42",
   "metadata": {},
   "outputs": [
    {
     "data": {
      "text/latex": [
       "$\\displaystyle \\left[\\begin{matrix}0 & 1 & 0\\\\-1 & 0 & 0\\\\0 & 0 & 0\\end{matrix}\\right]$"
      ],
      "text/plain": [
       "Matrix([\n",
       "[ 0, 1, 0],\n",
       "[-1, 0, 0],\n",
       "[ 0, 0, 0]])"
      ]
     },
     "execution_count": 7,
     "metadata": {},
     "output_type": "execute_result"
    }
   ],
   "source": [
    "J_y*J_x - J_x*J_y"
   ]
  },
  {
   "cell_type": "markdown",
   "id": "1ffcd115",
   "metadata": {},
   "source": [
    "Se cumple que  $[J_{y},J_{x}]=\\epsilon_{ijk}J_{z}$ ya que $\\epsilon_{xyz}=-1$ y \n",
    "$$J_{z}=\\begin{pmatrix}\n",
    "0 & -1 & 0 \\\\\n",
    "1 & 0 & 0 \\\\\n",
    "0 & 0 & 0\n",
    "\\end{pmatrix} $$"
   ]
  },
  {
   "cell_type": "markdown",
   "id": "a690ca6c",
   "metadata": {},
   "source": [
    "Para J_y y J_z:"
   ]
  },
  {
   "cell_type": "code",
   "execution_count": 8,
   "id": "2e888530",
   "metadata": {},
   "outputs": [
    {
     "data": {
      "text/latex": [
       "$\\displaystyle \\left[\\begin{matrix}0 & 0 & 0\\\\0 & 0 & -1\\\\0 & 1 & 0\\end{matrix}\\right]$"
      ],
      "text/plain": [
       "Matrix([\n",
       "[0, 0,  0],\n",
       "[0, 0, -1],\n",
       "[0, 1,  0]])"
      ]
     },
     "execution_count": 8,
     "metadata": {},
     "output_type": "execute_result"
    }
   ],
   "source": [
    "J_y*J_z - J_z*J_y"
   ]
  },
  {
   "cell_type": "markdown",
   "id": "61e03c8d",
   "metadata": {},
   "source": [
    "Se cumple que  $[J_{y},J_{z}]=\\epsilon_{ijk}J_{x}$ ya que $\\epsilon_{xyz}=1$ y \n",
    "$$J_{x}=\\begin{pmatrix}\n",
    "0 & 0 & 0 \\\\\n",
    "0 & 0 & -1 \\\\\n",
    "0 & 1 & 0\n",
    "\\end{pmatrix} $$"
   ]
  },
  {
   "cell_type": "markdown",
   "id": "742d0298",
   "metadata": {},
   "source": [
    "Para J_z y J_x:"
   ]
  },
  {
   "cell_type": "code",
   "execution_count": 9,
   "id": "9c053c25",
   "metadata": {},
   "outputs": [
    {
     "data": {
      "text/latex": [
       "$\\displaystyle \\left[\\begin{matrix}0 & 0 & 1\\\\0 & 0 & 0\\\\-1 & 0 & 0\\end{matrix}\\right]$"
      ],
      "text/plain": [
       "Matrix([\n",
       "[ 0, 0, 1],\n",
       "[ 0, 0, 0],\n",
       "[-1, 0, 0]])"
      ]
     },
     "execution_count": 9,
     "metadata": {},
     "output_type": "execute_result"
    }
   ],
   "source": [
    "J_z*J_x - J_x*J_z"
   ]
  },
  {
   "cell_type": "markdown",
   "id": "cc66b34c",
   "metadata": {},
   "source": [
    "Se cumple que  $[J_{z},J_{x}]=\\epsilon_{ijk}J_{y}$ ya que $\\epsilon_{xyz}=1$ y \n",
    "$$J_{y}=\\begin{pmatrix}\n",
    "0 & 0 & 1 \\\\\n",
    "0 & 0 & 0 \\\\\n",
    "-1 & 0 & 0\n",
    "\\end{pmatrix} $$"
   ]
  },
  {
   "cell_type": "markdown",
   "id": "d52d4696",
   "metadata": {},
   "source": [
    "Para J_z y J_x:"
   ]
  },
  {
   "cell_type": "code",
   "execution_count": 10,
   "id": "5a2df8de",
   "metadata": {},
   "outputs": [
    {
     "data": {
      "text/latex": [
       "$\\displaystyle \\left[\\begin{matrix}0 & 0 & 0\\\\0 & 0 & 1\\\\0 & -1 & 0\\end{matrix}\\right]$"
      ],
      "text/plain": [
       "Matrix([\n",
       "[0,  0, 0],\n",
       "[0,  0, 1],\n",
       "[0, -1, 0]])"
      ]
     },
     "execution_count": 10,
     "metadata": {},
     "output_type": "execute_result"
    }
   ],
   "source": [
    "J_z*J_y - J_y*J_z"
   ]
  },
  {
   "cell_type": "markdown",
   "id": "e9eb18ba",
   "metadata": {},
   "source": [
    "Se cumple que  $[J_{z},J_{y}]=\\epsilon_{ijk}J_{x}$ ya que $\\epsilon_{xyz}=-1$ y \n",
    "$$J_{x}=\\begin{pmatrix}\n",
    "0 & 0 & 0 \\\\\n",
    "0 & 0 & -1 \\\\\n",
    "0 & 1 & 0\n",
    "\\end{pmatrix} $$"
   ]
  },
  {
   "cell_type": "markdown",
   "id": "c9807265",
   "metadata": {},
   "source": [
    "Para J_x y J_x:"
   ]
  },
  {
   "cell_type": "code",
   "execution_count": 11,
   "id": "b3071809",
   "metadata": {},
   "outputs": [
    {
     "data": {
      "text/latex": [
       "$\\displaystyle \\left[\\begin{matrix}0 & 0 & 0\\\\0 & 0 & 0\\\\0 & 0 & 0\\end{matrix}\\right]$"
      ],
      "text/plain": [
       "Matrix([\n",
       "[0, 0, 0],\n",
       "[0, 0, 0],\n",
       "[0, 0, 0]])"
      ]
     },
     "execution_count": 11,
     "metadata": {},
     "output_type": "execute_result"
    }
   ],
   "source": [
    "J_x*J_x - J_x*J_x"
   ]
  },
  {
   "cell_type": "markdown",
   "id": "dbdbc48b",
   "metadata": {},
   "source": [
    "Se cumple que  $[J_{x},J_{x}]=\\epsilon_{ijk}J_{z}$ ya que $\\epsilon_{xyz}=0$ "
   ]
  },
  {
   "cell_type": "markdown",
   "id": "a59b6497",
   "metadata": {},
   "source": [
    "Para J_y y J_y:"
   ]
  },
  {
   "cell_type": "code",
   "execution_count": 15,
   "id": "4e8d0924",
   "metadata": {},
   "outputs": [
    {
     "data": {
      "text/latex": [
       "$\\displaystyle \\left[\\begin{matrix}0 & 0 & 0\\\\0 & 0 & 0\\\\0 & 0 & 0\\end{matrix}\\right]$"
      ],
      "text/plain": [
       "Matrix([\n",
       "[0, 0, 0],\n",
       "[0, 0, 0],\n",
       "[0, 0, 0]])"
      ]
     },
     "execution_count": 15,
     "metadata": {},
     "output_type": "execute_result"
    }
   ],
   "source": [
    "J_y*J_y - J_y*J_y"
   ]
  },
  {
   "cell_type": "markdown",
   "id": "ae9da5b0",
   "metadata": {},
   "source": [
    "Se cumple que  $[J_{y},J_{y}]=\\epsilon_{ijk}J_{z}$ ya que $\\epsilon_{xyz}=0$ "
   ]
  },
  {
   "cell_type": "markdown",
   "id": "9eb7d022",
   "metadata": {},
   "source": [
    "Para J_z y J_z:"
   ]
  },
  {
   "cell_type": "code",
   "execution_count": 16,
   "id": "7d842262",
   "metadata": {},
   "outputs": [
    {
     "data": {
      "text/latex": [
       "$\\displaystyle \\left[\\begin{matrix}0 & 0 & 0\\\\0 & 0 & 0\\\\0 & 0 & 0\\end{matrix}\\right]$"
      ],
      "text/plain": [
       "Matrix([\n",
       "[0, 0, 0],\n",
       "[0, 0, 0],\n",
       "[0, 0, 0]])"
      ]
     },
     "execution_count": 16,
     "metadata": {},
     "output_type": "execute_result"
    }
   ],
   "source": [
    "J_z*J_z - J_z*J_z"
   ]
  },
  {
   "cell_type": "markdown",
   "id": "a066dc7b",
   "metadata": {},
   "source": [
    "Se cumple que  $[J_{y},J_{y}]=\\epsilon_{ijk}J_{z}$ ya que $\\epsilon_{xyz}=0$ "
   ]
  },
  {
   "cell_type": "markdown",
   "id": "ef3246dd",
   "metadata": {},
   "source": [
    "14."
   ]
  },
  {
   "cell_type": "code",
   "execution_count": 20,
   "id": "1b5f088b",
   "metadata": {},
   "outputs": [
    {
     "data": {
      "text/plain": [
       "(Matrix([\n",
       " [0, 1],\n",
       " [1, 0]]),\n",
       " Matrix([\n",
       " [    0, -1.0*I],\n",
       " [1.0*I,      0]]),\n",
       " Matrix([\n",
       " [1,  0],\n",
       " [0, -1]]))"
      ]
     },
     "execution_count": 20,
     "metadata": {},
     "output_type": "execute_result"
    }
   ],
   "source": [
    "sigma_x = sym.matrices.Matrix([[0,1],[1,0]])\n",
    "sigma_y = sym.matrices.Matrix([[0,-1j],[1j,0]])\n",
    "sigma_z = sym.matrices.Matrix([[1,0],[0,-1]])\n",
    "sigma_x,sigma_y,sigma_z"
   ]
  },
  {
   "cell_type": "markdown",
   "id": "11765f1c",
   "metadata": {},
   "source": [
    "Para $\\sigma_{x}$ y $\\sigma_{y}$"
   ]
  },
  {
   "cell_type": "code",
   "execution_count": 21,
   "id": "738254a8",
   "metadata": {},
   "outputs": [
    {
     "data": {
      "text/latex": [
       "$\\displaystyle \\left[\\begin{matrix}2.0 i & 0\\\\0 & - 2.0 i\\end{matrix}\\right]$"
      ],
      "text/plain": [
       "Matrix([\n",
       "[2.0*I,      0],\n",
       "[    0, -2.0*I]])"
      ]
     },
     "execution_count": 21,
     "metadata": {},
     "output_type": "execute_result"
    }
   ],
   "source": [
    "sigma_x*sigma_y- sigma_y*sigma_x"
   ]
  },
  {
   "cell_type": "markdown",
   "id": "394ea96c",
   "metadata": {},
   "source": [
    "Se cumple que  $[\\sigma_{x},\\sigma_{y}]=2i \\epsilon_{ijk} \\sigma_{z}$ ya que $\\epsilon_{xyz}=1$ y \n",
    "$$\\sigma_{x}=\\begin{pmatrix}\n",
    " 1 & 0 \\\\\n",
    " 0 & -1 \n",
    "\\end{pmatrix} $$"
   ]
  },
  {
   "cell_type": "markdown",
   "id": "e56e5a54",
   "metadata": {},
   "source": [
    "Para $\\sigma_{x}$ y $\\sigma_{z}$"
   ]
  },
  {
   "cell_type": "code",
   "execution_count": 23,
   "id": "0d462103",
   "metadata": {},
   "outputs": [
    {
     "data": {
      "text/latex": [
       "$\\displaystyle \\left[\\begin{matrix}0 & -2\\\\2 & 0\\end{matrix}\\right]$"
      ],
      "text/plain": [
       "Matrix([\n",
       "[0, -2],\n",
       "[2,  0]])"
      ]
     },
     "execution_count": 23,
     "metadata": {},
     "output_type": "execute_result"
    }
   ],
   "source": [
    "sigma_x*sigma_z- sigma_z*sigma_x"
   ]
  },
  {
   "cell_type": "markdown",
   "id": "4e07a84e",
   "metadata": {},
   "source": [
    "Se cumple que  $[\\sigma_{x},\\sigma_{z}]=2i \\epsilon_{ijk} \\sigma_{y}$ ya que $\\epsilon_{xyz}=1$ y \n",
    "$$\\sigma_{y}=\\begin{pmatrix}\n",
    " 0 & -i \\\\\n",
    " i & 0 \n",
    "\\end{pmatrix} $$"
   ]
  },
  {
   "cell_type": "markdown",
   "id": "bfd41172",
   "metadata": {},
   "source": [
    "Para $\\sigma_{y}$ y $\\sigma_{x}$"
   ]
  },
  {
   "cell_type": "code",
   "execution_count": 25,
   "id": "491f41f9",
   "metadata": {},
   "outputs": [
    {
     "data": {
      "text/latex": [
       "$\\displaystyle \\left[\\begin{matrix}- 2.0 i & 0\\\\0 & 2.0 i\\end{matrix}\\right]$"
      ],
      "text/plain": [
       "Matrix([\n",
       "[-2.0*I,     0],\n",
       "[     0, 2.0*I]])"
      ]
     },
     "execution_count": 25,
     "metadata": {},
     "output_type": "execute_result"
    }
   ],
   "source": [
    "sigma_y*sigma_x- sigma_x*sigma_y"
   ]
  },
  {
   "cell_type": "markdown",
   "id": "1795663e",
   "metadata": {},
   "source": [
    "Se cumple que  $[\\sigma_{y},\\sigma_{x}]=2i \\epsilon_{ijk} \\sigma_{z}$ ya que $\\epsilon_{xyz}=-1$ y \n",
    "$$\\sigma_{z}=\\begin{pmatrix}\n",
    " 1 & 0 \\\\\n",
    " 0 & -1 \n",
    "\\end{pmatrix} $$"
   ]
  },
  {
   "cell_type": "markdown",
   "id": "2d8bc234",
   "metadata": {},
   "source": [
    "Para $\\sigma_{y}$ y $\\sigma_{z}$"
   ]
  },
  {
   "cell_type": "code",
   "execution_count": 26,
   "id": "2243cefa",
   "metadata": {},
   "outputs": [
    {
     "data": {
      "text/latex": [
       "$\\displaystyle \\left[\\begin{matrix}0 & 2.0 i\\\\2.0 i & 0\\end{matrix}\\right]$"
      ],
      "text/plain": [
       "Matrix([\n",
       "[    0, 2.0*I],\n",
       "[2.0*I,     0]])"
      ]
     },
     "execution_count": 26,
     "metadata": {},
     "output_type": "execute_result"
    }
   ],
   "source": [
    "sigma_y*sigma_z- sigma_z*sigma_y"
   ]
  },
  {
   "cell_type": "markdown",
   "id": "a09a4fdf",
   "metadata": {},
   "source": [
    "Se cumple que  $[\\sigma_{y},\\sigma_{z}]=2i \\epsilon_{ijk} \\sigma_{x}$ ya que $\\epsilon_{xyz}=1$ y \n",
    "$$\\sigma_{x}=\\begin{pmatrix}\n",
    " 0 & 1 \\\\\n",
    " 1 & 0 \n",
    "\\end{pmatrix} $$"
   ]
  },
  {
   "cell_type": "markdown",
   "id": "18a3a294",
   "metadata": {},
   "source": [
    "Para $\\sigma_{z}$ y $\\sigma_{x}$"
   ]
  },
  {
   "cell_type": "code",
   "execution_count": 28,
   "id": "2de6d6ff",
   "metadata": {},
   "outputs": [
    {
     "data": {
      "text/latex": [
       "$\\displaystyle \\left[\\begin{matrix}0 & 2\\\\-2 & 0\\end{matrix}\\right]$"
      ],
      "text/plain": [
       "Matrix([\n",
       "[ 0, 2],\n",
       "[-2, 0]])"
      ]
     },
     "execution_count": 28,
     "metadata": {},
     "output_type": "execute_result"
    }
   ],
   "source": [
    "sigma_z*sigma_x- sigma_x*sigma_z"
   ]
  },
  {
   "cell_type": "markdown",
   "id": "41cf6f65",
   "metadata": {},
   "source": [
    "Se cumple que  $[\\sigma_{z},\\sigma_{x}]=2i \\epsilon_{ijk} \\sigma_{y}$ ya que $\\epsilon_{xyz}=-1$ y \n",
    "$$\\sigma_{y}=\\begin{pmatrix}\n",
    " 0 & -i \\\\\n",
    " i& 0 \n",
    "\\end{pmatrix} $$"
   ]
  },
  {
   "cell_type": "markdown",
   "id": "da2241d5",
   "metadata": {},
   "source": [
    "Para $\\sigma_{z}$ y $\\sigma_{y}$"
   ]
  },
  {
   "cell_type": "code",
   "execution_count": 30,
   "id": "1caad7b4",
   "metadata": {},
   "outputs": [
    {
     "data": {
      "text/latex": [
       "$\\displaystyle \\left[\\begin{matrix}0 & - 2.0 i\\\\- 2.0 i & 0\\end{matrix}\\right]$"
      ],
      "text/plain": [
       "Matrix([\n",
       "[     0, -2.0*I],\n",
       "[-2.0*I,      0]])"
      ]
     },
     "execution_count": 30,
     "metadata": {},
     "output_type": "execute_result"
    }
   ],
   "source": [
    "sigma_z*sigma_y- sigma_y*sigma_z"
   ]
  },
  {
   "cell_type": "markdown",
   "id": "3e558f60",
   "metadata": {},
   "source": [
    "Se cumple que  $[\\sigma_{z},\\sigma_{y}]=2i \\epsilon_{ijk} \\sigma_{x}$ ya que $\\epsilon_{xyz}=-1$ y \n",
    "$$\\sigma_{x}=\\begin{pmatrix}\n",
    " 0 & 1 \\\\\n",
    " 1& 0 \n",
    "\\end{pmatrix} $$"
   ]
  },
  {
   "cell_type": "markdown",
   "id": "c6686364",
   "metadata": {},
   "source": [
    "Para $\\sigma_{x}$ y $\\sigma_{x}$"
   ]
  },
  {
   "cell_type": "code",
   "execution_count": 32,
   "id": "f112d1dd",
   "metadata": {},
   "outputs": [
    {
     "data": {
      "text/latex": [
       "$\\displaystyle \\left[\\begin{matrix}0 & 0\\\\0 & 0\\end{matrix}\\right]$"
      ],
      "text/plain": [
       "Matrix([\n",
       "[0, 0],\n",
       "[0, 0]])"
      ]
     },
     "execution_count": 32,
     "metadata": {},
     "output_type": "execute_result"
    }
   ],
   "source": [
    "sigma_x*sigma_x- sigma_x*sigma_x"
   ]
  },
  {
   "cell_type": "markdown",
   "id": "b6941ac5",
   "metadata": {},
   "source": [
    "Se cumple que  $[\\sigma_{x},\\sigma_{x}]=2i \\epsilon_{ijk} \\sigma_{z}$ ya que $\\epsilon_{xyz}=0$"
   ]
  },
  {
   "cell_type": "markdown",
   "id": "c456cc79",
   "metadata": {},
   "source": [
    "Para $\\sigma_{y}$ y $\\sigma_{y}$"
   ]
  },
  {
   "cell_type": "code",
   "execution_count": 34,
   "id": "494f5a07",
   "metadata": {},
   "outputs": [
    {
     "data": {
      "text/latex": [
       "$\\displaystyle \\left[\\begin{matrix}0 & 0\\\\0 & 0\\end{matrix}\\right]$"
      ],
      "text/plain": [
       "Matrix([\n",
       "[0, 0],\n",
       "[0, 0]])"
      ]
     },
     "execution_count": 34,
     "metadata": {},
     "output_type": "execute_result"
    }
   ],
   "source": [
    "sigma_y*sigma_y- sigma_y*sigma_y"
   ]
  },
  {
   "cell_type": "markdown",
   "id": "b3ca9fba",
   "metadata": {},
   "source": [
    "Se cumple que  $[\\sigma_{y},\\sigma_{y}]=2i \\epsilon_{ijk} \\sigma_{z}$ ya que $\\epsilon_{xyz}=0$"
   ]
  },
  {
   "cell_type": "markdown",
   "id": "3c4015aa",
   "metadata": {},
   "source": [
    "Para $\\sigma_{z}$ y $\\sigma_{z}$"
   ]
  },
  {
   "cell_type": "code",
   "execution_count": 35,
   "id": "1b7e4ecd",
   "metadata": {},
   "outputs": [
    {
     "data": {
      "text/latex": [
       "$\\displaystyle \\left[\\begin{matrix}0 & 0\\\\0 & 0\\end{matrix}\\right]$"
      ],
      "text/plain": [
       "Matrix([\n",
       "[0, 0],\n",
       "[0, 0]])"
      ]
     },
     "execution_count": 35,
     "metadata": {},
     "output_type": "execute_result"
    }
   ],
   "source": [
    "sigma_z*sigma_z- sigma_z*sigma_z"
   ]
  },
  {
   "cell_type": "markdown",
   "id": "fe569594",
   "metadata": {},
   "source": [
    "Se cumple que  $[\\sigma_{z},\\sigma_{z}]=2i \\epsilon_{ijk} \\sigma_{x}$ ya que $\\epsilon_{xyz}=0$"
   ]
  },
  {
   "cell_type": "code",
   "execution_count": null,
   "id": "e43022e9",
   "metadata": {},
   "outputs": [],
   "source": [
    "15. "
   ]
  },
  {
   "cell_type": "code",
   "execution_count": 38,
   "id": "5530b5cd",
   "metadata": {},
   "outputs": [
    {
     "data": {
      "text/plain": [
       "(Matrix([\n",
       " [1, 0,  0,  0],\n",
       " [0, 1,  0,  0],\n",
       " [0, 0, -1,  0],\n",
       " [0, 0,  0, -1]]),\n",
       " Matrix([\n",
       " [ 0,  0, 0, 1],\n",
       " [ 0,  0, 1, 0],\n",
       " [ 0, -1, 0, 0],\n",
       " [-1,  0, 0, 0]]),\n",
       " Matrix([\n",
       " [     0,     0,     0, -1.0*I],\n",
       " [     0,     0, 1.0*I,      0],\n",
       " [     0, 1.0*I,     0,      0],\n",
       " [-1.0*I,     0,     0,      0]]),\n",
       " Matrix([\n",
       " [ 0, 0, 1,  0],\n",
       " [ 0, 0, 0, -1],\n",
       " [-1, 0, 0,  0],\n",
       " [ 0, 1, 0,  0]]))"
      ]
     },
     "execution_count": 38,
     "metadata": {},
     "output_type": "execute_result"
    }
   ],
   "source": [
    "gamma_0 = sym.matrices.Matrix([[1,0,0,0],[0,1,0,0],[0,0,-1,0],[0,0,0,-1]])\n",
    "gamma_1 = sym.matrices.Matrix([[0,0,0,1],[0,0,1,0],[0,-1,0,0],[-1,0,0,0]])\n",
    "gamma_2 = sym.matrices.Matrix([[0,0,0,-1j],[0,0,1j,0],[0,1j,0,0],[-1j,0,0,0]])\n",
    "gamma_3 = sym.matrices.Matrix([[0,0,1,0],[0,0,0,-1],[-1,0,0,0],[0,1,0,0]])\n",
    "\n",
    "gamma_0, gamma_1,gamma_2,gamma_3"
   ]
  },
  {
   "cell_type": "markdown",
   "id": "d1143337",
   "metadata": {},
   "source": [
    "Para $\\gamma^0$ y $\\gamma^1$"
   ]
  },
  {
   "cell_type": "code",
   "execution_count": 40,
   "id": "bb978e35",
   "metadata": {},
   "outputs": [
    {
     "data": {
      "text/latex": [
       "$\\displaystyle \\left[\\begin{matrix}0 & 0 & 0 & 0\\\\0 & 0 & 0 & 0\\\\0 & 0 & 0 & 0\\\\0 & 0 & 0 & 0\\end{matrix}\\right]$"
      ],
      "text/plain": [
       "Matrix([\n",
       "[0, 0, 0, 0],\n",
       "[0, 0, 0, 0],\n",
       "[0, 0, 0, 0],\n",
       "[0, 0, 0, 0]])"
      ]
     },
     "execution_count": 40,
     "metadata": {},
     "output_type": "execute_result"
    }
   ],
   "source": [
    "gamma_0*gamma_1+gamma_1*gamma_0"
   ]
  },
  {
   "cell_type": "markdown",
   "id": "82113254",
   "metadata": {},
   "source": [
    "Para $\\gamma^0$ y $\\gamma^2$"
   ]
  },
  {
   "cell_type": "code",
   "execution_count": 42,
   "id": "cbdd1af1",
   "metadata": {},
   "outputs": [
    {
     "data": {
      "text/latex": [
       "$\\displaystyle \\left[\\begin{matrix}0 & 0 & 0 & 0\\\\0 & 0 & 0 & 0\\\\0 & 0 & 0 & 0\\\\0 & 0 & 0 & 0\\end{matrix}\\right]$"
      ],
      "text/plain": [
       "Matrix([\n",
       "[0, 0, 0, 0],\n",
       "[0, 0, 0, 0],\n",
       "[0, 0, 0, 0],\n",
       "[0, 0, 0, 0]])"
      ]
     },
     "execution_count": 42,
     "metadata": {},
     "output_type": "execute_result"
    }
   ],
   "source": [
    "gamma_0*gamma_2+gamma_2*gamma_0"
   ]
  },
  {
   "cell_type": "markdown",
   "id": "bc3b5789",
   "metadata": {},
   "source": [
    "Para $\\gamma^0$ y $\\gamma^3$"
   ]
  },
  {
   "cell_type": "code",
   "execution_count": 43,
   "id": "eedeaac9",
   "metadata": {},
   "outputs": [
    {
     "data": {
      "text/latex": [
       "$\\displaystyle \\left[\\begin{matrix}0 & 0 & 0 & 0\\\\0 & 0 & 0 & 0\\\\0 & 0 & 0 & 0\\\\0 & 0 & 0 & 0\\end{matrix}\\right]$"
      ],
      "text/plain": [
       "Matrix([\n",
       "[0, 0, 0, 0],\n",
       "[0, 0, 0, 0],\n",
       "[0, 0, 0, 0],\n",
       "[0, 0, 0, 0]])"
      ]
     },
     "execution_count": 43,
     "metadata": {},
     "output_type": "execute_result"
    }
   ],
   "source": [
    "gamma_0*gamma_3+gamma_3*gamma_0"
   ]
  },
  {
   "cell_type": "markdown",
   "id": "aad628e4",
   "metadata": {},
   "source": [
    "Para $\\gamma^0$ y $\\gamma^3$"
   ]
  },
  {
   "cell_type": "code",
   "execution_count": 46,
   "id": "a30e0fca",
   "metadata": {},
   "outputs": [
    {
     "data": {
      "text/latex": [
       "$\\displaystyle \\left[\\begin{matrix}0 & 0 & 0 & 0\\\\0 & 0 & 0 & 0\\\\0 & 0 & 0 & 0\\\\0 & 0 & 0 & 0\\end{matrix}\\right]$"
      ],
      "text/plain": [
       "Matrix([\n",
       "[0, 0, 0, 0],\n",
       "[0, 0, 0, 0],\n",
       "[0, 0, 0, 0],\n",
       "[0, 0, 0, 0]])"
      ]
     },
     "execution_count": 46,
     "metadata": {},
     "output_type": "execute_result"
    }
   ],
   "source": [
    "gamma_0*gamma_3+gamma_3*gamma_0"
   ]
  },
  {
   "cell_type": "markdown",
   "id": "c840ea79",
   "metadata": {},
   "source": [
    "Para $\\gamma^1$ y $\\gamma^0$"
   ]
  },
  {
   "cell_type": "code",
   "execution_count": 47,
   "id": "127f8a86",
   "metadata": {},
   "outputs": [
    {
     "data": {
      "text/latex": [
       "$\\displaystyle \\left[\\begin{matrix}0 & 0 & 0 & 0\\\\0 & 0 & 0 & 0\\\\0 & 0 & 0 & 0\\\\0 & 0 & 0 & 0\\end{matrix}\\right]$"
      ],
      "text/plain": [
       "Matrix([\n",
       "[0, 0, 0, 0],\n",
       "[0, 0, 0, 0],\n",
       "[0, 0, 0, 0],\n",
       "[0, 0, 0, 0]])"
      ]
     },
     "execution_count": 47,
     "metadata": {},
     "output_type": "execute_result"
    }
   ],
   "source": [
    "gamma_1*gamma_0+gamma_0*gamma_1"
   ]
  },
  {
   "cell_type": "markdown",
   "id": "9cc001b8",
   "metadata": {},
   "source": [
    "Para $\\gamma^1$ y $\\gamma^2$\n"
   ]
  },
  {
   "cell_type": "code",
   "execution_count": 48,
   "id": "101cbf93",
   "metadata": {},
   "outputs": [
    {
     "data": {
      "text/latex": [
       "$\\displaystyle \\left[\\begin{matrix}0 & 0 & 0 & 0\\\\0 & 0 & 0 & 0\\\\0 & 0 & 0 & 0\\\\0 & 0 & 0 & 0\\end{matrix}\\right]$"
      ],
      "text/plain": [
       "Matrix([\n",
       "[0, 0, 0, 0],\n",
       "[0, 0, 0, 0],\n",
       "[0, 0, 0, 0],\n",
       "[0, 0, 0, 0]])"
      ]
     },
     "execution_count": 48,
     "metadata": {},
     "output_type": "execute_result"
    }
   ],
   "source": [
    "gamma_1*gamma_2+gamma_2*gamma_1"
   ]
  },
  {
   "cell_type": "markdown",
   "id": "312025b2",
   "metadata": {},
   "source": [
    "Para $\\gamma^1$ y $\\gamma^3$"
   ]
  },
  {
   "cell_type": "code",
   "execution_count": 50,
   "id": "839944a2",
   "metadata": {},
   "outputs": [
    {
     "data": {
      "text/latex": [
       "$\\displaystyle \\left[\\begin{matrix}0 & 0 & 0 & 0\\\\0 & 0 & 0 & 0\\\\0 & 0 & 0 & 0\\\\0 & 0 & 0 & 0\\end{matrix}\\right]$"
      ],
      "text/plain": [
       "Matrix([\n",
       "[0, 0, 0, 0],\n",
       "[0, 0, 0, 0],\n",
       "[0, 0, 0, 0],\n",
       "[0, 0, 0, 0]])"
      ]
     },
     "execution_count": 50,
     "metadata": {},
     "output_type": "execute_result"
    }
   ],
   "source": [
    "gamma_1*gamma_3+gamma_3*gamma_1"
   ]
  },
  {
   "cell_type": "markdown",
   "id": "2dad5568",
   "metadata": {},
   "source": [
    "Para $\\gamma^2$ y $\\gamma^0$"
   ]
  },
  {
   "cell_type": "code",
   "execution_count": 51,
   "id": "266597d3",
   "metadata": {},
   "outputs": [
    {
     "data": {
      "text/latex": [
       "$\\displaystyle \\left[\\begin{matrix}0 & 0 & 0 & 0\\\\0 & 0 & 0 & 0\\\\0 & 0 & 0 & 0\\\\0 & 0 & 0 & 0\\end{matrix}\\right]$"
      ],
      "text/plain": [
       "Matrix([\n",
       "[0, 0, 0, 0],\n",
       "[0, 0, 0, 0],\n",
       "[0, 0, 0, 0],\n",
       "[0, 0, 0, 0]])"
      ]
     },
     "execution_count": 51,
     "metadata": {},
     "output_type": "execute_result"
    }
   ],
   "source": [
    "gamma_2*gamma_0+gamma_0*gamma_2"
   ]
  },
  {
   "cell_type": "markdown",
   "id": "898b7967",
   "metadata": {},
   "source": [
    "Para $\\gamma^2$ y $\\gamma^1$"
   ]
  },
  {
   "cell_type": "code",
   "execution_count": 53,
   "id": "31e51157",
   "metadata": {},
   "outputs": [
    {
     "data": {
      "text/latex": [
       "$\\displaystyle \\left[\\begin{matrix}0 & 0 & 0 & 0\\\\0 & 0 & 0 & 0\\\\0 & 0 & 0 & 0\\\\0 & 0 & 0 & 0\\end{matrix}\\right]$"
      ],
      "text/plain": [
       "Matrix([\n",
       "[0, 0, 0, 0],\n",
       "[0, 0, 0, 0],\n",
       "[0, 0, 0, 0],\n",
       "[0, 0, 0, 0]])"
      ]
     },
     "execution_count": 53,
     "metadata": {},
     "output_type": "execute_result"
    }
   ],
   "source": [
    "gamma_2*gamma_1+gamma_1*gamma_2"
   ]
  },
  {
   "cell_type": "markdown",
   "id": "16524f23",
   "metadata": {},
   "source": [
    "Para $\\gamma^2$ y $\\gamma^3$"
   ]
  },
  {
   "cell_type": "code",
   "execution_count": 55,
   "id": "cedb52f8",
   "metadata": {},
   "outputs": [
    {
     "data": {
      "text/latex": [
       "$\\displaystyle \\left[\\begin{matrix}0 & 0 & 0 & 0\\\\0 & 0 & 0 & 0\\\\0 & 0 & 0 & 0\\\\0 & 0 & 0 & 0\\end{matrix}\\right]$"
      ],
      "text/plain": [
       "Matrix([\n",
       "[0, 0, 0, 0],\n",
       "[0, 0, 0, 0],\n",
       "[0, 0, 0, 0],\n",
       "[0, 0, 0, 0]])"
      ]
     },
     "execution_count": 55,
     "metadata": {},
     "output_type": "execute_result"
    }
   ],
   "source": [
    "gamma_2*gamma_3+gamma_3*gamma_2\n"
   ]
  },
  {
   "cell_type": "markdown",
   "id": "1218cd2c",
   "metadata": {},
   "source": [
    "Para $\\gamma^3$ y $\\gamma^0$"
   ]
  },
  {
   "cell_type": "code",
   "execution_count": 57,
   "id": "05b13907",
   "metadata": {},
   "outputs": [
    {
     "data": {
      "text/latex": [
       "$\\displaystyle \\left[\\begin{matrix}0 & 0 & 0 & 0\\\\0 & 0 & 0 & 0\\\\0 & 0 & 0 & 0\\\\0 & 0 & 0 & 0\\end{matrix}\\right]$"
      ],
      "text/plain": [
       "Matrix([\n",
       "[0, 0, 0, 0],\n",
       "[0, 0, 0, 0],\n",
       "[0, 0, 0, 0],\n",
       "[0, 0, 0, 0]])"
      ]
     },
     "execution_count": 57,
     "metadata": {},
     "output_type": "execute_result"
    }
   ],
   "source": [
    "gamma_3*gamma_0+gamma_0*gamma_3"
   ]
  },
  {
   "cell_type": "markdown",
   "id": "871bbd29",
   "metadata": {},
   "source": [
    "Para $\\gamma^3$ y $\\gamma^1$"
   ]
  },
  {
   "cell_type": "code",
   "execution_count": 59,
   "id": "d2c04ba4",
   "metadata": {},
   "outputs": [
    {
     "data": {
      "text/latex": [
       "$\\displaystyle \\left[\\begin{matrix}0 & 0 & 0 & 0\\\\0 & 0 & 0 & 0\\\\0 & 0 & 0 & 0\\\\0 & 0 & 0 & 0\\end{matrix}\\right]$"
      ],
      "text/plain": [
       "Matrix([\n",
       "[0, 0, 0, 0],\n",
       "[0, 0, 0, 0],\n",
       "[0, 0, 0, 0],\n",
       "[0, 0, 0, 0]])"
      ]
     },
     "execution_count": 59,
     "metadata": {},
     "output_type": "execute_result"
    }
   ],
   "source": [
    "gamma_3*gamma_1+gamma_1*gamma_3"
   ]
  },
  {
   "cell_type": "markdown",
   "id": "799978ef",
   "metadata": {},
   "source": [
    "Para $\\gamma^3$ y $\\gamma^2$"
   ]
  },
  {
   "cell_type": "code",
   "execution_count": 61,
   "id": "c1006a78",
   "metadata": {},
   "outputs": [
    {
     "data": {
      "text/latex": [
       "$\\displaystyle \\left[\\begin{matrix}0 & 0 & 0 & 0\\\\0 & 0 & 0 & 0\\\\0 & 0 & 0 & 0\\\\0 & 0 & 0 & 0\\end{matrix}\\right]$"
      ],
      "text/plain": [
       "Matrix([\n",
       "[0, 0, 0, 0],\n",
       "[0, 0, 0, 0],\n",
       "[0, 0, 0, 0],\n",
       "[0, 0, 0, 0]])"
      ]
     },
     "execution_count": 61,
     "metadata": {},
     "output_type": "execute_result"
    }
   ],
   "source": [
    "gamma_3*gamma_2+gamma_2*gamma_3"
   ]
  },
  {
   "cell_type": "markdown",
   "id": "9a4496e9",
   "metadata": {},
   "source": [
    "Para todos las relaciones don $i\\neq$j se cumple que  $[\\gamma^\\mu,\\gamma^\\nu]=2\\eta^{\\mu \\nu}I_{4x4} $ ya que $$\\eta^{\\mu \\nu}=\\begin{pmatrix}\n",
    " 1 & 0 & 0 & 0 \\\\\n",
    " 0 & -1 & 0 & 0\\\\\n",
    " 0 & 0 & -1 & 0\\\\\n",
    " 0 & 0 & 0 & -1\n",
    "\\end{pmatrix} $$\n",
    "y $$ I_{4x4}=\\begin{pmatrix}\n",
    " 1 & 0 & 0 & 0 \\\\\n",
    " 0 & 1 & 0 & 0\\\\\n",
    " 0 & 0 & 1 & 0\\\\\n",
    " 0 & 0 & 0 & 1\n",
    "\\end{pmatrix} $$\n",
    "\n",
    "Obteniendo \n",
    "\n",
    "$$\\begin{pmatrix}\n",
    " 0 & 0 & 0 & 0 \\\\\n",
    " 0 & 0 & 0 & 0\\\\\n",
    " 0 & 0 & 0 & 0\\\\\n",
    " 0 & 0 & 0 & 0\n",
    "\\end{pmatrix} $$"
   ]
  },
  {
   "cell_type": "markdown",
   "id": "bc735ce0",
   "metadata": {},
   "source": [
    "Para $\\gamma^0$ y $\\gamma^0$"
   ]
  },
  {
   "cell_type": "code",
   "execution_count": 63,
   "id": "24cd1936",
   "metadata": {},
   "outputs": [
    {
     "data": {
      "text/latex": [
       "$\\displaystyle \\left[\\begin{matrix}2 & 0 & 0 & 0\\\\0 & 2 & 0 & 0\\\\0 & 0 & 2 & 0\\\\0 & 0 & 0 & 2\\end{matrix}\\right]$"
      ],
      "text/plain": [
       "Matrix([\n",
       "[2, 0, 0, 0],\n",
       "[0, 2, 0, 0],\n",
       "[0, 0, 2, 0],\n",
       "[0, 0, 0, 2]])"
      ]
     },
     "execution_count": 63,
     "metadata": {},
     "output_type": "execute_result"
    }
   ],
   "source": [
    "gamma_0*gamma_0+gamma_0*gamma_0"
   ]
  },
  {
   "cell_type": "code",
   "execution_count": null,
   "id": "44ae10b1",
   "metadata": {},
   "outputs": [],
   "source": []
  },
  {
   "cell_type": "markdown",
   "id": "0d012d88",
   "metadata": {},
   "source": [
    "Para $\\gamma^1$ y $\\gamma^1$"
   ]
  },
  {
   "cell_type": "code",
   "execution_count": 65,
   "id": "970c83f6",
   "metadata": {},
   "outputs": [
    {
     "data": {
      "text/latex": [
       "$\\displaystyle \\left[\\begin{matrix}-2 & 0 & 0 & 0\\\\0 & -2 & 0 & 0\\\\0 & 0 & -2 & 0\\\\0 & 0 & 0 & -2\\end{matrix}\\right]$"
      ],
      "text/plain": [
       "Matrix([\n",
       "[-2,  0,  0,  0],\n",
       "[ 0, -2,  0,  0],\n",
       "[ 0,  0, -2,  0],\n",
       "[ 0,  0,  0, -2]])"
      ]
     },
     "execution_count": 65,
     "metadata": {},
     "output_type": "execute_result"
    }
   ],
   "source": [
    "gamma_1*gamma_1+gamma_1*gamma_1"
   ]
  },
  {
   "cell_type": "code",
   "execution_count": null,
   "id": "50ae8300",
   "metadata": {},
   "outputs": [],
   "source": []
  },
  {
   "cell_type": "markdown",
   "id": "baec125d",
   "metadata": {},
   "source": [
    "Para $\\gamma^2$ y $\\gamma^2$"
   ]
  },
  {
   "cell_type": "code",
   "execution_count": 67,
   "id": "28adf776",
   "metadata": {},
   "outputs": [
    {
     "data": {
      "text/latex": [
       "$\\displaystyle \\left[\\begin{matrix}-2.0 & 0 & 0 & 0\\\\0 & -2.0 & 0 & 0\\\\0 & 0 & -2.0 & 0\\\\0 & 0 & 0 & -2.0\\end{matrix}\\right]$"
      ],
      "text/plain": [
       "Matrix([\n",
       "[-2.0,    0,    0,    0],\n",
       "[   0, -2.0,    0,    0],\n",
       "[   0,    0, -2.0,    0],\n",
       "[   0,    0,    0, -2.0]])"
      ]
     },
     "execution_count": 67,
     "metadata": {},
     "output_type": "execute_result"
    }
   ],
   "source": [
    "gamma_2*gamma_2+gamma_2*gamma_2"
   ]
  },
  {
   "cell_type": "code",
   "execution_count": null,
   "id": "77d80f28",
   "metadata": {},
   "outputs": [],
   "source": []
  },
  {
   "cell_type": "markdown",
   "id": "4b021661",
   "metadata": {},
   "source": [
    "Para $\\gamma^3$ y $\\gamma^3$"
   ]
  },
  {
   "cell_type": "code",
   "execution_count": 69,
   "id": "ae80341a",
   "metadata": {},
   "outputs": [
    {
     "data": {
      "text/latex": [
       "$\\displaystyle \\left[\\begin{matrix}-2 & 0 & 0 & 0\\\\0 & -2 & 0 & 0\\\\0 & 0 & -2 & 0\\\\0 & 0 & 0 & -2\\end{matrix}\\right]$"
      ],
      "text/plain": [
       "Matrix([\n",
       "[-2,  0,  0,  0],\n",
       "[ 0, -2,  0,  0],\n",
       "[ 0,  0, -2,  0],\n",
       "[ 0,  0,  0, -2]])"
      ]
     },
     "execution_count": 69,
     "metadata": {},
     "output_type": "execute_result"
    }
   ],
   "source": [
    "gamma_3*gamma_3+gamma_3*gamma_3\n"
   ]
  },
  {
   "cell_type": "code",
   "execution_count": null,
   "id": "1467310c",
   "metadata": {},
   "outputs": [],
   "source": []
  },
  {
   "cell_type": "markdown",
   "id": "5e3fa127",
   "metadata": {},
   "source": [
    "Mínimos Cuadrados\n",
    "\n",
    "1."
   ]
  },
  {
   "cell_type": "code",
   "execution_count": 42,
   "id": "31ab27e3",
   "metadata": {},
   "outputs": [],
   "source": [
    "linea1=np.array([2,-2])\n",
    "linea2=np.array([-1/2,1/2])\n",
    "linea3=np.array([-1,4])\n",
    "\n",
    "def find_common_point(l1, l2, l3):\n",
    "    A = np.array([\n",
    "        [l1[0], -1],\n",
    "        [l2[0], -1],\n",
    "        [l3[0], -1]\n",
    "    ])\n",
    "    b = np.array([\n",
    "        -l1[1],\n",
    "        -l2[1],\n",
    "        -l3[1]\n",
    "    ])\n",
    "    x = np.linalg.lstsq(A, b, rcond=None)[0]\n",
    "    return x\n",
    "\n",
    "common_point = find_common_point(linea1, linea2, linea3)\n",
    "\n",
    "\n"
   ]
  },
  {
   "cell_type": "code",
   "execution_count": 43,
   "id": "9cfdcc31",
   "metadata": {},
   "outputs": [
    {
     "data": {
      "text/plain": [
       "<matplotlib.collections.PathCollection at 0x18341211460>"
      ]
     },
     "execution_count": 43,
     "metadata": {},
     "output_type": "execute_result"
    },
    {
     "data": {
      "image/png": "[encoded data removed]",
      "text/plain": [
       "<Figure size 432x288 with 1 Axes>"
      ]
     },
     "metadata": {
      "needs_background": "light"
     },
     "output_type": "display_data"
    }
   ],
   "source": [
    "x=np.linspace(-5,5,100000)\n",
    "l1= (lambda x: 2*x  -2)\n",
    "l2= (lambda x: (1-x)/2)\n",
    "l3= (lambda x: 4-x)\n",
    "plt.plot(x,l1(x), color='green')\n",
    "plt.plot(x,l2(x),color='purple')\n",
    "plt.plot(x,l3(x), color='blue')\n",
    "plt.scatter(common_point[0],common_point[1], color='red')"
   ]
  },
  {
   "cell_type": "markdown",
   "id": "a5e76f6f",
   "metadata": {},
   "source": [
    "b)"
   ]
  },
  {
   "cell_type": "code",
   "execution_count": 45,
   "id": "31a9ff93",
   "metadata": {},
   "outputs": [
    {
     "data": {
      "text/plain": [
       "0.9486832980508713"
      ]
     },
     "execution_count": 45,
     "metadata": {},
     "output_type": "execute_result"
    }
   ],
   "source": [
    "def distancia_punto_recta(x, y, L):\n",
    "    return abs(y - L(x)) / np.sqrt(1 + L(x)**2)\n",
    "\n",
    "\n",
    "min_distancia = np.inf  \n",
    "for x in np.arange(-5, 5, 0.01):\n",
    "    for y in np.arange(-5, 5, 0.01):\n",
    "        distancia_total = distancia_punto_recta(x, y, l1) + distancia_punto_recta(x, y, l2) + distancia_punto_recta(x, y, l3)\n",
    "        if distancia_total < min_distancia:\n",
    "            min_distancia = distancia_total\n",
    "            \n",
    "min_distancia\n",
    "\n"
   ]
  },
  {
   "cell_type": "markdown",
   "id": "9501d1f3",
   "metadata": {},
   "source": [
    "6."
   ]
  },
  {
   "cell_type": "code",
   "execution_count": null,
   "id": "283940b3",
   "metadata": {},
   "outputs": [],
   "source": []
  },
  {
   "cell_type": "markdown",
   "id": "e377c9ba",
   "metadata": {},
   "source": [
    "7."
   ]
  },
  {
   "cell_type": "code",
   "execution_count": 9,
   "id": "1e60b228",
   "metadata": {},
   "outputs": [],
   "source": [
    "def cargar(nombre:str)->tuple:\n",
    "    archivo=open(nombre,mode='r',encoding=(\"utf8\"))\n",
    "    llaves=archivo.readline().strip()\n",
    "    linea=archivo.readline().strip()\n",
    "    y=[]\n",
    "    x=[]\n",
    "    \n",
    "    while len(linea)>0:\n",
    "        datos=linea.split(\",\")\n",
    "        datos[0]\n",
    "        x.append(float(datos[0]))\n",
    "        y.append(float(datos[1]))\n",
    "          \n",
    "        linea=archivo.readline()\n",
    "        \n",
    "    archivo.close()\n",
    "\n",
    "    return  (x,y)"
   ]
  },
  {
   "cell_type": "code",
   "execution_count": 10,
   "id": "9e374c54",
   "metadata": {},
   "outputs": [
    {
     "data": {
      "text/plain": [
       "([-3.186022468972758,\n",
       "  0.39273722234676356,\n",
       "  -4.817696445929749,\n",
       "  -1.577942264153112,\n",
       "  -8.935572747258735,\n",
       "  -0.5927577309913801,\n",
       "  4.9343346566614485,\n",
       "  -7.722023693571794,\n",
       "  5.6164017989654305,\n",
       "  -5.407019380691105,\n",
       "  1.6010666074328483,\n",
       "  -5.550963838205454,\n",
       "  -3.583489431933435,\n",
       "  -5.223765698375125,\n",
       "  0.2530549839771208,\n",
       "  -8.073227346316303,\n",
       "  6.562835907500471,\n",
       "  4.957488458371177,\n",
       "  -6.7390696465411875,\n",
       "  6.789947890951858,\n",
       "  -4.683476596016747,\n",
       "  7.88283532831176,\n",
       "  -4.672544507796315,\n",
       "  -6.398047843964008,\n",
       "  -3.3473063503127882,\n",
       "  -9.373002627080403,\n",
       "  -4.784001545072158,\n",
       "  -3.6363273533619855,\n",
       "  -5.255304982005235,\n",
       "  -8.450866286890864,\n",
       "  -4.638200560037369,\n",
       "  -6.095493307446695,\n",
       "  9.448116809903595,\n",
       "  -1.8162081771851373,\n",
       "  8.931352481030924,\n",
       "  -6.427342568283856,\n",
       "  9.639363155234108,\n",
       "  1.1575990366978335,\n",
       "  -2.373627327332242,\n",
       "  9.033972582049827,\n",
       "  -6.856652909390045,\n",
       "  3.017532469654885,\n",
       "  -8.081022121113808,\n",
       "  -5.929525291074233,\n",
       "  -2.9889102346777214,\n",
       "  6.731394306253705,\n",
       "  -4.803568936905034,\n",
       "  6.893556664475142,\n",
       "  -0.08994616359306384,\n",
       "  -3.067276170502719],\n",
       " [-0.12648965031212253,\n",
       "  3.3963178012350204,\n",
       "  -0.03239079184004501,\n",
       "  0.06978343707055529,\n",
       "  0.017409301229711405,\n",
       "  0.7271370497784083,\n",
       "  4.475376836896633,\n",
       "  0.024865171808002722,\n",
       "  4.506522215281088,\n",
       "  0.011715955817819928,\n",
       "  4.511663487981004,\n",
       "  -0.036122576378682644,\n",
       "  -0.06970887160928085,\n",
       "  0.003031694197168501,\n",
       "  2.9435340657223343,\n",
       "  -0.009958534326367873,\n",
       "  4.4220804514630885,\n",
       "  4.471752831838561,\n",
       "  0.02890131719578711,\n",
       "  4.578816560809626,\n",
       "  -0.010249866283084972,\n",
       "  4.514181221100847,\n",
       "  -0.08474457362115824,\n",
       "  -0.018366535235155208,\n",
       "  -0.0984933880573796,\n",
       "  -0.04911647781844448,\n",
       "  0.013132656670115476,\n",
       "  0.03644642718049955,\n",
       "  -0.030478944446157355,\n",
       "  0.05599329875635327,\n",
       "  0.01969959672416456,\n",
       "  -0.0498142501173637,\n",
       "  4.5288654786424045,\n",
       "  0.015519272003495503,\n",
       "  4.5479742164508155,\n",
       "  0.026792007160049456,\n",
       "  4.439721492625896,\n",
       "  4.342836476880444,\n",
       "  -0.015372796121192769,\n",
       "  4.546409689856046,\n",
       "  -0.006107026011818036,\n",
       "  4.495061124976878,\n",
       "  0.0011553378332639246,\n",
       "  -0.04398057083484554,\n",
       "  0.043201422741908184,\n",
       "  4.54228651580041,\n",
       "  -0.10806162419487002,\n",
       "  4.5412069334503595,\n",
       "  1.9524777352313862,\n",
       "  -0.04031230250906812])"
      ]
     },
     "execution_count": 10,
     "metadata": {},
     "output_type": "execute_result"
    }
   ],
   "source": [
    "X,Y=cargar('Sigmoid.txt')\n",
    "X,Y"
   ]
  },
  {
   "cell_type": "code",
   "execution_count": null,
   "id": "42913773",
   "metadata": {},
   "outputs": [],
   "source": []
  }
 ],
 "metadata": {
  "kernelspec": {
   "display_name": "Python 3 (ipykernel)",
   "language": "python",
   "name": "python3"
  },
  "language_info": {
   "codemirror_mode": {
    "name": "ipython",
    "version": 3
   },
   "file_extension": ".py",
   "mimetype": "text/x-python",
   "name": "python",
   "nbconvert_exporter": "python",
   "pygments_lexer": "ipython3",
   "version": "3.9.7"
  }
 },
 "nbformat": 4,
 "nbformat_minor": 5
}
