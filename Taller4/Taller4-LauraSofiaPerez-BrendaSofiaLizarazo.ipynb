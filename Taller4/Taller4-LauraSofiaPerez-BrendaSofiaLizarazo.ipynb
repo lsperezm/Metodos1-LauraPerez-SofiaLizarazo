{
 "cells": [
  {
   "cell_type": "code",
   "execution_count": 11,
   "id": "2768f2d4",
   "metadata": {},
   "outputs": [],
   "source": [
    "import numpy as np\n",
    "import matplotlib.pyplot as plt\n",
    "import sympy as sym\n",
    "from scipy.stats import norm\n",
    "from scipy.stats import cauchy"
   ]
  },
  {
   "cell_type": "markdown",
   "id": "328c9d37",
   "metadata": {},
   "source": [
    "# Técnicas De Conteo"
   ]
  },
  {
   "cell_type": "markdown",
   "id": "d80e1db5",
   "metadata": {},
   "source": [
    "20"
   ]
  },
  {
   "cell_type": "markdown",
   "id": "f4ead22a",
   "metadata": {},
   "source": [
    "Demostración por inducción:\n",
    "\n",
    "Dada la fórmula de combinatoria con repetición para $n$ elementos:\n",
    "\n",
    "$$\n",
    "C_{r}^{n}=\\binom{n+r-1}{r}=\\frac {(n+r-1)!}{r!(n-1)!}\n",
    "$$\n",
    "\n",
    "1) Caso Base:\n",
    "\n",
    "Para n=1 y r=0 se tiene:\n",
    "\n",
    "$$\n",
    "C_{0}^{1}=\\binom{1+0-1}{0}=\\frac{(1+0-1)!}{0!(1-1)!}\n",
    "=\\frac{0!}{0!0!}=\\frac{1}{1}=1\n",
    "$$\n",
    "\n",
    "\n",
    "2) Paso Inductivo:\n",
    "\n",
    "Para verificar $C_{r}^{n+1}$ necesitamos comprobar que:\n",
    "\n",
    "$$\n",
    "C_{r}^{n+1}=\\binom{n+1+r-1}{r}=\\binom{n+r}{r}=\\frac{(n+r)!}{r!n!}\n",
    "$$\n",
    "\n",
    "De modo que se tiene:\n",
    "\n",
    "$$\n",
    "\\begin{equation} \\label{eq1}\n",
    "\\begin{split}\n",
    "C_{r}^{n+1}&=\\binom{n+1+r-1}{r}\\\\\n",
    "&= \\binom{n+r-1}{r-1} + \\binom{n+r-1}{r}\\\\\n",
    "&= \\frac {(n+r-1)!}{(r-1)!(n+r-1-r+1)!} + \\frac{(n+r-1)!}{r!(n+r-1-r)!}\\\\\n",
    "&=\\frac{r(n+r-1)!}{r!n!} + \\frac{(n+r-1)!}{r!(n-1)!}\\\\\n",
    "&=\\frac{r(n+r-1)!}{r!n!}+\\frac{n(n+r-1)!}{r!n!}\\\\\n",
    "&=\\frac{r(n+r-1)! + n(n+r-1)!}{r!n!}\\\\\n",
    "&=\\frac{(n+r-1)!(r+n)}{r!n!}\\\\\n",
    "&=\\frac{(n+r)!}{r!n!}\\\\\n",
    "\\end{split}\n",
    "\\end{equation}\n",
    "$$ \n",
    "\n",
    "Entonces $C_{r}^{n+1}$ es verdadera siempre que $C_{r}^{n}$. De forma que por el principio de inducción, $C_{r}^{n}=\\binom{n+r-1}{r}=\\frac {(n+r-1)!}{r!(n-1)!}$ es verdadera."
   ]
  },
  {
   "cell_type": "markdown",
   "id": "69f38e02",
   "metadata": {},
   "source": [
    "22 "
   ]
  },
  {
   "cell_type": "markdown",
   "id": "461fa657",
   "metadata": {},
   "source": [
    "Teórico:\n",
    "\n",
    "Teniendo en cuenta que se busca realizar la suma de 3 enteros que de 10, entonces se pueden sumar numeros que esten en el rango [0,10] Se realiza una combinación con repetición, dada por la siguiente fórmula:\n",
    "\n",
    "$$\n",
    "C_{r}^{n} = \\binom{n+r-1}{r}\n",
    "$$\n",
    "\n",
    "Siendo $r$ la cantidad de particiones entre los números que podemos elegir (al tener 3 enteros, hay 2 particiones entre ellos) y $n$ la cantidad de números de los que se pueden elegir (en este caso 11). De modo que se tiene:\n",
    "\n",
    "$$\n",
    "C_{2}^{11} = \\binom{11+2-1}{2} = \\binom{12}{2}\\\\\n",
    "= \\frac{12!}{2! (11-1)!}= \\frac{479001600}{2(3628800)}=\\frac{479001600}{7257600}=66\n",
    "$$\n"
   ]
  },
  {
   "cell_type": "markdown",
   "id": "3c88316e",
   "metadata": {},
   "source": [
    "Computacional:"
   ]
  },
  {
   "cell_type": "code",
   "execution_count": 2,
   "id": "c2a84346",
   "metadata": {},
   "outputs": [
    {
     "data": {
      "text/plain": [
       "66"
      ]
     },
     "execution_count": 2,
     "metadata": {},
     "output_type": "execute_result"
    }
   ],
   "source": [
    "num=np.array([0,1,2,3,4,5,6,7,8,9,10])\n",
    "count=0\n",
    "\n",
    "for i in range(len(num)):\n",
    "    for j in range(len(num)):\n",
    "        for k in range(len(num)):\n",
    "            suma=i+j+k\n",
    "            if suma==10:\n",
    "                count+=1\n",
    "                \n",
    "count"
   ]
  },
  {
   "cell_type": "markdown",
   "id": "c81ce16b",
   "metadata": {},
   "source": [
    "23"
   ]
  },
  {
   "cell_type": "markdown",
   "id": "d577653f",
   "metadata": {},
   "source": [
    "Teniendo 9 llaves (3 rojas, 3 verdes y 3 azules), para sacar 4 al azar tenemos las siguientes posibles configuraciones:\n",
    "\n",
    "$$\n",
    "\\begin{equation}\n",
    "\\begin{matrix}\n",
    "1- RRRV \\\\     \n",
    "2- RRRA\\\\\n",
    "3- VVVA\\\\\n",
    "4- VVVR\\\\\n",
    "5- AAAR\\\\\n",
    "6- AAAV\n",
    "\\end{matrix}\n",
    "\\begin {matrix}\n",
    "|\\\\\n",
    "|\\\\\n",
    "|\\\\\n",
    "|\\\\\n",
    "|\\\\\n",
    "|\n",
    "\\end {matrix}\n",
    "\\begin{matrix}\n",
    " 7- RRVV \\\\     \n",
    " 8- RRAA\\\\\n",
    " 9- RRAV\\\\\n",
    " 10- VVAA\\\\\n",
    " 11- VVAR\\\\\n",
    " 12- AARV\n",
    "\\end{matrix}\n",
    "\\end{equation}\n",
    "$$\n",
    "\n",
    "Sabiendo esto, podemos identificar que hay tres  formas de elegirlas 4 llaves dadas por las siguientes operaciones:\n",
    "\n",
    "1. Tres del mismo color y una de alguno de los dos coleres restantes:\n",
    "\n",
    "$$\n",
    "3*2=6\n",
    "$$\n",
    "Donde el $3$ implica la cantidad de opciones de las que se pueden elegir el color de las tres llaves y el $2$ la cantidad de opciones para elegir la del color distinto. \n",
    "\n",
    "2. Dos del mismo color con dos de otro color:\n",
    "\n",
    "$$\n",
    "\\frac{3*2}{2}=3\n",
    "$$\n",
    "Donde el $3$ implica la cantidad de opciones de las que se puede elegir el color de las primeras dos llaves del mismo color y el $2$ por el que se multiplica se refiere a la cantidad de opciones para elegir el color de las otraas dos llaves. Esto se divide entre $2$ ya que tener, por ejemplo: $RRAA$ es lo mismo que tener $AARR$.\n",
    "\n",
    "3. Dos del mismo color y las otras dos de colores distintos:\n",
    "\n",
    "$$\n",
    "3*1*1=3\n",
    "$$\n",
    "Donde el $3$ implica la cantidad de opciones de las que se puede elegir el color de las primeras dos llaves del mismo color y cada $1$ es la cantidad de posibilidades para elegir los otros dos colores, de modo que solo hay una posibilidad ya que si o si van a estar presentes ambos colores.\n",
    "\n"
   ]
  },
  {
   "cell_type": "markdown",
   "id": "8661696a",
   "metadata": {},
   "source": [
    "## Generales de Probabilidad"
   ]
  },
  {
   "cell_type": "markdown",
   "id": "e0b38830",
   "metadata": {},
   "source": [
    "4"
   ]
  },
  {
   "cell_type": "code",
   "execution_count": 3,
   "id": "ba5a5471",
   "metadata": {},
   "outputs": [],
   "source": [
    "d=365\n",
    "x=np.arange(1,81)\n",
    "probgraficar=np.zeros(80)\n",
    "probgeneral=np.zeros(365)\n",
    "\n",
    "datos= []\n",
    "\n",
    "for i in range(len(probgeneral)):\n",
    "    f_i= (d-i)/d\n",
    "    datos.append(f_i)\n",
    "    if i<=80:\n",
    "        probgraficar[i-1]=np.prod(datos)\n",
    "        probgeneral[i-1]=np.prod(datos)\n",
    "    else:\n",
    "        probgeneral[i-1]=np.prod(datos)\n",
    "\n"
   ]
  },
  {
   "cell_type": "code",
   "execution_count": 5,
   "id": "ddd2b6f5",
   "metadata": {
    "scrolled": false
   },
   "outputs": [
    {
     "data": {
      "text/plain": [
       "<matplotlib.collections.PathCollection at 0x2ab553f4a00>"
      ]
     },
     "execution_count": 5,
     "metadata": {},
     "output_type": "execute_result"
    },
    {
     "data": {
      "image/png": "[encoded data removed]",
      "text/plain": [
       "<Figure size 640x480 with 1 Axes>"
      ]
     },
     "metadata": {},
     "output_type": "display_data"
    }
   ],
   "source": [
    "plt.scatter(x,probgraficar)"
   ]
  },
  {
   "cell_type": "markdown",
   "id": "d07c7d88",
   "metadata": {},
   "source": [
    "9"
   ]
  },
  {
   "cell_type": "markdown",
   "id": "eaade6fa",
   "metadata": {},
   "source": [
    "Para $P_{1}\\neq \\frac{1}{2}$ se deben tener en cuenta los siguientes casos:\n",
    "\n",
    "1. Obtener las dos caras en las monedas no truncadas:\n",
    "\n",
    "Se multiplica la probabilidad de tener las dos caras en las no truncadas por la de tener sello en la truncada\n",
    "$$\n",
    "P_{ntrun}= \\frac{3}{8}(1-P_{1})\n",
    "$$\n",
    "\n",
    "2. Obtener una cara en la moneda trucada:\n",
    "\n",
    "Se multiplica la probabilidad de tener una cara en las no truncadas por la de tener cara en la truncada\n",
    "\n",
    "$$\n",
    "P_{trun}= \\frac{3}{8}(P_{1})\n",
    "$$\n",
    "\n",
    "Para obtener la probabilidad total de tener 2 caras en los lanzamientos, se suman estos dos eventos:\n",
    "\n",
    "$$\n",
    "\\begin{equation}\n",
    "\\begin{split}\n",
    "P_{T}&=P_{trun}+P_{ntrun}\\\\\n",
    "&=\\frac{3}{8}(P_{1}) + \\frac{3}{8}(1-P_{1})\\\\\n",
    "&=\\frac{3}{8}(P_{1})+ \\frac{3}{8} -\\frac{3}{8}(P_{1})\\\\\n",
    "&=\\frac{3}{8}\n",
    "\\end{split}\n",
    "\\end{equation}\n",
    "$$"
   ]
  },
  {
   "cell_type": "markdown",
   "id": "88922d03",
   "metadata": {},
   "source": [
    "Para $P_{1}$ y $P_{2} \\neq \\frac{1}{2}$ se deben tener en cuenta los siguientes casos:\n",
    "\n",
    "$$\n",
    "1. C,C,S,S\\\\\n",
    "2. S,S,C,C\\\\\n",
    "3. C,S,C,S\\\\\n",
    "4. S,C,S,C\\\\\n",
    "$$\n",
    "Aunque para los casos 3 y 4 en las monedas 2 y 3 no importa el orden sino que una de ellas sea cara, ya que ambas opciones para estas dos monedas tienen la misma probabilidad ($\\frac{1}{2}$).\n"
   ]
  },
  {
   "cell_type": "code",
   "execution_count": 46,
   "id": "e6f3d133",
   "metadata": {},
   "outputs": [
    {
     "data": {
      "text/latex": [
       "$\\displaystyle - 0.5 p_{1} p_{2} + 0.25 p_{1} + 0.25 p_{2} + 0.25$"
      ],
      "text/plain": [
       "-0.5*p_1*p_2 + 0.25*p_1 + 0.25*p_2 + 0.25"
      ]
     },
     "execution_count": 46,
     "metadata": {},
     "output_type": "execute_result"
    }
   ],
   "source": [
    "P_1=sym.Symbol('p_1', real=True)\n",
    "P_2=sym.Symbol('p_2', real=True)\n",
    "def Probabilidad(P_1,P_2):\n",
    "    caso1= P_1*P_2*(1/2)*(1/2)\n",
    "    caso2= (1-P_1)*(1-P_2)*(1/2)*(1/2)\n",
    "    caso3= P_1*(1-P_2)*(1/2)\n",
    "    caso4= (1-P_1)*P_2*(1/2)\n",
    "    total=caso1+caso2+caso3+caso4\n",
    "    \n",
    "    return total\n",
    "\n",
    "func=sym.simplify(Probabilidad(P_1,P_2))\n",
    "func"
   ]
  },
  {
   "cell_type": "code",
   "execution_count": 47,
   "id": "22094b3b",
   "metadata": {},
   "outputs": [
    {
     "data": {
      "image/png": "[encoded data removed]",
      "text/plain": [
       "<Figure size 640x480 with 1 Axes>"
      ]
     },
     "metadata": {},
     "output_type": "display_data"
    }
   ],
   "source": [
    "p_1=np.linspace(0.1,0.9,100)\n",
    "p_2=np.linspace(0.1,0.5,100)\n",
    "z=np.zeros([100,100])\n",
    "p1,p2=np.meshgrid(p_1,p_2)\n",
    "z=Probabilidad(p1,p2)\n",
    "\n",
    "\n",
    "fig = plt.figure()\n",
    "ax = fig.add_subplot(111,projection='3d')\n",
    "ax.plot_surface(p1,p2,z,cmap='twilight_shifted')\n",
    "ax.set_xlabel('p1')\n",
    "ax.set_ylabel('p2')\n",
    "ax.view_init(elev=25, azim=85)"
   ]
  },
  {
   "cell_type": "code",
   "execution_count": 79,
   "id": "ddabdd65",
   "metadata": {},
   "outputs": [
    {
     "name": "stdout",
     "output_type": "stream",
     "text": [
      "El punto de probabilidad máxima es:  [0.9, 0.1] con un valor de:  0.455  y el punto de probabilidad mínima es:  [0.1, 0.1]  con un valor de:  0.295\n"
     ]
    }
   ],
   "source": [
    "maxi=0\n",
    "mini=2\n",
    "maximo=np.array([0,0])\n",
    "minimo=np.array([0,0])\n",
    "maxis=[]\n",
    "minis=[]\n",
    "\n",
    "for i in range(len(p_1)):\n",
    "    for j in range(len(p_2)):\n",
    "        \n",
    "        z_i=Probabilidad(p_1[i],p_2[j])\n",
    "        if z_i>maxi:\n",
    "            maxi=z_i\n",
    "            maxis.append([p_1[i],p_2[j]])\n",
    "            \n",
    "        if z_i<mini:\n",
    "            mini=z_i\n",
    "            minis.append([p_1[i],p_2[j]])\n",
    "            \n",
    "maxis[-1],minis[-1],maxi,mini\n",
    "\n",
    "print('El punto de probabilidad máxima es: ',maxis[-1],'con un valor de: ',maxi,' y el punto de probabilidad mínima es: ', minis[-1],' con un valor de: ', mini)"
   ]
  },
  {
   "cell_type": "markdown",
   "id": "ebc9d4dc",
   "metadata": {},
   "source": [
    "12"
   ]
  },
  {
   "cell_type": "markdown",
   "id": "9fd46abf",
   "metadata": {},
   "source": [
    "a) \n",
    "\n",
    "Dedo que se tienen N partículas y que cada una puede adoptar un nivel de energía $\\epsilon_{0}$ o $\\epsilon_{1}$ de moso que la cantidad de partículas que se encuentren el estado $\\epsilon_{0}$ esté dado por $n_{0}$ y las que se encuentren en el estado $\\epsilon_{1}$ estén dadas por $n_{1}$. El número de configuraciones posibles estará dado por una combinación sin repetición de forma que podemos partir de la siguiene fórmula:\n",
    "\n",
    "$$\n",
    "C_{r}^{n}= \\frac{n!}{(n-r)!r!}\n",
    "$$\n",
    "\n",
    "Usando $n=N$ y $r=n_{0}$, obteniendo: \n",
    "\n",
    "$$\n",
    "C_{n_{0}}^{N}= \\frac{N!}{(N-n_{0})!n_{0}!}\n",
    "$$\n",
    "\n",
    "y sabiendo que $N=n_{0} + n_{1}$ tenemos que el número de configuraciones posibles está dado por:\n",
    "\n",
    "$$\n",
    "\\Omega(N,n_{0})= \\frac{N!}{(n_{1})!n_{0}!}\n",
    "$$\n",
    "\n"
   ]
  },
  {
   "cell_type": "markdown",
   "id": "183636f9",
   "metadata": {},
   "source": [
    "b)\n",
    "\n",
    "A partir de la ecuación de la entropía dada por: $S(N,n_{0})=k_{B}ln(\\Omega)$ y la fórmula de Stirling $ln(N!)\\cong Nln(N)-N $ tenemos que:\n",
    "\n",
    "$$\\begin{equation} \\label{eq1}\n",
    "\\begin{split}\n",
    "S(N,n_{0})&=k_{B}ln \\Big(\\frac{N!}{n_{0}!n_{1}!} \\Big)\\\\\n",
    "&=k_{B}\\Big( ln(N!) - ln(n_{0}!) - ln(n_{1}) \\Big) \\\\\n",
    "&=k_{B} \\Big( Nln(N) - N - n_{0}ln(n_{0}) + n_{0} - n_{1}ln(n_{1}) + n_{1} \\Big)\\\\\n",
    "&=k_{B} \\Big( Nln(N)-N+N-n_{0}ln(n_{0})-n_{1}ln(n_{1}) \\Big)\\\\\n",
    "&=k_{B} \\Big( Nln(N)- \\sum_{i=0}^1 n_{i}ln(n_{i}) \\Big)\n",
    "\\end{split}\n",
    "\\end{equation}\n",
    "$$"
   ]
  },
  {
   "cell_type": "markdown",
   "id": "6802e235",
   "metadata": {},
   "source": [
    "c)\n",
    "\n",
    "A partir de la fórmula obtenida del inciso b) y sabiendo que $x=\\frac{n_{1}}{N}$ para las partículas que se encuentran en el nivel de energía $\\epsilon_{1}$ y que $x=\\frac{1}{N(\\epsilon_{0}-\\epsilon_{1})}(E-N_{\\epsilon_{0}})$. Tenemos que:\n",
    "\n",
    "$$\n",
    "n_{1}= xN\\\\\n",
    "n_{0}=N-Nx\n",
    "$$\n",
    "\n",
    "De modo que se tiene que:\n",
    "\n",
    "$$\n",
    "\\begin{equation}\n",
    "\\begin{split}\n",
    "S(N,x)&=k_{B} \\Big(Nln(N)-(N-Nx)ln(N-Nx)-Nxln(Nx) \\Big)\\\\\n",
    "&=k_{B}N \\Big(ln(N) - (1-x)ln(N-Nx)-xln(Nx) \\Big)\\\\\n",
    "&=k_{B}N \\Big(ln(N)-ln(N-Nx)+xln(N-Nx) - xln(Nx) \\Big)\\\\\n",
    "&=k_{B}N \\Big(ln(N) - ln(N(1-x))+xln(N(1-x)) -xln(Nx) \\Big)\\\\\n",
    "&=k_{B}N \\Big(ln(N)-ln(N) - ln(1-x) + xln(N) + xln(1-x)-xln(N)-xln(x) \\Big)\\\\\n",
    "&=-k_{B}N \\Big(ln(1-x) - xln(1-x) + xln(x) \\Big)\\\\\n",
    "&=-k_{B}N \\Big(xln(x)+(1-x)ln(1-x) \\Big)\\\\\n",
    "\\end{split}\n",
    "\\end{equation}\n",
    "$$\n",
    "\n"
   ]
  },
  {
   "cell_type": "markdown",
   "id": "3e52decf",
   "metadata": {},
   "source": [
    "d) \n",
    "\n",
    "$$\n",
    "\\begin{equation}\n",
    "\\begin{split}\n",
    "\\frac{S(N,x)}{k_{B}N}&=\\frac{-k_{B}N[xln(x) +(1-x)ln(1-x)]}{k_{B}N}\\\\\n",
    "\\\\\n",
    "&= -(xln(x) +(1-x)ln(1-x))\n",
    "\\end{split}\n",
    "\\end{equation}\n",
    "$$\n",
    "\n",
    "\n",
    "\n",
    "\n"
   ]
  },
  {
   "cell_type": "code",
   "execution_count": 12,
   "id": "d31c0558",
   "metadata": {},
   "outputs": [
    {
     "data": {
      "text/plain": [
       "[<matplotlib.lines.Line2D at 0x1bf3d4e3610>]"
      ]
     },
     "execution_count": 12,
     "metadata": {},
     "output_type": "execute_result"
    },
    {
     "data": {
      "image/png": "[encoded data removed]",
      "text/plain": [
       "<Figure size 640x480 with 1 Axes>"
      ]
     },
     "metadata": {},
     "output_type": "display_data"
    }
   ],
   "source": [
    "x=sym.Symbol('x',real=True)\n",
    "f=lambda x: -(x*np.log(x) + (1-x)*np.log(1-x))\n",
    "X=np.linspace(0.001,0.999,1000)\n",
    "y=f(X)\n",
    "\n",
    "plt.plot(X,y)\n",
    "\n"
   ]
  },
  {
   "cell_type": "markdown",
   "id": "ad1bef65",
   "metadata": {},
   "source": [
    "e)\n",
    "Partiendo de la fórmula \n",
    "\n",
    "$$\n",
    "\\frac{1}{T}= \\Big(\\frac{\\partial S}{\\partial x}\\Big)_{N}\\Big(\\frac{\\partial x}{\\partial E}\\Big)_{N}\n",
    "$$\n",
    "\n",
    "Tenemos:\n",
    "\n",
    "$$\n",
    "\\begin{equation}\n",
    "\\begin{split}\n",
    "\\frac{\\partial S}{\\partial x} &= -k_{B}N\\Big(ln(x)+\\frac{x}{x}-ln(1-x) - \\frac{1-x}{1-x}\\Big)\\\\\n",
    "&=-k_{B}N\\Big (ln(x)-ln(1-x)\\Big)\n",
    "\\end{split}\n",
    "\\end{equation}\n",
    "$$\n",
    "\n",
    "y\n",
    "\n",
    "$$\n",
    "\\begin{equation}\n",
    "\\begin{split}\n",
    "\\frac{\\partial x}{\\partial E} &=\\frac{1}{N(\\epsilon_{0}-\\epsilon_{1})}(1-0)\\\\\n",
    "&=\\frac{1}{N(\\epsilon_{0}-\\epsilon_{1})}\n",
    "\\end{split}\n",
    "\\end{equation}\n",
    "$$\n",
    "\n",
    "De modo que se tiene:\n",
    "$$\n",
    "\\begin{equation}\n",
    "\\begin{split}\n",
    "\\frac{1}{T}&= \\Big(\\frac{\\partial S}{\\partial x}\\Big)_{N}\\Big(\\frac{\\partial x}{\\partial E}\\Big)_{N}\\\\\\frac{1}{T}&=\\Big(-k_{B}N [ln(x)-ln(1-x)]\\Big)\\frac{1}{N(\\epsilon_{0}-\\epsilon_{1})}\\\\\n",
    "\\frac{1}{T}&=\\Big(-k_{B}[ln(x)-ln(1-x)]\\Big)\\frac{1}{\\epsilon_{0}-\\epsilon_{1}}\\\\\n",
    "T&=\\frac{\\epsilon_{0}-\\epsilon_{1}}{-k_{B}[ln(x)-ln(1-x)]}\\\\\n",
    "T&=\\frac{\\Delta E}{-k_{B}[ln(x)-ln(1-x)]}\\\\\n",
    "ln(x)-ln(1-x)&=\\frac{\\Delta E}{-k_{B}T}\\\\\n",
    "ln\\Big(\\frac{1-x}{x}\\Big) &=\\frac{\\Delta E}{k_{B}T}\\\\\n",
    "ln\\Big(\\frac{1}{x} -1\\Big) &=\\frac{\\Delta E}{k_{B}T}\\\\\n",
    "\\frac{1}{x} -1&= e^{\\frac{\\Delta E}{k_{B\n",
    "}T}}\\\\\n",
    "\\frac{1}{x}&=e^{\\frac{\\Delta E}{k_{B\n",
    "}T}} +1\\\\\n",
    "x&\n",
    "=\\frac{1}{e^{\\frac{\\Delta E}{k_{B}T}} +1}\n",
    "\\end{split}\n",
    "\\end{equation}\n",
    "$$\n"
   ]
  },
  {
   "cell_type": "markdown",
   "id": "3aa7651d",
   "metadata": {},
   "source": [
    "f)\n",
    "Para $T\\rightarrow \\infty$:\n",
    "$$\n",
    "\\begin{equation}\n",
    "\\begin{split}\n",
    "\\lim_{T\\to\\infty} x(T) &=\\lim_{T\\to\\infty} \\frac{1}{1+e^{\\frac{\\Delta E}{k_{B}T}}} \\\\\n",
    "&=\\frac{1}{1+e^{\\frac{\\Delta E}{\\infty}}}\\\\\n",
    "&=\\frac{1}{1+e^{0}}\\\\\n",
    "&=\\frac{1}{1+1}\\\\\n",
    "&=\\frac{1}{2}\n",
    "\\end{split}\n",
    "\\end{equation}\n",
    "$$\n",
    "\n",
    "Para $T\\rightarrow 0$:\n",
    "$$\n",
    "\\begin{equation}\n",
    "\\begin{split}\n",
    "\\lim_{T\\to 0} x(T) &=\\lim_{T\\to 0} \\frac{1}{1+e^{\\frac{\\Delta E}{k_{B}T}}} \\\\\n",
    "&=\\frac{1}{1+e^{\\frac{\\Delta E}{0}}}\\\\\n",
    "&=\\frac{1}{1+e^{\\infty}}\\\\\n",
    "&=\\frac{1}{\\infty}\\\\\n",
    "&=0\n",
    "\\end{split}\n",
    "\\end{equation}\n",
    "$$\n",
    "\n",
    "Para altas temperaturas, es decir $T \\leftarrow \\infty$:\n",
    "\n",
    "$$\n",
    "\\begin{equation}\n",
    "\\begin{split}\n",
    "S(T)&= \\lim_{T\\to \\infty} -k_{B}N \\Big[\\frac{1}{1+e^{\\frac{\\Delta E}{k_{B}T}}} ln \\Big(\\frac{1}{1+e^{\\frac{\\Delta E}{k_{B}T}}} \\Big)+\\Big(1- \\frac{1}{1+e^{\\frac{\\Delta E}{k_{B}T}}}\\Big)ln \\Big(1- \\frac{1}{1+e^{\\frac{\\Delta E}{k_{B}T}}} \\Big) \\Big]\\\\\n",
    "&= -k_{B}N \\Big[\\frac{1}{2}ln\\Big(\\frac{1}{2}\\Big) + \\frac{1}{2}ln\\Big(\\frac{1}{2}\\Big)\\Big]\\\\\n",
    "&=-k_{B}N ln \\Big(\\frac{1}{2} \\Big)\\\\\n",
    "&= -k_{B}N\\Big( ln(1) -ln(2) \\Big)\\\\\n",
    "&= k_{B}N ln(2)\n",
    "\\end{split}\n",
    "\\end{equation}\n",
    "$$\n",
    "\n"
   ]
  },
  {
   "cell_type": "markdown",
   "id": "b1c4d485",
   "metadata": {},
   "source": [
    "g)\n",
    "\n",
    "Según la formula del cambio de entropía para procesos isotérmicos dada por:\n",
    "\n",
    "$$\n",
    "\\begin{equation}\n",
    "\\begin{split}\n",
    "\\Delta S&= \\int_{V}^{2V} P dV\\\\\n",
    "&= \\int_{V}^{2V} \\frac{NRT}{V}dV\\\\\n",
    "&= NRT ln \\Big(\\frac{2V}{V} \\Big)\\\\\n",
    "&=NRTln(2)\n",
    "\\end{split}\n",
    "\\end{equation}\n",
    "$$\n",
    "\n",
    "Se puede identificar que este resultado y el del punto anterior tienen prácticamente la misma forma ya que si se toma $k_{B}=RT$ se obtendría el mismo resultado $k_{B}Nln(2)$ "
   ]
  },
  {
   "cell_type": "markdown",
   "id": "7ca0b2e1",
   "metadata": {},
   "source": [
    "## Distribuciones Discretas de Probabilidad"
   ]
  },
  {
   "cell_type": "markdown",
   "id": "9521dbd9",
   "metadata": {},
   "source": [
    "3"
   ]
  },
  {
   "cell_type": "markdown",
   "id": "bc0be29c",
   "metadata": {},
   "source": [
    "Sabiendo que entre los 10 microchips en el embarque hay 3 defectuosos y que la empresa tendrá 2 de estos al azar, entonces tenemos las siguientes tres posibilidades:\n",
    "\n",
    "1- Elegir 2 defectuosos:\n",
    "\n",
    "En este caso se tendrá que la forma de escoger justo esos dos está dada por la siguiente combinatoria:\n",
    "\n",
    "$$\n",
    "\\binom{3}{2}\n",
    "$$\n",
    "\n",
    "Siendo el $3$ losmicrochips totales defectuosos y el $2$ los microchips que se eligieron.\n",
    "\n",
    "2- Elegir 1 defectuoso:\n",
    "\n",
    "En este caso se tendrá que la forma de escoger uno defectuoso y uno en buen estado está dada por la siguiente combinatoria:\n",
    "\n",
    "$$\n",
    "\\binom{3}{1}\\binom{7}{2}\n",
    "$$\n",
    "\n",
    "Siendo el $3$ losmicrochips totales defectuosos y el $1$ los microchips que se eligieron de estos y se multiplica por la cantidad no defectuosa que fue adquirida por la empresa dada por $\\binom{7}{2}$.\n",
    "\n",
    "3- No elegir ningún microchip defectuoso:\n",
    "\n",
    "En este caso se tendrá que la forma de escoger amboss en buen estado está dada por la siguiente combinatoria:\n",
    "\n",
    "$$\n",
    "\\binom{7}{2}\n",
    "$$\n",
    "\n",
    "Siendo el $7$ losmicrochips totales en buenestado y el $2$ los microchips que se eligieron.\n",
    "\n",
    "De modo que si tomamos $x$ como la cantidad de microchips tendremos que la distribución de probabilidad está dada por:\n",
    "\n",
    "$$\n",
    "f(x)=\\frac{\\binom{7}{2-x}\\binom{3}{x}}{\\binom{10}{2}}\n",
    "$$\n",
    "\n",
    "donde el factor $\\binom{7}{2-x}$ se refiere a los microchips no defectuosos, el factor $\\binom{3}{x}$ a los defectuosos y el factor $\\binom{10}{2}$ a los microchips totales adquiridos por la empresa.\n",
    "\n",
    "$$\n",
    "\\\\\n",
    "\\\\\n",
    "$$"
   ]
  },
  {
   "cell_type": "code",
   "execution_count": 81,
   "id": "da6cea8c",
   "metadata": {},
   "outputs": [],
   "source": [
    "def Combinatoria(n,r):\n",
    "    return np.math.factorial(n)/(np.math.factorial(r)*np.math.factorial(n-r))"
   ]
  },
  {
   "cell_type": "markdown",
   "id": "4cf4bbd8",
   "metadata": {},
   "source": [
    "De este modo para el caso de obtener $0$ microchips defectuosos tenemos que la distribución de probabilidad es de:"
   ]
  },
  {
   "cell_type": "code",
   "execution_count": 86,
   "id": "2d72a57b",
   "metadata": {},
   "outputs": [
    {
     "data": {
      "text/plain": [
       "0.4666666666666667"
      ]
     },
     "execution_count": 86,
     "metadata": {},
     "output_type": "execute_result"
    }
   ],
   "source": [
    "P0=Combinatoria(7,2-0)*Combinatoria(3,0)/Combinatoria(10,2)\n",
    "P0"
   ]
  },
  {
   "cell_type": "markdown",
   "id": "c0dda83d",
   "metadata": {},
   "source": [
    "Para $1$ Microchip defectuoso:"
   ]
  },
  {
   "cell_type": "code",
   "execution_count": 85,
   "id": "30abcbc0",
   "metadata": {},
   "outputs": [
    {
     "data": {
      "text/plain": [
       "0.4666666666666667"
      ]
     },
     "execution_count": 85,
     "metadata": {},
     "output_type": "execute_result"
    }
   ],
   "source": [
    "P1=Combinatoria(7,2-1)*Combinatoria(3,1)/Combinatoria(10,2)\n",
    "P1"
   ]
  },
  {
   "cell_type": "markdown",
   "id": "5c2e2d20",
   "metadata": {},
   "source": [
    "Para $2$ microchips defectuosos:"
   ]
  },
  {
   "cell_type": "code",
   "execution_count": 87,
   "id": "b56603d2",
   "metadata": {},
   "outputs": [
    {
     "data": {
      "text/plain": [
       "0.06666666666666667"
      ]
     },
     "execution_count": 87,
     "metadata": {},
     "output_type": "execute_result"
    }
   ],
   "source": [
    "P2=Combinatoria(7,2-2)*Combinatoria(3,2)/Combinatoria(10,2)\n",
    "P2"
   ]
  },
  {
   "cell_type": "markdown",
   "id": "a41c6771",
   "metadata": {},
   "source": [
    "4"
   ]
  },
  {
   "cell_type": "markdown",
   "id": "eaa62313",
   "metadata": {},
   "source": [
    "a)\n",
    "\n",
    "En este ejercicio los casos posibles son independientes entre sí, por ende, la fórmula de combinatoria esta dada por la multiplicación entre la probabilidad de que ocurra cada uno de los casos entre la probabilidad total. \n",
    "\n",
    "Si $x$ es la cantidad de electrones que salen, $y$ es la cantidad de protones y la caja cuántica cuenta con 3 electrones, 2 protones y 3 neutrones. \n",
    "Existen 3 casos posibles: que salga almenos un electrón, que salga almenos un protón y que salga almenos un neutrón y están dadas por:\n",
    "\n",
    "Que salga almenos un electrón:\n",
    "$$\n",
    " \\binom{3}{x}\n",
    "$$\n",
    "\n",
    "Que salga almenos un protón:\n",
    "$$\n",
    " \\binom{2}{y}\n",
    "$$\n",
    "\n",
    "Que salga almenos un neutrón:\n",
    "Dado que no tenemos una variable fija para la cantidad de neutrones, podemos despejarla a partir de que se escogen 4 elementos y se sabe que entre esos están los electrones($x$), los protones($y$) y los neutrones.\n",
    "\n",
    "$$\n",
    "\\begin{equation}\n",
    "\\begin{split}\n",
    "x+y+neutrones&=4\\\\\n",
    "\\\\\n",
    "neutrones&=4-x-y\n",
    "\\end{split}\n",
    "\\end{equation}\n",
    "$$\n",
    "Ya sabiendo la fórmula para neutrones su probabilidad se expresaría de la siguiente manera:\n",
    "$$\n",
    " \\binom{3}{4-x-y} \n",
    "$$\n",
    "\n",
    "\n",
    "Por último, hay un total de 8 elementos de los cuales se seleccionan 4, siendo la razón entre los casos totales y los posibles es la siguiente:\n",
    "$$\n",
    " \\binom{8}{4}\n",
    "$$\n",
    "\n",
    "Por ende, La distribución de densidad conjunta se expresa como:\n",
    "\n",
    "$$\n",
    "\\frac{\\binom{3}{x}  \\binom{2}{y}  \\binom{3}{4-x-y}  }{\\binom{8}{4} }\n",
    "$$\n",
    "\n",
    "Llegando a la ecuación esperada.\n"
   ]
  },
  {
   "cell_type": "markdown",
   "id": "4b8682b0",
   "metadata": {},
   "source": [
    "b)"
   ]
  },
  {
   "cell_type": "code",
   "execution_count": 40,
   "id": "92dc8d21",
   "metadata": {},
   "outputs": [],
   "source": [
    "x= sym.Symbol(\"x\", real = True)\n",
    "y= sym.Symbol(\"y\", real = True)\n",
    "combinatoria= lambda x,y: np.math.factorial(x) / (np.math.factorial(np.abs(y))*np.math.factorial(np.abs(x-y)))\n",
    "def funcion(x, y):\n",
    "    return combinatoria(3,x)*combinatoria(2,y)*combinatoria(3,(4-x-y))/ combinatoria(8,4)"
   ]
  },
  {
   "cell_type": "code",
   "execution_count": 41,
   "id": "ac760771",
   "metadata": {},
   "outputs": [
    {
     "data": {
      "text/plain": [
       "(0.075, 0.21785714285714286)"
      ]
     },
     "execution_count": 41,
     "metadata": {},
     "output_type": "execute_result"
    }
   ],
   "source": [
    "protones= 2\n",
    "electrones=3\n",
    "def gx(x,y):\n",
    "    gx = 0\n",
    "    for y in range(protones+1):\n",
    "        gx += funcion(x, y)\n",
    "  \n",
    "    return gx\n",
    "def hy(x,y):\n",
    "    hy=0\n",
    "    for x in range(electrones+1):\n",
    "        f=funcion(x,y)\n",
    "        hy+=f\n",
    "    return hy\n",
    "\n",
    "gx(0,y),hy(x,0)"
   ]
  },
  {
   "cell_type": "markdown",
   "id": "a6666bf1",
   "metadata": {},
   "source": [
    "c)"
   ]
  },
  {
   "cell_type": "code",
   "execution_count": 42,
   "id": "94be641b",
   "metadata": {},
   "outputs": [
    {
     "data": {
      "text/plain": [
       "1.5"
      ]
     },
     "execution_count": 42,
     "metadata": {},
     "output_type": "execute_result"
    }
   ],
   "source": [
    "ex = 0\n",
    "for x in range(electrones+1):\n",
    "    ex += x * gx(x,0)\n",
    "ex=ex\n",
    "exnew=round(ex,1)\n",
    "exnew"
   ]
  },
  {
   "cell_type": "markdown",
   "id": "c05756f5",
   "metadata": {},
   "source": [
    "d)"
   ]
  },
  {
   "cell_type": "code",
   "execution_count": 43,
   "id": "eaa6337e",
   "metadata": {},
   "outputs": [
    {
     "data": {
      "text/plain": [
       "1.0"
      ]
     },
     "execution_count": 43,
     "metadata": {},
     "output_type": "execute_result"
    }
   ],
   "source": [
    "ey = 0\n",
    "for y in range(protones+1):\n",
    "    ey += y * hy(0,y)\n",
    "ey=ey\n",
    "eynew=round(ey,1)\n",
    "eynew"
   ]
  },
  {
   "cell_type": "markdown",
   "id": "ec6d6d40",
   "metadata": {},
   "source": [
    "e)"
   ]
  },
  {
   "cell_type": "code",
   "execution_count": 44,
   "id": "bbe58821",
   "metadata": {},
   "outputs": [
    {
     "data": {
      "text/plain": [
       "-0.2143622448979594"
      ]
     },
     "execution_count": 44,
     "metadata": {},
     "output_type": "execute_result"
    }
   ],
   "source": [
    "exy=0\n",
    "for x in range(electrones+1):\n",
    "    for y in range(protones+1):\n",
    "        exy+= x * y * funcion(x, y)\n",
    "    \n",
    "covarianza1 = exy - (ex*ey)\n",
    "covarianza1"
   ]
  },
  {
   "cell_type": "markdown",
   "id": "4b6e1224",
   "metadata": {},
   "source": [
    "f)"
   ]
  },
  {
   "cell_type": "code",
   "execution_count": 45,
   "id": "83ed6803",
   "metadata": {},
   "outputs": [
    {
     "data": {
      "text/plain": [
       "-0.20349435131195337"
      ]
     },
     "execution_count": 45,
     "metadata": {},
     "output_type": "execute_result"
    }
   ],
   "source": [
    "exy2=0\n",
    "for x in range(electrones+1):\n",
    "    for y in range(protones+1):\n",
    "        exy2+= (x-ex)*(y-ey)*funcion(x,y)\n",
    "exy2"
   ]
  },
  {
   "cell_type": "markdown",
   "id": "568dc296",
   "metadata": {},
   "source": [
    "g)"
   ]
  },
  {
   "cell_type": "markdown",
   "id": "565222c0",
   "metadata": {},
   "source": [
    "Las variables $x$ y $y$ son linealmente independientes solo si la covarianza tiene un valor de 0. En este ejercicio la covarianza tiene un valor de alrededor de -3/14, de modo que las variables tienen una dependencia entre si."
   ]
  },
  {
   "cell_type": "markdown",
   "id": "8222a534",
   "metadata": {},
   "source": [
    "## Distribuciones Contínuas de Probabilidad"
   ]
  },
  {
   "cell_type": "markdown",
   "id": "f994c42f",
   "metadata": {},
   "source": [
    "1 "
   ]
  },
  {
   "cell_type": "code",
   "execution_count": 13,
   "id": "47d3778c",
   "metadata": {},
   "outputs": [
    {
     "data": {
      "text/latex": [
       "$\\displaystyle 0.666666666666667 x + 1.33333333333333 y$"
      ],
      "text/plain": [
       "0.666666666666667*x + 1.33333333333333*y"
      ]
     },
     "execution_count": 13,
     "metadata": {},
     "output_type": "execute_result"
    }
   ],
   "source": [
    "x= sym.Symbol(\"x\", real = True)\n",
    "y= sym.Symbol(\"y\", real = True)\n",
    "funcion=(2/3)*(x+2*y)\n",
    "funcion\n"
   ]
  },
  {
   "cell_type": "markdown",
   "id": "3b287356",
   "metadata": {},
   "source": [
    "a)\n",
    "\n",
    "Para que sea una funcion de densidad la integral entre su limite inferior y limite superior debe dar 1, en este caso es necesario realizar una integral doble (con respecto a x y luego con respecto a y) ambas entre 0 y 1, teniendo en cuenta que fueron los limites del ejercicio, quedandonos de la siguiente manera:\n",
    "$$ \n",
    "\\begin{equation}\n",
    "\\begin{split}\n",
    "densidad&= \\int_0^1\\ \\int_0^1\\ \\frac{2}{3}(x+2y)dxdy\\\\\n",
    "&= \\int_0^1\\ \\Big(\\frac{1}{3}+\\frac{4}{3}y\\Big)dy\\\\\n",
    "&=1\n",
    "\\end{split}\n",
    "\\end{equation}\n",
    "$$\n",
    "\n",
    "Como el resultado dio 1 la función si es una función de densidad conjunta valida\n",
    "\n"
   ]
  },
  {
   "cell_type": "code",
   "execution_count": 14,
   "id": "336a69af",
   "metadata": {},
   "outputs": [
    {
     "data": {
      "text/latex": [
       "$\\displaystyle 1.0$"
      ],
      "text/plain": [
       "1.00000000000000"
      ]
     },
     "execution_count": 14,
     "metadata": {},
     "output_type": "execute_result"
    }
   ],
   "source": [
    "integralx=sym.integrate(funcion,(x,0,1))\n",
    "integralfinal= sym.integrate(integralx,(y,0,1))\n",
    "integralfinal"
   ]
  },
  {
   "cell_type": "markdown",
   "id": "2d0b56ff",
   "metadata": {},
   "source": [
    "b)\n",
    "\n",
    "Sean x y y variables de nuestra función de probabilidad $f(x, y)$ las distribuciones marginales $g(x)$ y $h(y)$ están dadas por:\n",
    "$$\n",
    "g(x)= \\int_0^1\\ \\frac{2}{3}(x+2y)dy\\\\\n",
    "h(y)= \\int_0^1\\ \\frac{2}{3}(x+2y)dx\n",
    "$$\n",
    "Donde los límites se definen por los límites de la función y la distribución respecto a $x$ es la integral respecto a $y$ y la distribución respecto a $y$ es la integral respecto a $x$ \n",
    "\n",
    "Donde al desarrollar la integral se llega a los siguientes valores:\n",
    "\n",
    "$$\n",
    "g(x)= \\frac{2}{3}(x+1)\\\\\n",
    "h(y)= \\frac{1}{3}+\\frac{4}{3}y\n",
    "$$\n",
    "\n"
   ]
  },
  {
   "cell_type": "code",
   "execution_count": 15,
   "id": "61659998",
   "metadata": {},
   "outputs": [
    {
     "data": {
      "text/plain": [
       "(0.666666666666667*x + 0.666666666666667,\n",
       " 1.33333333333333*y + 0.333333333333333)"
      ]
     },
     "execution_count": 15,
     "metadata": {},
     "output_type": "execute_result"
    }
   ],
   "source": [
    "gx=sym.integrate(funcion,(y,0,1))\n",
    "hy=sym.integrate(funcion,(x,0,1))\n",
    "\n",
    "gx,hy"
   ]
  },
  {
   "cell_type": "markdown",
   "id": "9820d849",
   "metadata": {},
   "source": [
    "c)\n",
    "\n",
    "Para calcular $\\mathbb{E}(x)$ se debe integrar con respecto a $x$ y a la multiplicación entre la distribución marginal $G(x)$, quedando la expresión de la siguiente manera:\n",
    "$$\n",
    "\\begin{equation}\n",
    "\\begin{split}\n",
    "\\mathbb{E}(x)&= \\int_0^1\\ x G(x) dx\\\\\n",
    "&= \\int_0^1\\ x \\frac{2}{3}(x+1)dx\\\\\n",
    "&= \\frac{5}{9}\n",
    "\\end{split}\n",
    "\\end{equation}\n",
    "$$\n"
   ]
  },
  {
   "cell_type": "code",
   "execution_count": 16,
   "id": "5f17f40a",
   "metadata": {},
   "outputs": [
    {
     "data": {
      "text/latex": [
       "$\\displaystyle 0.555555555555556$"
      ],
      "text/plain": [
       "0.555555555555556"
      ]
     },
     "execution_count": 16,
     "metadata": {},
     "output_type": "execute_result"
    }
   ],
   "source": [
    "Ex=sym.integrate(x*gx,(x,0,1))\n",
    "Ex"
   ]
  },
  {
   "cell_type": "markdown",
   "id": "44ce9365",
   "metadata": {},
   "source": [
    "d)\n",
    "\n",
    "Para calcular $\\mathbb{E}(y)$ se debe integrar respecto a $y$ y a la multiplicación entre la distribución marginal $H(y)$, quedando la expresión de la siguiente manera:\n",
    "$$\n",
    "\\begin{equation}\n",
    "\\begin{split}\n",
    "\\mathbb{E}(y)&= \\int_0^1\\ y H(y)dx\\\\\n",
    "&= \\int_0^1\\ y (\\frac{1}{3}+\\frac{4}{3}y)dx\\\\\n",
    "&= \\frac{11}{18} \n",
    "\\end{split}\n",
    "\\end{equation}\n",
    "$$"
   ]
  },
  {
   "cell_type": "code",
   "execution_count": 17,
   "id": "51e09f23",
   "metadata": {},
   "outputs": [
    {
     "data": {
      "text/latex": [
       "$\\displaystyle 0.611111111111111$"
      ],
      "text/plain": [
       "0.611111111111111"
      ]
     },
     "execution_count": 17,
     "metadata": {},
     "output_type": "execute_result"
    }
   ],
   "source": [
    "Ey=sym.integrate(y*hy,(y,0,1))\n",
    "Ey"
   ]
  },
  {
   "cell_type": "markdown",
   "id": "d055bd96",
   "metadata": {},
   "source": [
    "e)\n",
    "\n",
    "Para utilizar esa fórmula solo nos faltaría conocer a $\\mathbb{E}(xy)$ y esta es una integral doble que se expresa de la siguiente manera:\n",
    "\n",
    "$$\n",
    "\\begin{equation}\n",
    "\\begin{split}\n",
    "\\mathbb{E}(xy)&= \\int_0^1 \\int_0^1 xyf(x,y) dxdy\\\\\n",
    "&=\\int_0^1 \\int_0^1 xy \\frac{2}{3}(x+2y)dxdy\\\\\n",
    "&=\\int_0^1 \\frac{2y}{3}\\Big(\\frac{1}{3}+y\\Big)dy\\\\\n",
    "&=\\frac{1}{3}\n",
    "\\end{split}\n",
    "\\end{equation}\n",
    "$$\n",
    "\n",
    "Ya conociendo el valor de $\\mathbb{E}(xy)$ se aplica la fórmula y da que la covarianza es:\n",
    "\n",
    "$$\n",
    "\\begin{equation}\n",
    "\\begin{split}\n",
    "\\mathbb{E}(xy)-\\mathbb{E}(x)\\mathbb{E}(y)&= \\frac{1}{3} - \\Big(\\frac{5}{9}\\Big)  \\Big(\\frac{11}{18}\\Big)\\\\\n",
    "&=-0.00617\n",
    "\\end{split}\n",
    "\\end{equation}\n",
    "$$\n",
    "Obteniendo el resultado esperado.\n"
   ]
  },
  {
   "cell_type": "code",
   "execution_count": 19,
   "id": "02a3fda4",
   "metadata": {},
   "outputs": [
    {
     "data": {
      "text/latex": [
       "$\\displaystyle -0.00617283950617281$"
      ],
      "text/plain": [
       "-0.00617283950617281"
      ]
     },
     "execution_count": 19,
     "metadata": {},
     "output_type": "execute_result"
    }
   ],
   "source": [
    "E2= sym.integrate(x*funcion,(x,0,1))\n",
    "Exy=sym.integrate(y*E2,(y,0,1))\n",
    "\n",
    "covarianza1=Exy-Ex*Ey\n",
    "covarianza1"
   ]
  },
  {
   "cell_type": "markdown",
   "id": "b06c759d",
   "metadata": {},
   "source": [
    "f)\n",
    "\n",
    "El otro metodo para encontrar la covarianza es utilizando la fórmula $\\mathbb{E}((x − \\mathbb{E}x)(y − \\mathbb{E}y))$ para evaluar a $\\mathbb{E}$ y realizar posteriormente una doble integral:\n",
    "\n",
    "$$\n",
    "\\begin{equation}\n",
    "\\begin{split}\n",
    "covarianza&= \\int_0^1 \\int_0^1 (x-\\mathbb{E}x)(y-\\mathbb{E}y)f(x,y)dxdy\\\\\n",
    "&= \\int_0^1 \\int_0^1 \\Big(x-\\frac{5}{9}\\Big )\\Big(y-\\frac{11}{18}\\Big \n",
    " )\\Big(\\frac{2}{3}\\Big)(x+2y)dxdy\\\\\n",
    "&= \\int_0^1\\Big(-\\frac{11}{27}+\\frac{2y}{3}\\Big)\\Big(-\\frac{5}{18}-\\frac{10y}{9}+\\frac{1}{3}+y\\Big)dy\\\\\n",
    "&= -0.00617\n",
    "\\end{split}\n",
    "\\end{equation}\n",
    "$$\n",
    "\n",
    "Obteniendo el mismo resultado que en el inciso e).\n"
   ]
  },
  {
   "cell_type": "code",
   "execution_count": 20,
   "id": "0ecbd5fe",
   "metadata": {},
   "outputs": [
    {
     "data": {
      "text/latex": [
       "$\\displaystyle -0.00617283950617284$"
      ],
      "text/plain": [
       "-0.00617283950617284"
      ]
     },
     "execution_count": 20,
     "metadata": {},
     "output_type": "execute_result"
    }
   ],
   "source": [
    "integralx= sym.integrate((x-Ex)*funcion,(x,0,1)) \n",
    "covarianza2=sym.integrate(integralx*(y-Ey),(y,0,1))\n",
    "covarianza2"
   ]
  },
  {
   "cell_type": "markdown",
   "id": "63dbf796",
   "metadata": {},
   "source": [
    "g)\n",
    "Teniendo en cuenta que en los puntos previos se llegó a que la covarianza es de $-0.00617$, las variables $x$ y $y$ no son linealmente intependientes, ya que para serlo se debió obtener una covarianza de $0$"
   ]
  },
  {
   "cell_type": "markdown",
   "id": "e6c999d3",
   "metadata": {},
   "source": [
    "4"
   ]
  },
  {
   "cell_type": "code",
   "execution_count": null,
   "id": "51f78b52",
   "metadata": {},
   "outputs": [],
   "source": []
  },
  {
   "cell_type": "markdown",
   "id": "ab10c45a",
   "metadata": {},
   "source": [
    "## Metropolis Hasting"
   ]
  },
  {
   "cell_type": "markdown",
   "id": "149c2e31",
   "metadata": {},
   "source": [
    "1"
   ]
  },
  {
   "cell_type": "code",
   "execution_count": null,
   "id": "8746e5ea",
   "metadata": {},
   "outputs": [],
   "source": []
  },
  {
   "cell_type": "markdown",
   "id": "84c88a29",
   "metadata": {},
   "source": [
    "3"
   ]
  },
  {
   "cell_type": "code",
   "execution_count": 21,
   "id": "4349158d",
   "metadata": {},
   "outputs": [],
   "source": [
    "N=1000\n",
    "x_i=0\n",
    "mu=2\n",
    "sigma=0.5\n",
    "datos = [x_i]\n",
    "xi=x_i\n",
    "for i in range(1,N+1):\n",
    "    central=np.random.normal(xi,sigma)\n",
    "    aceptacion= min(1, np.exp(-(central - mu)**2 / (2*sigma**2)) / np.exp(-(xi - mu)**2 / (2*sigma**2)))\n",
    "    numero = np.random.rand()\n",
    "    if numero < aceptacion:\n",
    "        xi=central\n",
    "    datos.append(xi)"
   ]
  },
  {
   "cell_type": "code",
   "execution_count": 22,
   "id": "0616f6e2",
   "metadata": {},
   "outputs": [
    {
     "data": {
      "image/png": "[encoded data removed]",
      "text/plain": [
       "<Figure size 640x480 with 1 Axes>"
      ]
     },
     "metadata": {},
     "output_type": "display_data"
    }
   ],
   "source": [
    "fig, ax = plt.subplots()\n",
    "plt.hist(datos, bins=30, density=True, alpha=0.5, label='muestra',color='b')\n",
    "idealx= np.linspace(0, 4, 1000)\n",
    "idealy = norm.pdf(idealx, mu, sigma)\n",
    "ax.plot(idealx, idealy, label='Distribución',color='r')\n",
    "ax.legend()\n",
    "plt.show()"
   ]
  },
  {
   "cell_type": "markdown",
   "id": "01044654",
   "metadata": {},
   "source": [
    "4"
   ]
  },
  {
   "cell_type": "code",
   "execution_count": 37,
   "id": "0f4eb384",
   "metadata": {},
   "outputs": [],
   "source": [
    "N=1000\n",
    "x_i=0\n",
    "datos = []\n",
    "xi=x_i\n",
    "paso=0.4\n",
    "for i in range(1, N+1):\n",
    "    central=xi+np.random.normal(x_i,paso)\n",
    "    aceptacion= min(1,(1/(np.pi*(1+central**2))) /(1/(np.pi*(1+xi**2))))\n",
    "    numero = np.random.rand()\n",
    "    if numero < aceptacion:\n",
    "        xi=central\n",
    "    datos.append(xi)"
   ]
  },
  {
   "cell_type": "code",
   "execution_count": 38,
   "id": "2bb8dbb3",
   "metadata": {},
   "outputs": [
    {
     "data": {
      "image/png": "[encoded data removed]",
      "text/plain": [
       "<Figure size 640x480 with 1 Axes>"
      ]
     },
     "metadata": {},
     "output_type": "display_data"
    }
   ],
   "source": [
    "fig, ax = plt.subplots()\n",
    "plt.hist(datos, bins=30, density=True, alpha=0.5, label='muestra',color='b')\n",
    "idealx= np.linspace(-5, 5, 100)\n",
    "idealy = cauchy.pdf(idealx, 0, 1)\n",
    "ax.plot(idealx, idealy, label='Distribución',color='r')\n",
    "ax.legend()\n",
    "plt.show()"
   ]
  },
  {
   "cell_type": "markdown",
   "id": "903bc57a",
   "metadata": {},
   "source": [
    "## Parameter Estimation"
   ]
  },
  {
   "cell_type": "markdown",
   "id": "e3ebb364",
   "metadata": {},
   "source": [
    "3"
   ]
  },
  {
   "cell_type": "markdown",
   "id": "d82e2a4a",
   "metadata": {},
   "source": [
    "a)"
   ]
  },
  {
   "cell_type": "code",
   "execution_count": 115,
   "id": "a0435b5e",
   "metadata": {},
   "outputs": [],
   "source": [
    "def cargar(nombre:str)->tuple:\n",
    "    archivo=open(nombre,mode='r',encoding=(\"utf8\"))\n",
    "    llaves=archivo.readline().strip()\n",
    "    linea=archivo.readline().strip()\n",
    "    x=[]\n",
    "    \n",
    "    while len(linea)>0:\n",
    "        datos=linea.split(\" \")\n",
    "        datos[0]\n",
    "        x.append(float(datos[0]))\n",
    "          \n",
    "        linea=archivo.readline()\n",
    "        \n",
    "    archivo.close()\n",
    "\n",
    "    return  (x)"
   ]
  },
  {
   "cell_type": "code",
   "execution_count": 116,
   "id": "b4ef3b1b",
   "metadata": {},
   "outputs": [
    {
     "data": {
      "text/plain": [
       "array([ 0.90645143,  5.44611668,  6.84023829,  0.7436439 ,  7.33851806,\n",
       "        3.90194497,  3.99141194,  6.63773945,  3.29863313,  2.5263119 ,\n",
       "        6.02328429,  2.48439406,  5.05871256,  3.76490762,  4.14742489,\n",
       "       -0.3806526 ,  3.82357634,  1.51182547,  2.43154466,  3.99805201,\n",
       "        3.54379274,  3.96036376,  4.65182186,  4.53193625,  3.4696115 ,\n",
       "        4.65221447,  7.61107996,  6.24041004,  1.05374544,  3.62154606,\n",
       "        3.53077271,  4.19197859,  3.55221699,  3.90865005,  5.76443674,\n",
       "        2.63533463,  4.43729836,  6.67515723,  6.66005072,  3.46112223,\n",
       "        0.50538447,  2.8245733 ,  3.82463394,  4.93926748,  3.34332658,\n",
       "        4.73462971,  5.74401288,  5.29159347,  6.17391981,  0.98252883,\n",
       "        1.73405911,  3.58803383,  5.10611351,  2.74742979,  4.72965462,\n",
       "        3.9192504 ,  5.5411113 ,  2.59250776,  4.7904863 ,  3.7471351 ,\n",
       "        4.93786432,  5.6652078 ,  5.49974363,  4.87089337,  4.84319838,\n",
       "        3.11325577,  4.70316273,  5.48448502,  2.27142366,  3.89507054,\n",
       "        4.37913624,  3.79148615,  6.02826486,  3.71496582,  1.44944549,\n",
       "        2.14895149,  0.86797298,  0.12098617,  1.81469714,  4.53501203,\n",
       "        5.51874455,  4.19339843,  2.84119663,  6.66869975,  5.88501452,\n",
       "        6.6013383 ,  1.25517776,  9.03824707,  2.91863314,  5.21705827,\n",
       "        5.39438776,  3.2936599 ,  3.81650068,  0.82315173,  4.91903336,\n",
       "        1.49764654,  4.23665773,  4.67854004,  6.47919745,  2.59529741])"
      ]
     },
     "execution_count": 116,
     "metadata": {},
     "output_type": "execute_result"
    }
   ],
   "source": [
    "X=np.array(cargar('GaussianData.txt'))\n",
    "X"
   ]
  },
  {
   "cell_type": "markdown",
   "id": "9922f3f8",
   "metadata": {},
   "source": [
    "b)"
   ]
  },
  {
   "cell_type": "code",
   "execution_count": 117,
   "id": "45e4efb3",
   "metadata": {},
   "outputs": [],
   "source": [
    "def Priori(mu,sigma):\n",
    "    \n",
    "    pi=0\n",
    "    \n",
    "    if mu>=3 and mu<=5:\n",
    "        if sigma>=0.5 and sigma<=3.5:\n",
    "            pi=1\n",
    "    else:\n",
    "        pi=0\n",
    "            \n",
    "    return pi"
   ]
  },
  {
   "cell_type": "markdown",
   "id": "433d37b0",
   "metadata": {},
   "source": [
    "c)"
   ]
  },
  {
   "cell_type": "code",
   "execution_count": 118,
   "id": "ed4b40ad",
   "metadata": {},
   "outputs": [],
   "source": [
    "def Likelihood(mu,sigma,x):\n",
    "    \n",
    "    resp=1\n",
    "    for i in range(len(x)):\n",
    "        resp*=np.exp((-((mu-x[i])**2))/(2*sigma**2)) / (2*np.pi*sigma**2)**(1/2)\n",
    "    return resp     "
   ]
  },
  {
   "cell_type": "markdown",
   "id": "9733d28b",
   "metadata": {},
   "source": [
    "d)"
   ]
  },
  {
   "cell_type": "code",
   "execution_count": 119,
   "id": "ce656e0f",
   "metadata": {},
   "outputs": [],
   "source": [
    "Posterior=lambda mu,sigma,x: np.log(Likelihood(mu,sigma,x)*Priori(mu,sigma))"
   ]
  },
  {
   "cell_type": "markdown",
   "id": "2fdc00ee",
   "metadata": {},
   "source": [
    "e)"
   ]
  },
  {
   "cell_type": "code",
   "execution_count": 171,
   "id": "b4a94ed7",
   "metadata": {},
   "outputs": [],
   "source": [
    "N=int(2e4)\n",
    "def Metropolis(x):\n",
    "    mu = np.random.uniform(3, 5)\n",
    "    sigma=np.random.uniform(0.5,3.5)\n",
    "    post_1= Posterior( mu, sigma,X)\n",
    "    mu_resp=[mu]\n",
    "    sigma_resp=[sigma]\n",
    "    \n",
    "    for i in range(N):\n",
    "        mu_i=np.random.normal(mu,0.1)\n",
    "        sigma_i=np.random.normal(sigma,0.1)\n",
    "        \n",
    "        post_i = Posterior(mu_i,sigma_i,x)\n",
    "        \n",
    "        if post_i > post_1:\n",
    "            post_1=post_i\n",
    "            mu=mu_i\n",
    "            sigma=sigma_i\n",
    "            \n",
    "        else:\n",
    "            poster=np.exp(post_i-post_1)\n",
    "            \n",
    "            if poster>np.random.uniform():\n",
    "                post_1=post_i\n",
    "                mu=mu_i\n",
    "                sigma=sigma_i\n",
    "                \n",
    "        mu_resp.append(mu)\n",
    "        sigma_resp.append(sigma)\n",
    "    \n",
    "    return mu_resp, sigma_resp"
   ]
  },
  {
   "cell_type": "markdown",
   "id": "8c624106",
   "metadata": {},
   "source": [
    "f)"
   ]
  },
  {
   "cell_type": "code",
   "execution_count": 173,
   "id": "9062c0c9",
   "metadata": {},
   "outputs": [
    {
     "data": {
      "text/plain": [
       "(4.021230099068659, 1.8294500563665617)"
      ]
     },
     "execution_count": 173,
     "metadata": {},
     "output_type": "execute_result"
    }
   ],
   "source": [
    "mu,sigma=Metropolis(X)\n",
    "\n",
    "mu_mediana=np.percentile(mu,50)\n",
    "sigma_mediana=np.percentile(sigma,50)\n",
    "\n",
    "mu_mediana,sigma_mediana"
   ]
  },
  {
   "cell_type": "markdown",
   "id": "f610d4be",
   "metadata": {},
   "source": [
    "g)"
   ]
  },
  {
   "cell_type": "code",
   "execution_count": 188,
   "id": "ae701004",
   "metadata": {},
   "outputs": [],
   "source": [
    "mu_liminf=np.percentile(mu,16)\n",
    "mu_limsum=np.percentile(mu,84)\n",
    "sigma_liminf=np.percentile(sigma,16)\n",
    "sigma_limsum=np.percentile(sigma,84)\n"
   ]
  },
  {
   "cell_type": "code",
   "execution_count": 189,
   "id": "83f06b94",
   "metadata": {},
   "outputs": [
    {
     "data": {
      "text/plain": [
       "0.18161779445934734"
      ]
     },
     "execution_count": 189,
     "metadata": {},
     "output_type": "execute_result"
    }
   ],
   "source": [
    "mu_lowererr=mu_mediana- mu_liminf\n",
    "mu_lowererr\n"
   ]
  },
  {
   "cell_type": "code",
   "execution_count": 190,
   "id": "2bdc329a",
   "metadata": {},
   "outputs": [
    {
     "data": {
      "text/plain": [
       "0.1791534692825083"
      ]
     },
     "execution_count": 190,
     "metadata": {},
     "output_type": "execute_result"
    }
   ],
   "source": [
    "mu_uppererr=-mu_mediana+ mu_limsum\n",
    "mu_uppererr\n"
   ]
  },
  {
   "cell_type": "code",
   "execution_count": 191,
   "id": "e6c10aa8",
   "metadata": {},
   "outputs": [
    {
     "data": {
      "text/plain": [
       "0.1437462117790811"
      ]
     },
     "execution_count": 191,
     "metadata": {},
     "output_type": "execute_result"
    }
   ],
   "source": [
    "sigma_uppererr=sigma_limsum- sigma_mediana\n",
    "sigma_uppererr"
   ]
  },
  {
   "cell_type": "code",
   "execution_count": 192,
   "id": "61efba94",
   "metadata": {},
   "outputs": [
    {
     "data": {
      "text/plain": [
       "0.1238659582922974"
      ]
     },
     "execution_count": 192,
     "metadata": {},
     "output_type": "execute_result"
    }
   ],
   "source": [
    "sigma_lowererr=sigma_mediana-sigma_liminf\n",
    "sigma_lowererr"
   ]
  },
  {
   "cell_type": "markdown",
   "id": "7ee84000",
   "metadata": {},
   "source": [
    "5"
   ]
  },
  {
   "cell_type": "markdown",
   "id": "28e236b0",
   "metadata": {},
   "source": [
    "a)"
   ]
  },
  {
   "cell_type": "markdown",
   "id": "35489215",
   "metadata": {},
   "source": [
    "b)"
   ]
  },
  {
   "cell_type": "code",
   "execution_count": null,
   "id": "02d32f7d",
   "metadata": {},
   "outputs": [],
   "source": []
  }
 ],
 "metadata": {
  "kernelspec": {
   "display_name": "Python 3 (ipykernel)",
   "language": "python",
   "name": "python3"
  },
  "language_info": {
   "codemirror_mode": {
    "name": "ipython",
    "version": 3
   },
   "file_extension": ".py",
   "mimetype": "text/x-python",
   "name": "python",
   "nbconvert_exporter": "python",
   "pygments_lexer": "ipython3",
   "version": "3.10.9"
  }
 },
 "nbformat": 4,
 "nbformat_minor": 5
}
