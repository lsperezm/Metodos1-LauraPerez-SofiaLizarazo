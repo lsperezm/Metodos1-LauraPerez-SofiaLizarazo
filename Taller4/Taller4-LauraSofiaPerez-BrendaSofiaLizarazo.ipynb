{
 "cells": [
  {
   "cell_type": "code",
   "execution_count": 45,
   "id": "2768f2d4",
   "metadata": {},
   "outputs": [],
   "source": [
    "\n",
    "%matplotlib notebook\n",
    "import sympy as sym\n",
    "import numpy             as np\n",
    "import matplotlib.pyplot as plt\n",
    "from mpl_toolkits.mplot3d import Axes3D\n",
    "import corner\n",
    "from tqdm import tqdm\n",
    "import scipy.integrate as integrate\n",
    "import matplotlib.animation as anim\n",
    "from statistics import mode\n",
    "import emcee\n",
    "from matplotlib          import rc \n",
    "from matplotlib          import cm\n",
    "from scipy.stats import norm\n",
    "from scipy.stats import cauchy\n",
    "\n",
    "import pandas as pd\n",
    "import corner\n"
   ]
  },
  {
   "cell_type": "markdown",
   "id": "328c9d37",
   "metadata": {},
   "source": [
    "# Técnicas De Conteo"
   ]
  },
  {
   "cell_type": "markdown",
   "id": "d80e1db5",
   "metadata": {},
   "source": [
    "20"
   ]
  },
  {
   "cell_type": "markdown",
   "id": "f4ead22a",
   "metadata": {},
   "source": [
    "Demostración por inducción:\n",
    "\n",
    "Dada la fórmula de combinatoria con repetición para $n$ elementos:\n",
    "\n",
    "$$\n",
    "C_{r}^{n}=\\binom{n+r-1}{r}=\\frac {(n+r-1)!}{r!(n-1)!}\n",
    "$$\n",
    "\n",
    "1) Caso Base:\n",
    "\n",
    "Para n=1 y r=0 se tiene:\n",
    "\n",
    "$$\n",
    "C_{0}^{1}=\\binom{1+0-1}{0}=\\frac{(1+0-1)!}{0!(1-1)!}\n",
    "=\\frac{0!}{0!0!}=\\frac{1}{1}=1\n",
    "$$\n",
    "\n",
    "\n",
    "2) Paso Inductivo:\n",
    "\n",
    "Para verificar $C_{r}^{n+1}$ necesitamos comprobar que:\n",
    "\n",
    "$$\n",
    "C_{r}^{n+1}=\\binom{n+1+r-1}{r}=\\binom{n+r}{r}=\\frac{(n+r)!}{r!n!}\n",
    "$$\n",
    "\n",
    "De modo que se tiene:\n",
    "\n",
    "$$\n",
    "\\begin{equation} \\label{eq1}\n",
    "\\begin{split}\n",
    "C_{r}^{n+1}&=\\binom{n+1+r-1}{r}\\\\\n",
    "&= \\binom{n+r-1}{r-1} + \\binom{n+r-1}{r}\\\\\n",
    "&= \\frac {(n+r-1)!}{(r-1)!(n+r-1-r+1)!} + \\frac{(n+r-1)!}{r!(n+r-1-r)!}\\\\\n",
    "&=\\frac{r(n+r-1)!}{r!n!} + \\frac{(n+r-1)!}{r!(n-1)!}\\\\\n",
    "&=\\frac{r(n+r-1)!}{r!n!}+\\frac{n(n+r-1)!}{r!n!}\\\\\n",
    "&=\\frac{r(n+r-1)! + n(n+r-1)!}{r!n!}\\\\\n",
    "&=\\frac{(n+r-1)!(r+n)}{r!n!}\\\\\n",
    "&=\\frac{(n+r)!}{r!n!}\\\\\n",
    "\\end{split}\n",
    "\\end{equation}\n",
    "$$ \n",
    "\n",
    "Entonces $C_{r}^{n+1}$ es verdadera siempre que $C_{r}^{n}$. De forma que por el principio de inducción, $C_{r}^{n}=\\binom{n+r-1}{r}=\\frac {(n+r-1)!}{r!(n-1)!}$ es verdadera."
   ]
  },
  {
   "cell_type": "markdown",
   "id": "69f38e02",
   "metadata": {},
   "source": [
    "22 "
   ]
  },
  {
   "cell_type": "markdown",
   "id": "461fa657",
   "metadata": {},
   "source": [
    "Teórico:\n",
    "\n",
    "Teniendo en cuenta que se busca realizar la suma de 3 enteros que de 10, entonces se pueden sumar numeros que esten en el rango [0,10] Se realiza una combinación con repetición, dada por la siguiente fórmula:\n",
    "\n",
    "$$\n",
    "C_{r}^{n} = \\binom{n+r-1}{r}\n",
    "$$\n",
    "\n",
    "Siendo $r$ la cantidad de particiones entre los números que podemos elegir (al tener 3 enteros, hay 2 particiones entre ellos) y $n$ la cantidad de números de los que se pueden elegir (en este caso 11). De modo que se tiene:\n",
    "\n",
    "$$\n",
    "C_{2}^{11} = \\binom{11+2-1}{2} = \\binom{12}{2}\\\\\n",
    "= \\frac{12!}{2! (11-1)!}= \\frac{479001600}{2(3628800)}=\\frac{479001600}{7257600}=66\n",
    "$$\n"
   ]
  },
  {
   "cell_type": "markdown",
   "id": "3c88316e",
   "metadata": {},
   "source": [
    "Computacional:"
   ]
  },
  {
   "cell_type": "code",
   "execution_count": 2,
   "id": "c2a84346",
   "metadata": {},
   "outputs": [
    {
     "data": {
      "text/plain": [
       "66"
      ]
     },
     "execution_count": 2,
     "metadata": {},
     "output_type": "execute_result"
    }
   ],
   "source": [
    "num=np.array([0,1,2,3,4,5,6,7,8,9,10])\n",
    "count=0\n",
    "\n",
    "for i in range(len(num)):\n",
    "    for j in range(len(num)):\n",
    "        for k in range(len(num)):\n",
    "            suma=i+j+k\n",
    "            if suma==10:\n",
    "                count+=1\n",
    "                \n",
    "count"
   ]
  },
  {
   "cell_type": "markdown",
   "id": "c81ce16b",
   "metadata": {},
   "source": [
    "23"
   ]
  },
  {
   "cell_type": "markdown",
   "id": "d577653f",
   "metadata": {},
   "source": [
    "Teniendo 9 llaves (3 rojas, 3 verdes y 3 azules), para sacar 4 al azar tenemos las siguientes posibles configuraciones:\n",
    "\n",
    "$$\n",
    "\\begin{equation}\n",
    "\\begin{matrix}\n",
    "1- RRRV \\\\     \n",
    "2- RRRA\\\\\n",
    "3- VVVA\\\\\n",
    "4- VVVR\\\\\n",
    "5- AAAR\\\\\n",
    "6- AAAV\n",
    "\\end{matrix}\n",
    "\\begin {matrix}\n",
    "|\\\\\n",
    "|\\\\\n",
    "|\\\\\n",
    "|\\\\\n",
    "|\\\\\n",
    "|\n",
    "\\end {matrix}\n",
    "\\begin{matrix}\n",
    " 7- RRVV \\\\     \n",
    " 8- RRAA\\\\\n",
    " 9- RRAV\\\\\n",
    " 10- VVAA\\\\\n",
    " 11- VVAR\\\\\n",
    " 12- AARV\n",
    "\\end{matrix}\n",
    "\\end{equation}\n",
    "$$\n",
    "\n",
    "Sabiendo esto, podemos identificar que hay tres  formas de elegirlas 4 llaves dadas por las siguientes operaciones:\n",
    "\n",
    "1. Tres del mismo color y una de alguno de los dos coleres restantes:\n",
    "\n",
    "$$\n",
    "3*2=6\n",
    "$$\n",
    "Donde el $3$ implica la cantidad de opciones de las que se pueden elegir el color de las tres llaves y el $2$ la cantidad de opciones para elegir la del color distinto. \n",
    "\n",
    "2. Dos del mismo color con dos de otro color:\n",
    "\n",
    "$$\n",
    "\\frac{3*2}{2}=3\n",
    "$$\n",
    "Donde el $3$ implica la cantidad de opciones de las que se puede elegir el color de las primeras dos llaves del mismo color y el $2$ por el que se multiplica se refiere a la cantidad de opciones para elegir el color de las otraas dos llaves. Esto se divide entre $2$ ya que tener, por ejemplo: $RRAA$ es lo mismo que tener $AARR$.\n",
    "\n",
    "3. Dos del mismo color y las otras dos de colores distintos:\n",
    "\n",
    "$$\n",
    "3*1*1=3\n",
    "$$\n",
    "Donde el $3$ implica la cantidad de opciones de las que se puede elegir el color de las primeras dos llaves del mismo color y cada $1$ es la cantidad de posibilidades para elegir los otros dos colores, de modo que solo hay una posibilidad ya que si o si van a estar presentes ambos colores.\n",
    "\n"
   ]
  },
  {
   "cell_type": "markdown",
   "id": "8661696a",
   "metadata": {},
   "source": [
    "## Generales de Probabilidad"
   ]
  },
  {
   "cell_type": "markdown",
   "id": "e0b38830",
   "metadata": {},
   "source": [
    "4"
   ]
  },
  {
   "cell_type": "code",
   "execution_count": 3,
   "id": "ba5a5471",
   "metadata": {},
   "outputs": [],
   "source": [
    "d=365\n",
    "x=np.arange(1,81)\n",
    "probgraficar=np.zeros(80)\n",
    "probgeneral=np.zeros(365)\n",
    "\n",
    "datos= []\n",
    "\n",
    "for i in range(len(probgeneral)):\n",
    "    f_i= (d-i)/d\n",
    "    datos.append(f_i)\n",
    "    if i<=80:\n",
    "        probgraficar[i-1]=np.prod(datos)\n",
    "        probgeneral[i-1]=np.prod(datos)\n",
    "    else:\n",
    "        probgeneral[i-1]=np.prod(datos)\n",
    "\n"
   ]
  },
  {
   "cell_type": "code",
   "execution_count": 5,
   "id": "ddd2b6f5",
   "metadata": {
    "scrolled": false
   },
   "outputs": [
    {
     "data": {
      "text/plain": [
       "<matplotlib.collections.PathCollection at 0x2ab553f4a00>"
      ]
     },
     "execution_count": 5,
     "metadata": {},
     "output_type": "execute_result"
    },
    {
     "data": {
      "image/png": "[encoded data removed]",
      "text/plain": [
       "<Figure size 640x480 with 1 Axes>"
      ]
     },
     "metadata": {},
     "output_type": "display_data"
    }
   ],
   "source": [
    "plt.scatter(x,probgraficar)"
   ]
  },
  {
   "cell_type": "markdown",
   "id": "d07c7d88",
   "metadata": {},
   "source": [
    "9"
   ]
  },
  {
   "cell_type": "markdown",
   "id": "aad80df0",
   "metadata": {},
   "source": [
    "Para $P_{1}\\neq \\frac{1}{2}$ se deben tener en cuenta los siguientes casos:\n",
    "\n",
    "1. Obtener las dos caras en las monedas no truncadas:\n",
    "\n",
    "Se multiplica la probabilidad de tener las dos caras en las no truncadas por la de tener sello en la truncada\n",
    "$$\n",
    "P_{ntrun}= \\frac{3}{8}(1-P_{1})\n",
    "$$\n",
    "\n",
    "2. Obtener una cara en la moneda trucada:\n",
    "\n",
    "Se multiplica la probabilidad de tener una cara en las no truncadas por la de tener cara en la truncada\n",
    "\n",
    "$$\n",
    "P_{trun}= \\frac{3}{8}(P_{1})\n",
    "$$\n",
    "\n",
    "Para obtener la probabilidad total de tener 2 caras en los lanzamientos, se suman estos dos eventos:\n",
    "\n",
    "$$\n",
    "\\begin{equation}\n",
    "\\begin{split}\n",
    "P_{T}&=P_{trun}+P_{ntrun}\\\\\n",
    "&=\\frac{3}{8}(P_{1}) + \\frac{3}{8}(1-P_{1})\\\\\n",
    "&=\\frac{3}{8}(P_{1})+ \\frac{3}{8} -\\frac{3}{8}(P_{1})\\\\\n",
    "&=\\frac{3}{8}\n",
    "\\end{split}\n",
    "\\end{equation}\n",
    "$$"
   ]
  },
  {
   "cell_type": "markdown",
   "id": "88922d03",
   "metadata": {},
   "source": [
    "Para $P_{1}$ y $P_{2} \\neq \\frac{1}{2}$ se deben tener en cuenta los siguientes casos:\n",
    "\n",
    "$$\n",
    "1. C,C,S,S\\\\\n",
    "2. S,S,C,C\\\\\n",
    "3. C,S,C,S\\\\\n",
    "4. S,C,S,C\\\\\n",
    "$$\n",
    "Aunque para los casos 3 y 4 en las monedas 2 y 3 no importa el orden sino que una de ellas sea cara, ya que ambas opciones para estas dos monedas tienen la misma probabilidad ($\\frac{1}{2}$).\n"
   ]
  },
  {
   "cell_type": "code",
   "execution_count": 46,
   "id": "e6f3d133",
   "metadata": {},
   "outputs": [
    {
     "data": {
      "text/latex": [
       "$\\displaystyle - 0.5 p_{1} p_{2} + 0.25 p_{1} + 0.25 p_{2} + 0.25$"
      ],
      "text/plain": [
       "-0.5*p_1*p_2 + 0.25*p_1 + 0.25*p_2 + 0.25"
      ]
     },
     "execution_count": 46,
     "metadata": {},
     "output_type": "execute_result"
    }
   ],
   "source": [
    "P_1=sym.Symbol('p_1', real=True)\n",
    "P_2=sym.Symbol('p_2', real=True)\n",
    "def Probabilidad(P_1,P_2):\n",
    "    caso1= P_1*P_2*(1/2)*(1/2)\n",
    "    caso2= (1-P_1)*(1-P_2)*(1/2)*(1/2)\n",
    "    caso3= P_1*(1-P_2)*(1/2)\n",
    "    caso4= (1-P_1)*P_2*(1/2)\n",
    "    total=caso1+caso2+caso3+caso4\n",
    "    \n",
    "    return total\n",
    "\n",
    "func=sym.simplify(Probabilidad(P_1,P_2))\n",
    "func"
   ]
  },
  {
   "cell_type": "code",
   "execution_count": 47,
   "id": "22094b3b",
   "metadata": {},
   "outputs": [
    {
     "data": {
      "image/png": "[encoded data removed]",
      "text/plain": [
       "<Figure size 640x480 with 1 Axes>"
      ]
     },
     "metadata": {},
     "output_type": "display_data"
    }
   ],
   "source": [
    "p_1=np.linspace(0.1,0.9,100)\n",
    "p_2=np.linspace(0.1,0.5,100)\n",
    "z=np.zeros([100,100])\n",
    "p1,p2=np.meshgrid(p_1,p_2)\n",
    "z=Probabilidad(p1,p2)\n",
    "\n",
    "\n",
    "fig = plt.figure()\n",
    "ax = fig.add_subplot(111,projection='3d')\n",
    "ax.plot_surface(p1,p2,z,cmap='twilight_shifted')\n",
    "ax.set_xlabel('p1')\n",
    "ax.set_ylabel('p2')\n",
    "ax.view_init(elev=25, azim=85)"
   ]
  },
  {
   "cell_type": "code",
   "execution_count": 79,
   "id": "ddabdd65",
   "metadata": {},
   "outputs": [
    {
     "name": "stdout",
     "output_type": "stream",
     "text": [
      "El punto de probabilidad máxima es:  [0.9, 0.1] con un valor de:  0.455  y el punto de probabilidad mínima es:  [0.1, 0.1]  con un valor de:  0.295\n"
     ]
    }
   ],
   "source": [
    "maxi=0\n",
    "mini=2\n",
    "maximo=np.array([0,0])\n",
    "minimo=np.array([0,0])\n",
    "maxis=[]\n",
    "minis=[]\n",
    "\n",
    "for i in range(len(p_1)):\n",
    "    for j in range(len(p_2)):\n",
    "        \n",
    "        z_i=Probabilidad(p_1[i],p_2[j])\n",
    "        if z_i>maxi:\n",
    "            maxi=z_i\n",
    "            maxis.append([p_1[i],p_2[j]])\n",
    "            \n",
    "        if z_i<mini:\n",
    "            mini=z_i\n",
    "            minis.append([p_1[i],p_2[j]])\n",
    "            \n",
    "maxis[-1],minis[-1],maxi,mini\n",
    "\n",
    "print('El punto de probabilidad máxima es: ',maxis[-1],'con un valor de: ',maxi,' y el punto de probabilidad mínima es: ', minis[-1],' con un valor de: ', mini)"
   ]
  },
  {
   "cell_type": "markdown",
   "id": "ebc9d4dc",
   "metadata": {},
   "source": [
    "12"
   ]
  },
  {
   "cell_type": "markdown",
   "id": "9fd46abf",
   "metadata": {},
   "source": [
    "a) \n",
    "\n",
    "Dedo que se tienen N partículas y que cada una puede adoptar un nivel de energía $\\epsilon_{0}$ o $\\epsilon_{1}$ de moso que la cantidad de partículas que se encuentren el estado $\\epsilon_{0}$ esté dado por $n_{0}$ y las que se encuentren en el estado $\\epsilon_{1}$ estén dadas por $n_{1}$. El número de configuraciones posibles estará dado por una combinación sin repetición de forma que podemos partir de la siguiene fórmula:\n",
    "\n",
    "$$\n",
    "C_{r}^{n}= \\frac{n!}{(n-r)!r!}\n",
    "$$\n",
    "\n",
    "Usando $n=N$ y $r=n_{0}$, obteniendo: \n",
    "\n",
    "$$\n",
    "C_{n_{0}}^{N}= \\frac{N!}{(N-n_{0})!n_{0}!}\n",
    "$$\n",
    "\n",
    "y sabiendo que $N=n_{0} + n_{1}$ tenemos que el número de configuraciones posibles está dado por:\n",
    "\n",
    "$$\n",
    "\\Omega(N,n_{0})= \\frac{N!}{(n_{1})!n_{0}!}\n",
    "$$\n",
    "\n"
   ]
  },
  {
   "cell_type": "markdown",
   "id": "183636f9",
   "metadata": {},
   "source": [
    "b)\n",
    "\n",
    "A partir de la ecuación de la entropía dada por: $S(N,n_{0})=k_{B}ln(\\Omega)$ y la fórmula de Stirling $ln(N!)\\cong Nln(N)-N $ tenemos que:\n",
    "\n",
    "$$\\begin{equation}\n",
    "\\begin{split}\n",
    "S(N,n_{0})&=k_{B}ln \\Big(\\frac{N!}{n_{0}!n_{1}!} \\Big)\\\\\n",
    "&=k_{B}\\Big( ln(N!) - ln(n_{0}!) - ln(n_{1}) \\Big) \\\\\n",
    "&=k_{B} \\Big( Nln(N) - N - n_{0}ln(n_{0}) + n_{0} - n_{1}ln(n_{1}) + n_{1} \\Big)\\\\\n",
    "&=k_{B} \\Big( Nln(N)-N+N-n_{0}ln(n_{0})-n_{1}ln(n_{1}) \\Big)\\\\\n",
    "&=k_{B} \\Big( Nln(N)- \\sum_{i=0}^1 n_{i}ln(n_{i}) \\Big)\n",
    "\\end{split}\n",
    "\\end{equation}\n",
    "$$"
   ]
  },
  {
   "cell_type": "markdown",
   "id": "6802e235",
   "metadata": {},
   "source": [
    "c)\n",
    "\n",
    "A partir de la fórmula obtenida del inciso b) y sabiendo que $x=\\frac{n_{1}}{N}$ para las partículas que se encuentran en el nivel de energía $\\epsilon_{1}$ y que $x=\\frac{1}{N(\\epsilon_{0}-\\epsilon_{1})}(E-N_{\\epsilon_{0}})$. Tenemos que:\n",
    "\n",
    "$$\n",
    "n_{1}= xN\\\\\n",
    "n_{0}=N-Nx\n",
    "$$\n",
    "\n",
    "De modo que se tiene que:\n",
    "\n",
    "$$\n",
    "\\begin{equation}\n",
    "\\begin{split}\n",
    "S(N,x)&=k_{B} \\Big(Nln(N)-(N-Nx)ln(N-Nx)-Nxln(Nx) \\Big)\\\\\n",
    "&=k_{B}N \\Big(ln(N) - (1-x)ln(N-Nx)-xln(Nx) \\Big)\\\\\n",
    "&=k_{B}N \\Big(ln(N)-ln(N-Nx)+xln(N-Nx) - xln(Nx) \\Big)\\\\\n",
    "&=k_{B}N \\Big(ln(N) - ln(N(1-x))+xln(N(1-x)) -xln(Nx) \\Big)\\\\\n",
    "&=k_{B}N \\Big(ln(N)-ln(N) - ln(1-x) + xln(N) + xln(1-x)-xln(N)-xln(x) \\Big)\\\\\n",
    "&=-k_{B}N \\Big(ln(1-x) - xln(1-x) + xln(x) \\Big)\\\\\n",
    "&=-k_{B}N \\Big(xln(x)+(1-x)ln(1-x) \\Big)\\\\\n",
    "\\end{split}\n",
    "\\end{equation}\n",
    "$$\n",
    "\n"
   ]
  },
  {
   "cell_type": "markdown",
   "id": "3e52decf",
   "metadata": {},
   "source": [
    "d) \n",
    "\n",
    "$$\n",
    "\\begin{equation}\n",
    "\\begin{split}\n",
    "\\frac{S(N,x)}{k_{B}N}&=\\frac{-k_{B}N[xln(x) +(1-x)ln(1-x)]}{k_{B}N}\\\\\n",
    "\\\\\n",
    "&= -(xln(x) +(1-x)ln(1-x))\n",
    "\\end{split}\n",
    "\\end{equation}\n",
    "$$\n",
    "\n",
    "\n",
    "\n",
    "\n"
   ]
  },
  {
   "cell_type": "code",
   "execution_count": 12,
   "id": "d31c0558",
   "metadata": {},
   "outputs": [
    {
     "data": {
      "text/plain": [
       "[<matplotlib.lines.Line2D at 0x1bf3d4e3610>]"
      ]
     },
     "execution_count": 12,
     "metadata": {},
     "output_type": "execute_result"
    },
    {
     "data": {
      "image/png": "[encoded data removed]",
      "text/plain": [
       "<Figure size 640x480 with 1 Axes>"
      ]
     },
     "metadata": {},
     "output_type": "display_data"
    }
   ],
   "source": [
    "x=sym.Symbol('x',real=True)\n",
    "f=lambda x: -(x*np.log(x) + (1-x)*np.log(1-x))\n",
    "X=np.linspace(0.001,0.999,1000)\n",
    "y=f(X)\n",
    "\n",
    "plt.plot(X,y)\n",
    "\n"
   ]
  },
  {
   "cell_type": "markdown",
   "id": "ad1bef65",
   "metadata": {},
   "source": [
    "e)\n",
    "Partiendo de la fórmula \n",
    "\n",
    "$$\n",
    "\\frac{1}{T}= \\Big(\\frac{\\partial S}{\\partial x}\\Big)_{N}\\Big(\\frac{\\partial x}{\\partial E}\\Big)_{N}\n",
    "$$\n",
    "\n",
    "Tenemos:\n",
    "\n",
    "$$\n",
    "\\begin{equation}\n",
    "\\begin{split}\n",
    "\\frac{\\partial S}{\\partial x} &= -k_{B}N\\Big(ln(x)+\\frac{x}{x}-ln(1-x) - \\frac{1-x}{1-x}\\Big)\\\\\n",
    "&=-k_{B}N\\Big (ln(x)-ln(1-x)\\Big)\n",
    "\\end{split}\n",
    "\\end{equation}\n",
    "$$\n",
    "\n",
    "y\n",
    "\n",
    "$$\n",
    "\\begin{equation}\n",
    "\\begin{split}\n",
    "\\frac{\\partial x}{\\partial E} &=\\frac{1}{N(\\epsilon_{0}-\\epsilon_{1})}(1-0)\\\\\n",
    "&=\\frac{1}{N(\\epsilon_{0}-\\epsilon_{1})}\n",
    "\\end{split}\n",
    "\\end{equation}\n",
    "$$\n",
    "\n",
    "De modo que se tiene:\n",
    "$$\n",
    "\\begin{equation}\n",
    "\\begin{split}\n",
    "\\frac{1}{T}&= \\Big(\\frac{\\partial S}{\\partial x}\\Big)_{N}\\Big(\\frac{\\partial x}{\\partial E}\\Big)_{N}\\\\\\frac{1}{T}&=\\Big(-k_{B}N [ln(x)-ln(1-x)]\\Big)\\frac{1}{N(\\epsilon_{0}-\\epsilon_{1})}\\\\\n",
    "\\frac{1}{T}&=\\Big(-k_{B}[ln(x)-ln(1-x)]\\Big)\\frac{1}{\\epsilon_{0}-\\epsilon_{1}}\\\\\n",
    "T&=\\frac{\\epsilon_{0}-\\epsilon_{1}}{-k_{B}[ln(x)-ln(1-x)]}\\\\\n",
    "T&=\\frac{\\Delta E}{-k_{B}[ln(x)-ln(1-x)]}\\\\\n",
    "ln(x)-ln(1-x)&=\\frac{\\Delta E}{-k_{B}T}\\\\\n",
    "ln\\Big(\\frac{1-x}{x}\\Big) &=\\frac{\\Delta E}{k_{B}T}\\\\\n",
    "ln\\Big(\\frac{1}{x} -1\\Big) &=\\frac{\\Delta E}{k_{B}T}\\\\\n",
    "\\frac{1}{x} -1&= e^{\\frac{\\Delta E}{k_{B\n",
    "}T}}\\\\\n",
    "\\frac{1}{x}&=e^{\\frac{\\Delta E}{k_{B\n",
    "}T}} +1\\\\\n",
    "x&\n",
    "=\\frac{1}{e^{\\frac{\\Delta E}{k_{B}T}} +1}\n",
    "\\end{split}\n",
    "\\end{equation}\n",
    "$$\n"
   ]
  },
  {
   "cell_type": "markdown",
   "id": "3aa7651d",
   "metadata": {},
   "source": [
    "f)\n",
    "Para $T\\rightarrow \\infty$:\n",
    "$$\n",
    "\\begin{equation}\n",
    "\\begin{split}\n",
    "\\lim_{T\\to\\infty} x(T) &=\\lim_{T\\to\\infty} \\frac{1}{1+e^{\\frac{\\Delta E}{k_{B}T}}} \\\\\n",
    "&=\\frac{1}{1+e^{\\frac{\\Delta E}{\\infty}}}\\\\\n",
    "&=\\frac{1}{1+e^{0}}\\\\\n",
    "&=\\frac{1}{1+1}\\\\\n",
    "&=\\frac{1}{2}\n",
    "\\end{split}\n",
    "\\end{equation}\n",
    "$$\n",
    "\n",
    "Para $T\\rightarrow 0$:\n",
    "$$\n",
    "\\begin{equation}\n",
    "\\begin{split}\n",
    "\\lim_{T\\to 0} x(T) &=\\lim_{T\\to 0} \\frac{1}{1+e^{\\frac{\\Delta E}{k_{B}T}}} \\\\\n",
    "&=\\frac{1}{1+e^{\\frac{\\Delta E}{0}}}\\\\\n",
    "&=\\frac{1}{1+e^{\\infty}}\\\\\n",
    "&=\\frac{1}{\\infty}\\\\\n",
    "&=0\n",
    "\\end{split}\n",
    "\\end{equation}\n",
    "$$\n",
    "\n",
    "Para altas temperaturas, es decir $T \\leftarrow \\infty$:\n",
    "\n",
    "$$\n",
    "\\begin{equation}\n",
    "\\begin{split}\n",
    "S(T)&= \\lim_{T\\to \\infty} -k_{B}N \\Big[\\frac{1}{1+e^{\\frac{\\Delta E}{k_{B}T}}} ln \\Big(\\frac{1}{1+e^{\\frac{\\Delta E}{k_{B}T}}} \\Big)+\\Big(1- \\frac{1}{1+e^{\\frac{\\Delta E}{k_{B}T}}}\\Big)ln \\Big(1- \\frac{1}{1+e^{\\frac{\\Delta E}{k_{B}T}}} \\Big) \\Big]\\\\\n",
    "&= -k_{B}N \\Big[\\frac{1}{2}ln\\Big(\\frac{1}{2}\\Big) + \\frac{1}{2}ln\\Big(\\frac{1}{2}\\Big)\\Big]\\\\\n",
    "&=-k_{B}N ln \\Big(\\frac{1}{2} \\Big)\\\\\n",
    "&= -k_{B}N\\Big( ln(1) -ln(2) \\Big)\\\\\n",
    "&= k_{B}N ln(2)\n",
    "\\end{split}\n",
    "\\end{equation}\n",
    "$$\n",
    "\n"
   ]
  },
  {
   "cell_type": "markdown",
   "id": "b1c4d485",
   "metadata": {},
   "source": [
    "g)\n",
    "\n",
    "Según la formula del cambio de entropía para procesos isotérmicos dada por:\n",
    "\n",
    "$$\n",
    "\\begin{equation}\n",
    "\\begin{split}\n",
    "\\Delta S&= \\int_{V}^{2V} P dV\\\\\n",
    "&= \\int_{V}^{2V} \\frac{NRT}{V}dV\\\\\n",
    "&= NRT ln \\Big(\\frac{2V}{V} \\Big)\\\\\n",
    "&=NRTln(2)\n",
    "\\end{split}\n",
    "\\end{equation}\n",
    "$$\n",
    "\n",
    "Se puede identificar que este resultado y el del punto anterior tienen prácticamente la misma forma ya que si se toma $k_{B}=RT$ se obtendría el mismo resultado $k_{B}Nln(2)$ "
   ]
  },
  {
   "cell_type": "markdown",
   "id": "7ca0b2e1",
   "metadata": {},
   "source": [
    "## Distribuciones Discretas de Probabilidad"
   ]
  },
  {
   "cell_type": "markdown",
   "id": "9521dbd9",
   "metadata": {},
   "source": [
    "3"
   ]
  },
  {
   "cell_type": "markdown",
   "id": "f17a9e81",
   "metadata": {},
   "source": [
    "Sabiendo que entre los 10 microchips en el embarque hay 3 defectuosos y que la empresa tendrá 2 de estos al azar, entonces tenemos las siguientes tres posibilidades:\n",
    "\n",
    "1- Elegir 2 defectuosos:\n",
    "\n",
    "En este caso se tendrá que la forma de escoger justo esos dos está dada por la siguiente combinatoria:\n",
    "\n",
    "$$\n",
    "\\binom{3}{2}\n",
    "$$\n",
    "\n",
    "Siendo el $3$ losmicrochips totales defectuosos y el $2$ los microchips que se eligieron.\n",
    "\n",
    "2- Elegir 1 defectuoso:\n",
    "\n",
    "En este caso se tendrá que la forma de escoger uno defectuoso y uno en buen estado está dada por la siguiente combinatoria:\n",
    "\n",
    "$$\n",
    "\\binom{3}{1}\\binom{7}{2}\n",
    "$$\n",
    "\n",
    "Siendo el $3$ losmicrochips totales defectuosos y el $1$ los microchips que se eligieron de estos y se multiplica por la cantidad no defectuosa que fue adquirida por la empresa dada por $\\binom{7}{2}$.\n",
    "\n",
    "3- No elegir ningún microchip defectuoso:\n",
    "\n",
    "En este caso se tendrá que la forma de escoger amboss en buen estado está dada por la siguiente combinatoria:\n",
    "\n",
    "$$\n",
    "\\binom{7}{2}\n",
    "$$\n",
    "\n",
    "Siendo el $7$ losmicrochips totales en buenestado y el $2$ los microchips que se eligieron.\n",
    "\n",
    "De modo que si tomamos $x$ como la cantidad de microchips tendremos que la distribución de probabilidad está dada por:\n",
    "\n",
    "$$\n",
    "f(x)=\\frac{\\binom{7}{2-x}\\binom{3}{x}}{\\binom{10}{2}}\n",
    "$$\n",
    "\n",
    "donde el factor $\\binom{7}{2-x}$ se refiere a los microchips no defectuosos, el factor $\\binom{3}{x}$ a los defectuosos y el factor $\\binom{10}{2}$ a los microchips totales adquiridos por la empresa.\n",
    "\n",
    "$$\n",
    "\\\\\n",
    "\\\\\n",
    "$$"
   ]
  },
  {
   "cell_type": "code",
   "execution_count": 81,
   "id": "a1d3acec",
   "metadata": {},
   "outputs": [],
   "source": [
    "def Combinatoria(n,r):\n",
    "    return np.math.factorial(n)/(np.math.factorial(r)*np.math.factorial(n-r))"
   ]
  },
  {
   "cell_type": "markdown",
   "id": "119ba6a1",
   "metadata": {},
   "source": [
    "De este modo para el caso de obtener $0$ microchips defectuosos tenemos que la distribución de probabilidad es de:"
   ]
  },
  {
   "cell_type": "code",
   "execution_count": 86,
   "id": "1a9dd1fc",
   "metadata": {},
   "outputs": [
    {
     "data": {
      "text/plain": [
       "0.4666666666666667"
      ]
     },
     "execution_count": 86,
     "metadata": {},
     "output_type": "execute_result"
    }
   ],
   "source": [
    "P0=Combinatoria(7,2-0)*Combinatoria(3,0)/Combinatoria(10,2)\n",
    "P0"
   ]
  },
  {
   "cell_type": "markdown",
   "id": "f232243e",
   "metadata": {},
   "source": [
    "Para $1$ Microchip defectuoso:"
   ]
  },
  {
   "cell_type": "code",
   "execution_count": 85,
   "id": "0e4034f3",
   "metadata": {},
   "outputs": [
    {
     "data": {
      "text/plain": [
       "0.4666666666666667"
      ]
     },
     "execution_count": 85,
     "metadata": {},
     "output_type": "execute_result"
    }
   ],
   "source": [
    "P1=Combinatoria(7,2-1)*Combinatoria(3,1)/Combinatoria(10,2)\n",
    "P1"
   ]
  },
  {
   "cell_type": "markdown",
   "id": "10e8fe62",
   "metadata": {},
   "source": [
    "Para $2$ microchips defectuosos:"
   ]
  },
  {
   "cell_type": "code",
   "execution_count": 87,
   "id": "c58005f1",
   "metadata": {},
   "outputs": [
    {
     "data": {
      "text/plain": [
       "0.06666666666666667"
      ]
     },
     "execution_count": 87,
     "metadata": {},
     "output_type": "execute_result"
    }
   ],
   "source": [
    "P2=Combinatoria(7,2-2)*Combinatoria(3,2)/Combinatoria(10,2)\n",
    "P2"
   ]
  },
  {
   "cell_type": "markdown",
   "id": "a41c6771",
   "metadata": {},
   "source": [
    "4"
   ]
  },
  {
   "cell_type": "markdown",
   "id": "640521e1",
   "metadata": {},
   "source": [
    "a)\n",
    "\n",
    "En este ejercicio los casos posibles son independientes entre sí, por ende, la fórmula de combinatoria esta dada por la multiplicación entre la probabilidad de que ocurra cada uno de los casos entre la probabilidad total. \n",
    "\n",
    "Si $x$ es la cantidad de electrones que salen, $y$ es la cantidad de protones y la caja cuántica cuenta con 3 electrones, 2 protones y 3 neutrones. \n",
    "Existen 3 casos posibles: que salga almenos un electrón, que salga almenos un protón y que salga almenos un neutrón y están dadas por:\n",
    "\n",
    "Que salga almenos un electrón:\n",
    "$$\n",
    " \\binom{3}{x}\n",
    "$$\n",
    "\n",
    "Que salga almenos un protón:\n",
    "$$\n",
    " \\binom{2}{y}\n",
    "$$\n",
    "\n",
    "Que salga almenos un neutrón:\n",
    "Dado que no tenemos una variable fija para la cantidad de neutrones, podemos despejarla a partir de que se escogen 4 elementos y se sabe que entre esos están los electrones($x$), los protones($y$) y los neutrones.\n",
    "\n",
    "$$\n",
    "\\begin{equation}\n",
    "\\begin{split}\n",
    "x+y+neutrones&=4\\\\\n",
    "\\\\\n",
    "neutrones&=4-x-y\n",
    "\\end{split}\n",
    "\\end{equation}\n",
    "$$\n",
    "Ya sabiendo la fórmula para neutrones su probabilidad se expresaría de la siguiente manera:\n",
    "$$\n",
    " \\binom{3}{4-x-y} \n",
    "$$\n",
    "\n",
    "\n",
    "Por último, hay un total de 8 elementos de los cuales se seleccionan 4, siendo la razón entre los casos totales y los posibles es la siguiente:\n",
    "$$\n",
    " \\binom{8}{4}\n",
    "$$\n",
    "\n",
    "Por ende, La distribución de densidad conjunta se expresa como:\n",
    "\n",
    "$$\n",
    "\\frac{\\binom{3}{x}  \\binom{2}{y}  \\binom{3}{4-x-y}  }{\\binom{8}{4} }\n",
    "$$\n",
    "\n",
    "Llegando a la ecuación esperada.\n"
   ]
  },
  {
   "cell_type": "markdown",
   "id": "6dbade0a",
   "metadata": {},
   "source": [
    "b)"
   ]
  },
  {
   "cell_type": "code",
   "execution_count": 40,
   "id": "875cd9fb",
   "metadata": {},
   "outputs": [],
   "source": [
    "x= sym.Symbol(\"x\", real = True)\n",
    "y= sym.Symbol(\"y\", real = True)\n",
    "combinatoria= lambda x,y: np.math.factorial(x) / (np.math.factorial(np.abs(y))*np.math.factorial(np.abs(x-y)))\n",
    "def funcion(x, y):\n",
    "    return combinatoria(3,x)*combinatoria(2,y)*combinatoria(3,(4-x-y))/ combinatoria(8,4)"
   ]
  },
  {
   "cell_type": "code",
   "execution_count": 41,
   "id": "c530d162",
   "metadata": {},
   "outputs": [
    {
     "data": {
      "text/plain": [
       "(0.075, 0.21785714285714286)"
      ]
     },
     "execution_count": 41,
     "metadata": {},
     "output_type": "execute_result"
    }
   ],
   "source": [
    "protones= 2\n",
    "electrones=3\n",
    "def gx(x,y):\n",
    "    gx = 0\n",
    "    for y in range(protones+1):\n",
    "        gx += funcion(x, y)\n",
    "  \n",
    "    return gx\n",
    "def hy(x,y):\n",
    "    hy=0\n",
    "    for x in range(electrones+1):\n",
    "        f=funcion(x,y)\n",
    "        hy+=f\n",
    "    return hy\n",
    "\n",
    "gx(0,y),hy(x,0)"
   ]
  },
  {
   "cell_type": "markdown",
   "id": "8690efa0",
   "metadata": {},
   "source": [
    "c)"
   ]
  },
  {
   "cell_type": "code",
   "execution_count": 42,
   "id": "fa06611e",
   "metadata": {},
   "outputs": [
    {
     "data": {
      "text/plain": [
       "1.5"
      ]
     },
     "execution_count": 42,
     "metadata": {},
     "output_type": "execute_result"
    }
   ],
   "source": [
    "ex = 0\n",
    "for x in range(electrones+1):\n",
    "    ex += x * gx(x,0)\n",
    "ex=ex\n",
    "exnew=round(ex,1)\n",
    "exnew"
   ]
  },
  {
   "cell_type": "markdown",
   "id": "7779e584",
   "metadata": {},
   "source": [
    "d)"
   ]
  },
  {
   "cell_type": "code",
   "execution_count": 43,
   "id": "f0428a5d",
   "metadata": {},
   "outputs": [
    {
     "data": {
      "text/plain": [
       "1.0"
      ]
     },
     "execution_count": 43,
     "metadata": {},
     "output_type": "execute_result"
    }
   ],
   "source": [
    "ey = 0\n",
    "for y in range(protones+1):\n",
    "    ey += y * hy(0,y)\n",
    "ey=ey\n",
    "eynew=round(ey,1)\n",
    "eynew"
   ]
  },
  {
   "cell_type": "markdown",
   "id": "c3b791f7",
   "metadata": {},
   "source": [
    "e)"
   ]
  },
  {
   "cell_type": "code",
   "execution_count": 44,
   "id": "416cb6aa",
   "metadata": {},
   "outputs": [
    {
     "data": {
      "text/plain": [
       "-0.2143622448979594"
      ]
     },
     "execution_count": 44,
     "metadata": {},
     "output_type": "execute_result"
    }
   ],
   "source": [
    "exy=0\n",
    "for x in range(electrones+1):\n",
    "    for y in range(protones+1):\n",
    "        exy+= x * y * funcion(x, y)\n",
    "    \n",
    "covarianza1 = exy - (ex*ey)\n",
    "covarianza1"
   ]
  },
  {
   "cell_type": "markdown",
   "id": "95fcb902",
   "metadata": {},
   "source": [
    "f)"
   ]
  },
  {
   "cell_type": "code",
   "execution_count": 45,
   "id": "eb0b4022",
   "metadata": {},
   "outputs": [
    {
     "data": {
      "text/plain": [
       "-0.20349435131195337"
      ]
     },
     "execution_count": 45,
     "metadata": {},
     "output_type": "execute_result"
    }
   ],
   "source": [
    "exy2=0\n",
    "for x in range(electrones+1):\n",
    "    for y in range(protones+1):\n",
    "        exy2+= (x-ex)*(y-ey)*funcion(x,y)\n",
    "exy2"
   ]
  },
  {
   "cell_type": "markdown",
   "id": "64d06d7f",
   "metadata": {},
   "source": [
    "g)"
   ]
  },
  {
   "cell_type": "markdown",
   "id": "830b0e2e",
   "metadata": {},
   "source": [
    "Las variables $x$ y $y$ son linealmente independientes solo si la covarianza tiene un valor de 0. En este ejercicio la covarianza tiene un valor de alrededor de -3/14, de modo que las variables tienen una dependencia entre si."
   ]
  },
  {
   "cell_type": "markdown",
   "id": "8222a534",
   "metadata": {},
   "source": [
    "## Distribuciones Contínuas de Probabilidad"
   ]
  },
  {
   "cell_type": "markdown",
   "id": "f994c42f",
   "metadata": {},
   "source": [
    "1 "
   ]
  },
  {
   "cell_type": "code",
   "execution_count": 13,
   "id": "47d3778c",
   "metadata": {},
   "outputs": [
    {
     "data": {
      "text/latex": [
       "$\\displaystyle 0.666666666666667 x + 1.33333333333333 y$"
      ],
      "text/plain": [
       "0.666666666666667*x + 1.33333333333333*y"
      ]
     },
     "execution_count": 13,
     "metadata": {},
     "output_type": "execute_result"
    }
   ],
   "source": [
    "x= sym.Symbol(\"x\", real = True)\n",
    "y= sym.Symbol(\"y\", real = True)\n",
    "funcion=(2/3)*(x+2*y)\n",
    "funcion\n"
   ]
  },
  {
   "cell_type": "markdown",
   "id": "3b287356",
   "metadata": {},
   "source": [
    "a)\n",
    "\n",
    "Para que sea una funcion de densidad la integral entre su limite inferior y limite superior debe dar 1, en este caso es necesario realizar una integral doble (con respecto a x y luego con respecto a y) ambas entre 0 y 1, teniendo en cuenta que fueron los limites del ejercicio, quedandonos de la siguiente manera:\n",
    "$$ \n",
    "\\begin{equation}\n",
    "\\begin{split}\n",
    "densidad&= \\int_0^1\\ \\int_0^1\\ \\frac{2}{3}(x+2y)dxdy\\\\\n",
    "&= \\int_0^1\\ \\Big(\\frac{1}{3}+\\frac{4}{3}y\\Big)dy\\\\\n",
    "&=1\n",
    "\\end{split}\n",
    "\\end{equation}\n",
    "$$\n",
    "\n",
    "Como el resultado dio 1 la función si es una función de densidad conjunta valida\n",
    "\n"
   ]
  },
  {
   "cell_type": "code",
   "execution_count": 14,
   "id": "336a69af",
   "metadata": {},
   "outputs": [
    {
     "data": {
      "text/latex": [
       "$\\displaystyle 1.0$"
      ],
      "text/plain": [
       "1.00000000000000"
      ]
     },
     "execution_count": 14,
     "metadata": {},
     "output_type": "execute_result"
    }
   ],
   "source": [
    "integralx=sym.integrate(funcion,(x,0,1))\n",
    "integralfinal= sym.integrate(integralx,(y,0,1))\n",
    "integralfinal"
   ]
  },
  {
   "cell_type": "markdown",
   "id": "2d0b56ff",
   "metadata": {},
   "source": [
    "b)\n",
    "\n",
    "Sean x y y variables de nuestra función de probabilidad $f(x, y)$ las distribuciones marginales $g(x)$ y $h(y)$ están dadas por:\n",
    "$$\n",
    "g(x)= \\int_0^1\\ \\frac{2}{3}(x+2y)dy\\\\\n",
    "h(y)= \\int_0^1\\ \\frac{2}{3}(x+2y)dx\n",
    "$$\n",
    "Donde los límites se definen por los límites de la función y la distribución respecto a $x$ es la integral respecto a $y$ y la distribución respecto a $y$ es la integral respecto a $x$ \n",
    "\n",
    "Donde al desarrollar la integral se llega a los siguientes valores:\n",
    "\n",
    "$$\n",
    "g(x)= \\frac{2}{3}(x+1)\\\\\n",
    "h(y)= \\frac{1}{3}+\\frac{4}{3}y\n",
    "$$\n",
    "\n"
   ]
  },
  {
   "cell_type": "code",
   "execution_count": 15,
   "id": "61659998",
   "metadata": {},
   "outputs": [
    {
     "data": {
      "text/plain": [
       "(0.666666666666667*x + 0.666666666666667,\n",
       " 1.33333333333333*y + 0.333333333333333)"
      ]
     },
     "execution_count": 15,
     "metadata": {},
     "output_type": "execute_result"
    }
   ],
   "source": [
    "gx=sym.integrate(funcion,(y,0,1))\n",
    "hy=sym.integrate(funcion,(x,0,1))\n",
    "\n",
    "gx,hy"
   ]
  },
  {
   "cell_type": "markdown",
   "id": "9820d849",
   "metadata": {},
   "source": [
    "c)\n",
    "\n",
    "Para calcular $\\mathbb{E}(x)$ se debe integrar con respecto a $x$ y a la multiplicación entre la distribución marginal $G(x)$, quedando la expresión de la siguiente manera:\n",
    "$$\n",
    "\\begin{equation}\n",
    "\\begin{split}\n",
    "\\mathbb{E}(x)&= \\int_0^1\\ x G(x) dx\\\\\n",
    "&= \\int_0^1\\ x \\frac{2}{3}(x+1)dx\\\\\n",
    "&= \\frac{5}{9}\n",
    "\\end{split}\n",
    "\\end{equation}\n",
    "$$\n"
   ]
  },
  {
   "cell_type": "code",
   "execution_count": 16,
   "id": "5f17f40a",
   "metadata": {},
   "outputs": [
    {
     "data": {
      "text/latex": [
       "$\\displaystyle 0.555555555555556$"
      ],
      "text/plain": [
       "0.555555555555556"
      ]
     },
     "execution_count": 16,
     "metadata": {},
     "output_type": "execute_result"
    }
   ],
   "source": [
    "Ex=sym.integrate(x*gx,(x,0,1))\n",
    "Ex"
   ]
  },
  {
   "cell_type": "markdown",
   "id": "44ce9365",
   "metadata": {},
   "source": [
    "d)\n",
    "\n",
    "Para calcular $\\mathbb{E}(y)$ se debe integrar respecto a $y$ y a la multiplicación entre la distribución marginal $H(y)$, quedando la expresión de la siguiente manera:\n",
    "$$\n",
    "\\begin{equation}\n",
    "\\begin{split}\n",
    "\\mathbb{E}(y)&= \\int_0^1\\ y H(y)dx\\\\\n",
    "&= \\int_0^1\\ y (\\frac{1}{3}+\\frac{4}{3}y)dx\\\\\n",
    "&= \\frac{11}{18} \n",
    "\\end{split}\n",
    "\\end{equation}\n",
    "$$"
   ]
  },
  {
   "cell_type": "code",
   "execution_count": 17,
   "id": "51e09f23",
   "metadata": {},
   "outputs": [
    {
     "data": {
      "text/latex": [
       "$\\displaystyle 0.611111111111111$"
      ],
      "text/plain": [
       "0.611111111111111"
      ]
     },
     "execution_count": 17,
     "metadata": {},
     "output_type": "execute_result"
    }
   ],
   "source": [
    "Ey=sym.integrate(y*hy,(y,0,1))\n",
    "Ey"
   ]
  },
  {
   "cell_type": "markdown",
   "id": "d055bd96",
   "metadata": {},
   "source": [
    "e)\n",
    "\n",
    "Para utilizar esa fórmula solo nos faltaría conocer a $\\mathbb{E}(xy)$ y esta es una integral doble que se expresa de la siguiente manera:\n",
    "\n",
    "$$\n",
    "\\begin{equation}\n",
    "\\begin{split}\n",
    "\\mathbb{E}(xy)&= \\int_0^1 \\int_0^1 xyf(x,y) dxdy\\\\\n",
    "&=\\int_0^1 \\int_0^1 xy \\frac{2}{3}(x+2y)dxdy\\\\\n",
    "&=\\int_0^1 \\frac{2y}{3}\\Big(\\frac{1}{3}+y\\Big)dy\\\\\n",
    "&=\\frac{1}{3}\n",
    "\\end{split}\n",
    "\\end{equation}\n",
    "$$\n",
    "\n",
    "Ya conociendo el valor de $\\mathbb{E}(xy)$ se aplica la fórmula y da que la covarianza es:\n",
    "\n",
    "$$\n",
    "\\begin{equation}\n",
    "\\begin{split}\n",
    "\\mathbb{E}(xy)-\\mathbb{E}(x)\\mathbb{E}(y)&= \\frac{1}{3} - \\Big(\\frac{5}{9}\\Big)  \\Big(\\frac{11}{18}\\Big)\\\\\n",
    "&=-0.00617\n",
    "\\end{split}\n",
    "\\end{equation}\n",
    "$$\n",
    "Obteniendo el resultado esperado.\n"
   ]
  },
  {
   "cell_type": "code",
   "execution_count": 19,
   "id": "02a3fda4",
   "metadata": {},
   "outputs": [
    {
     "data": {
      "text/latex": [
       "$\\displaystyle -0.00617283950617281$"
      ],
      "text/plain": [
       "-0.00617283950617281"
      ]
     },
     "execution_count": 19,
     "metadata": {},
     "output_type": "execute_result"
    }
   ],
   "source": [
    "E2= sym.integrate(x*funcion,(x,0,1))\n",
    "Exy=sym.integrate(y*E2,(y,0,1))\n",
    "\n",
    "covarianza1=Exy-Ex*Ey\n",
    "covarianza1"
   ]
  },
  {
   "cell_type": "markdown",
   "id": "b06c759d",
   "metadata": {},
   "source": [
    "f)\n",
    "\n",
    "El otro metodo para encontrar la covarianza es utilizando la fórmula $\\mathbb{E}((x − \\mathbb{E}x)(y − \\mathbb{E}y))$ para evaluar a $\\mathbb{E}$ y realizar posteriormente una doble integral:\n",
    "\n",
    "$$\n",
    "\\begin{equation}\n",
    "\\begin{split}\n",
    "covarianza&= \\int_0^1 \\int_0^1 (x-\\mathbb{E}x)(y-\\mathbb{E}y)f(x,y)dxdy\\\\\n",
    "&= \\int_0^1 \\int_0^1 \\Big(x-\\frac{5}{9}\\Big )\\Big(y-\\frac{11}{18}\\Big \n",
    " )\\Big(\\frac{2}{3}\\Big)(x+2y)dxdy\\\\\n",
    "&= \\int_0^1\\Big(-\\frac{11}{27}+\\frac{2y}{3}\\Big)\\Big(-\\frac{5}{18}-\\frac{10y}{9}+\\frac{1}{3}+y\\Big)dy\\\\\n",
    "&= -0.00617\n",
    "\\end{split}\n",
    "\\end{equation}\n",
    "$$\n",
    "\n",
    "Obteniendo el mismo resultado que en el inciso e).\n"
   ]
  },
  {
   "cell_type": "code",
   "execution_count": 20,
   "id": "0ecbd5fe",
   "metadata": {},
   "outputs": [
    {
     "data": {
      "text/latex": [
       "$\\displaystyle -0.00617283950617284$"
      ],
      "text/plain": [
       "-0.00617283950617284"
      ]
     },
     "execution_count": 20,
     "metadata": {},
     "output_type": "execute_result"
    }
   ],
   "source": [
    "integralx= sym.integrate((x-Ex)*funcion,(x,0,1)) \n",
    "covarianza2=sym.integrate(integralx*(y-Ey),(y,0,1))\n",
    "covarianza2"
   ]
  },
  {
   "cell_type": "markdown",
   "id": "63dbf796",
   "metadata": {},
   "source": [
    "g)\n",
    "Teniendo en cuenta que en los puntos previos se llegó a que la covarianza es de $-0.00617$, las variables $x$ y $y$ no son linealmente intependientes, ya que para serlo se debió obtener una covarianza de $0$"
   ]
  },
  {
   "cell_type": "markdown",
   "id": "e6c999d3",
   "metadata": {},
   "source": [
    "4"
   ]
  },
  {
   "cell_type": "code",
   "execution_count": 10,
   "id": "51f78b52",
   "metadata": {},
   "outputs": [],
   "source": [
    "x=sym.Symbol(\"x\",real=True)\n",
    "f= sym.exp(-x)\n",
    "g=sym.exp(2*x/3)"
   ]
  },
  {
   "cell_type": "code",
   "execution_count": 12,
   "id": "9bc061c3",
   "metadata": {},
   "outputs": [
    {
     "data": {
      "text/latex": [
       "$\\displaystyle 3$"
      ],
      "text/plain": [
       "3"
      ]
     },
     "execution_count": 12,
     "metadata": {},
     "output_type": "execute_result"
    }
   ],
   "source": [
    "integral=sym.integrate(g*f,(x,0,np.inf))\n",
    "integral"
   ]
  },
  {
   "cell_type": "markdown",
   "id": "ab10c45a",
   "metadata": {},
   "source": [
    "## Metropolis Hasting"
   ]
  },
  {
   "cell_type": "markdown",
   "id": "149c2e31",
   "metadata": {},
   "source": [
    "1"
   ]
  },
  {
   "cell_type": "code",
   "execution_count": 48,
   "id": "d71517a2",
   "metadata": {},
   "outputs": [],
   "source": [
    "def Prior(p):\n",
    "    #piecewise es una definición de función a trozos\n",
    "    return np.piecewise(p,[p>=0 and p<=1,p<0 and p>1],[lambda p: 1, lambda p:0])\n",
    "Prior=np.vectorize(Prior)\n",
    "\n",
    "def Likelihood(p,r,n):\n",
    "    #r-> númeo de éxitos\n",
    "    #n-> númeo de lanzamientos\n",
    "    #p-> probabilidad\n",
    "    return p**r*(1-p)**(n-r)\n",
    "\n",
    "def Posterior (p,r,n):\n",
    "    return Likelihood(p,r,n)*Prior(p)\n",
    "\n",
    "def Metropolis(x0, Posterior, NSteps=int(1e4), delta= 0.4):\n",
    "    \n",
    "    x = np.zeros((NSteps,1))\n",
    "    \n",
    "    # Prior\n",
    "    x[0] = x0\n",
    "    \n",
    "    for i in tqdm(range(1,NSteps)):\n",
    "        \n",
    "        P0 = Posterior(x[i-1],r,n)\n",
    "        \n",
    "        xf = x[i-1] + delta*2*(np.random.rand()-0.5)\n",
    "        \n",
    "        P1 = Posterior(xf,r,n)\n",
    "        \n",
    "        alpha = np.minimum( 1, P1/P0 )\n",
    "        g = np.random.rand()\n",
    "        \n",
    "        if alpha > g:\n",
    "            x[i,0] = xf\n",
    "        else:\n",
    "            x[i,:] = x[i-1,:]\n",
    "            \n",
    "    return x[1000:,:]"
   ]
  },
  {
   "cell_type": "code",
   "execution_count": 56,
   "id": "bd63c36b",
   "metadata": {},
   "outputs": [
    {
     "name": "stderr",
     "output_type": "stream",
     "text": [
      "100%|██████████| 9999/9999 [00:01<00:00, 5519.85it/s]\n"
     ]
    },
    {
     "data": {
      "application/javascript": [
       "/* Put everything inside the global mpl namespace */\n",
       "/* global mpl */\n",
       "window.mpl = {};\n",
       "\n",
       "mpl.get_websocket_type = function () {\n",
       "    if (typeof WebSocket !== 'undefined') {\n",
       "        return WebSocket;\n",
       "    } else if (typeof MozWebSocket !== 'undefined') {\n",
       "        return MozWebSocket;\n",
       "    } else {\n",
       "        alert(\n",
       "            'Your browser does not have WebSocket support. ' +\n",
       "                'Please try Chrome, Safari or Firefox ≥ 6. ' +\n",
       "                'Firefox 4 and 5 are also supported but you ' +\n",
       "                'have to enable WebSockets in about:config.'\n",
       "        );\n",
       "    }\n",
       "};\n",
       "\n",
       "mpl.figure = function (figure_id, websocket, ondownload, parent_element) {\n",
       "    this.id = figure_id;\n",
       "\n",
       "    this.ws = websocket;\n",
       "\n",
       "    this.supports_binary = this.ws.binaryType !== undefined;\n",
       "\n",
       "    if (!this.supports_binary) {\n",
       "        var warnings = document.getElementById('mpl-warnings');\n",
       "        if (warnings) {\n",
       "            warnings.style.display = 'block';\n",
       "            warnings.textContent =\n",
       "                'This browser does not support binary websocket messages. ' +\n",
       "                'Performance may be slow.';\n",
       "        }\n",
       "    }\n",
       "\n",
       "    this.imageObj = new Image();\n",
       "\n",
       "    this.context = undefined;\n",
       "    this.message = undefined;\n",
       "    this.canvas = undefined;\n",
       "    this.rubberband_canvas = undefined;\n",
       "    this.rubberband_context = undefined;\n",
       "    this.format_dropdown = undefined;\n",
       "\n",
       "    this.image_mode = 'full';\n",
       "\n",
       "    this.root = document.createElement('div');\n",
       "    this.root.setAttribute('style', 'display: inline-block');\n",
       "    this._root_extra_style(this.root);\n",
       "\n",
       "    parent_element.appendChild(this.root);\n",
       "\n",
       "    this._init_header(this);\n",
       "    this._init_canvas(this);\n",
       "    this._init_toolbar(this);\n",
       "\n",
       "    var fig = this;\n",
       "\n",
       "    this.waiting = false;\n",
       "\n",
       "    this.ws.onopen = function () {\n",
       "        fig.send_message('supports_binary', { value: fig.supports_binary });\n",
       "        fig.send_message('send_image_mode', {});\n",
       "        if (fig.ratio !== 1) {\n",
       "            fig.send_message('set_device_pixel_ratio', {\n",
       "                device_pixel_ratio: fig.ratio,\n",
       "            });\n",
       "        }\n",
       "        fig.send_message('refresh', {});\n",
       "    };\n",
       "\n",
       "    this.imageObj.onload = function () {\n",
       "        if (fig.image_mode === 'full') {\n",
       "            // Full images could contain transparency (where diff images\n",
       "            // almost always do), so we need to clear the canvas so that\n",
       "            // there is no ghosting.\n",
       "            fig.context.clearRect(0, 0, fig.canvas.width, fig.canvas.height);\n",
       "        }\n",
       "        fig.context.drawImage(fig.imageObj, 0, 0);\n",
       "    };\n",
       "\n",
       "    this.imageObj.onunload = function () {\n",
       "        fig.ws.close();\n",
       "    };\n",
       "\n",
       "    this.ws.onmessage = this._make_on_message_function(this);\n",
       "\n",
       "    this.ondownload = ondownload;\n",
       "};\n",
       "\n",
       "mpl.figure.prototype._init_header = function () {\n",
       "    var titlebar = document.createElement('div');\n",
       "    titlebar.classList =\n",
       "        'ui-dialog-titlebar ui-widget-header ui-corner-all ui-helper-clearfix';\n",
       "    var titletext = document.createElement('div');\n",
       "    titletext.classList = 'ui-dialog-title';\n",
       "    titletext.setAttribute(\n",
       "        'style',\n",
       "        'width: 100%; text-align: center; padding: 3px;'\n",
       "    );\n",
       "    titlebar.appendChild(titletext);\n",
       "    this.root.appendChild(titlebar);\n",
       "    this.header = titletext;\n",
       "};\n",
       "\n",
       "mpl.figure.prototype._canvas_extra_style = function (_canvas_div) {};\n",
       "\n",
       "mpl.figure.prototype._root_extra_style = function (_canvas_div) {};\n",
       "\n",
       "mpl.figure.prototype._init_canvas = function () {\n",
       "    var fig = this;\n",
       "\n",
       "    var canvas_div = (this.canvas_div = document.createElement('div'));\n",
       "    canvas_div.setAttribute('tabindex', '0');\n",
       "    canvas_div.setAttribute(\n",
       "        'style',\n",
       "        'border: 1px solid #ddd;' +\n",
       "            'box-sizing: content-box;' +\n",
       "            'clear: both;' +\n",
       "            'min-height: 1px;' +\n",
       "            'min-width: 1px;' +\n",
       "            'outline: 0;' +\n",
       "            'overflow: hidden;' +\n",
       "            'position: relative;' +\n",
       "            'resize: both;' +\n",
       "            'z-index: 2;'\n",
       "    );\n",
       "\n",
       "    function on_keyboard_event_closure(name) {\n",
       "        return function (event) {\n",
       "            return fig.key_event(event, name);\n",
       "        };\n",
       "    }\n",
       "\n",
       "    canvas_div.addEventListener(\n",
       "        'keydown',\n",
       "        on_keyboard_event_closure('key_press')\n",
       "    );\n",
       "    canvas_div.addEventListener(\n",
       "        'keyup',\n",
       "        on_keyboard_event_closure('key_release')\n",
       "    );\n",
       "\n",
       "    this._canvas_extra_style(canvas_div);\n",
       "    this.root.appendChild(canvas_div);\n",
       "\n",
       "    var canvas = (this.canvas = document.createElement('canvas'));\n",
       "    canvas.classList.add('mpl-canvas');\n",
       "    canvas.setAttribute(\n",
       "        'style',\n",
       "        'box-sizing: content-box;' +\n",
       "            'pointer-events: none;' +\n",
       "            'position: relative;' +\n",
       "            'z-index: 0;'\n",
       "    );\n",
       "\n",
       "    this.context = canvas.getContext('2d');\n",
       "\n",
       "    var backingStore =\n",
       "        this.context.backingStorePixelRatio ||\n",
       "        this.context.webkitBackingStorePixelRatio ||\n",
       "        this.context.mozBackingStorePixelRatio ||\n",
       "        this.context.msBackingStorePixelRatio ||\n",
       "        this.context.oBackingStorePixelRatio ||\n",
       "        this.context.backingStorePixelRatio ||\n",
       "        1;\n",
       "\n",
       "    this.ratio = (window.devicePixelRatio || 1) / backingStore;\n",
       "\n",
       "    var rubberband_canvas = (this.rubberband_canvas = document.createElement(\n",
       "        'canvas'\n",
       "    ));\n",
       "    rubberband_canvas.setAttribute(\n",
       "        'style',\n",
       "        'box-sizing: content-box;' +\n",
       "            'left: 0;' +\n",
       "            'pointer-events: none;' +\n",
       "            'position: absolute;' +\n",
       "            'top: 0;' +\n",
       "            'z-index: 1;'\n",
       "    );\n",
       "\n",
       "    // Apply a ponyfill if ResizeObserver is not implemented by browser.\n",
       "    if (this.ResizeObserver === undefined) {\n",
       "        if (window.ResizeObserver !== undefined) {\n",
       "            this.ResizeObserver = window.ResizeObserver;\n",
       "        } else {\n",
       "            var obs = _JSXTOOLS_RESIZE_OBSERVER({});\n",
       "            this.ResizeObserver = obs.ResizeObserver;\n",
       "        }\n",
       "    }\n",
       "\n",
       "    this.resizeObserverInstance = new this.ResizeObserver(function (entries) {\n",
       "        var nentries = entries.length;\n",
       "        for (var i = 0; i < nentries; i++) {\n",
       "            var entry = entries[i];\n",
       "            var width, height;\n",
       "            if (entry.contentBoxSize) {\n",
       "                if (entry.contentBoxSize instanceof Array) {\n",
       "                    // Chrome 84 implements new version of spec.\n",
       "                    width = entry.contentBoxSize[0].inlineSize;\n",
       "                    height = entry.contentBoxSize[0].blockSize;\n",
       "                } else {\n",
       "                    // Firefox implements old version of spec.\n",
       "                    width = entry.contentBoxSize.inlineSize;\n",
       "                    height = entry.contentBoxSize.blockSize;\n",
       "                }\n",
       "            } else {\n",
       "                // Chrome <84 implements even older version of spec.\n",
       "                width = entry.contentRect.width;\n",
       "                height = entry.contentRect.height;\n",
       "            }\n",
       "\n",
       "            // Keep the size of the canvas and rubber band canvas in sync with\n",
       "            // the canvas container.\n",
       "            if (entry.devicePixelContentBoxSize) {\n",
       "                // Chrome 84 implements new version of spec.\n",
       "                canvas.setAttribute(\n",
       "                    'width',\n",
       "                    entry.devicePixelContentBoxSize[0].inlineSize\n",
       "                );\n",
       "                canvas.setAttribute(\n",
       "                    'height',\n",
       "                    entry.devicePixelContentBoxSize[0].blockSize\n",
       "                );\n",
       "            } else {\n",
       "                canvas.setAttribute('width', width * fig.ratio);\n",
       "                canvas.setAttribute('height', height * fig.ratio);\n",
       "            }\n",
       "            /* This rescales the canvas back to display pixels, so that it\n",
       "             * appears correct on HiDPI screens. */\n",
       "            canvas.style.width = width + 'px';\n",
       "            canvas.style.height = height + 'px';\n",
       "\n",
       "            rubberband_canvas.setAttribute('width', width);\n",
       "            rubberband_canvas.setAttribute('height', height);\n",
       "\n",
       "            // And update the size in Python. We ignore the initial 0/0 size\n",
       "            // that occurs as the element is placed into the DOM, which should\n",
       "            // otherwise not happen due to the minimum size styling.\n",
       "            if (fig.ws.readyState == 1 && width != 0 && height != 0) {\n",
       "                fig.request_resize(width, height);\n",
       "            }\n",
       "        }\n",
       "    });\n",
       "    this.resizeObserverInstance.observe(canvas_div);\n",
       "\n",
       "    function on_mouse_event_closure(name) {\n",
       "        /* User Agent sniffing is bad, but WebKit is busted:\n",
       "         * https://bugs.webkit.org/show_bug.cgi?id=144526\n",
       "         * https://bugs.webkit.org/show_bug.cgi?id=181818\n",
       "         * The worst that happens here is that they get an extra browser\n",
       "         * selection when dragging, if this check fails to catch them.\n",
       "         */\n",
       "        var UA = navigator.userAgent;\n",
       "        var isWebKit = /AppleWebKit/.test(UA) && !/Chrome/.test(UA);\n",
       "        if(isWebKit) {\n",
       "            return function (event) {\n",
       "                /* This prevents the web browser from automatically changing to\n",
       "                 * the text insertion cursor when the button is pressed. We\n",
       "                 * want to control all of the cursor setting manually through\n",
       "                 * the 'cursor' event from matplotlib */\n",
       "                event.preventDefault()\n",
       "                return fig.mouse_event(event, name);\n",
       "            };\n",
       "        } else {\n",
       "            return function (event) {\n",
       "                return fig.mouse_event(event, name);\n",
       "            };\n",
       "        }\n",
       "    }\n",
       "\n",
       "    canvas_div.addEventListener(\n",
       "        'mousedown',\n",
       "        on_mouse_event_closure('button_press')\n",
       "    );\n",
       "    canvas_div.addEventListener(\n",
       "        'mouseup',\n",
       "        on_mouse_event_closure('button_release')\n",
       "    );\n",
       "    canvas_div.addEventListener(\n",
       "        'dblclick',\n",
       "        on_mouse_event_closure('dblclick')\n",
       "    );\n",
       "    // Throttle sequential mouse events to 1 every 20ms.\n",
       "    canvas_div.addEventListener(\n",
       "        'mousemove',\n",
       "        on_mouse_event_closure('motion_notify')\n",
       "    );\n",
       "\n",
       "    canvas_div.addEventListener(\n",
       "        'mouseenter',\n",
       "        on_mouse_event_closure('figure_enter')\n",
       "    );\n",
       "    canvas_div.addEventListener(\n",
       "        'mouseleave',\n",
       "        on_mouse_event_closure('figure_leave')\n",
       "    );\n",
       "\n",
       "    canvas_div.addEventListener('wheel', function (event) {\n",
       "        if (event.deltaY < 0) {\n",
       "            event.step = 1;\n",
       "        } else {\n",
       "            event.step = -1;\n",
       "        }\n",
       "        on_mouse_event_closure('scroll')(event);\n",
       "    });\n",
       "\n",
       "    canvas_div.appendChild(canvas);\n",
       "    canvas_div.appendChild(rubberband_canvas);\n",
       "\n",
       "    this.rubberband_context = rubberband_canvas.getContext('2d');\n",
       "    this.rubberband_context.strokeStyle = '#000000';\n",
       "\n",
       "    this._resize_canvas = function (width, height, forward) {\n",
       "        if (forward) {\n",
       "            canvas_div.style.width = width + 'px';\n",
       "            canvas_div.style.height = height + 'px';\n",
       "        }\n",
       "    };\n",
       "\n",
       "    // Disable right mouse context menu.\n",
       "    canvas_div.addEventListener('contextmenu', function (_e) {\n",
       "        event.preventDefault();\n",
       "        return false;\n",
       "    });\n",
       "\n",
       "    function set_focus() {\n",
       "        canvas.focus();\n",
       "        canvas_div.focus();\n",
       "    }\n",
       "\n",
       "    window.setTimeout(set_focus, 100);\n",
       "};\n",
       "\n",
       "mpl.figure.prototype._init_toolbar = function () {\n",
       "    var fig = this;\n",
       "\n",
       "    var toolbar = document.createElement('div');\n",
       "    toolbar.classList = 'mpl-toolbar';\n",
       "    this.root.appendChild(toolbar);\n",
       "\n",
       "    function on_click_closure(name) {\n",
       "        return function (_event) {\n",
       "            return fig.toolbar_button_onclick(name);\n",
       "        };\n",
       "    }\n",
       "\n",
       "    function on_mouseover_closure(tooltip) {\n",
       "        return function (event) {\n",
       "            if (!event.currentTarget.disabled) {\n",
       "                return fig.toolbar_button_onmouseover(tooltip);\n",
       "            }\n",
       "        };\n",
       "    }\n",
       "\n",
       "    fig.buttons = {};\n",
       "    var buttonGroup = document.createElement('div');\n",
       "    buttonGroup.classList = 'mpl-button-group';\n",
       "    for (var toolbar_ind in mpl.toolbar_items) {\n",
       "        var name = mpl.toolbar_items[toolbar_ind][0];\n",
       "        var tooltip = mpl.toolbar_items[toolbar_ind][1];\n",
       "        var image = mpl.toolbar_items[toolbar_ind][2];\n",
       "        var method_name = mpl.toolbar_items[toolbar_ind][3];\n",
       "\n",
       "        if (!name) {\n",
       "            /* Instead of a spacer, we start a new button group. */\n",
       "            if (buttonGroup.hasChildNodes()) {\n",
       "                toolbar.appendChild(buttonGroup);\n",
       "            }\n",
       "            buttonGroup = document.createElement('div');\n",
       "            buttonGroup.classList = 'mpl-button-group';\n",
       "            continue;\n",
       "        }\n",
       "\n",
       "        var button = (fig.buttons[name] = document.createElement('button'));\n",
       "        button.classList = 'mpl-widget';\n",
       "        button.setAttribute('role', 'button');\n",
       "        button.setAttribute('aria-disabled', 'false');\n",
       "        button.addEventListener('click', on_click_closure(method_name));\n",
       "        button.addEventListener('mouseover', on_mouseover_closure(tooltip));\n",
       "\n",
       "        var icon_img = document.createElement('img');\n",
       "        icon_img.src = '_images/' + image + '.png';\n",
       "        icon_img.srcset = '_images/' + image + '_large.png 2x';\n",
       "        icon_img.alt = tooltip;\n",
       "        button.appendChild(icon_img);\n",
       "\n",
       "        buttonGroup.appendChild(button);\n",
       "    }\n",
       "\n",
       "    if (buttonGroup.hasChildNodes()) {\n",
       "        toolbar.appendChild(buttonGroup);\n",
       "    }\n",
       "\n",
       "    var fmt_picker = document.createElement('select');\n",
       "    fmt_picker.classList = 'mpl-widget';\n",
       "    toolbar.appendChild(fmt_picker);\n",
       "    this.format_dropdown = fmt_picker;\n",
       "\n",
       "    for (var ind in mpl.extensions) {\n",
       "        var fmt = mpl.extensions[ind];\n",
       "        var option = document.createElement('option');\n",
       "        option.selected = fmt === mpl.default_extension;\n",
       "        option.innerHTML = fmt;\n",
       "        fmt_picker.appendChild(option);\n",
       "    }\n",
       "\n",
       "    var status_bar = document.createElement('span');\n",
       "    status_bar.classList = 'mpl-message';\n",
       "    toolbar.appendChild(status_bar);\n",
       "    this.message = status_bar;\n",
       "};\n",
       "\n",
       "mpl.figure.prototype.request_resize = function (x_pixels, y_pixels) {\n",
       "    // Request matplotlib to resize the figure. Matplotlib will then trigger a resize in the client,\n",
       "    // which will in turn request a refresh of the image.\n",
       "    this.send_message('resize', { width: x_pixels, height: y_pixels });\n",
       "};\n",
       "\n",
       "mpl.figure.prototype.send_message = function (type, properties) {\n",
       "    properties['type'] = type;\n",
       "    properties['figure_id'] = this.id;\n",
       "    this.ws.send(JSON.stringify(properties));\n",
       "};\n",
       "\n",
       "mpl.figure.prototype.send_draw_message = function () {\n",
       "    if (!this.waiting) {\n",
       "        this.waiting = true;\n",
       "        this.ws.send(JSON.stringify({ type: 'draw', figure_id: this.id }));\n",
       "    }\n",
       "};\n",
       "\n",
       "mpl.figure.prototype.handle_save = function (fig, _msg) {\n",
       "    var format_dropdown = fig.format_dropdown;\n",
       "    var format = format_dropdown.options[format_dropdown.selectedIndex].value;\n",
       "    fig.ondownload(fig, format);\n",
       "};\n",
       "\n",
       "mpl.figure.prototype.handle_resize = function (fig, msg) {\n",
       "    var size = msg['size'];\n",
       "    if (size[0] !== fig.canvas.width || size[1] !== fig.canvas.height) {\n",
       "        fig._resize_canvas(size[0], size[1], msg['forward']);\n",
       "        fig.send_message('refresh', {});\n",
       "    }\n",
       "};\n",
       "\n",
       "mpl.figure.prototype.handle_rubberband = function (fig, msg) {\n",
       "    var x0 = msg['x0'] / fig.ratio;\n",
       "    var y0 = (fig.canvas.height - msg['y0']) / fig.ratio;\n",
       "    var x1 = msg['x1'] / fig.ratio;\n",
       "    var y1 = (fig.canvas.height - msg['y1']) / fig.ratio;\n",
       "    x0 = Math.floor(x0) + 0.5;\n",
       "    y0 = Math.floor(y0) + 0.5;\n",
       "    x1 = Math.floor(x1) + 0.5;\n",
       "    y1 = Math.floor(y1) + 0.5;\n",
       "    var min_x = Math.min(x0, x1);\n",
       "    var min_y = Math.min(y0, y1);\n",
       "    var width = Math.abs(x1 - x0);\n",
       "    var height = Math.abs(y1 - y0);\n",
       "\n",
       "    fig.rubberband_context.clearRect(\n",
       "        0,\n",
       "        0,\n",
       "        fig.canvas.width / fig.ratio,\n",
       "        fig.canvas.height / fig.ratio\n",
       "    );\n",
       "\n",
       "    fig.rubberband_context.strokeRect(min_x, min_y, width, height);\n",
       "};\n",
       "\n",
       "mpl.figure.prototype.handle_figure_label = function (fig, msg) {\n",
       "    // Updates the figure title.\n",
       "    fig.header.textContent = msg['label'];\n",
       "};\n",
       "\n",
       "mpl.figure.prototype.handle_cursor = function (fig, msg) {\n",
       "    fig.canvas_div.style.cursor = msg['cursor'];\n",
       "};\n",
       "\n",
       "mpl.figure.prototype.handle_message = function (fig, msg) {\n",
       "    fig.message.textContent = msg['message'];\n",
       "};\n",
       "\n",
       "mpl.figure.prototype.handle_draw = function (fig, _msg) {\n",
       "    // Request the server to send over a new figure.\n",
       "    fig.send_draw_message();\n",
       "};\n",
       "\n",
       "mpl.figure.prototype.handle_image_mode = function (fig, msg) {\n",
       "    fig.image_mode = msg['mode'];\n",
       "};\n",
       "\n",
       "mpl.figure.prototype.handle_history_buttons = function (fig, msg) {\n",
       "    for (var key in msg) {\n",
       "        if (!(key in fig.buttons)) {\n",
       "            continue;\n",
       "        }\n",
       "        fig.buttons[key].disabled = !msg[key];\n",
       "        fig.buttons[key].setAttribute('aria-disabled', !msg[key]);\n",
       "    }\n",
       "};\n",
       "\n",
       "mpl.figure.prototype.handle_navigate_mode = function (fig, msg) {\n",
       "    if (msg['mode'] === 'PAN') {\n",
       "        fig.buttons['Pan'].classList.add('active');\n",
       "        fig.buttons['Zoom'].classList.remove('active');\n",
       "    } else if (msg['mode'] === 'ZOOM') {\n",
       "        fig.buttons['Pan'].classList.remove('active');\n",
       "        fig.buttons['Zoom'].classList.add('active');\n",
       "    } else {\n",
       "        fig.buttons['Pan'].classList.remove('active');\n",
       "        fig.buttons['Zoom'].classList.remove('active');\n",
       "    }\n",
       "};\n",
       "\n",
       "mpl.figure.prototype.updated_canvas_event = function () {\n",
       "    // Called whenever the canvas gets updated.\n",
       "    this.send_message('ack', {});\n",
       "};\n",
       "\n",
       "// A function to construct a web socket function for onmessage handling.\n",
       "// Called in the figure constructor.\n",
       "mpl.figure.prototype._make_on_message_function = function (fig) {\n",
       "    return function socket_on_message(evt) {\n",
       "        if (evt.data instanceof Blob) {\n",
       "            var img = evt.data;\n",
       "            if (img.type !== 'image/png') {\n",
       "                /* FIXME: We get \"Resource interpreted as Image but\n",
       "                 * transferred with MIME type text/plain:\" errors on\n",
       "                 * Chrome.  But how to set the MIME type?  It doesn't seem\n",
       "                 * to be part of the websocket stream */\n",
       "                img.type = 'image/png';\n",
       "            }\n",
       "\n",
       "            /* Free the memory for the previous frames */\n",
       "            if (fig.imageObj.src) {\n",
       "                (window.URL || window.webkitURL).revokeObjectURL(\n",
       "                    fig.imageObj.src\n",
       "                );\n",
       "            }\n",
       "\n",
       "            fig.imageObj.src = (window.URL || window.webkitURL).createObjectURL(\n",
       "                img\n",
       "            );\n",
       "            fig.updated_canvas_event();\n",
       "            fig.waiting = false;\n",
       "            return;\n",
       "        } else if (\n",
       "            typeof evt.data === 'string' &&\n",
       "            evt.data.slice(0, 21) === 'data:image/png;base64'\n",
       "        ) {\n",
       "            fig.imageObj.src = evt.data;\n",
       "            fig.updated_canvas_event();\n",
       "            fig.waiting = false;\n",
       "            return;\n",
       "        }\n",
       "\n",
       "        var msg = JSON.parse(evt.data);\n",
       "        var msg_type = msg['type'];\n",
       "\n",
       "        // Call the  \"handle_{type}\" callback, which takes\n",
       "        // the figure and JSON message as its only arguments.\n",
       "        try {\n",
       "            var callback = fig['handle_' + msg_type];\n",
       "        } catch (e) {\n",
       "            console.log(\n",
       "                \"No handler for the '\" + msg_type + \"' message type: \",\n",
       "                msg\n",
       "            );\n",
       "            return;\n",
       "        }\n",
       "\n",
       "        if (callback) {\n",
       "            try {\n",
       "                // console.log(\"Handling '\" + msg_type + \"' message: \", msg);\n",
       "                callback(fig, msg);\n",
       "            } catch (e) {\n",
       "                console.log(\n",
       "                    \"Exception inside the 'handler_\" + msg_type + \"' callback:\",\n",
       "                    e,\n",
       "                    e.stack,\n",
       "                    msg\n",
       "                );\n",
       "            }\n",
       "        }\n",
       "    };\n",
       "};\n",
       "\n",
       "function getModifiers(event) {\n",
       "    var mods = [];\n",
       "    if (event.ctrlKey) {\n",
       "        mods.push('ctrl');\n",
       "    }\n",
       "    if (event.altKey) {\n",
       "        mods.push('alt');\n",
       "    }\n",
       "    if (event.shiftKey) {\n",
       "        mods.push('shift');\n",
       "    }\n",
       "    if (event.metaKey) {\n",
       "        mods.push('meta');\n",
       "    }\n",
       "    return mods;\n",
       "}\n",
       "\n",
       "/*\n",
       " * return a copy of an object with only non-object keys\n",
       " * we need this to avoid circular references\n",
       " * https://stackoverflow.com/a/24161582/3208463\n",
       " */\n",
       "function simpleKeys(original) {\n",
       "    return Object.keys(original).reduce(function (obj, key) {\n",
       "        if (typeof original[key] !== 'object') {\n",
       "            obj[key] = original[key];\n",
       "        }\n",
       "        return obj;\n",
       "    }, {});\n",
       "}\n",
       "\n",
       "mpl.figure.prototype.mouse_event = function (event, name) {\n",
       "    if (name === 'button_press') {\n",
       "        this.canvas.focus();\n",
       "        this.canvas_div.focus();\n",
       "    }\n",
       "\n",
       "    // from https://stackoverflow.com/q/1114465\n",
       "    var boundingRect = this.canvas.getBoundingClientRect();\n",
       "    var x = (event.clientX - boundingRect.left) * this.ratio;\n",
       "    var y = (event.clientY - boundingRect.top) * this.ratio;\n",
       "\n",
       "    this.send_message(name, {\n",
       "        x: x,\n",
       "        y: y,\n",
       "        button: event.button,\n",
       "        step: event.step,\n",
       "        modifiers: getModifiers(event),\n",
       "        guiEvent: simpleKeys(event),\n",
       "    });\n",
       "\n",
       "    return false;\n",
       "};\n",
       "\n",
       "mpl.figure.prototype._key_event_extra = function (_event, _name) {\n",
       "    // Handle any extra behaviour associated with a key event\n",
       "};\n",
       "\n",
       "mpl.figure.prototype.key_event = function (event, name) {\n",
       "    // Prevent repeat events\n",
       "    if (name === 'key_press') {\n",
       "        if (event.key === this._key) {\n",
       "            return;\n",
       "        } else {\n",
       "            this._key = event.key;\n",
       "        }\n",
       "    }\n",
       "    if (name === 'key_release') {\n",
       "        this._key = null;\n",
       "    }\n",
       "\n",
       "    var value = '';\n",
       "    if (event.ctrlKey && event.key !== 'Control') {\n",
       "        value += 'ctrl+';\n",
       "    }\n",
       "    else if (event.altKey && event.key !== 'Alt') {\n",
       "        value += 'alt+';\n",
       "    }\n",
       "    else if (event.shiftKey && event.key !== 'Shift') {\n",
       "        value += 'shift+';\n",
       "    }\n",
       "\n",
       "    value += 'k' + event.key;\n",
       "\n",
       "    this._key_event_extra(event, name);\n",
       "\n",
       "    this.send_message(name, { key: value, guiEvent: simpleKeys(event) });\n",
       "    return false;\n",
       "};\n",
       "\n",
       "mpl.figure.prototype.toolbar_button_onclick = function (name) {\n",
       "    if (name === 'download') {\n",
       "        this.handle_save(this, null);\n",
       "    } else {\n",
       "        this.send_message('toolbar_button', { name: name });\n",
       "    }\n",
       "};\n",
       "\n",
       "mpl.figure.prototype.toolbar_button_onmouseover = function (tooltip) {\n",
       "    this.message.textContent = tooltip;\n",
       "};\n",
       "\n",
       "///////////////// REMAINING CONTENT GENERATED BY embed_js.py /////////////////\n",
       "// prettier-ignore\n",
       "var _JSXTOOLS_RESIZE_OBSERVER=function(A){var t,i=new WeakMap,n=new WeakMap,a=new WeakMap,r=new WeakMap,o=new Set;function s(e){if(!(this instanceof s))throw new TypeError(\"Constructor requires 'new' operator\");i.set(this,e)}function h(){throw new TypeError(\"Function is not a constructor\")}function c(e,t,i,n){e=0 in arguments?Number(arguments[0]):0,t=1 in arguments?Number(arguments[1]):0,i=2 in arguments?Number(arguments[2]):0,n=3 in arguments?Number(arguments[3]):0,this.right=(this.x=this.left=e)+(this.width=i),this.bottom=(this.y=this.top=t)+(this.height=n),Object.freeze(this)}function d(){t=requestAnimationFrame(d);var s=new WeakMap,p=new Set;o.forEach((function(t){r.get(t).forEach((function(i){var r=t instanceof window.SVGElement,o=a.get(t),d=r?0:parseFloat(o.paddingTop),f=r?0:parseFloat(o.paddingRight),l=r?0:parseFloat(o.paddingBottom),u=r?0:parseFloat(o.paddingLeft),g=r?0:parseFloat(o.borderTopWidth),m=r?0:parseFloat(o.borderRightWidth),w=r?0:parseFloat(o.borderBottomWidth),b=u+f,F=d+l,v=(r?0:parseFloat(o.borderLeftWidth))+m,W=g+w,y=r?0:t.offsetHeight-W-t.clientHeight,E=r?0:t.offsetWidth-v-t.clientWidth,R=b+v,z=F+W,M=r?t.width:parseFloat(o.width)-R-E,O=r?t.height:parseFloat(o.height)-z-y;if(n.has(t)){var k=n.get(t);if(k[0]===M&&k[1]===O)return}n.set(t,[M,O]);var S=Object.create(h.prototype);S.target=t,S.contentRect=new c(u,d,M,O),s.has(i)||(s.set(i,[]),p.add(i)),s.get(i).push(S)}))})),p.forEach((function(e){i.get(e).call(e,s.get(e),e)}))}return s.prototype.observe=function(i){if(i instanceof window.Element){r.has(i)||(r.set(i,new Set),o.add(i),a.set(i,window.getComputedStyle(i)));var n=r.get(i);n.has(this)||n.add(this),cancelAnimationFrame(t),t=requestAnimationFrame(d)}},s.prototype.unobserve=function(i){if(i instanceof window.Element&&r.has(i)){var n=r.get(i);n.has(this)&&(n.delete(this),n.size||(r.delete(i),o.delete(i))),n.size||r.delete(i),o.size||cancelAnimationFrame(t)}},A.DOMRectReadOnly=c,A.ResizeObserver=s,A.ResizeObserverEntry=h,A}; // eslint-disable-line\n",
       "mpl.toolbar_items = [[\"Home\", \"Reset original view\", \"fa fa-home\", \"home\"], [\"Back\", \"Back to previous view\", \"fa fa-arrow-left\", \"back\"], [\"Forward\", \"Forward to next view\", \"fa fa-arrow-right\", \"forward\"], [\"\", \"\", \"\", \"\"], [\"Pan\", \"Left button pans, Right button zooms\\nx/y fixes axis, CTRL fixes aspect\", \"fa fa-arrows\", \"pan\"], [\"Zoom\", \"Zoom to rectangle\\nx/y fixes axis\", \"fa fa-square-o\", \"zoom\"], [\"\", \"\", \"\", \"\"], [\"Download\", \"Download plot\", \"fa fa-floppy-o\", \"download\"]];\n",
       "\n",
       "mpl.extensions = [\"eps\", \"jpeg\", \"pgf\", \"pdf\", \"png\", \"ps\", \"raw\", \"svg\", \"tif\", \"webp\"];\n",
       "\n",
       "mpl.default_extension = \"png\";/* global mpl */\n",
       "\n",
       "var comm_websocket_adapter = function (comm) {\n",
       "    // Create a \"websocket\"-like object which calls the given IPython comm\n",
       "    // object with the appropriate methods. Currently this is a non binary\n",
       "    // socket, so there is still some room for performance tuning.\n",
       "    var ws = {};\n",
       "\n",
       "    ws.binaryType = comm.kernel.ws.binaryType;\n",
       "    ws.readyState = comm.kernel.ws.readyState;\n",
       "    function updateReadyState(_event) {\n",
       "        if (comm.kernel.ws) {\n",
       "            ws.readyState = comm.kernel.ws.readyState;\n",
       "        } else {\n",
       "            ws.readyState = 3; // Closed state.\n",
       "        }\n",
       "    }\n",
       "    comm.kernel.ws.addEventListener('open', updateReadyState);\n",
       "    comm.kernel.ws.addEventListener('close', updateReadyState);\n",
       "    comm.kernel.ws.addEventListener('error', updateReadyState);\n",
       "\n",
       "    ws.close = function () {\n",
       "        comm.close();\n",
       "    };\n",
       "    ws.send = function (m) {\n",
       "        //console.log('sending', m);\n",
       "        comm.send(m);\n",
       "    };\n",
       "    // Register the callback with on_msg.\n",
       "    comm.on_msg(function (msg) {\n",
       "        //console.log('receiving', msg['content']['data'], msg);\n",
       "        var data = msg['content']['data'];\n",
       "        if (data['blob'] !== undefined) {\n",
       "            data = {\n",
       "                data: new Blob(msg['buffers'], { type: data['blob'] }),\n",
       "            };\n",
       "        }\n",
       "        // Pass the mpl event to the overridden (by mpl) onmessage function.\n",
       "        ws.onmessage(data);\n",
       "    });\n",
       "    return ws;\n",
       "};\n",
       "\n",
       "mpl.mpl_figure_comm = function (comm, msg) {\n",
       "    // This is the function which gets called when the mpl process\n",
       "    // starts-up an IPython Comm through the \"matplotlib\" channel.\n",
       "\n",
       "    var id = msg.content.data.id;\n",
       "    // Get hold of the div created by the display call when the Comm\n",
       "    // socket was opened in Python.\n",
       "    var element = document.getElementById(id);\n",
       "    var ws_proxy = comm_websocket_adapter(comm);\n",
       "\n",
       "    function ondownload(figure, _format) {\n",
       "        window.open(figure.canvas.toDataURL());\n",
       "    }\n",
       "\n",
       "    var fig = new mpl.figure(id, ws_proxy, ondownload, element);\n",
       "\n",
       "    // Call onopen now - mpl needs it, as it is assuming we've passed it a real\n",
       "    // web socket which is closed, not our websocket->open comm proxy.\n",
       "    ws_proxy.onopen();\n",
       "\n",
       "    fig.parent_element = element;\n",
       "    fig.cell_info = mpl.find_output_cell(\"<div id='\" + id + \"'></div>\");\n",
       "    if (!fig.cell_info) {\n",
       "        console.error('Failed to find cell for figure', id, fig);\n",
       "        return;\n",
       "    }\n",
       "    fig.cell_info[0].output_area.element.on(\n",
       "        'cleared',\n",
       "        { fig: fig },\n",
       "        fig._remove_fig_handler\n",
       "    );\n",
       "};\n",
       "\n",
       "mpl.figure.prototype.handle_close = function (fig, msg) {\n",
       "    var width = fig.canvas.width / fig.ratio;\n",
       "    fig.cell_info[0].output_area.element.off(\n",
       "        'cleared',\n",
       "        fig._remove_fig_handler\n",
       "    );\n",
       "    fig.resizeObserverInstance.unobserve(fig.canvas_div);\n",
       "\n",
       "    // Update the output cell to use the data from the current canvas.\n",
       "    fig.push_to_output();\n",
       "    var dataURL = fig.canvas.toDataURL();\n",
       "    // Re-enable the keyboard manager in IPython - without this line, in FF,\n",
       "    // the notebook keyboard shortcuts fail.\n",
       "    IPython.keyboard_manager.enable();\n",
       "    fig.parent_element.innerHTML =\n",
       "        '<img src=\"' + dataURL + '\" width=\"' + width + '\">';\n",
       "    fig.close_ws(fig, msg);\n",
       "};\n",
       "\n",
       "mpl.figure.prototype.close_ws = function (fig, msg) {\n",
       "    fig.send_message('closing', msg);\n",
       "    // fig.ws.close()\n",
       "};\n",
       "\n",
       "mpl.figure.prototype.push_to_output = function (_remove_interactive) {\n",
       "    // Turn the data on the canvas into data in the output cell.\n",
       "    var width = this.canvas.width / this.ratio;\n",
       "    var dataURL = this.canvas.toDataURL();\n",
       "    this.cell_info[1]['text/html'] =\n",
       "        '<img src=\"' + dataURL + '\" width=\"' + width + '\">';\n",
       "};\n",
       "\n",
       "mpl.figure.prototype.updated_canvas_event = function () {\n",
       "    // Tell IPython that the notebook contents must change.\n",
       "    IPython.notebook.set_dirty(true);\n",
       "    this.send_message('ack', {});\n",
       "    var fig = this;\n",
       "    // Wait a second, then push the new image to the DOM so\n",
       "    // that it is saved nicely (might be nice to debounce this).\n",
       "    setTimeout(function () {\n",
       "        fig.push_to_output();\n",
       "    }, 1000);\n",
       "};\n",
       "\n",
       "mpl.figure.prototype._init_toolbar = function () {\n",
       "    var fig = this;\n",
       "\n",
       "    var toolbar = document.createElement('div');\n",
       "    toolbar.classList = 'btn-toolbar';\n",
       "    this.root.appendChild(toolbar);\n",
       "\n",
       "    function on_click_closure(name) {\n",
       "        return function (_event) {\n",
       "            return fig.toolbar_button_onclick(name);\n",
       "        };\n",
       "    }\n",
       "\n",
       "    function on_mouseover_closure(tooltip) {\n",
       "        return function (event) {\n",
       "            if (!event.currentTarget.disabled) {\n",
       "                return fig.toolbar_button_onmouseover(tooltip);\n",
       "            }\n",
       "        };\n",
       "    }\n",
       "\n",
       "    fig.buttons = {};\n",
       "    var buttonGroup = document.createElement('div');\n",
       "    buttonGroup.classList = 'btn-group';\n",
       "    var button;\n",
       "    for (var toolbar_ind in mpl.toolbar_items) {\n",
       "        var name = mpl.toolbar_items[toolbar_ind][0];\n",
       "        var tooltip = mpl.toolbar_items[toolbar_ind][1];\n",
       "        var image = mpl.toolbar_items[toolbar_ind][2];\n",
       "        var method_name = mpl.toolbar_items[toolbar_ind][3];\n",
       "\n",
       "        if (!name) {\n",
       "            /* Instead of a spacer, we start a new button group. */\n",
       "            if (buttonGroup.hasChildNodes()) {\n",
       "                toolbar.appendChild(buttonGroup);\n",
       "            }\n",
       "            buttonGroup = document.createElement('div');\n",
       "            buttonGroup.classList = 'btn-group';\n",
       "            continue;\n",
       "        }\n",
       "\n",
       "        button = fig.buttons[name] = document.createElement('button');\n",
       "        button.classList = 'btn btn-default';\n",
       "        button.href = '#';\n",
       "        button.title = name;\n",
       "        button.innerHTML = '<i class=\"fa ' + image + ' fa-lg\"></i>';\n",
       "        button.addEventListener('click', on_click_closure(method_name));\n",
       "        button.addEventListener('mouseover', on_mouseover_closure(tooltip));\n",
       "        buttonGroup.appendChild(button);\n",
       "    }\n",
       "\n",
       "    if (buttonGroup.hasChildNodes()) {\n",
       "        toolbar.appendChild(buttonGroup);\n",
       "    }\n",
       "\n",
       "    // Add the status bar.\n",
       "    var status_bar = document.createElement('span');\n",
       "    status_bar.classList = 'mpl-message pull-right';\n",
       "    toolbar.appendChild(status_bar);\n",
       "    this.message = status_bar;\n",
       "\n",
       "    // Add the close button to the window.\n",
       "    var buttongrp = document.createElement('div');\n",
       "    buttongrp.classList = 'btn-group inline pull-right';\n",
       "    button = document.createElement('button');\n",
       "    button.classList = 'btn btn-mini btn-primary';\n",
       "    button.href = '#';\n",
       "    button.title = 'Stop Interaction';\n",
       "    button.innerHTML = '<i class=\"fa fa-power-off icon-remove icon-large\"></i>';\n",
       "    button.addEventListener('click', function (_evt) {\n",
       "        fig.handle_close(fig, {});\n",
       "    });\n",
       "    button.addEventListener(\n",
       "        'mouseover',\n",
       "        on_mouseover_closure('Stop Interaction')\n",
       "    );\n",
       "    buttongrp.appendChild(button);\n",
       "    var titlebar = this.root.querySelector('.ui-dialog-titlebar');\n",
       "    titlebar.insertBefore(buttongrp, titlebar.firstChild);\n",
       "};\n",
       "\n",
       "mpl.figure.prototype._remove_fig_handler = function (event) {\n",
       "    var fig = event.data.fig;\n",
       "    if (event.target !== this) {\n",
       "        // Ignore bubbled events from children.\n",
       "        return;\n",
       "    }\n",
       "    fig.close_ws(fig, {});\n",
       "};\n",
       "\n",
       "mpl.figure.prototype._root_extra_style = function (el) {\n",
       "    el.style.boxSizing = 'content-box'; // override notebook setting of border-box.\n",
       "};\n",
       "\n",
       "mpl.figure.prototype._canvas_extra_style = function (el) {\n",
       "    // this is important to make the div 'focusable\n",
       "    el.setAttribute('tabindex', 0);\n",
       "    // reach out to IPython and tell the keyboard manager to turn it's self\n",
       "    // off when our div gets focus\n",
       "\n",
       "    // location in version 3\n",
       "    if (IPython.notebook.keyboard_manager) {\n",
       "        IPython.notebook.keyboard_manager.register_events(el);\n",
       "    } else {\n",
       "        // location in version 2\n",
       "        IPython.keyboard_manager.register_events(el);\n",
       "    }\n",
       "};\n",
       "\n",
       "mpl.figure.prototype._key_event_extra = function (event, _name) {\n",
       "    // Check for shift+enter\n",
       "    if (event.shiftKey && event.which === 13) {\n",
       "        this.canvas_div.blur();\n",
       "        // select the cell after this one\n",
       "        var index = IPython.notebook.find_cell_index(this.cell_info[0]);\n",
       "        IPython.notebook.select(index + 1);\n",
       "    }\n",
       "};\n",
       "\n",
       "mpl.figure.prototype.handle_save = function (fig, _msg) {\n",
       "    fig.ondownload(fig, null);\n",
       "};\n",
       "\n",
       "mpl.find_output_cell = function (html_output) {\n",
       "    // Return the cell and output element which can be found *uniquely* in the notebook.\n",
       "    // Note - this is a bit hacky, but it is done because the \"notebook_saving.Notebook\"\n",
       "    // IPython event is triggered only after the cells have been serialised, which for\n",
       "    // our purposes (turning an active figure into a static one), is too late.\n",
       "    var cells = IPython.notebook.get_cells();\n",
       "    var ncells = cells.length;\n",
       "    for (var i = 0; i < ncells; i++) {\n",
       "        var cell = cells[i];\n",
       "        if (cell.cell_type === 'code') {\n",
       "            for (var j = 0; j < cell.output_area.outputs.length; j++) {\n",
       "                var data = cell.output_area.outputs[j];\n",
       "                if (data.data) {\n",
       "                    // IPython >= 3 moved mimebundle to data attribute of output\n",
       "                    data = data.data;\n",
       "                }\n",
       "                if (data['text/html'] === html_output) {\n",
       "                    return [cell, data, j];\n",
       "                }\n",
       "            }\n",
       "        }\n",
       "    }\n",
       "};\n",
       "\n",
       "// Register the function which deals with the matplotlib target/channel.\n",
       "// The kernel may be null if the page has been refreshed.\n",
       "if (IPython.notebook.kernel !== null) {\n",
       "    IPython.notebook.kernel.comm_manager.register_target(\n",
       "        'matplotlib',\n",
       "        mpl.mpl_figure_comm\n",
       "    );\n",
       "}\n"
      ],
      "text/plain": [
       "<IPython.core.display.Javascript object>"
      ]
     },
     "metadata": {},
     "output_type": "display_data"
    },
    {
     "data": {
      "text/html": [
       "<img src=\"data:image/png;base64,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\" width=\"640.0000169542105\">"
      ],
      "text/plain": [
       "<IPython.core.display.HTML object>"
      ]
     },
     "metadata": {},
     "output_type": "display_data"
    },
    {
     "data": {
      "text/plain": [
       "[<matplotlib.lines.Line2D at 0x1a7ced5f3d0>]"
      ]
     },
     "execution_count": 56,
     "metadata": {},
     "output_type": "execute_result"
    }
   ],
   "source": [
    "p=np.linspace(0,1,100)\n",
    "r=7\n",
    "n=10\n",
    "Pos=Posterior(p,r,n)\n",
    "I,_ = integrate.quad(Posterior,p[0],p[-1],args=(r,n))\n",
    "initparams=np.array([0.2])\n",
    "MCMC=Metropolis(initparams,Posterior)\n",
    "plt.hist(MCMC,density=True,bins=50)\n",
    "plt.plot(p,Pos/I, color='r')\n",
    "     "
   ]
  },
  {
   "cell_type": "code",
   "execution_count": 57,
   "id": "c28236c6",
   "metadata": {},
   "outputs": [
    {
     "data": {
      "text/plain": [
       "0.5319320530212799"
      ]
     },
     "execution_count": 57,
     "metadata": {},
     "output_type": "execute_result"
    }
   ],
   "source": [
    "liminf=np.percentile(MCMC,16)\n",
    "liminf"
   ]
  },
  {
   "cell_type": "code",
   "execution_count": 58,
   "id": "eb3ffed6",
   "metadata": {},
   "outputs": [
    {
     "data": {
      "text/plain": [
       "0.8024137118943447"
      ]
     },
     "execution_count": 58,
     "metadata": {},
     "output_type": "execute_result"
    }
   ],
   "source": [
    "limsum=np.percentile(MCMC,84)\n",
    "limsum"
   ]
  },
  {
   "cell_type": "code",
   "execution_count": 59,
   "id": "3e9b1d3a",
   "metadata": {},
   "outputs": [
    {
     "data": {
      "text/plain": [
       "0.6823987656344446"
      ]
     },
     "execution_count": 59,
     "metadata": {},
     "output_type": "execute_result"
    }
   ],
   "source": [
    "mediana=np.percentile(MCMC,50)\n",
    "mediana"
   ]
  },
  {
   "cell_type": "code",
   "execution_count": 60,
   "id": "c378aa7e",
   "metadata": {},
   "outputs": [
    {
     "data": {
      "text/plain": [
       "0.860053457304817"
      ]
     },
     "execution_count": 60,
     "metadata": {},
     "output_type": "execute_result"
    }
   ],
   "source": [
    "upperlimit=np.percentile(MCMC,95)\n",
    "upperlimit"
   ]
  },
  {
   "cell_type": "code",
   "execution_count": 62,
   "id": "c379ef5b",
   "metadata": {},
   "outputs": [
    {
     "data": {
      "text/plain": [
       "0.01745752809345452"
      ]
     },
     "execution_count": 62,
     "metadata": {},
     "output_type": "execute_result"
    }
   ],
   "source": [
    "var= np.var(MCMC)\n",
    "var"
   ]
  },
  {
   "cell_type": "markdown",
   "id": "722f0c20",
   "metadata": {},
   "source": [
    "De modo que se puede decir que la moneda está truncada ya que se evidencia una desviación en la gráfica respecto a la que se esperaría si fuera equiprobable obtener cara o sello."
   ]
  },
  {
   "cell_type": "markdown",
   "id": "84c88a29",
   "metadata": {},
   "source": [
    "3"
   ]
  },
  {
   "cell_type": "code",
   "execution_count": 21,
   "id": "4349158d",
   "metadata": {},
   "outputs": [],
   "source": [
    "N=1000\n",
    "x_i=0\n",
    "mu=2\n",
    "sigma=0.5\n",
    "datos = [x_i]\n",
    "xi=x_i\n",
    "for i in range(1,N+1):\n",
    "    central=np.random.normal(xi,sigma)\n",
    "    aceptacion= min(1, np.exp(-(central - mu)**2 / (2*sigma**2)) / np.exp(-(xi - mu)**2 / (2*sigma**2)))\n",
    "    numero = np.random.rand()\n",
    "    if numero < aceptacion:\n",
    "        xi=central\n",
    "    datos.append(xi)"
   ]
  },
  {
   "cell_type": "code",
   "execution_count": 22,
   "id": "468c4086",
   "metadata": {},
   "outputs": [
    {
     "data": {
      "image/png": "[encoded data removed]",
      "text/plain": [
       "<Figure size 640x480 with 1 Axes>"
      ]
     },
     "metadata": {},
     "output_type": "display_data"
    }
   ],
   "source": [
    "fig, ax = plt.subplots()\n",
    "plt.hist(datos, bins=30, density=True, alpha=0.5, label='muestra',color='b')\n",
    "idealx= np.linspace(0, 4, 1000)\n",
    "idealy = norm.pdf(idealx, mu, sigma)\n",
    "ax.plot(idealx, idealy, label='Distribución',color='r')\n",
    "ax.legend()\n",
    "plt.show()"
   ]
  },
  {
   "cell_type": "markdown",
   "id": "01044654",
   "metadata": {},
   "source": [
    "4"
   ]
  },
  {
   "cell_type": "code",
   "execution_count": 37,
   "id": "0f4eb384",
   "metadata": {},
   "outputs": [],
   "source": [
    "N=1000\n",
    "x_i=0\n",
    "datos = []\n",
    "xi=x_i\n",
    "paso=0.4\n",
    "for i in range(1, N+1):\n",
    "    central=xi+np.random.normal(x_i,paso)\n",
    "    aceptacion= min(1,(1/(np.pi*(1+central**2))) /(1/(np.pi*(1+xi**2))))\n",
    "    numero = np.random.rand()\n",
    "    if numero < aceptacion:\n",
    "        xi=central\n",
    "    datos.append(xi)"
   ]
  },
  {
   "cell_type": "code",
   "execution_count": 38,
   "id": "c740f803",
   "metadata": {},
   "outputs": [
    {
     "data": {
      "image/png": "[encoded data removed]",
      "text/plain": [
       "<Figure size 640x480 with 1 Axes>"
      ]
     },
     "metadata": {},
     "output_type": "display_data"
    }
   ],
   "source": [
    "fig, ax = plt.subplots()\n",
    "plt.hist(datos, bins=30, density=True, alpha=0.5, label='muestra',color='b')\n",
    "idealx= np.linspace(-5, 5, 100)\n",
    "idealy = cauchy.pdf(idealx, 0, 1)\n",
    "ax.plot(idealx, idealy, label='Distribución',color='r')\n",
    "ax.legend()\n",
    "plt.show()"
   ]
  },
  {
   "cell_type": "markdown",
   "id": "903bc57a",
   "metadata": {},
   "source": [
    "## Parameter Estimation"
   ]
  },
  {
   "cell_type": "markdown",
   "id": "e3ebb364",
   "metadata": {},
   "source": [
    "3"
   ]
  },
  {
   "cell_type": "markdown",
   "id": "d82e2a4a",
   "metadata": {},
   "source": [
    "a)"
   ]
  },
  {
   "cell_type": "code",
   "execution_count": 115,
   "id": "a0435b5e",
   "metadata": {},
   "outputs": [],
   "source": [
    "def cargar(nombre:str)->tuple:\n",
    "    archivo=open(nombre,mode='r',encoding=(\"utf8\"))\n",
    "    llaves=archivo.readline().strip()\n",
    "    linea=archivo.readline().strip()\n",
    "    x=[]\n",
    "    \n",
    "    while len(linea)>0:\n",
    "        datos=linea.split(\" \")\n",
    "        datos[0]\n",
    "        x.append(float(datos[0]))\n",
    "          \n",
    "        linea=archivo.readline()\n",
    "        \n",
    "    archivo.close()\n",
    "\n",
    "    return  (x)"
   ]
  },
  {
   "cell_type": "code",
   "execution_count": 116,
   "id": "b4ef3b1b",
   "metadata": {},
   "outputs": [
    {
     "data": {
      "text/plain": [
       "array([ 0.90645143,  5.44611668,  6.84023829,  0.7436439 ,  7.33851806,\n",
       "        3.90194497,  3.99141194,  6.63773945,  3.29863313,  2.5263119 ,\n",
       "        6.02328429,  2.48439406,  5.05871256,  3.76490762,  4.14742489,\n",
       "       -0.3806526 ,  3.82357634,  1.51182547,  2.43154466,  3.99805201,\n",
       "        3.54379274,  3.96036376,  4.65182186,  4.53193625,  3.4696115 ,\n",
       "        4.65221447,  7.61107996,  6.24041004,  1.05374544,  3.62154606,\n",
       "        3.53077271,  4.19197859,  3.55221699,  3.90865005,  5.76443674,\n",
       "        2.63533463,  4.43729836,  6.67515723,  6.66005072,  3.46112223,\n",
       "        0.50538447,  2.8245733 ,  3.82463394,  4.93926748,  3.34332658,\n",
       "        4.73462971,  5.74401288,  5.29159347,  6.17391981,  0.98252883,\n",
       "        1.73405911,  3.58803383,  5.10611351,  2.74742979,  4.72965462,\n",
       "        3.9192504 ,  5.5411113 ,  2.59250776,  4.7904863 ,  3.7471351 ,\n",
       "        4.93786432,  5.6652078 ,  5.49974363,  4.87089337,  4.84319838,\n",
       "        3.11325577,  4.70316273,  5.48448502,  2.27142366,  3.89507054,\n",
       "        4.37913624,  3.79148615,  6.02826486,  3.71496582,  1.44944549,\n",
       "        2.14895149,  0.86797298,  0.12098617,  1.81469714,  4.53501203,\n",
       "        5.51874455,  4.19339843,  2.84119663,  6.66869975,  5.88501452,\n",
       "        6.6013383 ,  1.25517776,  9.03824707,  2.91863314,  5.21705827,\n",
       "        5.39438776,  3.2936599 ,  3.81650068,  0.82315173,  4.91903336,\n",
       "        1.49764654,  4.23665773,  4.67854004,  6.47919745,  2.59529741])"
      ]
     },
     "execution_count": 116,
     "metadata": {},
     "output_type": "execute_result"
    }
   ],
   "source": [
    "X=np.array(cargar('GaussianData.txt'))\n",
    "X"
   ]
  },
  {
   "cell_type": "markdown",
   "id": "9922f3f8",
   "metadata": {},
   "source": [
    "b)"
   ]
  },
  {
   "cell_type": "code",
   "execution_count": 117,
   "id": "45e4efb3",
   "metadata": {},
   "outputs": [],
   "source": [
    "def Priori(mu,sigma):\n",
    "    \n",
    "    pi=0\n",
    "    \n",
    "    if mu>=3 and mu<=5:\n",
    "        if sigma>=0.5 and sigma<=3.5:\n",
    "            pi=1\n",
    "    else:\n",
    "        pi=0\n",
    "            \n",
    "    return pi"
   ]
  },
  {
   "cell_type": "markdown",
   "id": "433d37b0",
   "metadata": {},
   "source": [
    "c)"
   ]
  },
  {
   "cell_type": "code",
   "execution_count": 118,
   "id": "ed4b40ad",
   "metadata": {},
   "outputs": [],
   "source": [
    "def Likelihood(mu,sigma,x):\n",
    "    \n",
    "    resp=1\n",
    "    for i in range(len(x)):\n",
    "        resp*=np.exp((-((mu-x[i])**2))/(2*sigma**2)) / (2*np.pi*sigma**2)**(1/2)\n",
    "    return resp     "
   ]
  },
  {
   "cell_type": "markdown",
   "id": "9733d28b",
   "metadata": {},
   "source": [
    "d)"
   ]
  },
  {
   "cell_type": "code",
   "execution_count": 119,
   "id": "79e39460",
   "metadata": {},
   "outputs": [],
   "source": [
    "Posterior=lambda mu,sigma,x: np.log(Likelihood(mu,sigma,x)*Priori(mu,sigma))"
   ]
  },
  {
   "cell_type": "markdown",
   "id": "2fdc00ee",
   "metadata": {},
   "source": [
    "e)"
   ]
  },
  {
   "cell_type": "code",
   "execution_count": 171,
   "id": "0b0873aa",
   "metadata": {},
   "outputs": [],
   "source": [
    "N=int(2e4)\n",
    "def Metropolis(x):\n",
    "    mu = np.random.uniform(3, 5)\n",
    "    sigma=np.random.uniform(0.5,3.5)\n",
    "    post_1= Posterior( mu, sigma,X)\n",
    "    mu_resp=[mu]\n",
    "    sigma_resp=[sigma]\n",
    "    \n",
    "    for i in range(N):\n",
    "        mu_i=np.random.normal(mu,0.1)\n",
    "        sigma_i=np.random.normal(sigma,0.1)\n",
    "        \n",
    "        post_i = Posterior(mu_i,sigma_i,x)\n",
    "        \n",
    "        if post_i > post_1:\n",
    "            post_1=post_i\n",
    "            mu=mu_i\n",
    "            sigma=sigma_i\n",
    "            \n",
    "        else:\n",
    "            poster=np.exp(post_i-post_1)\n",
    "            \n",
    "            if poster>np.random.uniform():\n",
    "                post_1=post_i\n",
    "                mu=mu_i\n",
    "                sigma=sigma_i\n",
    "                \n",
    "        mu_resp.append(mu)\n",
    "        sigma_resp.append(sigma)\n",
    "    \n",
    "    return mu_resp, sigma_resp"
   ]
  },
  {
   "cell_type": "markdown",
   "id": "8c624106",
   "metadata": {},
   "source": [
    "f)"
   ]
  },
  {
   "cell_type": "code",
   "execution_count": 173,
   "id": "b6af7f32",
   "metadata": {},
   "outputs": [
    {
     "data": {
      "text/plain": [
       "(4.021230099068659, 1.8294500563665617)"
      ]
     },
     "execution_count": 173,
     "metadata": {},
     "output_type": "execute_result"
    }
   ],
   "source": [
    "mu,sigma=Metropolis(X)\n",
    "\n",
    "mu_mediana=np.percentile(mu,50)\n",
    "sigma_mediana=np.percentile(sigma,50)\n",
    "\n",
    "mu_mediana,sigma_mediana"
   ]
  },
  {
   "cell_type": "markdown",
   "id": "f610d4be",
   "metadata": {},
   "source": [
    "g)"
   ]
  },
  {
   "cell_type": "code",
   "execution_count": 188,
   "id": "d80bfbc7",
   "metadata": {},
   "outputs": [],
   "source": [
    "mu_liminf=np.percentile(mu,16)\n",
    "mu_limsum=np.percentile(mu,84)\n",
    "sigma_liminf=np.percentile(sigma,16)\n",
    "sigma_limsum=np.percentile(sigma,84)\n"
   ]
  },
  {
   "cell_type": "code",
   "execution_count": 189,
   "id": "01c83284",
   "metadata": {},
   "outputs": [
    {
     "data": {
      "text/plain": [
       "0.18161779445934734"
      ]
     },
     "execution_count": 189,
     "metadata": {},
     "output_type": "execute_result"
    }
   ],
   "source": [
    "mu_lowererr=mu_mediana- mu_liminf\n",
    "mu_lowererr\n"
   ]
  },
  {
   "cell_type": "code",
   "execution_count": 190,
   "id": "69f67683",
   "metadata": {},
   "outputs": [
    {
     "data": {
      "text/plain": [
       "0.1791534692825083"
      ]
     },
     "execution_count": 190,
     "metadata": {},
     "output_type": "execute_result"
    }
   ],
   "source": [
    "mu_uppererr=-mu_mediana+ mu_limsum\n",
    "mu_uppererr\n"
   ]
  },
  {
   "cell_type": "code",
   "execution_count": 191,
   "id": "47a91397",
   "metadata": {},
   "outputs": [
    {
     "data": {
      "text/plain": [
       "0.1437462117790811"
      ]
     },
     "execution_count": 191,
     "metadata": {},
     "output_type": "execute_result"
    }
   ],
   "source": [
    "sigma_uppererr=sigma_limsum- sigma_mediana\n",
    "sigma_uppererr"
   ]
  },
  {
   "cell_type": "code",
   "execution_count": 192,
   "id": "60602434",
   "metadata": {},
   "outputs": [
    {
     "data": {
      "text/plain": [
       "0.1238659582922974"
      ]
     },
     "execution_count": 192,
     "metadata": {},
     "output_type": "execute_result"
    }
   ],
   "source": [
    "sigma_lowererr=sigma_mediana-sigma_liminf\n",
    "sigma_lowererr"
   ]
  },
  {
   "cell_type": "markdown",
   "id": "7ee84000",
   "metadata": {},
   "source": [
    "5"
   ]
  },
  {
   "cell_type": "markdown",
   "id": "f68fd37c",
   "metadata": {},
   "source": [
    "a) Lo intentamos.\n",
    "\n",
    "\n",
    "Pd: no se pudo :)"
   ]
  },
  {
   "cell_type": "markdown",
   "id": "370ded00",
   "metadata": {},
   "source": [
    "b)"
   ]
  },
  {
   "cell_type": "code",
   "execution_count": 71,
   "id": "02d32f7d",
   "metadata": {},
   "outputs": [],
   "source": [
    "def DistribucionExponencial(n, theta):\n",
    "    \n",
    "    dist=np.mean(np.random.exponential(scale=theta, size=n))\n",
    "    return dist\n",
    "\n",
    "def montecarlo(n, theta, N):\n",
    "    resp = np.zeros(N)\n",
    "    \n",
    "    for i in range(N):\n",
    "        \n",
    "        dist = DistribucionExponencial(n, theta)\n",
    "        resp[i]=dist\n",
    "    \n",
    "    varianza = np.var(resp)\n",
    "    return varianza\n"
   ]
  },
  {
   "cell_type": "code",
   "execution_count": 72,
   "id": "c59edac2",
   "metadata": {},
   "outputs": [
    {
     "data": {
      "text/plain": [
       "0.1991168939675558"
      ]
     },
     "execution_count": 72,
     "metadata": {},
     "output_type": "execute_result"
    }
   ],
   "source": [
    "n = 20  \n",
    "theta = 2  \n",
    "N = 10**6  \n",
    "var= montecarlo(n, theta, N)\n",
    "var"
   ]
  }
 ],
 "metadata": {
  "kernelspec": {
   "display_name": "Python 3 (ipykernel)",
   "language": "python",
   "name": "python3"
  },
  "language_info": {
   "codemirror_mode": {
    "name": "ipython",
    "version": 3
   },
   "file_extension": ".py",
   "mimetype": "text/x-python",
   "name": "python",
   "nbconvert_exporter": "python",
   "pygments_lexer": "ipython3",
   "version": "3.10.9"
  }
 },
 "nbformat": 4,
 "nbformat_minor": 5
}
