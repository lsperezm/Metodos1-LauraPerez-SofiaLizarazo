{
 "cells": [
  {
   "cell_type": "code",
   "execution_count": 9,
   "id": "2768f2d4",
   "metadata": {},
   "outputs": [],
   "source": [
    "import numpy as np\n",
    "import matplotlib.pyplot as plt\n",
    "import sympy as sym"
   ]
  },
  {
   "cell_type": "markdown",
   "id": "328c9d37",
   "metadata": {},
   "source": [
    "# Tecnicas De Conteo"
   ]
  },
  {
   "cell_type": "markdown",
   "id": "d80e1db5",
   "metadata": {},
   "source": [
    "20"
   ]
  },
  {
   "cell_type": "code",
   "execution_count": null,
   "id": "061f361f",
   "metadata": {},
   "outputs": [],
   "source": []
  },
  {
   "cell_type": "markdown",
   "id": "69f38e02",
   "metadata": {},
   "source": [
    "22 (Tambíen Computacional)"
   ]
  },
  {
   "cell_type": "markdown",
   "id": "461fa657",
   "metadata": {},
   "source": [
    "Teórico:\n",
    "\n",
    "Teniendo en cuenta que se busca realizar la suma de 3 enteros que de 10, entonces se pueden sumar numeros que esten en el rango [0,10] Se realiza una combinación con repetición, dada por la siguiente fórmula:\n",
    "\n",
    "$$\n",
    "C_{r}^{n} = \\binom{n+r-1}{r}\n",
    "$$\n",
    "\n",
    "Siendo $r$ la cantidad de particiones entre los números que podemos elegir (al tener 3 enteros, hay 2 particiones entre ellos) y $n$ la cantidad de números de los que se pueden elegir (en este caso 11). De modo que se tiene:\n",
    "\n",
    "$$\n",
    "C_{2}^{11} = \\binom{11+2-1}{2} = \\binom{12}{2}\\\\\n",
    "= \\frac{12!}{2! (11-1)!}= \\frac{479001600}{2(3628800)}=\\frac{479001600}{7257600}=66\n",
    "$$\n"
   ]
  },
  {
   "cell_type": "markdown",
   "id": "3c88316e",
   "metadata": {},
   "source": [
    "Computacional:"
   ]
  },
  {
   "cell_type": "code",
   "execution_count": 2,
   "id": "c2a84346",
   "metadata": {},
   "outputs": [
    {
     "data": {
      "text/plain": [
       "66"
      ]
     },
     "execution_count": 2,
     "metadata": {},
     "output_type": "execute_result"
    }
   ],
   "source": [
    "num=np.array([0,1,2,3,4,5,6,7,8,9,10])\n",
    "count=0\n",
    "\n",
    "for i in range(len(num)):\n",
    "    for j in range(len(num)):\n",
    "        for k in range(len(num)):\n",
    "            suma=i+j+k\n",
    "            if suma==10:\n",
    "                count+=1\n",
    "                \n",
    "count"
   ]
  },
  {
   "cell_type": "markdown",
   "id": "c81ce16b",
   "metadata": {},
   "source": [
    "23"
   ]
  },
  {
   "cell_type": "code",
   "execution_count": null,
   "id": "84521ea3",
   "metadata": {},
   "outputs": [],
   "source": []
  },
  {
   "cell_type": "markdown",
   "id": "8661696a",
   "metadata": {},
   "source": [
    "## Generales de Probabilidad"
   ]
  },
  {
   "cell_type": "markdown",
   "id": "e0b38830",
   "metadata": {},
   "source": [
    "4"
   ]
  },
  {
   "cell_type": "code",
   "execution_count": 6,
   "id": "ba5a5471",
   "metadata": {},
   "outputs": [
    {
     "data": {
      "text/plain": [
       "array([1.        , 0.99726027, 0.99452055, 0.99178082, 0.9890411 ,\n",
       "       0.98630137, 0.98356164, 0.98082192, 0.97808219, 0.97534247,\n",
       "       0.97260274, 0.96986301, 0.96712329, 0.96438356, 0.96164384,\n",
       "       0.95890411, 0.95616438, 0.95342466, 0.95068493, 0.94794521,\n",
       "       0.94520548, 0.94246575, 0.93972603, 0.9369863 , 0.93424658,\n",
       "       0.93150685, 0.92876712, 0.9260274 , 0.92328767, 0.92054795,\n",
       "       0.91780822, 0.91506849, 0.91232877, 0.90958904, 0.90684932,\n",
       "       0.90410959, 0.90136986, 0.89863014, 0.89589041, 0.89315068,\n",
       "       0.89041096, 0.88767123, 0.88493151, 0.88219178, 0.87945205,\n",
       "       0.87671233, 0.8739726 , 0.87123288, 0.86849315, 0.86575342,\n",
       "       0.8630137 , 0.86027397, 0.85753425, 0.85479452, 0.85205479,\n",
       "       0.84931507, 0.84657534, 0.84383562, 0.84109589, 0.83835616,\n",
       "       0.83561644, 0.83287671, 0.83013699, 0.82739726, 0.82465753,\n",
       "       0.82191781, 0.81917808, 0.81643836, 0.81369863, 0.8109589 ,\n",
       "       0.80821918, 0.80547945, 0.80273973, 0.8       , 0.79726027,\n",
       "       0.79452055, 0.79178082, 0.7890411 , 0.78630137, 0.78356164])"
      ]
     },
     "execution_count": 6,
     "metadata": {},
     "output_type": "execute_result"
    }
   ],
   "source": [
    "n=np.arange(1,81)\n",
    "prob=np.zeros(80)\n",
    "count=0\n",
    "d=365\n",
    "for i in n:\n",
    "    f_i=(d-i+1)/d\n",
    "    prob[count]=f_i\n",
    "    count+=1\n",
    "    \n",
    "prob\n",
    "    "
   ]
  },
  {
   "cell_type": "code",
   "execution_count": 5,
   "id": "ddd2b6f5",
   "metadata": {
    "scrolled": false
   },
   "outputs": [
    {
     "data": {
      "text/plain": [
       "<matplotlib.collections.PathCollection at 0x1ed88e648e0>"
      ]
     },
     "execution_count": 5,
     "metadata": {},
     "output_type": "execute_result"
    },
    {
     "data": {
      "image/png": "[encoded data removed]",
      "text/plain": [
       "<Figure size 640x480 with 1 Axes>"
      ]
     },
     "metadata": {},
     "output_type": "display_data"
    }
   ],
   "source": [
    "\n",
    "plt.scatter(n,prob)"
   ]
  },
  {
   "cell_type": "markdown",
   "id": "d07c7d88",
   "metadata": {},
   "source": [
    "9"
   ]
  },
  {
   "cell_type": "code",
   "execution_count": null,
   "id": "e25d4681",
   "metadata": {},
   "outputs": [],
   "source": [
    "#Pte 1"
   ]
  },
  {
   "cell_type": "markdown",
   "id": "3f920f18",
   "metadata": {},
   "source": [
    "Para $P_{1}$ y $P_{2} \\neq \\frac{1}{2}$ se deben tener en cuenta los siguientes casos:\n",
    "\n",
    "1. C,C,S,S\n",
    "2. S,S,C,C\n",
    "3. C,S,C,S\n",
    "4. S,C,S,C\n",
    "\n",
    "Aunque para los casos 3 y 4 en las monedas 2 y 3 no importa el orden sino que una de ellas sea cara, ya que ambas opciones para estas dos monedas tienen la misma probabilidad ($\\frac{1}{2}$).\n"
   ]
  },
  {
   "cell_type": "code",
   "execution_count": 22,
   "id": "9c72d739",
   "metadata": {},
   "outputs": [
    {
     "data": {
      "text/latex": [
       "$\\displaystyle - 0.5 p_{1} p_{2} + 0.25 p_{1} + 0.25 p_{2} + 0.25$"
      ],
      "text/plain": [
       "-0.5*p_1*p_2 + 0.25*p_1 + 0.25*p_2 + 0.25"
      ]
     },
     "execution_count": 22,
     "metadata": {},
     "output_type": "execute_result"
    }
   ],
   "source": [
    "P_1=sym.Symbol('p_1', real=True)\n",
    "P_2=sym.Symbol('p_2', real=True)\n",
    "def Probabilidad(P_1,P_2):\n",
    "    caso1= P_1*P_2*(1/2)*(1/2)\n",
    "    caso2= (1-P_1)*(1-P_2)*(1/2)*(1/2)\n",
    "    caso3= P_1*(1-P_2)*(1/2)\n",
    "    caso4= (1-P_1)*P_2*(1/2)\n",
    "    total=caso1+caso2+caso3+caso4\n",
    "    \n",
    "    return total\n",
    "\n",
    "func=sym.simplify(Probabilidad(P_1,P_2))\n",
    "func"
   ]
  },
  {
   "cell_type": "code",
   "execution_count": 75,
   "id": "0c4b298b",
   "metadata": {},
   "outputs": [
    {
     "data": {
      "image/png": "[encoded data removed]",
      "text/plain": [
       "<Figure size 640x480 with 1 Axes>"
      ]
     },
     "metadata": {},
     "output_type": "display_data"
    }
   ],
   "source": [
    "p_1=np.linspace(0.1,0.9,100)\n",
    "p_2=np.linspace(0.1,0.5,100)\n",
    "z=np.zeros([100,100])\n",
    "p1,p2=np.meshgrid(p_1,p_2)\n",
    "z=Probabilidad(p1,p2)\n",
    "\n",
    "\n",
    "fig = plt.figure()\n",
    "ax = fig.add_subplot(111,projection='3d')\n",
    "ax.plot_surface(p1,p2,z,cmap='twilight_shifted')\n",
    "ax.set_xlabel('p1')\n",
    "ax.set_ylabel('p2')\n",
    "ax.view_init(elev=25, azim=85)"
   ]
  },
  {
   "cell_type": "code",
   "execution_count": 81,
   "id": "f3b19c6b",
   "metadata": {},
   "outputs": [],
   "source": [
    "maxi=0\n",
    "mini=2\n",
    "maximo=np.array([0,0])\n",
    "minimo=np.array([0,0])\n",
    "#TERMINAR"
   ]
  },
  {
   "cell_type": "markdown",
   "id": "ebc9d4dc",
   "metadata": {},
   "source": [
    "12"
   ]
  },
  {
   "cell_type": "code",
   "execution_count": 1,
   "id": "3716e5b6",
   "metadata": {},
   "outputs": [],
   "source": [
    "#a teorico"
   ]
  },
  {
   "cell_type": "code",
   "execution_count": 2,
   "id": "3b1becc0",
   "metadata": {},
   "outputs": [],
   "source": [
    "#b teorico"
   ]
  },
  {
   "cell_type": "code",
   "execution_count": 3,
   "id": "25028f4e",
   "metadata": {},
   "outputs": [],
   "source": [
    "#c teorico"
   ]
  },
  {
   "cell_type": "code",
   "execution_count": 4,
   "id": "be848a1f",
   "metadata": {},
   "outputs": [],
   "source": [
    "#d \"\""
   ]
  },
  {
   "cell_type": "code",
   "execution_count": 5,
   "id": "723f8da6",
   "metadata": {},
   "outputs": [],
   "source": [
    "#e \"\""
   ]
  },
  {
   "cell_type": "code",
   "execution_count": 6,
   "id": "758ff071",
   "metadata": {},
   "outputs": [],
   "source": [
    "#f \"\""
   ]
  },
  {
   "cell_type": "code",
   "execution_count": 7,
   "id": "9f6a7371",
   "metadata": {},
   "outputs": [],
   "source": [
    "#g \"\""
   ]
  },
  {
   "cell_type": "code",
   "execution_count": null,
   "id": "fec110b1",
   "metadata": {},
   "outputs": [],
   "source": []
  },
  {
   "cell_type": "code",
   "execution_count": null,
   "id": "f0d51bb9",
   "metadata": {},
   "outputs": [],
   "source": []
  },
  {
   "cell_type": "markdown",
   "id": "7ca0b2e1",
   "metadata": {},
   "source": [
    "## Distribuciones Discretas de Probabilidad"
   ]
  },
  {
   "cell_type": "markdown",
   "id": "9521dbd9",
   "metadata": {},
   "source": [
    "3"
   ]
  },
  {
   "cell_type": "code",
   "execution_count": null,
   "id": "407f5e84",
   "metadata": {},
   "outputs": [],
   "source": [
    "#a"
   ]
  },
  {
   "cell_type": "code",
   "execution_count": null,
   "id": "83c0a869",
   "metadata": {},
   "outputs": [],
   "source": [
    "#b"
   ]
  },
  {
   "cell_type": "markdown",
   "id": "a41c6771",
   "metadata": {},
   "source": [
    "4"
   ]
  },
  {
   "cell_type": "code",
   "execution_count": null,
   "id": "0d5dcc43",
   "metadata": {},
   "outputs": [],
   "source": []
  },
  {
   "cell_type": "markdown",
   "id": "8222a534",
   "metadata": {},
   "source": [
    "## Distribuciones Contínuas de Probabilidad"
   ]
  },
  {
   "cell_type": "markdown",
   "id": "f994c42f",
   "metadata": {},
   "source": [
    "1 "
   ]
  },
  {
   "cell_type": "code",
   "execution_count": null,
   "id": "0ff1b1b9",
   "metadata": {},
   "outputs": [],
   "source": []
  },
  {
   "cell_type": "markdown",
   "id": "e6c999d3",
   "metadata": {},
   "source": [
    "4"
   ]
  },
  {
   "cell_type": "code",
   "execution_count": null,
   "id": "51f78b52",
   "metadata": {},
   "outputs": [],
   "source": []
  },
  {
   "cell_type": "markdown",
   "id": "ab10c45a",
   "metadata": {},
   "source": [
    "## Metropolis Hasting"
   ]
  },
  {
   "cell_type": "markdown",
   "id": "149c2e31",
   "metadata": {},
   "source": [
    "1"
   ]
  },
  {
   "cell_type": "code",
   "execution_count": null,
   "id": "8746e5ea",
   "metadata": {},
   "outputs": [],
   "source": []
  },
  {
   "cell_type": "markdown",
   "id": "84c88a29",
   "metadata": {},
   "source": [
    "3"
   ]
  },
  {
   "cell_type": "code",
   "execution_count": null,
   "id": "4349158d",
   "metadata": {},
   "outputs": [],
   "source": []
  },
  {
   "cell_type": "markdown",
   "id": "01044654",
   "metadata": {},
   "source": [
    "4"
   ]
  },
  {
   "cell_type": "code",
   "execution_count": null,
   "id": "0f4eb384",
   "metadata": {},
   "outputs": [],
   "source": []
  },
  {
   "cell_type": "markdown",
   "id": "903bc57a",
   "metadata": {},
   "source": [
    "## Parameter Estimation"
   ]
  },
  {
   "cell_type": "markdown",
   "id": "e3ebb364",
   "metadata": {},
   "source": [
    "3"
   ]
  },
  {
   "cell_type": "code",
   "execution_count": null,
   "id": "a0435b5e",
   "metadata": {},
   "outputs": [],
   "source": []
  },
  {
   "cell_type": "markdown",
   "id": "7ee84000",
   "metadata": {},
   "source": [
    "5"
   ]
  },
  {
   "cell_type": "code",
   "execution_count": null,
   "id": "7bf8657f",
   "metadata": {},
   "outputs": [],
   "source": []
  }
 ],
 "metadata": {
  "kernelspec": {
   "display_name": "Python 3 (ipykernel)",
   "language": "python",
   "name": "python3"
  },
  "language_info": {
   "codemirror_mode": {
    "name": "ipython",
    "version": 3
   },
   "file_extension": ".py",
   "mimetype": "text/x-python",
   "name": "python",
   "nbconvert_exporter": "python",
   "pygments_lexer": "ipython3",
   "version": "3.10.9"
  }
 },
 "nbformat": 4,
 "nbformat_minor": 5
}
