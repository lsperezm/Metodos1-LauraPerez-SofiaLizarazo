{
 "cells": [
  {
   "cell_type": "code",
   "execution_count": 2,
   "id": "2768f2d4",
   "metadata": {},
   "outputs": [],
   "source": [
    "import numpy as np\n",
    "import matplotlib.pyplot as plt\n",
    "import sympy as sym"
   ]
  },
  {
   "cell_type": "markdown",
   "id": "328c9d37",
   "metadata": {},
   "source": [
    "# Técnicas De Conteo"
   ]
  },
  {
   "cell_type": "markdown",
   "id": "d80e1db5",
   "metadata": {},
   "source": [
    "20"
   ]
  },
  {
   "cell_type": "markdown",
   "id": "f4ead22a",
   "metadata": {},
   "source": [
    "Demostración por inducción:\n",
    "\n",
    "Dada la fórmula de combinatoria con repetición para $n$ elementos:\n",
    "\n",
    "$$\n",
    "C_{r}^{n}=\\binom{n+r-1}{r}=\\frac {(n+r-1)!}{r!(n-1)!}\n",
    "$$\n",
    "\n",
    "1) Caso Base:\n",
    "\n",
    "Para n=1 y r=0 se tiene:\n",
    "\n",
    "$$\n",
    "C_{0}^{1}=\\binom{1+0-1}{0}=\\frac{(1+0-1)!}{0!(1-1)!}\n",
    "=\\frac{0!}{0!0!}=\\frac{1}{1}=1\n",
    "$$\n",
    "\n",
    "\n",
    "2) Paso Inductivo:\n",
    "\n",
    "Para verificar $C_{r}^{n+1}$ necesitamos comprobar que:\n",
    "\n",
    "$$\n",
    "C_{r}^{n+1}=\\binom{n+1+r-1}{r}=\\binom{n+r}{r}=\\frac{(n+r)!}{r!n!}\n",
    "$$\n",
    "\n",
    "De modo que se tiene:\n",
    "\n",
    "$$\n",
    "\\begin{equation} \\label{eq1}\n",
    "\\begin{split}\n",
    "C_{r}^{n+1}&=\\binom{n+1+r-1}{r}\\\\\n",
    "&= \\binom{n+r-1}{r-1} + \\binom{n+r-1}{r}\\\\\n",
    "&= \\frac {(n+r-1)!}{(r-1)!(n+r-1-r+1)!} + \\frac{(n+r-1)!}{r!(n+r-1-r)!}\\\\\n",
    "&=\\frac{r(n+r-1)!}{r!n!} + \\frac{(n+r-1)!}{r!(n-1)!}\\\\\n",
    "&=\\frac{r(n+r-1)!}{r!n!}+\\frac{n(n+r-1)!}{r!n!}\\\\\n",
    "&=\\frac{r(n+r-1)! + n(n+r-1)!}{r!n!}\\\\\n",
    "&=\\frac{(n+r-1)!(r+n)}{r!n!}\\\\\n",
    "&=\\frac{(n+r)!}{r!n!}\\\\\n",
    "\\end{split}\n",
    "\\end{equation}\n",
    "$$ \n",
    "\n",
    "Entonces $C_{r}^{n+1}$ es verdadera siempre que $C_{r}^{n}$. De forma que por el principio de inducción, $C_{r}^{n}=\\binom{n+r-1}{r}=\\frac {(n+r-1)!}{r!(n-1)!}$ es verdadera."
   ]
  },
  {
   "cell_type": "markdown",
   "id": "69f38e02",
   "metadata": {},
   "source": [
    "22 "
   ]
  },
  {
   "cell_type": "markdown",
   "id": "461fa657",
   "metadata": {},
   "source": [
    "Teórico:\n",
    "\n",
    "Teniendo en cuenta que se busca realizar la suma de 3 enteros que de 10, entonces se pueden sumar numeros que esten en el rango [0,10] Se realiza una combinación con repetición, dada por la siguiente fórmula:\n",
    "\n",
    "$$\n",
    "C_{r}^{n} = \\binom{n+r-1}{r}\n",
    "$$\n",
    "\n",
    "Siendo $r$ la cantidad de particiones entre los números que podemos elegir (al tener 3 enteros, hay 2 particiones entre ellos) y $n$ la cantidad de números de los que se pueden elegir (en este caso 11). De modo que se tiene:\n",
    "\n",
    "$$\n",
    "C_{2}^{11} = \\binom{11+2-1}{2} = \\binom{12}{2}\\\\\n",
    "= \\frac{12!}{2! (11-1)!}= \\frac{479001600}{2(3628800)}=\\frac{479001600}{7257600}=66\n",
    "$$\n"
   ]
  },
  {
   "cell_type": "markdown",
   "id": "3c88316e",
   "metadata": {},
   "source": [
    "Computacional:"
   ]
  },
  {
   "cell_type": "code",
   "execution_count": 2,
   "id": "c2a84346",
   "metadata": {},
   "outputs": [
    {
     "data": {
      "text/plain": [
       "66"
      ]
     },
     "execution_count": 2,
     "metadata": {},
     "output_type": "execute_result"
    }
   ],
   "source": [
    "num=np.array([0,1,2,3,4,5,6,7,8,9,10])\n",
    "count=0\n",
    "\n",
    "for i in range(len(num)):\n",
    "    for j in range(len(num)):\n",
    "        for k in range(len(num)):\n",
    "            suma=i+j+k\n",
    "            if suma==10:\n",
    "                count+=1\n",
    "                \n",
    "count"
   ]
  },
  {
   "cell_type": "markdown",
   "id": "c81ce16b",
   "metadata": {},
   "source": [
    "23"
   ]
  },
  {
   "cell_type": "code",
   "execution_count": null,
   "id": "84521ea3",
   "metadata": {},
   "outputs": [],
   "source": []
  },
  {
   "cell_type": "markdown",
   "id": "8661696a",
   "metadata": {},
   "source": [
    "## Generales de Probabilidad"
   ]
  },
  {
   "cell_type": "markdown",
   "id": "e0b38830",
   "metadata": {},
   "source": [
    "4"
   ]
  },
  {
   "cell_type": "code",
   "execution_count": 83,
   "id": "ba5a5471",
   "metadata": {},
   "outputs": [
    {
     "data": {
      "text/plain": [
       "array([1.        , 0.99726027, 0.99452055, 0.99178082, 0.9890411 ,\n",
       "       0.98630137, 0.98356164, 0.98082192, 0.97808219, 0.97534247,\n",
       "       0.97260274, 0.96986301, 0.96712329, 0.96438356, 0.96164384,\n",
       "       0.95890411, 0.95616438, 0.95342466, 0.95068493, 0.94794521,\n",
       "       0.94520548, 0.94246575, 0.93972603, 0.9369863 , 0.93424658,\n",
       "       0.93150685, 0.92876712, 0.9260274 , 0.92328767, 0.92054795,\n",
       "       0.91780822, 0.91506849, 0.91232877, 0.90958904, 0.90684932,\n",
       "       0.90410959, 0.90136986, 0.89863014, 0.89589041, 0.89315068,\n",
       "       0.89041096, 0.88767123, 0.88493151, 0.88219178, 0.87945205,\n",
       "       0.87671233, 0.8739726 , 0.87123288, 0.86849315, 0.86575342,\n",
       "       0.8630137 , 0.86027397, 0.85753425, 0.85479452, 0.85205479,\n",
       "       0.84931507, 0.84657534, 0.84383562, 0.84109589, 0.83835616,\n",
       "       0.83561644, 0.83287671, 0.83013699, 0.82739726, 0.82465753,\n",
       "       0.82191781, 0.81917808, 0.81643836, 0.81369863, 0.8109589 ,\n",
       "       0.80821918, 0.80547945, 0.80273973, 0.8       , 0.79726027,\n",
       "       0.79452055, 0.79178082, 0.7890411 , 0.78630137, 0.78356164])"
      ]
     },
     "execution_count": 83,
     "metadata": {},
     "output_type": "execute_result"
    }
   ],
   "source": [
    "n=np.arange(1,81)\n",
    "prob=np.zeros(80)\n",
    "count=0\n",
    "d=365\n",
    "for i in n:\n",
    "    f_i=(d-i+1)/d\n",
    "    prob[count]=f_i\n",
    "    count+=1\n",
    "    \n",
    "prob\n",
    "    "
   ]
  },
  {
   "cell_type": "code",
   "execution_count": 84,
   "id": "ddd2b6f5",
   "metadata": {
    "scrolled": false
   },
   "outputs": [
    {
     "data": {
      "text/plain": [
       "<matplotlib.collections.PathCollection at 0x1acac6439a0>"
      ]
     },
     "execution_count": 84,
     "metadata": {},
     "output_type": "execute_result"
    },
    {
     "data": {
      "image/png": "[encoded data removed]",
      "text/plain": [
       "<Figure size 640x480 with 1 Axes>"
      ]
     },
     "metadata": {},
     "output_type": "display_data"
    }
   ],
   "source": [
    "plt.scatter(n,prob)"
   ]
  },
  {
   "cell_type": "markdown",
   "id": "d07c7d88",
   "metadata": {},
   "source": [
    "9"
   ]
  },
  {
   "cell_type": "code",
   "execution_count": null,
   "id": "e25d4681",
   "metadata": {},
   "outputs": [],
   "source": [
    "#Pte 1"
   ]
  },
  {
   "cell_type": "markdown",
   "id": "88922d03",
   "metadata": {},
   "source": [
    "Para $P_{1}$ y $P_{2} \\neq \\frac{1}{2}$ se deben tener en cuenta los siguientes casos:\n",
    "\n",
    "1. C,C,S,S\n",
    "2. S,S,C,C\n",
    "3. C,S,C,S\n",
    "4. S,C,S,C\n",
    "\n",
    "Aunque para los casos 3 y 4 en las monedas 2 y 3 no importa el orden sino que una de ellas sea cara, ya que ambas opciones para estas dos monedas tienen la misma probabilidad ($\\frac{1}{2}$).\n"
   ]
  },
  {
   "cell_type": "code",
   "execution_count": 22,
   "id": "e6f3d133",
   "metadata": {},
   "outputs": [
    {
     "data": {
      "text/latex": [
       "$\\displaystyle - 0.5 p_{1} p_{2} + 0.25 p_{1} + 0.25 p_{2} + 0.25$"
      ],
      "text/plain": [
       "-0.5*p_1*p_2 + 0.25*p_1 + 0.25*p_2 + 0.25"
      ]
     },
     "execution_count": 22,
     "metadata": {},
     "output_type": "execute_result"
    }
   ],
   "source": [
    "P_1=sym.Symbol('p_1', real=True)\n",
    "P_2=sym.Symbol('p_2', real=True)\n",
    "def Probabilidad(P_1,P_2):\n",
    "    caso1= P_1*P_2*(1/2)*(1/2)\n",
    "    caso2= (1-P_1)*(1-P_2)*(1/2)*(1/2)\n",
    "    caso3= P_1*(1-P_2)*(1/2)\n",
    "    caso4= (1-P_1)*P_2*(1/2)\n",
    "    total=caso1+caso2+caso3+caso4\n",
    "    \n",
    "    return total\n",
    "\n",
    "func=sym.simplify(Probabilidad(P_1,P_2))\n",
    "func"
   ]
  },
  {
   "cell_type": "code",
   "execution_count": 75,
   "id": "22094b3b",
   "metadata": {},
   "outputs": [
    {
     "data": {
      "image/png": "[encoded data removed]",
      "text/plain": [
       "<Figure size 640x480 with 1 Axes>"
      ]
     },
     "metadata": {},
     "output_type": "display_data"
    }
   ],
   "source": [
    "p_1=np.linspace(0.1,0.9,100)\n",
    "p_2=np.linspace(0.1,0.5,100)\n",
    "z=np.zeros([100,100])\n",
    "p1,p2=np.meshgrid(p_1,p_2)\n",
    "z=Probabilidad(p1,p2)\n",
    "\n",
    "\n",
    "fig = plt.figure()\n",
    "ax = fig.add_subplot(111,projection='3d')\n",
    "ax.plot_surface(p1,p2,z,cmap='twilight_shifted')\n",
    "ax.set_xlabel('p1')\n",
    "ax.set_ylabel('p2')\n",
    "ax.view_init(elev=25, azim=85)"
   ]
  },
  {
   "cell_type": "code",
   "execution_count": 81,
   "id": "ddabdd65",
   "metadata": {},
   "outputs": [],
   "source": [
    "maxi=0\n",
    "mini=2\n",
    "maximo=np.array([0,0])\n",
    "minimo=np.array([0,0])\n",
    "#TERMINAR"
   ]
  },
  {
   "cell_type": "markdown",
   "id": "ebc9d4dc",
   "metadata": {},
   "source": [
    "12"
   ]
  },
  {
   "cell_type": "markdown",
   "id": "f81cd29c",
   "metadata": {},
   "source": [
    "a) \n",
    "\n",
    "Para mostrar que el número de configuraciones posibles está dado por:\n",
    "$$\n",
    "\\Omega(N,n_{0})=\\frac{N!}{n_{0}!n_{1}!}\\\\\n",
    "\\\\\n",
    "\\vdots\n",
    "$$\n",
    "\n"
   ]
  },
  {
   "cell_type": "markdown",
   "id": "e1a4da10",
   "metadata": {},
   "source": [
    "b)\n",
    "\n",
    "A partir de la ecuación de la entropía dada por: $S(N,n_{0})=k_{B}ln(\\Omega)$ y la fórmula de Stirling $ln(N!)\\cong Nln(N)-N $ tenemos que:\n",
    "\n",
    "$$\\begin{equation} \\label{eq1}\n",
    "\\begin{split}\n",
    "S(N,n_{0})&=k_{B}ln \\Big(\\frac{N!}{n_{0}!n_{1}!} \\Big)\\\\\n",
    "&=k_{B}\\Big( ln(N!) - ln(n_{0}!) - ln(n_{1}) \\Big) \\\\\n",
    "&=k_{B} \\Big( Nln(N) - N - n_{0}ln(n_{0} + n_{0} - n_{1}ln(n_{1} + n_{1} \\Big)\\\\\n",
    "&=k_{B} \\Big( Nln(N)-N+N-n_{0}ln(n_{0})-n_{1}ln(n_{1}) \\Big)\\\\\n",
    "&=k_{B} \\Big( Nln(N)- \\sum_{i=0}^1 n_{i}ln(n_{i}) \\Big)\\\\\n",
    "\\end{split}\n",
    "\\end{equation}\n",
    "$$\n",
    "\n"
   ]
  },
  {
   "cell_type": "markdown",
   "id": "366a21a4",
   "metadata": {},
   "source": [
    "c)\n",
    "\n",
    "A partir de la fórmula obtenida del inciso b) y sabiendo que $x=\\frac{n_{1}}{N}$ para las partículas que se encuentran en el nivel de energía $\\epsilon_{1}$ y que $x=\\frac{1}{N(\\epsilon_{0}-\\epsilon_{1})}(E-N_{\\epsilon_{0}})$. Tenemos que:\n",
    "\n",
    "$$\n",
    "n_{1}= xN\\\\\n",
    "n_{0}=N-Nx\n",
    "$$\n",
    "\n",
    "De modo que se tiene que:\n",
    "\n",
    "$$\n",
    "\\begin{equation}\n",
    "\\begin{split}\n",
    "S(N,x)&=k_{B} \\Big(Nln(N)-(N-Nx)ln(N-Nx)-Nxln(Nx) \\Big)\\\\\n",
    "&=k_{B}N \\Big(ln(N) - (1-x)ln(N-Nx)-xln(Nx) \\Big)\\\\\n",
    "&=k_{B}N \\Big(ln(N)-ln(N-Nx)+xln(N-Nx) - xln(Nx) \\Big)\\\\\n",
    "&=k_{B}N \\Big(ln(N) - ln(N(1-x))+xln(N(1-x)) -xln(Nx) \\Big)\\\\\n",
    "&=k_{B}N \\Big(ln(N)-ln(N) - ln(1-x) + xln(N) + xln(1-x)-xln(N)-xln(x) \\Big)\\\\\n",
    "&=-k_{B}N \\Big(ln(1-x) - xln(1-x) + xln(x) \\Big)\\\\\n",
    "&=-k_{B}N \\Big(xln(x)+(1-x)ln(1-x) \\Big)\\\\\n",
    "\\end{split}\n",
    "\\end{equation}\n",
    "$$\n",
    "\n"
   ]
  },
  {
   "cell_type": "markdown",
   "id": "366c9e25",
   "metadata": {},
   "source": [
    "d) \n",
    "\n",
    "$$\n",
    "\\begin{equation}\n",
    "\\begin{split}\n",
    "\\frac{S(N,x)}{k_{B}N}&=\\frac{-k_{B}N[xln(x) +(1-x)ln(1-x)]}{k_{B}N}\\\\\n",
    "\\\\\n",
    "&= -(xln(x) +(1-x)ln(1-x))\n",
    "\\end{split}\n",
    "\\end{equation}\n",
    "$$\n",
    "\n",
    "\n",
    "\n",
    "\n"
   ]
  },
  {
   "cell_type": "code",
   "execution_count": 12,
   "id": "f634a776",
   "metadata": {},
   "outputs": [
    {
     "data": {
      "text/plain": [
       "[<matplotlib.lines.Line2D at 0x1bf3d4e3610>]"
      ]
     },
     "execution_count": 12,
     "metadata": {},
     "output_type": "execute_result"
    },
    {
     "data": {
      "image/png": "[encoded data removed]",
      "text/plain": [
       "<Figure size 640x480 with 1 Axes>"
      ]
     },
     "metadata": {},
     "output_type": "display_data"
    }
   ],
   "source": [
    "x=sym.Symbol('x',real=True)\n",
    "f=lambda x: -(x*np.log(x) + (1-x)*np.log(1-x))\n",
    "X=np.linspace(0.001,0.999,1000)\n",
    "y=f(X)\n",
    "\n",
    "plt.plot(X,y)\n",
    "\n"
   ]
  },
  {
   "cell_type": "markdown",
   "id": "180c9aa6",
   "metadata": {},
   "source": [
    "e)\n",
    "## Revisar"
   ]
  },
  {
   "cell_type": "markdown",
   "id": "97740018",
   "metadata": {},
   "source": [
    "f)\n",
    "Para $T\\rightarrow 0$:\n",
    "$$\n",
    "\\begin{equation}\n",
    "\\begin{split}\n",
    "\\lim_{T\\to\\infty} x(T) &=\\lim_{T\\to\\infty} \\frac{1}{1+e^{\\frac{-\\Delta E}{k_{B}T}}} \\\\\n",
    "&=\\frac{1}{1+e^{\\frac{-\\Delta E}{\\infty}}}\\\\\n",
    "&=\\frac{1}{1+e^{0}}\\\\\n",
    "&=\\frac{1}{1+1}\\\\\n",
    "&=\\frac{1}{2}\n",
    "\\end{split}\n",
    "\\end{equation}\n",
    "$$\n",
    "\n",
    "Para $T\\rightarrow 0$:\n",
    "$$\n",
    "\\begin{equation}\n",
    "\\begin{split}\n",
    "\\lim_{T\\to 0} x(T) &=\\lim_{T\\to 0} \\frac{1}{1+e^{\\frac{-\\Delta E}{k_{B}T}}} \\\\\n",
    "&=\\frac{1}{1+e^{\\frac{-\\Delta E}{0}}}\\\\\n",
    "&=\\frac{1}{1+e^{-\\infty}}\\\\\n",
    "&=\\frac{1}{1+0}\\\\\n",
    "&=1\n",
    "\\end{split}\n",
    "\\end{equation}\n",
    "$$\n",
    "\n",
    "Para altas temperaturas, es decir $T \\leftarrow \\infty$:\n",
    "\n",
    "$$\n",
    "\\begin{equation}\n",
    "\\begin{split}\n",
    "S(T)&= \\lim_{T\\to \\infty} -k_{B}N \\Big[\\frac{1}{1+e^{\\frac{-\\Delta E}{k_{B}T}}} ln \\Big(\\frac{1}{1+e^{\\frac{-\\Delta E}{k_{B}T}}} \\Big)+\\Big(1- \\frac{1}{1+e^{\\frac{-\\Delta E}{k_{B}T}}}\\Big)ln \\Big(1- \\frac{1}{1+e^{\\frac{-\\Delta E}{k_{B}T}}} \\Big) \\Big]\\\\\n",
    "&= -k_{B}N \\Big[\\frac{1}{2}ln\\Big(\\frac{1}{2}\\Big) + \\frac{1}{2}ln\\Big(\\frac{1}{2}\\Big)\\Big]\\\\\n",
    "&=-k_{B}N ln \\Big(\\frac{1}{2} \\Big)\\\\\n",
    "&= -k_{B}N\\Big( ln(1) -ln(2) \\Big)\\\\\n",
    "&= k_{B}N ln(2)\n",
    "\\end{split}\n",
    "\\end{equation}\n",
    "$$\n",
    "\n"
   ]
  },
  {
   "cell_type": "markdown",
   "id": "c829c49c",
   "metadata": {},
   "source": [
    "g)\n",
    "\n",
    "Según la formula del cambio de entropía para procesos isotérmicos dada por:\n",
    "\n",
    "$$\n",
    "\\begin{equation}\n",
    "\\begin{split}\n",
    "\\Delta S&= \\int_{V}^{2V} P dV\\\\\n",
    "&= \\int_{V}^{2V} \\frac{NRT}{V}dV\\\\\n",
    "&= NRT ln \\Big(\\frac{2V}{V} \\Big)\\\\\n",
    "&=NRTln(2)\n",
    "\\end{split}\n",
    "\\end{equation}\n",
    "$$\n",
    "\n",
    "Se puede identificar que este resultado y el del punto anterior tienen prácticamente la misma forma ya que si se toma $k_{B}=RT$ se obtendría el mismo resultado $k_{B}Nln(2)$ "
   ]
  },
  {
   "cell_type": "markdown",
   "id": "7ca0b2e1",
   "metadata": {},
   "source": [
    "## Distribuciones Discretas de Probabilidad"
   ]
  },
  {
   "cell_type": "markdown",
   "id": "9521dbd9",
   "metadata": {},
   "source": [
    "3"
   ]
  },
  {
   "cell_type": "code",
   "execution_count": null,
   "id": "407f5e84",
   "metadata": {},
   "outputs": [],
   "source": [
    "#a"
   ]
  },
  {
   "cell_type": "code",
   "execution_count": null,
   "id": "95a8317b",
   "metadata": {},
   "outputs": [],
   "source": [
    "#b"
   ]
  },
  {
   "cell_type": "markdown",
   "id": "a41c6771",
   "metadata": {},
   "source": [
    "4"
   ]
  },
  {
   "cell_type": "code",
   "execution_count": null,
   "id": "0d5dcc43",
   "metadata": {},
   "outputs": [],
   "source": []
  },
  {
   "cell_type": "markdown",
   "id": "8222a534",
   "metadata": {},
   "source": [
    "## Distribuciones Contínuas de Probabilidad"
   ]
  },
  {
   "cell_type": "markdown",
   "id": "f994c42f",
   "metadata": {},
   "source": [
    "1 "
   ]
  },
  {
   "cell_type": "code",
   "execution_count": 13,
   "id": "546c0ced",
   "metadata": {},
   "outputs": [
    {
     "data": {
      "text/latex": [
       "$\\displaystyle 0.666666666666667 x + 1.33333333333333 y$"
      ],
      "text/plain": [
       "0.666666666666667*x + 1.33333333333333*y"
      ]
     },
     "execution_count": 13,
     "metadata": {},
     "output_type": "execute_result"
    }
   ],
   "source": [
    "x= sym.Symbol(\"x\", real = True)\n",
    "y= sym.Symbol(\"y\", real = True)\n",
    "funcion=(2/3)*(x+2*y)\n",
    "funcion\n"
   ]
  },
  {
   "cell_type": "markdown",
   "id": "4485c0f0",
   "metadata": {},
   "source": [
    "a)\n",
    "\n",
    "Para que sea una funcion de densidad la integral entre su limite inferior y limite superior debe dar 1, en este caso es necesario realizar una integral doble (con respecto a x y luego con respecto a y) ambas entre 0 y 1, teniendo en cuenta que fueron los limites del ejercicio, quedandonos de la siguiente manera:\n",
    "$$ \n",
    "\\begin{equation}\n",
    "\\begin{split}\n",
    "densidad&= \\int_0^1\\ \\int_0^1\\ \\frac{2}{3}(x+2y)dxdy\\\\\n",
    "&= \\int_0^1\\ \\Big(\\frac{1}{3}+\\frac{4}{3}y\\Big)dy\\\\\n",
    "&=1\n",
    "\\end{split}\n",
    "\\end{equation}\n",
    "$$\n",
    "\n",
    "Como el resultado dio 1 la función si es una función de densidad conjunta valida\n",
    "\n"
   ]
  },
  {
   "cell_type": "code",
   "execution_count": 14,
   "id": "96a99e09",
   "metadata": {},
   "outputs": [
    {
     "data": {
      "text/latex": [
       "$\\displaystyle 1.0$"
      ],
      "text/plain": [
       "1.00000000000000"
      ]
     },
     "execution_count": 14,
     "metadata": {},
     "output_type": "execute_result"
    }
   ],
   "source": [
    "integralx=sym.integrate(funcion,(x,0,1))\n",
    "integralfinal= sym.integrate(integralx,(y,0,1))\n",
    "integralfinal"
   ]
  },
  {
   "cell_type": "markdown",
   "id": "43bbf8ca",
   "metadata": {},
   "source": [
    "b)\n",
    "\n",
    "Sean x y y variables de nuestra función de probabilidad $f(x, y)$ las distribuciones marginales $g(x)$ y $h(y)$ están dadas por:\n",
    "$$\n",
    "g(x)= \\int_0^1\\ \\frac{2}{3}(x+2y)dy\\\\\n",
    "h(y)= \\int_0^1\\ \\frac{2}{3}(x+2y)dx\n",
    "$$\n",
    "Donde los límites se definen por los límites de la función y la distribución respecto a $x$ es la integral respecto a $y$ y la distribución respecto a $y$ es la integral respecto a $x$ \n",
    "\n",
    "Donde al desarrollar la integral se llega a los siguientes valores:\n",
    "\n",
    "$$\n",
    "g(x)= \\frac{2}{3}(x+1)\\\\\n",
    "h(y)= \\frac{1}{3}+\\frac{4}{3}y\n",
    "$$\n",
    "\n"
   ]
  },
  {
   "cell_type": "code",
   "execution_count": 15,
   "id": "189c87ee",
   "metadata": {},
   "outputs": [
    {
     "data": {
      "text/plain": [
       "(0.666666666666667*x + 0.666666666666667,\n",
       " 1.33333333333333*y + 0.333333333333333)"
      ]
     },
     "execution_count": 15,
     "metadata": {},
     "output_type": "execute_result"
    }
   ],
   "source": [
    "gx=sym.integrate(funcion,(y,0,1))\n",
    "hy=sym.integrate(funcion,(x,0,1))\n",
    "\n",
    "gx,hy"
   ]
  },
  {
   "cell_type": "markdown",
   "id": "6fcb8d5d",
   "metadata": {},
   "source": [
    "c)\n",
    "\n",
    "Para calcular $\\mathbb{E}(x)$ se debe integrar con respecto a $x$ y a la multiplicación entre la distribución marginal $G(x)$, quedando la expresión de la siguiente manera:\n",
    "$$\n",
    "\\begin{equation}\n",
    "\\begin{split}\n",
    "\\mathbb{E}(x)&= \\int_0^1\\ x G(x) dx\\\\\n",
    "&= \\int_0^1\\ x \\frac{2}{3}(x+1)dx\\\\\n",
    "&= \\frac{5}{9}\n",
    "\\end{split}\n",
    "\\end{equation}\n",
    "$$\n"
   ]
  },
  {
   "cell_type": "code",
   "execution_count": 16,
   "id": "b065dfe9",
   "metadata": {},
   "outputs": [
    {
     "data": {
      "text/latex": [
       "$\\displaystyle 0.555555555555556$"
      ],
      "text/plain": [
       "0.555555555555556"
      ]
     },
     "execution_count": 16,
     "metadata": {},
     "output_type": "execute_result"
    }
   ],
   "source": [
    "Ex=sym.integrate(x*gx,(x,0,1))\n",
    "Ex"
   ]
  },
  {
   "cell_type": "markdown",
   "id": "429704d7",
   "metadata": {},
   "source": [
    "d)\n",
    "\n",
    "Para calcular $\\mathbb{E}(y)$ se debe integrar respecto a $y$ y a la multiplicación entre la distribución marginal $H(y)$, quedando la expresión de la siguiente manera:\n",
    "$$\n",
    "\\begin{equation}\n",
    "\\begin{split}\n",
    "\\mathbb{E}(y)&= \\int_0^1\\ y H(y)dx\\\\\n",
    "&= \\int_0^1\\ y (\\frac{1}{3}+\\frac{4}{3}y)dx\\\\\n",
    "&= \\frac{11}{18} \n",
    "\\end{split}\n",
    "\\end{equation}\n",
    "$$"
   ]
  },
  {
   "cell_type": "code",
   "execution_count": 17,
   "id": "c47ed735",
   "metadata": {},
   "outputs": [
    {
     "data": {
      "text/latex": [
       "$\\displaystyle 0.611111111111111$"
      ],
      "text/plain": [
       "0.611111111111111"
      ]
     },
     "execution_count": 17,
     "metadata": {},
     "output_type": "execute_result"
    }
   ],
   "source": [
    "Ey=sym.integrate(y*hy,(y,0,1))\n",
    "Ey"
   ]
  },
  {
   "cell_type": "markdown",
   "id": "14512016",
   "metadata": {},
   "source": [
    "e)\n",
    "\n",
    "Para utilizar esa fórmula solo nos faltaría conocer a $\\mathbb{E}(xy)$ y esta es una integral doble que se expresa de la siguiente manera:\n",
    "\n",
    "$$\n",
    "\\begin{equation}\n",
    "\\begin{split}\n",
    "\\mathbb{E}(xy)= \\int_0^1\\ \\int_0^1\\ xyf(x,y)dxdy\\\\\n",
    "$$ E(xy)= \\int_0^1\\ \\int_0^1\\ x*y*\\frac{2}{3}*(x+2y)\\,dxdy$$\n",
    "$$ E(xy)=\\int_0^1\\ \\frac{2y}{3}\\left(\\frac{1}{3}+y\\right)\\,dy$$\n",
    "\n",
    "$$ E(xy)=\\frac{1}{3}\\$$\n",
    "\n",
    "Ya conociendo el valor de E(xy) se aplica la formula y da que la covarianza es:\n",
    "$$ E(xy)-E(x)*E(y)= \\frac{1}{3}\\ - \\frac{5}{9}\\ * \\frac{11}{18}\\ =-0.00617$$\n",
    "Lo cual es el resultado esperado\n"
   ]
  },
  {
   "cell_type": "markdown",
   "id": "36a2d396",
   "metadata": {},
   "source": []
  },
  {
   "cell_type": "markdown",
   "id": "e59adb3c",
   "metadata": {},
   "source": []
  },
  {
   "cell_type": "markdown",
   "id": "e6c999d3",
   "metadata": {},
   "source": [
    "4"
   ]
  },
  {
   "cell_type": "code",
   "execution_count": null,
   "id": "51f78b52",
   "metadata": {},
   "outputs": [],
   "source": []
  },
  {
   "cell_type": "markdown",
   "id": "ab10c45a",
   "metadata": {},
   "source": [
    "## Metropolis Hasting"
   ]
  },
  {
   "cell_type": "markdown",
   "id": "149c2e31",
   "metadata": {},
   "source": [
    "1"
   ]
  },
  {
   "cell_type": "code",
   "execution_count": null,
   "id": "8746e5ea",
   "metadata": {},
   "outputs": [],
   "source": []
  },
  {
   "cell_type": "markdown",
   "id": "84c88a29",
   "metadata": {},
   "source": [
    "3"
   ]
  },
  {
   "cell_type": "code",
   "execution_count": null,
   "id": "4349158d",
   "metadata": {},
   "outputs": [],
   "source": []
  },
  {
   "cell_type": "markdown",
   "id": "01044654",
   "metadata": {},
   "source": [
    "4"
   ]
  },
  {
   "cell_type": "code",
   "execution_count": null,
   "id": "0f4eb384",
   "metadata": {},
   "outputs": [],
   "source": []
  },
  {
   "cell_type": "markdown",
   "id": "903bc57a",
   "metadata": {},
   "source": [
    "## Parameter Estimation"
   ]
  },
  {
   "cell_type": "markdown",
   "id": "e3ebb364",
   "metadata": {},
   "source": [
    "3"
   ]
  },
  {
   "cell_type": "code",
   "execution_count": null,
   "id": "a0435b5e",
   "metadata": {},
   "outputs": [],
   "source": []
  },
  {
   "cell_type": "markdown",
   "id": "7ee84000",
   "metadata": {},
   "source": [
    "5"
   ]
  },
  {
   "cell_type": "code",
   "execution_count": null,
   "id": "7bf8657f",
   "metadata": {},
   "outputs": [],
   "source": []
  }
 ],
 "metadata": {
  "kernelspec": {
   "display_name": "Python 3 (ipykernel)",
   "language": "python",
   "name": "python3"
  },
  "language_info": {
   "codemirror_mode": {
    "name": "ipython",
    "version": 3
   },
   "file_extension": ".py",
   "mimetype": "text/x-python",
   "name": "python",
   "nbconvert_exporter": "python",
   "pygments_lexer": "ipython3",
   "version": "3.10.9"
  }
 },
 "nbformat": 4,
 "nbformat_minor": 5
}
