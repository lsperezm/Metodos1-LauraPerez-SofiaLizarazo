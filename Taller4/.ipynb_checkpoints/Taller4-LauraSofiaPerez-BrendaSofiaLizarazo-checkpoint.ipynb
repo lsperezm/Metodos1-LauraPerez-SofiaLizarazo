{
 "cells": [
  {
   "cell_type": "code",
   "execution_count": 2,
   "id": "2768f2d4",
   "metadata": {},
   "outputs": [],
   "source": [
    "import numpy as np\n",
    "import matplotlib.pyplot as plt\n",
    "import sympy as sym"
   ]
  },
  {
   "cell_type": "markdown",
   "id": "328c9d37",
   "metadata": {},
   "source": [
    "# Tecnicas De Conteo"
   ]
  },
  {
   "cell_type": "markdown",
   "id": "d80e1db5",
   "metadata": {},
   "source": [
    "20"
   ]
  },
  {
   "cell_type": "code",
   "execution_count": null,
   "id": "061f361f",
   "metadata": {},
   "outputs": [],
   "source": []
  },
  {
   "cell_type": "markdown",
   "id": "69f38e02",
   "metadata": {},
   "source": [
    "22 (Tambíen Computacional)"
   ]
  },
  {
   "cell_type": "markdown",
   "id": "461fa657",
   "metadata": {},
   "source": [
    "Teórico:\n",
    "\n",
    "Teniendo en cuenta que se busca realizar la suma de 3 enteros que de 10, entonces se pueden sumar numeron que esten en el rango [0,10] Se realiza una combinación con repetición, dada por la siguiente fórmula:\n",
    "\n",
    "$$\n",
    "C_{r}^{n} = \\binom{n+r-1}{r}\n",
    "$$\n",
    "\n",
    "Siendo $r$ la cantidad de particiones entre los números que podemos elegir (al tener 3 enteros, hay 2 particiones entre ellos) y $n$ la cantidad de números de los que se pueden elegir (en este caso 11). De modo que se tiene:\n",
    "\n",
    "$$\n",
    "C_{2}^{11} = \\binom{11+2-1}{2} = \\binom{12}{2}\\\\\n",
    "= \\frac{12!}{2! (11-1)!}= \\frac{479001600}{2(3628800)}=\\frac{479001600}{7257600}=66\n",
    "$$\n"
   ]
  },
  {
   "cell_type": "markdown",
   "id": "3c88316e",
   "metadata": {},
   "source": [
    "Computacional:"
   ]
  },
  {
   "cell_type": "code",
   "execution_count": 2,
   "id": "c2a84346",
   "metadata": {},
   "outputs": [
    {
     "data": {
      "text/plain": [
       "66"
      ]
     },
     "execution_count": 2,
     "metadata": {},
     "output_type": "execute_result"
    }
   ],
   "source": [
    "num=np.array([0,1,2,3,4,5,6,7,8,9,10])\n",
    "count=0\n",
    "\n",
    "for i in range(len(num)):\n",
    "    for j in range(len(num)):\n",
    "        for k in range(len(num)):\n",
    "            suma=i+j+k\n",
    "            if suma==10:\n",
    "                count+=1\n",
    "                \n",
    "count"
   ]
  },
  {
   "cell_type": "markdown",
   "id": "c81ce16b",
   "metadata": {},
   "source": [
    "23"
   ]
  },
  {
   "cell_type": "code",
   "execution_count": null,
   "id": "84521ea3",
   "metadata": {},
   "outputs": [],
   "source": []
  },
  {
   "cell_type": "markdown",
   "id": "8661696a",
   "metadata": {},
   "source": [
    "## Generales de Probabilidad"
   ]
  },
  {
   "cell_type": "markdown",
   "id": "e0b38830",
   "metadata": {},
   "source": [
    "4"
   ]
  },
  {
   "cell_type": "code",
   "execution_count": 12,
   "id": "ba5a5471",
   "metadata": {},
   "outputs": [
    {
     "data": {
      "text/plain": [
       "array([3.65000000e+02, 6.64300000e+04, 8.03803000e+06, 7.27441715e+08,\n",
       "       5.25212918e+10, 3.15127751e+12, 1.61615518e+14, 7.23229443e+15,\n",
       "       2.86881012e+17, 1.02129640e+19, 3.29600203e+20, 9.72320599e+21,\n",
       "       2.64022440e+23, 6.63827848e+24, 1.55335716e+26, 3.39796880e+27,\n",
       "       6.97583006e+28, 1.34866048e+30, 2.46307993e+31, 4.26112827e+32,\n",
       "       7.00042502e+33, 1.09461191e+35, 1.63239950e+36, 2.32616929e+37,\n",
       "       3.17289492e+38, 4.14917027e+39, 5.20951379e+40, 6.28862736e+41,\n",
       "       7.30781869e+42, 8.18475693e+43, 8.84481798e+44, 9.23177876e+45,\n",
       "       9.31570402e+46, 9.09651099e+47, 8.60270039e+48, 7.88580869e+49,\n",
       "       7.01197584e+50, 6.05244230e+51, 5.07474008e+52, 4.13591317e+53,\n",
       "       3.27846776e+54, 2.52910370e+55, 1.89976859e+56, 1.39028520e+57,\n",
       "       9.91736773e+57, 6.89903842e+58, 4.68253884e+59, 3.10218198e+60,\n",
       "       2.00692181e+61, 1.26837459e+62, 7.83407833e+62, 4.73057807e+63,\n",
       "       2.79371875e+64, 1.61414861e+65, 9.12727668e+65, 5.05259959e+66,\n",
       "       2.73904083e+67, 1.45452513e+68, 7.56846127e+68, 3.85991525e+69,\n",
       "       1.92995762e+70, 9.46301803e+70, 4.55126105e+71, 2.14762631e+72,\n",
       "       9.94516183e+72, 4.52052811e+73, 2.01737001e+74, 8.84082738e+74,\n",
       "       3.80539961e+75, 1.60914041e+76, 6.68586507e+76, 2.73006157e+77,\n",
       "       1.09576444e+78, 4.32382724e+78, 1.67764497e+79, 6.40154002e+79,\n",
       "       2.40265593e+80, 8.87134497e+80, 3.22288102e+81, 1.15217996e+82])"
      ]
     },
     "execution_count": 12,
     "metadata": {},
     "output_type": "execute_result"
    }
   ],
   "source": [
    "n=1\n",
    "prob=np.zeros(80)\n",
    "count=0\n",
    "d=365\n",
    "while n<=80:\n",
    "    f_i=np.math.factorial(d)/(np.math.factorial(n) *np.math.factorial(d-n)) \n",
    "    prob[count]=f_i\n",
    "    count+=1\n",
    "    n+=1\n",
    "    \n",
    "prob\n",
    "    "
   ]
  },
  {
   "cell_type": "code",
   "execution_count": 11,
   "id": "ddd2b6f5",
   "metadata": {},
   "outputs": [
    {
     "data": {
      "text/plain": [
       "<matplotlib.collections.PathCollection at 0x1d4ae612410>"
      ]
     },
     "execution_count": 11,
     "metadata": {},
     "output_type": "execute_result"
    },
    {
     "data": {
      "image/png": "[encoded data removed]",
      "text/plain": [
       "<Figure size 640x480 with 1 Axes>"
      ]
     },
     "metadata": {},
     "output_type": "display_data"
    }
   ],
   "source": [
    "x=np.arange(1,81)\n",
    "\n",
    "plt.scatter(x,prob)"
   ]
  },
  {
   "cell_type": "markdown",
   "id": "d07c7d88",
   "metadata": {},
   "source": [
    "9"
   ]
  },
  {
   "cell_type": "code",
   "execution_count": null,
   "id": "e25d4681",
   "metadata": {},
   "outputs": [],
   "source": []
  },
  {
   "cell_type": "markdown",
   "id": "ebc9d4dc",
   "metadata": {},
   "source": [
    "12"
   ]
  },
  {
   "cell_type": "code",
   "execution_count": null,
   "id": "3716e5b6",
   "metadata": {},
   "outputs": [],
   "source": []
  },
  {
   "cell_type": "markdown",
   "id": "7ca0b2e1",
   "metadata": {},
   "source": [
    "## Distribuciones Discretas de Probabilidad"
   ]
  },
  {
   "cell_type": "markdown",
   "id": "9521dbd9",
   "metadata": {},
   "source": [
    "3"
   ]
  },
  {
   "cell_type": "code",
   "execution_count": null,
   "id": "407f5e84",
   "metadata": {},
   "outputs": [],
   "source": []
  },
  {
   "cell_type": "markdown",
   "id": "a41c6771",
   "metadata": {},
   "source": [
    "4"
   ]
  },
  {
   "cell_type": "code",
   "execution_count": null,
   "id": "0d5dcc43",
   "metadata": {},
   "outputs": [],
   "source": []
  },
  {
   "cell_type": "markdown",
   "id": "8222a534",
   "metadata": {},
   "source": [
    "## Distribuciones Contínuas de Probabilidad"
   ]
  },
  {
   "cell_type": "markdown",
   "id": "f994c42f",
   "metadata": {},
   "source": [
    "1 "
   ]
  },
  {
   "cell_type": "code",
   "execution_count": null,
   "id": "0ff1b1b9",
   "metadata": {},
   "outputs": [],
   "source": []
  },
  {
   "cell_type": "markdown",
   "id": "e6c999d3",
   "metadata": {},
   "source": [
    "4"
   ]
  },
  {
   "cell_type": "code",
   "execution_count": null,
   "id": "51f78b52",
   "metadata": {},
   "outputs": [],
   "source": []
  },
  {
   "cell_type": "markdown",
   "id": "ab10c45a",
   "metadata": {},
   "source": [
    "## Metropolis Hasting"
   ]
  },
  {
   "cell_type": "markdown",
   "id": "149c2e31",
   "metadata": {},
   "source": [
    "1"
   ]
  },
  {
   "cell_type": "code",
   "execution_count": null,
   "id": "8746e5ea",
   "metadata": {},
   "outputs": [],
   "source": []
  },
  {
   "cell_type": "markdown",
   "id": "84c88a29",
   "metadata": {},
   "source": [
    "3"
   ]
  },
  {
   "cell_type": "code",
   "execution_count": null,
   "id": "4349158d",
   "metadata": {},
   "outputs": [],
   "source": []
  },
  {
   "cell_type": "markdown",
   "id": "01044654",
   "metadata": {},
   "source": [
    "4"
   ]
  },
  {
   "cell_type": "code",
   "execution_count": null,
   "id": "0f4eb384",
   "metadata": {},
   "outputs": [],
   "source": []
  },
  {
   "cell_type": "markdown",
   "id": "903bc57a",
   "metadata": {},
   "source": [
    "## Parameter Estimation"
   ]
  },
  {
   "cell_type": "markdown",
   "id": "e3ebb364",
   "metadata": {},
   "source": [
    "3"
   ]
  },
  {
   "cell_type": "code",
   "execution_count": null,
   "id": "a0435b5e",
   "metadata": {},
   "outputs": [],
   "source": []
  },
  {
   "cell_type": "markdown",
   "id": "7ee84000",
   "metadata": {},
   "source": [
    "5"
   ]
  },
  {
   "cell_type": "code",
   "execution_count": null,
   "id": "7bf8657f",
   "metadata": {},
   "outputs": [],
   "source": []
  }
 ],
 "metadata": {
  "kernelspec": {
   "display_name": "Python 3 (ipykernel)",
   "language": "python",
   "name": "python3"
  },
  "language_info": {
   "codemirror_mode": {
    "name": "ipython",
    "version": 3
   },
   "file_extension": ".py",
   "mimetype": "text/x-python",
   "name": "python",
   "nbconvert_exporter": "python",
   "pygments_lexer": "ipython3",
   "version": "3.10.9"
  }
 },
 "nbformat": 4,
 "nbformat_minor": 5
}
