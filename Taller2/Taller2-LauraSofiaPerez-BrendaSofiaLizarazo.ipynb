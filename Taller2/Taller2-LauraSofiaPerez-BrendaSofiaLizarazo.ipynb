{
 "cells": [
  {
   "cell_type": "markdown",
   "id": "ffed60d7",
   "metadata": {},
   "source": [
    "Taller 2"
   ]
  },
  {
   "cell_type": "code",
   "execution_count": 2,
   "id": "6b7efc0a",
   "metadata": {},
   "outputs": [
    {
     "data": {
      "text/html": [
       "<style>.container { width:100% !important; }</style>"
      ],
      "text/plain": [
       "<IPython.core.display.HTML object>"
      ]
     },
     "metadata": {},
     "output_type": "display_data"
    }
   ],
   "source": [
    "from IPython.display import display, HTML\n",
    "display(HTML(\"<style>.container { width:100% !important; }</style>\"))\n",
    "import numpy as np\n",
    "import matplotlib.pyplot as plt\n",
    "import sympy as sym\n",
    "from scipy import integrate\n",
    "import pandas as pd\n",
    "from matplotlib import rc\n",
    "import os.path as path\n",
    "import os"
   ]
  },
  {
   "cell_type": "markdown",
   "id": "cdd46b6a",
   "metadata": {},
   "source": [
    "Derivación"
   ]
  },
  {
   "cell_type": "markdown",
   "id": "d666c231",
   "metadata": {},
   "source": [
    "8"
   ]
  },
  {
   "cell_type": "code",
   "execution_count": null,
   "id": "47479a71",
   "metadata": {},
   "outputs": [],
   "source": []
  },
  {
   "cell_type": "markdown",
   "id": "3515de7d",
   "metadata": {},
   "source": [
    "Raíces de Polinomios\n",
    "\n",
    "5"
   ]
  },
  {
   "cell_type": "code",
   "execution_count": 2,
   "id": "aa3ef60d",
   "metadata": {},
   "outputs": [],
   "source": [
    "x = sym.Symbol('x',real=True)\n",
    "y = sym.Symbol('y',real=True)\n",
    "n = 19\n",
    "\n"
   ]
  },
  {
   "cell_type": "code",
   "execution_count": 3,
   "id": "9bf60da3",
   "metadata": {},
   "outputs": [],
   "source": [
    "def GetLaguerre(n,x,y):\n",
    "    \n",
    "    y= ((1/(np.e**(x)))*(x**n))\n",
    "    \n",
    "    poly = ((np.e**x)*sym.diff( y,x,n ))/(np.math.factorial(n))\n",
    "    \n",
    "    return poly"
   ]
  },
  {
   "cell_type": "code",
   "execution_count": 4,
   "id": "6672ff6e",
   "metadata": {},
   "outputs": [],
   "source": [
    "Laguerre = []\n",
    "DLaguerre = []\n",
    "\n",
    "for i in range(n+1):\n",
    "    \n",
    "    Poly = GetLaguerre(i,x,y)\n",
    "    Laguerre.append(Poly)\n",
    "    DLaguerre.append( sym.diff(Poly,x,1) )"
   ]
  },
  {
   "cell_type": "code",
   "execution_count": 5,
   "id": "cec81db3",
   "metadata": {},
   "outputs": [
    {
     "data": {
      "text/plain": [
       "20"
      ]
     },
     "execution_count": 5,
     "metadata": {},
     "output_type": "execute_result"
    }
   ],
   "source": [
    "len(DLaguerre)"
   ]
  },
  {
   "cell_type": "code",
   "execution_count": 6,
   "id": "3187bed4",
   "metadata": {},
   "outputs": [
    {
     "data": {
      "image/png": "[encoded data removed]",
      "text/plain": [
       "<Figure size 432x288 with 1 Axes>"
      ]
     },
     "metadata": {
      "needs_background": "light"
     },
     "output_type": "display_data"
    }
   ],
   "source": [
    "_x=np.linspace(0,50,1000)\n",
    "\n",
    "for i, p in enumerate(Laguerre):\n",
    "    if i!= 0:\n",
    "        pn = sym.lambdify([x],p,'numpy')\n",
    "        plt.plot(_x,pn(_x))"
   ]
  },
  {
   "cell_type": "code",
   "execution_count": 7,
   "id": "2e742421",
   "metadata": {},
   "outputs": [],
   "source": [
    "def GetNewton(f,df,xn,itmax=10000,precision=1e-14):\n",
    "    \n",
    "    error = 1.\n",
    "    it = 0\n",
    "    \n",
    "    while error >= precision and it < itmax:\n",
    "        \n",
    "        try:\n",
    "            \n",
    "            xn1 = xn - f(xn)/df(xn)\n",
    "            \n",
    "            error = np.abs(f(xn)/df(xn))\n",
    "            \n",
    "        except ZeroDivisionError:\n",
    "            print('Zero Division')\n",
    "            \n",
    "        xn = xn1\n",
    "        it += 1\n",
    "        \n",
    "    if it == itmax:\n",
    "        return False\n",
    "    else:\n",
    "        return xn"
   ]
  },
  {
   "cell_type": "code",
   "execution_count": 8,
   "id": "451ac779",
   "metadata": {},
   "outputs": [],
   "source": [
    "def GetRoots(f,df,x,tolerancia = 14):\n",
    "    \n",
    "    Roots = np.array([])\n",
    "    \n",
    "    for i in x:\n",
    "        \n",
    "        root = GetNewton(f,df,i)\n",
    "        \n",
    "        if root != False:\n",
    "            \n",
    "            croot = np.round( root, tolerancia )\n",
    "            \n",
    "            if croot not in Roots:\n",
    "                Roots = np.append(Roots, croot)\n",
    "                \n",
    "    Roots.sort()\n",
    "    \n",
    "    return Roots"
   ]
  },
  {
   "cell_type": "code",
   "execution_count": 9,
   "id": "c1f1b58c",
   "metadata": {},
   "outputs": [],
   "source": [
    "def GetAllRoots(n,xn,Laguerre,DLaguerre):\n",
    "    \n",
    "    poly = sym.lambdify([x],Laguerre[n],'numpy')\n",
    "    Dpoly = sym.lambdify([x],DLaguerre[n],'numpy')\n",
    "    Roots = GetRoots(poly,Dpoly,xn)\n",
    "    \n",
    "    return Roots"
   ]
  },
  {
   "cell_type": "code",
   "execution_count": null,
   "id": "ca84298a",
   "metadata": {},
   "outputs": [],
   "source": [
    "xn = np.linspace(0,50,1000)\n",
    "Roots = GetAllRoots(n,xn,Laguerre,DLaguerre)"
   ]
  },
  {
   "cell_type": "markdown",
   "id": "d3f562db",
   "metadata": {},
   "source": [
    "Lagrange"
   ]
  },
  {
   "cell_type": "markdown",
   "id": "bd51439d",
   "metadata": {},
   "source": [
    "1"
   ]
  },
  {
   "cell_type": "markdown",
   "id": "48098d57",
   "metadata": {},
   "source": [
    "Sean $C_{0},C_{1},...,C_{n-1}$ los coeficientes del polinomio interpolador $p(x_{i})$ de modo que,\n",
    "$p(x_{i})=C_{0}+C_{1}x_{i},C_{2}x_{i}^2+...+C_{n-1}x_{i}^{n-1}$ \n",
    "\n",
    "Entonces, se puede reescribir en su forma matricial como:\n",
    "\n",
    "$$\\begin{Bmatrix}\n",
    "1 & + & x_{0} & + & x_{0}^2 & + & \\cdots & + & x_{0}^n & = & y_{1}\\\\\n",
    "1 & + & x_{1} & + & x_{1}^2 & + & \\cdots & + & x_{1}^n & = & y_{1}\\\\\n",
    " \\vdots & \\vdots  &  \\vdots & \\vdots  &  \\vdots & \\vdots & \\vdots & \\vdots  & \\vdots & \\vdots  & \\vdots  \\\\\n",
    "1 & + & x_{n} & + & x_{n}^2 &  + & \\cdots & + & x_{n}^n & = & y_{1}\n",
    "\\end{Bmatrix}$$\n",
    "\n",
    "\n",
    "Obteniendo un sistema de ecuaciones lineales, de la forma:\n",
    "\n",
    "$$\\begin{pmatrix}\n",
    "1 & x_{0} & x_{0}^2 & \\cdots & x_{0}^n\\\\\n",
    "1 & x_{1} & x_{1}^2 & \\cdots & x_{1}^n\\\\\n",
    "\\vdots & \\vdots & \\vdots & \\ddots & \\vdots \\\\\n",
    "1 & x_{n} & x_{n}^2 & \\cdots & x_{n}^n\n",
    "\\end{pmatrix}\n",
    "\\begin{pmatrix}\n",
    "C_{0} \\\\\n",
    "C_{1} \\\\\n",
    "\\vdots \\\\\n",
    "C_{n}\n",
    "\\end{pmatrix}\n",
    "=\n",
    "\\begin{pmatrix}\n",
    "f(x_{0}) \\\\\n",
    "f(x_{1}) \\\\\n",
    "\\vdots \\\\\n",
    "f(x_{n})\n",
    "\\end{pmatrix}$$\n",
    "\n",
    "\n",
    "De modo que el determinante de esta matrix cumple con la ecuación:\n",
    "\n",
    "$\\prod_{0\\leqq i<j\\leqq n}(x_{j}-x_{i})$\n",
    "\n",
    "Este da distinto de cero si para todo $i,j$ , $x_{i}\\neq x_{j}$\n",
    "\n",
    "Esto implica que el sistema tiene una única solución y por ende el polinomio interpolador generado por la Interpolación de Lagrange es único.\n"
   ]
  },
  {
   "cell_type": "markdown",
   "id": "8748434d",
   "metadata": {},
   "source": [
    "4"
   ]
  },
  {
   "cell_type": "code",
   "execution_count": 2,
   "id": "3bc386b9",
   "metadata": {},
   "outputs": [],
   "source": [
    "def cargar(nombre:str)->tuple:\n",
    "    archivo=open(nombre,mode='r',encoding=(\"utf8\"))\n",
    "    llaves=archivo.readline().strip()\n",
    "    linea=archivo.readline().strip()\n",
    "    y=[]\n",
    "    x=[]\n",
    "    \n",
    "    while len(linea)>0:\n",
    "        datos=linea.split(\",\")\n",
    "        datos[0]\n",
    "        x.append(float(datos[0]))\n",
    "        y.append(float(datos[1]))\n",
    "          \n",
    "        linea=archivo.readline()\n",
    "        \n",
    "    archivo.close()\n",
    "\n",
    "    return  (x,y)"
   ]
  },
  {
   "cell_type": "code",
   "execution_count": 6,
   "id": "9e3b59fc",
   "metadata": {},
   "outputs": [
    {
     "data": {
      "text/plain": [
       "([1.4, 3.5, 5.6], [0.4007954931819738, 0.594128102489774, 0.29802795523938164])"
      ]
     },
     "execution_count": 6,
     "metadata": {},
     "output_type": "execute_result"
    }
   ],
   "source": [
    "X,Y=cargar('Parabolico.txt')\n",
    "X,Y"
   ]
  },
  {
   "cell_type": "code",
   "execution_count": 4,
   "id": "9546030a",
   "metadata": {},
   "outputs": [],
   "source": [
    "def Lagrange(x,xi,j):\n",
    "    \n",
    "    prod = 1.0\n",
    "    n = len(xi)\n",
    "    \n",
    "    for i in range(n):\n",
    "        if i != j:\n",
    "            prod *= (x - xi[i])/(xi[j]-xi[i])\n",
    "            \n",
    "    return prod"
   ]
  },
  {
   "cell_type": "code",
   "execution_count": 5,
   "id": "cbdca97f",
   "metadata": {},
   "outputs": [],
   "source": [
    "def Interpolate(x,xi,yi):\n",
    "    \n",
    "    Sum = 0.\n",
    "    n = len(xi)\n",
    "    \n",
    "    for j in range(n):\n",
    "        Sum += yi[j]*Lagrange(x,xi,j)\n",
    "        \n",
    "    return Sum"
   ]
  },
  {
   "cell_type": "code",
   "execution_count": 25,
   "id": "e7cd5d99",
   "metadata": {},
   "outputs": [],
   "source": [
    "x = np.linspace(X[0],X[-1],100)\n",
    "y = Interpolate(x,X,Y)"
   ]
  },
  {
   "cell_type": "code",
   "execution_count": 27,
   "id": "033853ec",
   "metadata": {},
   "outputs": [
    {
     "data": {
      "text/latex": [
       "$\\displaystyle x \\left(0.363970234266202 - 0.0554912422401579 x\\right)$"
      ],
      "text/plain": [
       "x*(0.363970234266202 - 0.0554912422401579*x)"
      ]
     },
     "execution_count": 27,
     "metadata": {},
     "output_type": "execute_result"
    }
   ],
   "source": [
    "x_symb = sym.Symbol('x',real=True)\n",
    "\n",
    "f=Interpolate(x_symb,X,Y)\n",
    "f_sym = sym.simplify(f)\n",
    "f_sym"
   ]
  },
  {
   "cell_type": "code",
   "execution_count": 19,
   "id": "c90bc884",
   "metadata": {},
   "outputs": [
    {
     "data": {
      "text/plain": [
       "[<matplotlib.lines.Line2D at 0x175e7c07310>]"
      ]
     },
     "execution_count": 19,
     "metadata": {},
     "output_type": "execute_result"
    },
    {
     "data": {
      "image/png": "[encoded data removed]",
      "text/plain": [
       "<Figure size 432x288 with 1 Axes>"
      ]
     },
     "metadata": {
      "needs_background": "light"
     },
     "output_type": "display_data"
    }
   ],
   "source": [
    "plt.scatter(X,Y,marker='o',color='red')\n",
    "plt.plot(x,y,color='blue')\n"
   ]
  },
  {
   "cell_type": "code",
   "execution_count": 51,
   "id": "03896421",
   "metadata": {},
   "outputs": [],
   "source": [
    "def function(x):\n",
    "    return x*0.363970234266202 -0.0554912422401579*(x**2)\n"
   ]
  },
  {
   "cell_type": "code",
   "execution_count": 52,
   "id": "a5eda0ea",
   "metadata": {},
   "outputs": [
    {
     "data": {
      "text/plain": [
       "20"
      ]
     },
     "execution_count": 52,
     "metadata": {},
     "output_type": "execute_result"
    }
   ],
   "source": [
    "def Angle():\n",
    "    x_1=1.4\n",
    "    x_2=1.4+1e-4\n",
    "    dif= function(x_2)-function(x_1)\n",
    "    tan= np.arctan(dif/(1e-4))\n",
    "    \n",
    "    return tan\n",
    "\n",
    "ang=int(Angle()*100)\n",
    "ang"
   ]
  },
  {
   "cell_type": "code",
   "execution_count": 53,
   "id": "072d485d",
   "metadata": {},
   "outputs": [
    {
     "data": {
      "text/plain": [
       "7.392042570975572"
      ]
     },
     "execution_count": 53,
     "metadata": {},
     "output_type": "execute_result"
    }
   ],
   "source": [
    "def GetSpeed(Y_f,Y_o,Theta,X_f,X_o,g=-9.8):\n",
    "    vel=(g*((X_f-X_o)**2)/((2*np.cos(Theta)**2)*(Y_f-Y_o-(np.tan(Theta)*(X_f-X_o)))))**(1/2)\n",
    "    return vel\n",
    "\n",
    "speed=GetSpeed(0.29802795523938164,0.4007954931819738,ang,5.6,1.4)\n",
    "speed\n",
    "    "
   ]
  },
  {
   "cell_type": "markdown",
   "id": "846223a2",
   "metadata": {},
   "source": [
    "5"
   ]
  },
  {
   "cell_type": "code",
   "execution_count": 3,
   "id": "24f06327",
   "metadata": {},
   "outputs": [
    {
     "data": {
      "text/plain": [
       "([0.0, 1.5, 2.0, 3.8, 4.2, 5.9], [-18.0, -13.0, 0.0, 5.0, 3.0, 10.0])"
      ]
     },
     "execution_count": 3,
     "metadata": {},
     "output_type": "execute_result"
    }
   ],
   "source": [
    "X_,Y_=cargar('Newton-Gregory.txt')\n",
    "X_,Y_"
   ]
  },
  {
   "cell_type": "code",
   "execution_count": 6,
   "id": "a2b02b29",
   "metadata": {},
   "outputs": [
    {
     "data": {
      "text/plain": [
       "<matplotlib.collections.PathCollection at 0x1fd06c8f7c0>"
      ]
     },
     "execution_count": 6,
     "metadata": {},
     "output_type": "execute_result"
    },
    {
     "data": {
      "image/png": "[encoded data removed]",
      "text/plain": [
       "<Figure size 432x288 with 1 Axes>"
      ]
     },
     "metadata": {
      "needs_background": "light"
     },
     "output_type": "display_data"
    }
   ],
   "source": [
    "plt.scatter(X_,Y_,color='r',marker='o')"
   ]
  },
  {
   "cell_type": "code",
   "execution_count": 73,
   "id": "d4b7ec0e",
   "metadata": {},
   "outputs": [],
   "source": [
    "def newton_interpolation(X_param, Y_param, x):\n",
    "       \n",
    "    Diff = np.zeros((len(X_param),len(X_param)))\n",
    "    Diff[:,0] = Y_param\n",
    "    for i in range(1, len(X_param)):\n",
    "        for j in range(i, len(X_param)):\n",
    "            Diff[j,i] = (Diff[j,i-1] - Diff[j-1,i-1]) / (X_param[j] - X_param[j-i])\n",
    "\n",
    "    y_new = np.zeros_like(x)\n",
    "    for j, x_val in enumerate(x):\n",
    "        p = 0\n",
    "        for i in range(len(X_param)):\n",
    "            term = Diff[i,i]\n",
    "            for k in range(i):\n",
    "                term *= (x_val - X_param[k])\n",
    "            p += term\n",
    "        y_new[j] = p\n",
    "\n",
    "    return y_new"
   ]
  },
  {
   "cell_type": "code",
   "execution_count": 74,
   "id": "fa290f4b",
   "metadata": {},
   "outputs": [
    {
     "data": {
      "image/png": "[encoded data removed]",
      "text/plain": [
       "<Figure size 432x288 with 1 Axes>"
      ]
     },
     "metadata": {
      "needs_background": "light"
     },
     "output_type": "display_data"
    }
   ],
   "source": [
    "xt = np.linspace(X_[0],X_[-1],100)\n",
    "\n",
    "yt = newton_interpolation(X_,Y_,xt)\n",
    "\n",
    "plt.plot(X_, Y_, 'o',color=\"orange\", label='Data')\n",
    "plt.plot(xt, yt,color=\"purple\", label='Interpolación')\n",
    "plt.legend()\n",
    "plt.show()"
   ]
  },
  {
   "cell_type": "markdown",
   "id": "04819b73",
   "metadata": {},
   "source": [
    "Integración \n",
    "\n",
    "1"
   ]
  },
  {
   "cell_type": "code",
   "execution_count": null,
   "id": "582f8ce4",
   "metadata": {},
   "outputs": [],
   "source": []
  },
  {
   "cell_type": "markdown",
   "id": "89804316",
   "metadata": {},
   "source": [
    "3"
   ]
  },
  {
   "cell_type": "code",
   "execution_count": null,
   "id": "43f73ec8",
   "metadata": {},
   "outputs": [],
   "source": []
  },
  {
   "cell_type": "markdown",
   "id": "6265b474",
   "metadata": {},
   "source": [
    "7"
   ]
  },
  {
   "cell_type": "code",
   "execution_count": 13,
   "id": "0daea59d",
   "metadata": {},
   "outputs": [],
   "source": [
    "n = 200\n",
    "x = np.linspace(-1,1,n+1)\n",
    "y = np.linspace(-1,1,n+1)\n",
    "\n",
    "a = 0.\n",
    "b = x[-1]\n",
    "\n",
    "R = 1"
   ]
  },
  {
   "cell_type": "code",
   "execution_count": 14,
   "id": "637c44ae",
   "metadata": {},
   "outputs": [],
   "source": [
    "def f(x,y,R=1.):\n",
    "    \n",
    "    z = R**2 - x**2 - y**2\n",
    "    \n",
    "    if z <= 0.:\n",
    "        return 0.\n",
    "    else:\n",
    "        return np.sqrt(z)"
   ]
  },
  {
   "cell_type": "code",
   "execution_count": 15,
   "id": "d53cdc01",
   "metadata": {},
   "outputs": [],
   "source": [
    "f = np.vectorize(f)"
   ]
  },
  {
   "cell_type": "code",
   "execution_count": 16,
   "id": "f1f55766",
   "metadata": {},
   "outputs": [
    {
     "data": {
      "text/plain": [
       "array([[0., 0., 0., ..., 0., 0., 0.],\n",
       "       [0., 0., 0., ..., 0., 0., 0.],\n",
       "       [0., 0., 0., ..., 0., 0., 0.],\n",
       "       ...,\n",
       "       [0., 0., 0., ..., 0., 0., 0.],\n",
       "       [0., 0., 0., ..., 0., 0., 0.],\n",
       "       [0., 0., 0., ..., 0., 0., 0.]])"
      ]
     },
     "execution_count": 16,
     "metadata": {},
     "output_type": "execute_result"
    }
   ],
   "source": [
    "X_e,Y_e = np.meshgrid(x,y)\n",
    "Z = f(X_e,Y_e)\n",
    "Z"
   ]
  },
  {
   "cell_type": "code",
   "execution_count": 17,
   "id": "6c7ee91a",
   "metadata": {},
   "outputs": [
    {
     "data": {
      "text/plain": [
       "<mpl_toolkits.mplot3d.art3d.Poly3DCollection at 0x2127163eaf0>"
      ]
     },
     "execution_count": 17,
     "metadata": {},
     "output_type": "execute_result"
    },
    {
     "data": {
      "image/png": "[encoded data removed]",
      "text/plain": [
       "<Figure size 432x288 with 1 Axes>"
      ]
     },
     "metadata": {
      "needs_background": "light"
     },
     "output_type": "display_data"
    }
   ],
   "source": [
    "fig = plt.figure()\n",
    "ax = fig.add_subplot(111,projection='3d')\n",
    "ax.plot_surface(X_e,Y_e,Z)"
   ]
  },
  {
   "cell_type": "code",
   "execution_count": 24,
   "id": "7554fa91",
   "metadata": {},
   "outputs": [
    {
     "data": {
      "text/plain": [
       "2.0943195841075304"
      ]
     },
     "execution_count": 24,
     "metadata": {},
     "output_type": "execute_result"
    }
   ],
   "source": [
    "x = np.linspace(-1,1,n+1)\n",
    "y = np.linspace(-1,1,n+1)\n",
    "volumen=0\n",
    "area=(x[1]-x[0])*(y[1]-y[0])\n",
    "\n",
    "for i in range(len(x)):\n",
    "    for j in range(len(y)):\n",
    "        \n",
    "        p_inicial=f(x[i],y[j])\n",
    "        p_v1=f(x[i-1],y[j])\n",
    "        p_v2=f(x[i-1],y[j-1])\n",
    "        p_v3=f(x[i],y[j-1])\n",
    "        \n",
    "        if p_inicial in Z and p_v1 in Z and p_v2 in Z and p_v3 in Z:\n",
    "            promedio=(p_inicial+p_v1+p_v2+p_v3)/4\n",
    "            vol_i=promedio*area\n",
    "            volumen+=vol_i\n",
    "            \n",
    "print(volumen)"
   ]
  },
  {
   "cell_type": "markdown",
   "id": "8bee5492",
   "metadata": {},
   "source": [
    "13 "
   ]
  },
  {
   "cell_type": "code",
   "execution_count": null,
   "id": "737befaf",
   "metadata": {},
   "outputs": [],
   "source": []
  },
  {
   "cell_type": "markdown",
   "id": "40069336",
   "metadata": {},
   "source": [
    "17"
   ]
  },
  {
   "cell_type": "code",
   "execution_count": null,
   "id": "9462af1f",
   "metadata": {},
   "outputs": [],
   "source": []
  }
 ],
 "metadata": {
  "kernelspec": {
   "display_name": "Python 3 (ipykernel)",
   "language": "python",
   "name": "python3"
  },
  "language_info": {
   "codemirror_mode": {
    "name": "ipython",
    "version": 3
   },
   "file_extension": ".py",
   "mimetype": "text/x-python",
   "name": "python",
   "nbconvert_exporter": "python",
   "pygments_lexer": "ipython3",
   "version": "3.9.7"
  }
 },
 "nbformat": 4,
 "nbformat_minor": 5
}
