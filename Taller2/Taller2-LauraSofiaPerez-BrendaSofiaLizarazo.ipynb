{
 "cells": [
  {
   "cell_type": "markdown",
   "id": "ffed60d7",
   "metadata": {},
   "source": [
    "Taller 2"
   ]
  },
  {
   "cell_type": "code",
   "execution_count": 1,
   "id": "6b7efc0a",
   "metadata": {},
   "outputs": [
    {
     "data": {
      "text/html": [
       "<style>.container { width:100% !important; }</style>"
      ],
      "text/plain": [
       "<IPython.core.display.HTML object>"
      ]
     },
     "metadata": {},
     "output_type": "display_data"
    }
   ],
   "source": [
    "from IPython.display import display, HTML\n",
    "display(HTML(\"<style>.container { width:100% !important; }</style>\"))\n",
    "import numpy as np\n",
    "import matplotlib.pyplot as plt\n",
    "import sympy as sym\n",
    "from scipy import integrate"
   ]
  },
  {
   "cell_type": "markdown",
   "id": "cdd46b6a",
   "metadata": {},
   "source": [
    "Derivación"
   ]
  },
  {
   "cell_type": "markdown",
   "id": "d666c231",
   "metadata": {},
   "source": [
    "8"
   ]
  },
  {
   "cell_type": "code",
   "execution_count": null,
   "id": "47479a71",
   "metadata": {},
   "outputs": [],
   "source": []
  },
  {
   "cell_type": "markdown",
   "id": "3515de7d",
   "metadata": {},
   "source": [
    "Raíces de Polinomios\n",
    "\n",
    "5"
   ]
  },
  {
   "cell_type": "code",
   "execution_count": 2,
   "id": "aa3ef60d",
   "metadata": {},
   "outputs": [],
   "source": [
    "x = sym.Symbol('x',real=True)\n",
    "y = sym.Symbol('y',real=True)\n",
    "n = 19\n",
    "\n"
   ]
  },
  {
   "cell_type": "code",
   "execution_count": 3,
   "id": "9bf60da3",
   "metadata": {},
   "outputs": [],
   "source": [
    "def GetLaguerre(n,x,y):\n",
    "    \n",
    "    y= ((1/(np.e**(x)))*(x**n))\n",
    "    \n",
    "    poly = ((np.e**x)*sym.diff( y,x,n ))/(np.math.factorial(n))\n",
    "    \n",
    "    return poly"
   ]
  },
  {
   "cell_type": "code",
   "execution_count": 4,
   "id": "6672ff6e",
   "metadata": {},
   "outputs": [],
   "source": [
    "Laguerre = []\n",
    "DLaguerre = []\n",
    "\n",
    "for i in range(n+1):\n",
    "    \n",
    "    Poly = GetLaguerre(i,x,y)\n",
    "    Laguerre.append(Poly)\n",
    "    DLaguerre.append( sym.diff(Poly,x,1) )"
   ]
  },
  {
   "cell_type": "code",
   "execution_count": 5,
   "id": "cec81db3",
   "metadata": {},
   "outputs": [
    {
     "data": {
      "text/plain": [
       "20"
      ]
     },
     "execution_count": 5,
     "metadata": {},
     "output_type": "execute_result"
    }
   ],
   "source": [
    "len(DLaguerre)"
   ]
  },
  {
   "cell_type": "code",
   "execution_count": 6,
   "id": "3187bed4",
   "metadata": {},
   "outputs": [
    {
     "data": {
      "image/png": "[encoded data removed]",
      "text/plain": [
       "<Figure size 432x288 with 1 Axes>"
      ]
     },
     "metadata": {
      "needs_background": "light"
     },
     "output_type": "display_data"
    }
   ],
   "source": [
    "_x=np.linspace(0,50,1000)\n",
    "\n",
    "for i, p in enumerate(Laguerre):\n",
    "    if i!= 0:\n",
    "        pn = sym.lambdify([x],p,'numpy')\n",
    "        plt.plot(_x,pn(_x))"
   ]
  },
  {
   "cell_type": "code",
   "execution_count": 7,
   "id": "2e742421",
   "metadata": {},
   "outputs": [],
   "source": [
    "def GetNewton(f,df,xn,itmax=10000,precision=1e-14):\n",
    "    \n",
    "    error = 1.\n",
    "    it = 0\n",
    "    \n",
    "    while error >= precision and it < itmax:\n",
    "        \n",
    "        try:\n",
    "            \n",
    "            xn1 = xn - f(xn)/df(xn)\n",
    "            \n",
    "            error = np.abs(f(xn)/df(xn))\n",
    "            \n",
    "        except ZeroDivisionError:\n",
    "            print('Zero Division')\n",
    "            \n",
    "        xn = xn1\n",
    "        it += 1\n",
    "        \n",
    "    if it == itmax:\n",
    "        return False\n",
    "    else:\n",
    "        return xn"
   ]
  },
  {
   "cell_type": "code",
   "execution_count": 8,
   "id": "451ac779",
   "metadata": {},
   "outputs": [],
   "source": [
    "def GetRoots(f,df,x,tolerancia = 14):\n",
    "    \n",
    "    Roots = np.array([])\n",
    "    \n",
    "    for i in x:\n",
    "        \n",
    "        root = GetNewton(f,df,i)\n",
    "        \n",
    "        if root != False:\n",
    "            \n",
    "            croot = np.round( root, tolerancia )\n",
    "            \n",
    "            if croot not in Roots:\n",
    "                Roots = np.append(Roots, croot)\n",
    "                \n",
    "    Roots.sort()\n",
    "    \n",
    "    return Roots"
   ]
  },
  {
   "cell_type": "code",
   "execution_count": 9,
   "id": "c1f1b58c",
   "metadata": {},
   "outputs": [],
   "source": [
    "def GetAllRoots(n,xn,Laguerre,DLaguerre):\n",
    "    \n",
    "    poly = sym.lambdify([x],Laguerre[n],'numpy')\n",
    "    Dpoly = sym.lambdify([x],DLaguerre[n],'numpy')\n",
    "    Roots = GetRoots(poly,Dpoly,xn)\n",
    "    \n",
    "    return Roots"
   ]
  },
  {
   "cell_type": "code",
   "execution_count": null,
   "id": "ca84298a",
   "metadata": {},
   "outputs": [],
   "source": [
    "xn = np.linspace(0,50,1000)\n",
    "Roots = GetAllRoots(n,xn,Laguerre,DLaguerre)"
   ]
  },
  {
   "cell_type": "markdown",
   "id": "d3f562db",
   "metadata": {},
   "source": [
    "Lagrange"
   ]
  },
  {
   "cell_type": "markdown",
   "id": "bd51439d",
   "metadata": {},
   "source": [
    "1"
   ]
  },
  {
   "cell_type": "markdown",
   "id": "48098d57",
   "metadata": {},
   "source": [
    "Sean $C_{0},C_{1},...,C_{n-1}$ los coeficientes del polinomio interpolador $p(x_{i})$ de modo que,\n",
    "$p(x_{i})=C_{0}+C_{1}x_{i},C_{2}x_{i}^2+...+C_{n-1}x_{i}^{n-1}$ \n",
    "\n",
    "Entonces, se puede reescribir en su forma matricial como:\n",
    "\n",
    "$$\\begin{Bmatrix}\n",
    "1 & + & x_{0} & + & x_{0}^2 & + & \\cdots & + & x_{0}^n & = & y_{1}\\\\\n",
    "1 & + & x_{1} & + & x_{1}^2 & + & \\cdots & + & x_{1}^n & = & y_{1}\\\\\n",
    " \\vdots & \\vdots  &  \\vdots & \\vdots  &  \\vdots & \\vdots & \\vdots & \\vdots  & \\vdots & \\vdots  & \\vdots  \\\\\n",
    "1 & + & x_{n} & + & x_{n}^2 &  + & \\cdots & + & x_{n}^n & = & y_{1}\n",
    "\\end{Bmatrix}$$\n",
    "\n",
    "\n",
    "Obteniendo un sistema de ecuaciones lineales, de la forma:\n",
    "\n",
    "$$\\begin{pmatrix}\n",
    "1 & x_{0} & x_{0}^2 & \\cdots & x_{0}^n\\\\\n",
    "1 & x_{1} & x_{1}^2 & \\cdots & x_{1}^n\\\\\n",
    "\\vdots & \\vdots & \\vdots & \\ddots & \\vdots \\\\\n",
    "1 & x_{n} & x_{n}^2 & \\cdots & x_{n}^n\n",
    "\\end{pmatrix}\n",
    "\\begin{pmatrix}\n",
    "C_{0} \\\\\n",
    "C_{1} \\\\\n",
    "\\vdots \\\\\n",
    "C_{n}\n",
    "\\end{pmatrix}\n",
    "=\n",
    "\\begin{pmatrix}\n",
    "f(x_{0}) \\\\\n",
    "f(x_{1}) \\\\\n",
    "\\vdots \\\\\n",
    "f(x_{n})\n",
    "\\end{pmatrix}$$\n",
    "\n",
    "\n",
    "De modo que el determinante de esta matrix cumple con la ecuación:\n",
    "\n",
    "$\\prod_{0\\leqq i<j\\leqq n}(x_{j}-x_{i})$\n",
    "\n",
    "Este da distinto de cero si para todo $i,j$ , $x_{i}\\neq x_{j}$\n",
    "\n",
    "Esto implica que el sistema tiene una única solución y por ende el polinomio interpolador generado por la Interpolación de Lagrange es único.\n"
   ]
  },
  {
   "cell_type": "markdown",
   "id": "8748434d",
   "metadata": {},
   "source": [
    "4"
   ]
  },
  {
   "cell_type": "code",
   "execution_count": null,
   "id": "3bc386b9",
   "metadata": {},
   "outputs": [],
   "source": []
  },
  {
   "cell_type": "markdown",
   "id": "846223a2",
   "metadata": {},
   "source": [
    "5"
   ]
  },
  {
   "cell_type": "code",
   "execution_count": null,
   "id": "24f06327",
   "metadata": {},
   "outputs": [],
   "source": []
  }
 ],
 "metadata": {
  "kernelspec": {
   "display_name": "Python 3 (ipykernel)",
   "language": "python",
   "name": "python3"
  },
  "language_info": {
   "codemirror_mode": {
    "name": "ipython",
    "version": 3
   },
   "file_extension": ".py",
   "mimetype": "text/x-python",
   "name": "python",
   "nbconvert_exporter": "python",
   "pygments_lexer": "ipython3",
   "version": "3.9.7"
  }
 },
 "nbformat": 4,
 "nbformat_minor": 5
}
