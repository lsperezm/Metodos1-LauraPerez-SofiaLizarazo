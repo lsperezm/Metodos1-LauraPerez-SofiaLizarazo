{
 "cells": [
  {
   "cell_type": "markdown",
   "id": "ffed60d7",
   "metadata": {},
   "source": [
    "Taller 2"
   ]
  },
  {
   "cell_type": "code",
   "execution_count": 1,
   "id": "6b7efc0a",
   "metadata": {},
   "outputs": [
    {
     "data": {
      "text/html": [
       "<style>.container { width:100% !important; }</style>"
      ],
      "text/plain": [
       "<IPython.core.display.HTML object>"
      ]
     },
     "metadata": {},
     "output_type": "display_data"
    }
   ],
   "source": [
    "from IPython.display import display, HTML\n",
    "display(HTML(\"<style>.container { width:100% !important; }</style>\"))\n",
    "import numpy as np\n",
    "import matplotlib.pyplot as plt\n",
    "import sympy as sym\n",
    "from scipy import integrate\n",
    "import pandas as pd\n",
    "from matplotlib import rc\n",
    "import os.path as path\n",
    "import os\n",
    "from scipy.special.orthogonal import roots_laguerre"
   ]
  },
  {
   "cell_type": "markdown",
   "id": "cdd46b6a",
   "metadata": {},
   "source": [
    "Derivación"
   ]
  },
  {
   "cell_type": "markdown",
   "id": "d666c231",
   "metadata": {},
   "source": [
    "8"
   ]
  },
  {
   "cell_type": "markdown",
   "id": "454a9525",
   "metadata": {},
   "source": [
    "a)"
   ]
  },
  {
   "cell_type": "code",
   "execution_count": 2,
   "id": "a844d382",
   "metadata": {},
   "outputs": [],
   "source": [
    "#Pasarlo"
   ]
  },
  {
   "cell_type": "markdown",
   "id": "d46699e9",
   "metadata": {},
   "source": [
    "b)"
   ]
  },
  {
   "cell_type": "code",
   "execution_count": 3,
   "id": "8977462f",
   "metadata": {},
   "outputs": [],
   "source": [
    "#"
   ]
  },
  {
   "cell_type": "markdown",
   "id": "fcc0ce47",
   "metadata": {},
   "source": [
    "c)"
   ]
  },
  {
   "cell_type": "code",
   "execution_count": 4,
   "id": "ad291ab3",
   "metadata": {},
   "outputs": [],
   "source": [
    "rango= np.linspace(0.1,1.1,100)\n",
    "h=0.01\n",
    "\n",
    "def derivada_progresiva(f,x,h):\n",
    "    df=[]\n",
    "    for i in range(len(x)):\n",
    "        derivada= 1/(2*h)*(-3*f(x[i])+4*f(x[i]+h)-f(x[i]+(2*h)))\n",
    "        df.append(derivada)\n",
    "    return df"
   ]
  },
  {
   "cell_type": "markdown",
   "id": "0bc25dea",
   "metadata": {},
   "source": [
    "d)"
   ]
  },
  {
   "cell_type": "code",
   "execution_count": 5,
   "id": "863d8832",
   "metadata": {},
   "outputs": [],
   "source": [
    "def derivada_central(f,x,h):\n",
    "    d = 0.   \n",
    "    if h != 0:\n",
    "        derivada = (f(x+h) - f(x-h))/(2*h)\n",
    "    \n",
    "    return derivada"
   ]
  },
  {
   "cell_type": "markdown",
   "id": "8a71a6cc",
   "metadata": {},
   "source": [
    "e)"
   ]
  },
  {
   "cell_type": "code",
   "execution_count": 6,
   "id": "e1da897f",
   "metadata": {},
   "outputs": [],
   "source": [
    "def derivada_analitica(x):\n",
    "    sec= (1/np.cos(x))**2\n",
    "    raiz= (np.tan(x))**(1/2)\n",
    "    resp= sec/(2*raiz)\n",
    "    \n",
    "    return resp"
   ]
  },
  {
   "cell_type": "code",
   "execution_count": 7,
   "id": "a7314ffa",
   "metadata": {},
   "outputs": [
    {
     "data": {
      "text/plain": [
       "[<matplotlib.lines.Line2D at 0x259bd5318b0>]"
      ]
     },
     "execution_count": 7,
     "metadata": {},
     "output_type": "execute_result"
    },
    {
     "data": {
      "image/png": "[encoded data removed]",
      "text/plain": [
       "<Figure size 432x288 with 1 Axes>"
      ]
     },
     "metadata": {
      "needs_background": "light"
     },
     "output_type": "display_data"
    }
   ],
   "source": [
    "tan = lambda x: np.sqrt(np.tan(x))\n",
    "progresiva= derivada_progresiva(tan,rango,h)\n",
    "central= derivada_central (tan,rango,h)\n",
    "\n",
    "analitica= derivada_analitica(rango)\n",
    "\n",
    "plt.plot(rango,progresiva, \"g\")\n",
    "plt.plot (rango, central,\"b\")\n",
    "plt.plot (rango, analitica, \"r\")"
   ]
  },
  {
   "cell_type": "markdown",
   "id": "408e9120",
   "metadata": {},
   "source": [
    "f)"
   ]
  },
  {
   "cell_type": "code",
   "execution_count": 8,
   "id": "75df52bd",
   "metadata": {},
   "outputs": [
    {
     "data": {
      "image/png": "[encoded data removed]",
      "text/plain": [
       "<Figure size 432x288 with 1 Axes>"
      ]
     },
     "metadata": {
      "needs_background": "light"
     },
     "output_type": "display_data"
    }
   ],
   "source": [
    "rango= np.linspace(0.1,1.1,100)\n",
    "\n",
    "progresiva= derivada_progresiva(tan,rango,h)\n",
    "central= derivada_central (tan,rango,h)\n",
    "analitica= derivada_analitica(rango)\n",
    "\n",
    "error_progresiva = np.abs(analitica-progresiva)\n",
    "error_central=np.abs(analitica- central)\n",
    "\n",
    "plt.plot(rango, error_progresiva, 'o')\n",
    "plt.plot(rango, error_central,'x')\n",
    "plt.title('Error nodal')\n",
    "plt.show()\n",
    "#No tienen el mismo orden de precision pero si son bastante similares los resultados \n",
    "\n"
   ]
  },
  {
   "cell_type": "markdown",
   "id": "3515de7d",
   "metadata": {},
   "source": [
    "Raíces de Polinomios\n",
    "\n",
    "5"
   ]
  },
  {
   "cell_type": "code",
   "execution_count": 9,
   "id": "aa3ef60d",
   "metadata": {},
   "outputs": [],
   "source": [
    "x = sym.Symbol('x',real=True)\n",
    "y = sym.Symbol('y',real=True)\n",
    "n = 19\n",
    "\n"
   ]
  },
  {
   "cell_type": "code",
   "execution_count": 10,
   "id": "9bf60da3",
   "metadata": {},
   "outputs": [],
   "source": [
    "def GetLaguerre(n,x):\n",
    "    \n",
    "    y= ((np.e)**(-x))*(x**n)\n",
    "    \n",
    "    poly = ((np.e**x)*sym.diff( y,x,n ))/(np.math.factorial(n))\n",
    "    \n",
    "    return poly"
   ]
  },
  {
   "cell_type": "code",
   "execution_count": 12,
   "id": "b119910a",
   "metadata": {},
   "outputs": [
    {
     "data": {
      "text/latex": [
       "$\\displaystyle 2.75573192239859 \\cdot 10^{-7} a^{10} - 2.75573192239859 \\cdot 10^{-5} a^{9} + 0.00111607142857143 a^{8} - 0.0238095238095238 a^{7} + 0.291666666666667 a^{6} - 2.1 a^{5} + 8.75 a^{4} - 20.0 a^{3} + 22.5 a^{2} - 10.0 a + 1$"
      ],
      "text/plain": [
       "2.75573192239859e-7*a**10 - 2.75573192239859e-5*a**9 + 0.00111607142857143*a**8 - 0.0238095238095238*a**7 + 0.291666666666667*a**6 - 2.1*a**5 + 8.75*a**4 - 20.0*a**3 + 22.5*a**2 - 10.0*a + 1"
      ]
     },
     "execution_count": 12,
     "metadata": {},
     "output_type": "execute_result"
    }
   ],
   "source": [
    "a = sym.Symbol(\"a\")\n",
    "GetLaguerre(10,a)"
   ]
  },
  {
   "cell_type": "code",
   "execution_count": 13,
   "id": "6672ff6e",
   "metadata": {},
   "outputs": [],
   "source": [
    "Laguerre = []\n",
    "DLaguerre = []\n",
    "x = sym.Symbol(\"x\")\n",
    "for i in range(0, n+1):\n",
    "    Poly = GetLaguerre(i,x)\n",
    "    Laguerre.append(Poly)\n",
    "    DLaguerre.append( sym.diff(Poly,x) )"
   ]
  },
  {
   "cell_type": "code",
   "execution_count": 14,
   "id": "cec81db3",
   "metadata": {},
   "outputs": [
    {
     "data": {
      "text/plain": [
       "20"
      ]
     },
     "execution_count": 14,
     "metadata": {},
     "output_type": "execute_result"
    }
   ],
   "source": [
    "len(DLaguerre)"
   ]
  },
  {
   "cell_type": "code",
   "execution_count": 15,
   "id": "3187bed4",
   "metadata": {},
   "outputs": [
    {
     "data": {
      "image/png": "[encoded data removed]",
      "text/plain": [
       "<Figure size 432x288 with 1 Axes>"
      ]
     },
     "metadata": {
      "needs_background": "light"
     },
     "output_type": "display_data"
    }
   ],
   "source": [
    "_x=np.linspace(0,5,1000)\n",
    "\n",
    "for i, p in enumerate(Laguerre):\n",
    "    if i!= 0:\n",
    "        pn = sym.lambdify([x],p,'numpy')\n",
    "        plt.plot(_x,pn(_x))"
   ]
  },
  {
   "cell_type": "code",
   "execution_count": 16,
   "id": "2e742421",
   "metadata": {},
   "outputs": [],
   "source": [
    "def GetNewton(f,df,xn,itmax=10000,precision=1e-14):\n",
    "    \n",
    "    error = 1.\n",
    "    it = 0\n",
    "    \n",
    "    while error >= precision and it < itmax:\n",
    "        \n",
    "        try:\n",
    "            \n",
    "            xn1 = xn - f(xn)/df(xn)\n",
    "            \n",
    "            error = np.abs(f(xn)/df(xn))\n",
    "            \n",
    "        except ZeroDivisionError:\n",
    "            print('Zero Division')\n",
    "            \n",
    "        xn = xn1\n",
    "        it += 1\n",
    "        \n",
    "    if it == itmax:\n",
    "        return False\n",
    "    else:\n",
    "        return xn"
   ]
  },
  {
   "cell_type": "code",
   "execution_count": 17,
   "id": "451ac779",
   "metadata": {},
   "outputs": [],
   "source": [
    "def GetRoots(f,df,x,tolerancia = 14):\n",
    "    \n",
    "    Roots = np.array([])\n",
    "    \n",
    "    for i in x:\n",
    "        \n",
    "        root = GetNewton(f,df,i)\n",
    "        \n",
    "        if root != False:\n",
    "            \n",
    "            croot = np.round( root, tolerancia )\n",
    "            \n",
    "            if croot not in Roots:\n",
    "                Roots = np.append(Roots, croot)\n",
    "                \n",
    "    Roots.sort()\n",
    "    \n",
    "    return Roots"
   ]
  },
  {
   "cell_type": "code",
   "execution_count": 18,
   "id": "c1f1b58c",
   "metadata": {},
   "outputs": [],
   "source": [
    "def GetAllRoots(n,xn,Laguerre,DLaguerre):\n",
    "    \n",
    "    poly = sym.lambdify([x],Laguerre[n],'numpy')\n",
    "    Dpoly = sym.lambdify([x],DLaguerre[n],'numpy')\n",
    "    Roots = GetRoots(poly,Dpoly,xn)\n",
    "    \n",
    "    return Roots"
   ]
  },
  {
   "cell_type": "code",
   "execution_count": 19,
   "id": "919c25fd",
   "metadata": {},
   "outputs": [
    {
     "data": {
      "text/plain": [
       "[array([1.]),\n",
       " array([0.58578644, 3.41421356]),\n",
       " array([0.41577456, 2.29428036, 6.28994508]),\n",
       " array([0.32254769, 1.7457611 , 4.5366203 , 9.39507091, 9.39507091]),\n",
       " array([ 0.26356032,  1.41340306,  3.59642577,  3.59642577,  7.08581001,\n",
       "         7.08581001,  7.08581001, 12.64080084]),\n",
       " array([ 0.2228466 ,  1.1889321 ,  2.99273633,  2.99273633,  5.77514357,\n",
       "         5.77514357,  5.77514357,  5.77514357,  9.83746742,  9.83746742,\n",
       "        15.98287398]),\n",
       " array([0.19304368, 1.0266649 , 2.56787674, 2.56787674, 4.90035308,\n",
       "        4.90035308, 4.90035308, 8.18215344, 8.18215344, 8.18215344]),\n",
       " array([ 0.17027963,  0.90370178,  2.25108663,  2.25108663,  4.26670017,\n",
       "         4.26670017,  4.26670017,  4.26670017,  7.0459054 ,  7.0459054 ,\n",
       "         7.0459054 ,  7.0459054 , 10.75851601, 22.86313174]),\n",
       " array([0.15232223, 0.80722002, 2.00513516, 2.00513516, 3.78347397,\n",
       "        3.78347397, 3.78347397, 3.78347397, 6.20495678]),\n",
       " array([0.13779347, 0.72945455, 1.8083429 , 3.4014337 , 5.55249614,\n",
       "        5.55249614, 8.33015275]),\n",
       " array([0.12579644, 0.66541826, 1.64715055, 1.64715055, 3.09113814,\n",
       "        5.0292844 , 5.0292844 ]),\n",
       " array([0.11572212, 0.61175748, 1.51261027, 1.51261027, 2.83375134,\n",
       "        2.83375134]),\n",
       " array([0.10714239, 0.5661319 , 1.39856434, 1.39856434, 2.61659711,\n",
       "        2.61659711, 4.23884593, 4.23884593, 6.29225627, 8.81500194]),\n",
       " array([0.09974751, 0.52685765, 1.30062912, 1.30062912, 2.43080108,\n",
       "        3.93210282, 3.93210282]),\n",
       " array([0.09330781, 0.49269174, 1.21559541, 1.21559541, 2.26994953,\n",
       "        5.42533663]),\n",
       " array([0.08764941, 0.46269633, 1.14105777, 3.43708663, 3.43708663,\n",
       "        5.07801861]),\n",
       " array([0.08263821, 0.43615032, 1.07517658, 3.23425612]),\n",
       " array([0.07816917, 0.41249009, 1.01652018, 1.89488851]),\n",
       " array([0.07415878, 0.39126861, 0.96395734, 1.79617558, 1.79617558])]"
      ]
     },
     "execution_count": 19,
     "metadata": {},
     "output_type": "execute_result"
    }
   ],
   "source": [
    "root_=[]\n",
    "conteo=0\n",
    "\n",
    "while conteo<19:\n",
    "    xn = np.linspace(0,10,20)\n",
    "    n=conteo+1\n",
    "    Roots = GetAllRoots(n,xn,Laguerre,DLaguerre)\n",
    "    root_.append(Roots)\n",
    "    \n",
    "    conteo+=1\n",
    "    \n",
    "root_\n",
    "    "
   ]
  },
  {
   "cell_type": "markdown",
   "id": "d3f562db",
   "metadata": {},
   "source": [
    "Lagrange"
   ]
  },
  {
   "cell_type": "markdown",
   "id": "bd51439d",
   "metadata": {},
   "source": [
    "1"
   ]
  },
  {
   "cell_type": "markdown",
   "id": "48098d57",
   "metadata": {},
   "source": [
    "Sean $C_{0},C_{1},...,C_{n-1}$ los coeficientes del polinomio interpolador $p(x_{i})$ de modo que,\n",
    "$p(x_{i})=C_{0}+C_{1}x_{i},C_{2}x_{i}^2+...+C_{n-1}x_{i}^{n-1}$ \n",
    "\n",
    "Entonces, se puede reescribir en su forma matricial como:\n",
    "\n",
    "$$\\begin{Bmatrix}\n",
    "1 & + & x_{0} & + & x_{0}^2 & + & \\cdots & + & x_{0}^n & = & y_{1}\\\\\n",
    "1 & + & x_{1} & + & x_{1}^2 & + & \\cdots & + & x_{1}^n & = & y_{1}\\\\\n",
    " \\vdots & \\vdots  &  \\vdots & \\vdots  &  \\vdots & \\vdots & \\vdots & \\vdots  & \\vdots & \\vdots  & \\vdots  \\\\\n",
    "1 & + & x_{n} & + & x_{n}^2 &  + & \\cdots & + & x_{n}^n & = & y_{1}\n",
    "\\end{Bmatrix}$$\n",
    "\n",
    "\n",
    "Obteniendo un sistema de ecuaciones lineales, de la forma:\n",
    "\n",
    "$$\\begin{pmatrix}\n",
    "1 & x_{0} & x_{0}^2 & \\cdots & x_{0}^n\\\\\n",
    "1 & x_{1} & x_{1}^2 & \\cdots & x_{1}^n\\\\\n",
    "\\vdots & \\vdots & \\vdots & \\ddots & \\vdots \\\\\n",
    "1 & x_{n} & x_{n}^2 & \\cdots & x_{n}^n\n",
    "\\end{pmatrix}\n",
    "\\begin{pmatrix}\n",
    "C_{0} \\\\\n",
    "C_{1} \\\\\n",
    "\\vdots \\\\\n",
    "C_{n}\n",
    "\\end{pmatrix}\n",
    "=\n",
    "\\begin{pmatrix}\n",
    "f(x_{0}) \\\\\n",
    "f(x_{1}) \\\\\n",
    "\\vdots \\\\\n",
    "f(x_{n})\n",
    "\\end{pmatrix}$$\n",
    "\n",
    "\n",
    "De modo que el determinante de esta matrix cumple con la ecuación:\n",
    "\n",
    "$\\prod_{0\\leqq i<j\\leqq n}(x_{j}-x_{i})$\n",
    "\n",
    "Este da distinto de cero si para todo $i,j$ , $x_{i}\\neq x_{j}$\n",
    "\n",
    "Esto implica que el sistema tiene una única solución y por ende el polinomio interpolador generado por la Interpolación de Lagrange es único.\n"
   ]
  },
  {
   "cell_type": "markdown",
   "id": "8748434d",
   "metadata": {},
   "source": [
    "4"
   ]
  },
  {
   "cell_type": "code",
   "execution_count": 20,
   "id": "3bc386b9",
   "metadata": {},
   "outputs": [],
   "source": [
    "def cargar(nombre:str)->tuple:\n",
    "    archivo=open(nombre,mode='r',encoding=(\"utf8\"))\n",
    "    llaves=archivo.readline().strip()\n",
    "    linea=archivo.readline().strip()\n",
    "    y=[]\n",
    "    x=[]\n",
    "    \n",
    "    while len(linea)>0:\n",
    "        datos=linea.split(\",\")\n",
    "        datos[0]\n",
    "        x.append(float(datos[0]))\n",
    "        y.append(float(datos[1]))\n",
    "          \n",
    "        linea=archivo.readline()\n",
    "        \n",
    "    archivo.close()\n",
    "\n",
    "    return  (x,y)"
   ]
  },
  {
   "cell_type": "code",
   "execution_count": 21,
   "id": "9e3b59fc",
   "metadata": {},
   "outputs": [
    {
     "data": {
      "text/plain": [
       "([1.4, 3.5, 5.6], [0.4007954931819738, 0.594128102489774, 0.29802795523938164])"
      ]
     },
     "execution_count": 21,
     "metadata": {},
     "output_type": "execute_result"
    }
   ],
   "source": [
    "X,Y=cargar('Parabolico.txt')\n",
    "X,Y"
   ]
  },
  {
   "cell_type": "code",
   "execution_count": 22,
   "id": "9546030a",
   "metadata": {},
   "outputs": [],
   "source": [
    "def Lagrange(x,xi,j):\n",
    "    \n",
    "    prod = 1.0\n",
    "    n = len(xi)\n",
    "    \n",
    "    for i in range(n):\n",
    "        if i != j:\n",
    "            prod *= (x - xi[i])/(xi[j]-xi[i])\n",
    "            \n",
    "    return prod"
   ]
  },
  {
   "cell_type": "code",
   "execution_count": 23,
   "id": "cbdca97f",
   "metadata": {},
   "outputs": [],
   "source": [
    "def Interpolate(x,xi,yi):\n",
    "    \n",
    "    Sum = 0.\n",
    "    n = len(xi)\n",
    "    \n",
    "    for j in range(n):\n",
    "        Sum += yi[j]*Lagrange(x,xi,j)\n",
    "        \n",
    "    return Sum"
   ]
  },
  {
   "cell_type": "code",
   "execution_count": 24,
   "id": "e7cd5d99",
   "metadata": {},
   "outputs": [],
   "source": [
    "x = np.linspace(X[0],X[-1],100)\n",
    "y = Interpolate(x,X,Y)"
   ]
  },
  {
   "cell_type": "code",
   "execution_count": 25,
   "id": "033853ec",
   "metadata": {},
   "outputs": [
    {
     "data": {
      "text/latex": [
       "$\\displaystyle x \\left(0.363970234266202 - 0.0554912422401579 x\\right)$"
      ],
      "text/plain": [
       "x*(0.363970234266202 - 0.0554912422401579*x)"
      ]
     },
     "execution_count": 25,
     "metadata": {},
     "output_type": "execute_result"
    }
   ],
   "source": [
    "x_symb = sym.Symbol('x',real=True)\n",
    "\n",
    "f=Interpolate(x_symb,X,Y)\n",
    "f_sym = sym.simplify(f)\n",
    "f_sym"
   ]
  },
  {
   "cell_type": "code",
   "execution_count": 26,
   "id": "c90bc884",
   "metadata": {},
   "outputs": [
    {
     "data": {
      "text/plain": [
       "[<matplotlib.lines.Line2D at 0x259bdea95b0>]"
      ]
     },
     "execution_count": 26,
     "metadata": {},
     "output_type": "execute_result"
    },
    {
     "data": {
      "image/png": "[encoded data removed]",
      "text/plain": [
       "<Figure size 432x288 with 1 Axes>"
      ]
     },
     "metadata": {
      "needs_background": "light"
     },
     "output_type": "display_data"
    }
   ],
   "source": [
    "plt.scatter(X,Y,marker='o',color='red')\n",
    "plt.plot(x,y,color='blue')\n"
   ]
  },
  {
   "cell_type": "code",
   "execution_count": 27,
   "id": "03896421",
   "metadata": {},
   "outputs": [],
   "source": [
    "def function(x):\n",
    "    return x*0.363970234266202 -0.0554912422401579*(x**2)\n"
   ]
  },
  {
   "cell_type": "code",
   "execution_count": 28,
   "id": "a5eda0ea",
   "metadata": {},
   "outputs": [
    {
     "data": {
      "text/plain": [
       "19.999999999999986"
      ]
     },
     "execution_count": 28,
     "metadata": {},
     "output_type": "execute_result"
    }
   ],
   "source": [
    "def Angle():\n",
    "    theta=np.arctan(0.363970234266202)\n",
    "    \n",
    "    return theta\n",
    "\n",
    "ang=Angle()*360/(2*np.pi)\n",
    "ang"
   ]
  },
  {
   "cell_type": "code",
   "execution_count": 29,
   "id": "072d485d",
   "metadata": {},
   "outputs": [
    {
     "data": {
      "text/plain": [
       "10.0"
      ]
     },
     "execution_count": 29,
     "metadata": {},
     "output_type": "execute_result"
    }
   ],
   "source": [
    "def GetSpeed(Theta,g=9.8):\n",
    "    vel=(g/(2*0.0554912422401579*((np.cos(Angle()))**2)))**(1/2)\n",
    "    return vel\n",
    "\n",
    "speed=GetSpeed(ang)\n",
    "speed\n",
    "    "
   ]
  },
  {
   "cell_type": "markdown",
   "id": "846223a2",
   "metadata": {},
   "source": [
    "5"
   ]
  },
  {
   "cell_type": "code",
   "execution_count": 30,
   "id": "24f06327",
   "metadata": {},
   "outputs": [
    {
     "data": {
      "text/plain": [
       "([0.0, 1.5, 2.0, 3.8, 4.2, 5.9], [-18.0, -13.0, 0.0, 5.0, 3.0, 10.0])"
      ]
     },
     "execution_count": 30,
     "metadata": {},
     "output_type": "execute_result"
    }
   ],
   "source": [
    "X_,Y_=cargar('Newton-Gregory.txt')\n",
    "X_,Y_"
   ]
  },
  {
   "cell_type": "code",
   "execution_count": 31,
   "id": "a2b02b29",
   "metadata": {},
   "outputs": [
    {
     "data": {
      "text/plain": [
       "<matplotlib.collections.PathCollection at 0x259bdf11be0>"
      ]
     },
     "execution_count": 31,
     "metadata": {},
     "output_type": "execute_result"
    },
    {
     "data": {
      "image/png": "[encoded data removed]",
      "text/plain": [
       "<Figure size 432x288 with 1 Axes>"
      ]
     },
     "metadata": {
      "needs_background": "light"
     },
     "output_type": "display_data"
    }
   ],
   "source": [
    "plt.scatter(X_,Y_,color='r',marker='o')"
   ]
  },
  {
   "cell_type": "code",
   "execution_count": 32,
   "id": "d4b7ec0e",
   "metadata": {},
   "outputs": [],
   "source": [
    "def newton_interpolation(X_param, Y_param, x):\n",
    "       \n",
    "    Diff = np.zeros((len(X_param),len(X_param)))\n",
    "    Diff[:,0] = Y_param\n",
    "    for i in range(1, len(X_param)):\n",
    "        for j in range(i, len(X_param)):\n",
    "            Diff[j,i] = (Diff[j,i-1] - Diff[j-1,i-1]) / (X_param[j] - X_param[j-i])\n",
    "\n",
    "    y_new = np.zeros_like(x)\n",
    "    for j, x_val in enumerate(x):\n",
    "        p = 0\n",
    "        for i in range(len(X_param)):\n",
    "            term = Diff[i,i]\n",
    "            for k in range(i):\n",
    "                term *= (x_val - X_param[k])\n",
    "            p += term\n",
    "        y_new[j] = p\n",
    "\n",
    "    return y_new"
   ]
  },
  {
   "cell_type": "code",
   "execution_count": 33,
   "id": "fa290f4b",
   "metadata": {},
   "outputs": [
    {
     "data": {
      "image/png": "[encoded data removed]",
      "text/plain": [
       "<Figure size 432x288 with 1 Axes>"
      ]
     },
     "metadata": {
      "needs_background": "light"
     },
     "output_type": "display_data"
    }
   ],
   "source": [
    "xt = np.linspace(X_[0],X_[-1],100)\n",
    "\n",
    "yt = newton_interpolation(X_,Y_,xt)\n",
    "\n",
    "plt.plot(X_, Y_, 'o',color=\"orange\", label='Data')\n",
    "plt.plot(xt, yt,color=\"purple\", label='Interpolación')\n",
    "plt.legend()\n",
    "plt.show()"
   ]
  },
  {
   "cell_type": "markdown",
   "id": "04819b73",
   "metadata": {},
   "source": [
    "Integración \n",
    "\n",
    "1"
   ]
  },
  {
   "cell_type": "markdown",
   "id": "360fbbb8",
   "metadata": {},
   "source": [
    "Teniendo en cuenta la fórmula 3.85 para la integración por el método del trapecio simple, dada por:\n",
    "\n",
    "\n",
    "$I= \\int_{a}^{b}\\! f(x) dx \\cong \\int_{a}^{b}\\! p_{1}(x) dx = \\frac{b-a}{2} * (f(a)+f(b))$\n",
    "\n",
    "Sus respectivos pasos intermedios son:\n",
    "\n",
    "$ \\int_{a}^{b}\\! f(x) dx \\cong \\int_{a}^{b}\\! p_{1}(x) dx $\\\n",
    "\\\n",
    "$= \\int_{a}^{b}\\! (\\frac{x-b}{a-b}*f(a) + \\frac{x-a}{b-a}*f(b)) dx $\\\n",
    "\\\n",
    "$= \\int_{a}^{b}\\! (\\frac{x-b}{a-b}*f(a)) dx + \\int_{a}^{b}\\! (\\frac{x-a}{b-a}*f(b)) dx$\\\n",
    "\\\n",
    "$=f(a)*(\\frac{x^2}{2(a-b)}-\\frac{xb}{a-b})|_{a}^{b} + f(b)*(\\frac{x^2}{2(b-a)}-\\frac{xa}{b-a})|_{a}^{b}$\\\n",
    "\\\n",
    "$=f(a)*(\\frac{b^2}{2(a-b)}-\\frac{b^2}{a-b}-\\frac{a^2}{2(a-b)}+\\frac{ab}{a-b}) + f(b)*(\\frac{-b^2}{2(a-b)}+\\frac{ba}{a-b}+\\frac{a^2}{2(a-b)}-\\frac{a^2}{a-b})$\\\n",
    "\\\n",
    "$=f(a)*(\\frac{-b^2}{2(a-b)}-\\frac{a^2}{2(a-b)}+\\frac{ab}{a-b}) + f(b)*)*(\\frac{-b^2}{2(a-b)}-\\frac{a^2}{2(a-b)}+\\frac{ab}{a-b})$\\\n",
    "\\\n",
    "$= (\\frac{-b^2}{2(a-b)}-\\frac{a^2}{2(a-b)}+\\frac{ab}{a-b})*(f(a)+f(b))$\\\n",
    "\\\n",
    "$= -(\\frac{b^2 - 2ba + a^2}{2(a-b)})*(f(a)+f(b))$\\\n",
    "\\\n",
    "$= \\frac{(b-a)^2}{2(b-a)}*(f(a)+f(b))$\\\n",
    "\\\n",
    "$=\\frac{b-a}{2}*(f(a)+f(b))$"
   ]
  },
  {
   "cell_type": "markdown",
   "id": "89804316",
   "metadata": {},
   "source": [
    "3"
   ]
  },
  {
   "cell_type": "markdown",
   "id": "94af0e72",
   "metadata": {},
   "source": [
    "Teniendo en cuanta la fórmula 3.98, el método de Simpson simple está dado por:\n",
    "\n",
    "$I= \\int_{a}^{b}\\! f(x) dx \\cong \\int_{a}^{b}\\! p_{2}(x) dx = \\frac{h}{3} * (f(a)+4f(x_{m})+f(b))$\n",
    "\n",
    "y dado que $x_{m}=\\frac{a+b}{2}$\n",
    "\n",
    "Sus respectivos pasos intermedios son:\n",
    "\n",
    "$I= \\int_{a}^{b}\\! \\frac{(x-b)(x-x_{m})}{(a-b)(a-x_{m})}f(a) + \\frac{(x-a)(x-b)}{(x_{m}-a)(x_{m}-b)}f(x_{m}) +\\frac{(x-a)(x-x_{m})}{(b-a)(b-x_{m})}f(b)dx $\\\n",
    "\\\n",
    "$= \\int_{a}^{b}\\! \\frac{(x-b)(\\frac{2x-a-b}{2})}{(a-b)(\\frac{2a-a-b}{2})}f(a) dx + \\int_{a}^{b}\\! \\frac{(x-a)(x-b)}{(\\frac{a+b-2a}{2})(\\frac{a+b-2b}{b})}f(x_{m}) dx + \\int_{a}^{b}\\! \\frac{(x-a)(\\frac{2x-a-b}{2})}{(b-a)(\\frac{2b-a-b}{2})}f(b) dx$\\\n",
    "\\\n",
    "$=\\int_{a}^{b}\\! \\frac{2x^2 -ax-3bx+ab+b^2}{(a-b)^2}f(a) dx + (-4) \\int_{a}^{b}\\! \\frac{x^2 -xb-xa+ab}{(a-b)^2}f(x_{m}) dx + \\int_{a}^{b}\\!\\frac{2x^2 -3xa-xb+ab+a^2}{(b-a)^2}f(b) dx$\\\n",
    "\\\n",
    "$=\\frac{f(a)}{(a-b)^2} (\\frac{4x^3 -3ax^2 -9bx^2 +6abx +6xb^2}{6})|_{a}^{b} + \\frac{-4*f(x_{m})}{(a-b)^2} (\\frac{2x^3 -3bx^2 -3ax^2 +6abx }{6})|_{a}^{b} + \\frac{f(b)}{(a-b)^2} (\\frac{4x^3 -9ax^2 -3bx^2 +6abx +6xa^2}{6})|_{a}^{b}$ \\\n",
    "\\\n",
    "$=\\frac{f(a)}{(a-b)^2} (\\frac{4b^3 -3ab^2 -9b^3 +6ab^2 +6b^3 -4a^3 +3a^3 +9ba^2 -6ba^2 -6ab^2}{6}) + \\frac{-4*f(x_{m})}{(a-b)^2} (\\frac{2b^3 -3b^3 -3ab^2 +6ab^2 -2a^3 +3ba^2 +3a^3 -6ba^2}{6}) + \\frac{f(b)}{(a-b)^2} (\\frac{4b^3 -9ab^2 -3b^3 +6ab^2 +6ba^2 -4a^3 +9a^3 +3ba^2 -6ba^2 -6a^3}{6})$\\\n",
    "\\\n",
    "$=\\frac{f(a)}{(a-b)^2}(\\frac{b^3 -3ab^2 +3ba^2 -a^3 }{6}) + \\frac{4*f(x_{m})}{(a-b)^2}(\\frac{b^3 -3ab^2 +3ba^2 -a^3 }{6}) + \\frac{f(b)}{(a-b)^2}(\\frac{b^3 -3ab^2 +3ba^2 -a^3 }{6})$\\\n",
    "\\\n",
    "$=\\frac{b^3 -3ab^2 +3ba^2 -a^3 }{6((a-b)^2)}(f(a)+4*f(x_{m})+f(b))$\\\n",
    "\\\n",
    "$=\\frac{(b-a)^3}{6((b-a)^2)}(f(a)+4*f(x_{m})+f(b))$\\\n",
    "\\\n",
    "$=\\frac{b-a}{6}(f(a)+4*f(x_{m})+f(b))$\\\n",
    "\\\n",
    "Si $h=\\frac{b-a}{2}$, entonces:\n",
    "\n",
    "$I=\\frac{h}{3}(f(a)+4*f(x_{m})+f(b))$\n"
   ]
  },
  {
   "cell_type": "markdown",
   "id": "6265b474",
   "metadata": {},
   "source": [
    "7"
   ]
  },
  {
   "cell_type": "code",
   "execution_count": 34,
   "id": "0daea59d",
   "metadata": {},
   "outputs": [],
   "source": [
    "n = 200\n",
    "x = np.linspace(-1,1,n+1)\n",
    "y = np.linspace(-1,1,n+1)\n",
    "\n",
    "a = 0.\n",
    "b = x[-1]\n",
    "\n",
    "R = 1"
   ]
  },
  {
   "cell_type": "code",
   "execution_count": 35,
   "id": "637c44ae",
   "metadata": {},
   "outputs": [],
   "source": [
    "def f(x,y,R=1.):\n",
    "    \n",
    "    z = R**2 - x**2 - y**2\n",
    "    \n",
    "    if z <= 0.:\n",
    "        return 0.\n",
    "    else:\n",
    "        return np.sqrt(z)"
   ]
  },
  {
   "cell_type": "code",
   "execution_count": 36,
   "id": "d53cdc01",
   "metadata": {},
   "outputs": [],
   "source": [
    "f = np.vectorize(f)"
   ]
  },
  {
   "cell_type": "code",
   "execution_count": 37,
   "id": "f1f55766",
   "metadata": {},
   "outputs": [
    {
     "data": {
      "text/plain": [
       "array([[0., 0., 0., ..., 0., 0., 0.],\n",
       "       [0., 0., 0., ..., 0., 0., 0.],\n",
       "       [0., 0., 0., ..., 0., 0., 0.],\n",
       "       ...,\n",
       "       [0., 0., 0., ..., 0., 0., 0.],\n",
       "       [0., 0., 0., ..., 0., 0., 0.],\n",
       "       [0., 0., 0., ..., 0., 0., 0.]])"
      ]
     },
     "execution_count": 37,
     "metadata": {},
     "output_type": "execute_result"
    }
   ],
   "source": [
    "X_e,Y_e = np.meshgrid(x,y)\n",
    "Z = f(X_e,Y_e)\n",
    "Z"
   ]
  },
  {
   "cell_type": "code",
   "execution_count": 38,
   "id": "6c7ee91a",
   "metadata": {},
   "outputs": [
    {
     "data": {
      "text/plain": [
       "<mpl_toolkits.mplot3d.art3d.Poly3DCollection at 0x259bf0cad90>"
      ]
     },
     "execution_count": 38,
     "metadata": {},
     "output_type": "execute_result"
    },
    {
     "data": {
      "image/png": "[encoded data removed]",
      "text/plain": [
       "<Figure size 432x288 with 1 Axes>"
      ]
     },
     "metadata": {
      "needs_background": "light"
     },
     "output_type": "display_data"
    }
   ],
   "source": [
    "fig = plt.figure()\n",
    "ax = fig.add_subplot(111,projection='3d')\n",
    "ax.plot_surface(X_e,Y_e,Z,color='purple')"
   ]
  },
  {
   "cell_type": "code",
   "execution_count": 39,
   "id": "7554fa91",
   "metadata": {},
   "outputs": [
    {
     "name": "stdout",
     "output_type": "stream",
     "text": [
      "2.0943195841075304\n"
     ]
    }
   ],
   "source": [
    "x = np.linspace(-1,1,n+1)\n",
    "y = np.linspace(-1,1,n+1)\n",
    "volumen=0\n",
    "area=(x[1]-x[0])*(y[1]-y[0])\n",
    "\n",
    "for i in range(len(x)):\n",
    "    for j in range(len(y)):\n",
    "        \n",
    "        p_inicial=f(x[i],y[j])\n",
    "        p_v1=f(x[i-1],y[j])\n",
    "        p_v2=f(x[i-1],y[j-1])\n",
    "        p_v3=f(x[i],y[j-1])\n",
    "        \n",
    "        if p_inicial in Z and p_v1 in Z and p_v2 in Z and p_v3 in Z:\n",
    "            promedio=(p_inicial+p_v1+p_v2+p_v3)/4\n",
    "            vol_i=promedio*area\n",
    "            volumen+=vol_i\n",
    "            \n",
    "print(volumen)"
   ]
  },
  {
   "cell_type": "markdown",
   "id": "8bee5492",
   "metadata": {},
   "source": [
    "14"
   ]
  },
  {
   "cell_type": "code",
   "execution_count": 40,
   "id": "737befaf",
   "metadata": {},
   "outputs": [],
   "source": [
    "x = sym.Symbol('x',real=True)\n",
    "y = sym.Symbol('y',real=True)\n",
    "n = 2"
   ]
  },
  {
   "cell_type": "code",
   "execution_count": 41,
   "id": "3abbdbc9",
   "metadata": {},
   "outputs": [],
   "source": [
    "def function(x):\n",
    "    func=3+5*x+x**2\n",
    "    return func\n"
   ]
  },
  {
   "cell_type": "code",
   "execution_count": 42,
   "id": "dd84dab9",
   "metadata": {},
   "outputs": [
    {
     "data": {
      "text/latex": [
       "$x \\mapsto \\text{3.333333333333334}\\,{P}_{0}(x) + \\text{5.000000000000002}\\,{P}_{1}(x) + \\text{0.6666666666666682}\\,{P}_{2}(x)$"
      ],
      "text/plain": [
       "Legendre([3.33333333, 5.        , 0.66666667], domain=[-1,  1], window=[-1,  1])"
      ]
     },
     "execution_count": 42,
     "metadata": {},
     "output_type": "execute_result"
    }
   ],
   "source": [
    "roots_, weights_ = np.polynomial.legendre.leggauss(n+1)\n",
    "\n",
    "coefficients = []\n",
    "\n",
    "for i in range(n+1):\n",
    "    c_i = ((2*i+1)/2) * sum(weights_[j] * function(roots_[j]) * np.polynomial.legendre.Legendre.basis(i)(roots_[j]) for j in range(n+1))\n",
    "    coefficients.append(c_i)\n",
    "\n",
    "polinomio = np.polynomial.legendre.Legendre(coefficients)\n",
    "polinomio"
   ]
  },
  {
   "cell_type": "markdown",
   "id": "40069336",
   "metadata": {},
   "source": [
    "17"
   ]
  },
  {
   "cell_type": "code",
   "execution_count": 43,
   "id": "9462af1f",
   "metadata": {},
   "outputs": [
    {
     "data": {
      "text/latex": [
       "$\\displaystyle \\frac{x^{3}}{2.71828182845905^{x} - 1}$"
      ],
      "text/plain": [
       "x**3/(2.71828182845905**x - 1)"
      ]
     },
     "execution_count": 43,
     "metadata": {},
     "output_type": "execute_result"
    }
   ],
   "source": [
    "x_=sym.Symbol('x',real=True)\n",
    "def funcion(x):\n",
    "    func=(x**3)/((np.e**x) -1)\n",
    "    return func\n",
    "funcion(x_)"
   ]
  },
  {
   "cell_type": "markdown",
   "id": "5b7f6efe",
   "metadata": {},
   "source": [
    "a) Integrar"
   ]
  },
  {
   "cell_type": "code",
   "execution_count": 44,
   "id": "0a4273f0",
   "metadata": {},
   "outputs": [
    {
     "name": "stdout",
     "output_type": "stream",
     "text": [
      "[0.41577456 2.29428036 6.28994508] [0.71109301 0.27851773 0.01038926]\n"
     ]
    }
   ],
   "source": [
    "n=3\n",
    "Roots,Weights=np.polynomial.laguerre.laggauss(n)\n",
    "print(Roots,Weights)"
   ]
  },
  {
   "cell_type": "code",
   "execution_count": 45,
   "id": "4adb8820",
   "metadata": {},
   "outputs": [
    {
     "name": "stdout",
     "output_type": "stream",
     "text": [
      "nan\n"
     ]
    },
    {
     "name": "stderr",
     "output_type": "stream",
     "text": [
      "C:\\Users\\lsper\\AppData\\Local\\Temp/ipykernel_7456/2164128252.py:3: RuntimeWarning: invalid value encountered in true_divide\n",
      "  func=(x**3)/((np.e**x) -1)\n"
     ]
    }
   ],
   "source": [
    "a = 0\n",
    "b = np.inf\n",
    "t = 0.5 * (Roots + 1) * (b - a) + a\n",
    "w = 0.5 * Weights * (b - a)\n",
    "\n",
    "integral = np.sum(Weights * funcion(t))\n",
    "print(integral)"
   ]
  },
  {
   "cell_type": "code",
   "execution_count": 46,
   "id": "d19597d3",
   "metadata": {},
   "outputs": [],
   "source": [
    "#preguntar"
   ]
  },
  {
   "cell_type": "markdown",
   "id": "3c999870",
   "metadata": {},
   "source": [
    "b) Plot"
   ]
  },
  {
   "cell_type": "code",
   "execution_count": 48,
   "id": "09a63336",
   "metadata": {},
   "outputs": [],
   "source": [
    "#preguntar"
   ]
  },
  {
   "cell_type": "markdown",
   "id": "a5b4af2e",
   "metadata": {},
   "source": [
    "18"
   ]
  },
  {
   "cell_type": "code",
   "execution_count": 49,
   "id": "7f980bee",
   "metadata": {},
   "outputs": [
    {
     "data": {
      "text/latex": [
       "$\\displaystyle 1048576 x^{20} - 99614720 x^{18} + 3810263040 x^{16} - 76205260800 x^{14} + 866834841600 x^{12} - 5721109954560 x^{10} + 21454162329600 x^{8} - 42908324659200 x^{6} + 40226554368000 x^{4} - 13408851456000 x^{2} + 670442572800$"
      ],
      "text/plain": [
       "1048576*x**20 - 99614720*x**18 + 3810263040*x**16 - 76205260800*x**14 + 866834841600*x**12 - 5721109954560*x**10 + 21454162329600*x**8 - 42908324659200*x**6 + 40226554368000*x**4 - 13408851456000*x**2 + 670442572800"
      ]
     },
     "execution_count": 49,
     "metadata": {},
     "output_type": "execute_result"
    }
   ],
   "source": [
    "n=20\n",
    "   \n",
    "def GetHermite(n,x):\n",
    "    \n",
    "    y = sym.exp(-x**2)\n",
    "\n",
    "    poly = ((-1)**n)*(sym.exp(x**2))*y.diff(x,n)\n",
    "    \n",
    "    return poly\n",
    "\n",
    "GetHermite(n,x)\n",
    "\n"
   ]
  },
  {
   "cell_type": "code",
   "execution_count": 50,
   "id": "209d6a40",
   "metadata": {},
   "outputs": [],
   "source": [
    "Hermite = []\n",
    "DHermite = []\n",
    "\n",
    "for i in range(n+1):\n",
    "    \n",
    "    Poly = GetHermite(i,x)\n",
    "    Hermite.append(Poly)\n",
    "    DHermite.append( sym.diff(Poly,x,1) )\n",
    "    "
   ]
  },
  {
   "cell_type": "code",
   "execution_count": 51,
   "id": "c7fdfd62",
   "metadata": {},
   "outputs": [],
   "source": [
    "#len(Hermite)\n"
   ]
  },
  {
   "cell_type": "code",
   "execution_count": 52,
   "id": "9f616229",
   "metadata": {},
   "outputs": [],
   "source": [
    "\n",
    "def GetNewton(f,df,xn,itmax=10000,precision=1e-14):\n",
    "    \n",
    "    error = 1.\n",
    "    it = 0\n",
    "    \n",
    "    while error >= precision and it < itmax:\n",
    "        \n",
    "        try:\n",
    "            \n",
    "            xn1 = xn - f(xn)/df(xn)\n",
    "            \n",
    "            error = np.abs(f(xn)/df(xn))\n",
    "            \n",
    "        except ZeroDivisionError:\n",
    "            print('Zero Division')\n",
    "            \n",
    "        xn = xn1\n",
    "        it += 1\n",
    "        \n",
    "    if it == itmax:\n",
    "        return False\n",
    "    else:\n",
    "        return xn"
   ]
  },
  {
   "cell_type": "code",
   "execution_count": 53,
   "id": "32e0a403",
   "metadata": {},
   "outputs": [],
   "source": [
    "def GetRoots(f,df,x,tolerancia = 14):\n",
    "    \n",
    "    Roots = np.array([])\n",
    "    \n",
    "    for i in x:\n",
    "        root = GetNewton(f,df,i)\n",
    "\n",
    "        if root != False:\n",
    "            \n",
    "            croot = np.round( root, tolerancia )\n",
    "            \n",
    "            if croot not in Roots:\n",
    "                Roots = np.append(Roots, croot)\n",
    "                \n",
    "    Roots.sort()\n",
    "    \n",
    "    return Roots"
   ]
  },
  {
   "cell_type": "code",
   "execution_count": 54,
   "id": "8466b818",
   "metadata": {},
   "outputs": [],
   "source": [
    "def GetAllRoots(n,xn,Hermite,DHermite):\n",
    "    \n",
    "    poly = sym.lambdify([x],Hermite[n],'numpy')\n",
    "    Dpoly = sym.lambdify([x],DHermite[n],'numpy')\n",
    "    Roots = GetRoots(poly,Dpoly,xn)\n",
    "\n",
    "    return Roots"
   ]
  },
  {
   "cell_type": "code",
   "execution_count": 55,
   "id": "514a21e0",
   "metadata": {},
   "outputs": [
    {
     "name": "stdout",
     "output_type": "stream",
     "text": [
      "(array([-5.38748089, -4.60368245, -3.94476404, -3.34785457, -2.78880606,\n",
      "       -2.254974  , -1.73853771, -1.23407622, -0.73747373, -0.24534071,\n",
      "        0.24534071,  0.73747373,  1.23407622,  1.73853771,  2.254974  ,\n",
      "        2.78880606,  3.34785457,  3.94476404,  4.60368245,  5.38748089]), array([2.22939365e-13, 4.39934099e-10, 1.08606937e-07, 7.80255648e-06,\n",
      "       2.28338636e-04, 3.24377334e-03, 2.48105209e-02, 1.09017206e-01,\n",
      "       2.86675505e-01, 4.62243670e-01, 4.62243670e-01, 2.86675505e-01,\n",
      "       1.09017206e-01, 2.48105209e-02, 3.24377334e-03, 2.28338636e-04,\n",
      "       7.80255648e-06, 1.08606937e-07, 4.39934099e-10, 2.22939365e-13])) otra [-5.38748089 -5.38748089 -5.38748089 -5.38748089 -5.38748089 -4.60368245\n",
      " -4.60368245 -4.60368245 -3.94476404 -3.94476404 -3.94476404 -3.34785457\n",
      " -2.78880606 -2.78880606 -2.254974   -2.254974   -2.254974   -1.73853771\n",
      " -1.73853771 -1.23407622 -0.73747373 -0.24534071  0.24534071  0.73747373\n",
      "  1.23407622  1.73853771  1.73853771  2.254974    2.254974    2.254974\n",
      "  2.78880606  2.78880606  3.34785457  3.94476404  3.94476404  4.60368245\n",
      "  4.60368245  4.60368245  4.60368245  5.38748089  5.38748089  5.38748089\n",
      "  5.38748089  5.38748089  5.38748089]\n"
     ]
    }
   ],
   "source": [
    "xn = np.linspace(-10,10,100)\n",
    "Roots = GetAllRoots(20,xn,Hermite,DHermite)\n",
    "len(Roots)\n",
    "print(np.polynomial.hermite.hermgauss(n),\"otra\",Roots)"
   ]
  },
  {
   "cell_type": "code",
   "execution_count": 56,
   "id": "e9d8c75b",
   "metadata": {},
   "outputs": [
    {
     "ename": "SyntaxError",
     "evalue": "invalid syntax (Temp/ipykernel_7456/1538788186.py, line 7)",
     "output_type": "error",
     "traceback": [
      "\u001b[1;36m  File \u001b[1;32m\"C:\\Users\\lsper\\AppData\\Local\\Temp/ipykernel_7456/1538788186.py\"\u001b[1;36m, line \u001b[1;32m7\u001b[0m\n\u001b[1;33m    return Weights\u001b[0m\n\u001b[1;37m    ^\u001b[0m\n\u001b[1;31mSyntaxError\u001b[0m\u001b[1;31m:\u001b[0m invalid syntax\n"
     ]
    }
   ],
   "source": [
    "def GetWeights(Roots,DHermite):\n",
    "    \n",
    "    Dpoly = sym.lambdify([x],DHermite[n],'numpy')\n",
    "    Weights= 2/( (1-Roots**2)*Dpoly(Roots)**2 )\n",
    "    Weights=((2**(n-1))*(sy.factorial(n))*(sym.pi**(1/2)))/((n**2)*\n",
    "    \n",
    "    return Weights\n",
    "                                                            \n",
    " #Terminar                                                           "
   ]
  },
  {
   "cell_type": "code",
   "execution_count": 57,
   "id": "89930f2b",
   "metadata": {},
   "outputs": [
    {
     "ename": "NameError",
     "evalue": "name 'GetWeights' is not defined",
     "output_type": "error",
     "traceback": [
      "\u001b[1;31m---------------------------------------------------------------------------\u001b[0m",
      "\u001b[1;31mNameError\u001b[0m                                 Traceback (most recent call last)",
      "\u001b[1;32m~\\AppData\\Local\\Temp/ipykernel_7456/4210564927.py\u001b[0m in \u001b[0;36m<module>\u001b[1;34m\u001b[0m\n\u001b[1;32m----> 1\u001b[1;33m \u001b[0mWeights\u001b[0m \u001b[1;33m=\u001b[0m \u001b[0mGetWeights\u001b[0m\u001b[1;33m(\u001b[0m\u001b[0mRoots\u001b[0m\u001b[1;33m,\u001b[0m\u001b[0mDHermite\u001b[0m\u001b[1;33m)\u001b[0m\u001b[1;33m\u001b[0m\u001b[1;33m\u001b[0m\u001b[0m\n\u001b[0m\u001b[0;32m      2\u001b[0m \u001b[0mWeights\u001b[0m\u001b[1;33m\u001b[0m\u001b[1;33m\u001b[0m\u001b[0m\n",
      "\u001b[1;31mNameError\u001b[0m: name 'GetWeights' is not defined"
     ]
    }
   ],
   "source": [
    "Weights = GetWeights(Roots,DHermite)\n",
    "Weights"
   ]
  },
  {
   "cell_type": "markdown",
   "id": "54e3def4",
   "metadata": {},
   "source": [
    "b)"
   ]
  },
  {
   "cell_type": "code",
   "execution_count": 58,
   "id": "da4941ac",
   "metadata": {},
   "outputs": [
    {
     "data": {
      "text/plain": [
       "8.47956863288029"
      ]
     },
     "execution_count": 58,
     "metadata": {},
     "output_type": "execute_result"
    }
   ],
   "source": [
    "def func(x):\n",
    "    resp=abs(sym.exp((-x)**2/2))*(GetHermite(1,x))\n",
    "    \n",
    "    return resp\n",
    "\n",
    "n=1\n",
    "x=sym.Symbol('x',real=True)\n",
    "h=func(x)\n",
    "h\n",
    "\n",
    "#(1/(((2**n)*sym.factorial(n))**(1/2)))*((1/sym.pi**(1/4))*(1**(1/2)))\n",
    " \n",
    "b=10\n",
    "a=0\n",
    "\n",
    "def gauss_integrate(n):\n",
    "\n",
    "    gauss_int = 0\n",
    "    c1 = 0.5*(b-a)\n",
    "    c2 = 0.5*(a+b)\n",
    "    roots, weights=np.polynomial.legendre.leggauss(n)\n",
    "\n",
    "    gauss_int= c1*np.sum(weights*funcion(c1*roots + c2))\n",
    "  \n",
    "    return gauss_int    \n",
    "    \n",
    "gauss_integrate(1)    \n",
    "    "
   ]
  },
  {
   "cell_type": "markdown",
   "id": "fad1aa41",
   "metadata": {},
   "source": [
    "19"
   ]
  },
  {
   "cell_type": "markdown",
   "id": "200a1b00",
   "metadata": {},
   "source": [
    "a)"
   ]
  },
  {
   "cell_type": "code",
   "execution_count": 60,
   "id": "a4a8ca6c",
   "metadata": {},
   "outputs": [],
   "source": [
    "x=sym.Symbol('x',real=True)\n",
    "T_D=300\n",
    "\n",
    "def f_(x:float,T:float,deltaT:float):\n",
    "    resp=((np.tanh((abs((x**2 + deltaT**2))**(1/2))*T_D)/2*T)/(abs((x**2 +deltaT**2))**(1/2)))\n",
    "    return resp\n"
   ]
  },
  {
   "cell_type": "markdown",
   "id": "5c140467",
   "metadata": {},
   "source": [
    "b)"
   ]
  },
  {
   "cell_type": "code",
   "execution_count": 61,
   "id": "3cddc601",
   "metadata": {},
   "outputs": [
    {
     "data": {
      "text/plain": [
       "(array([-0.9988664 , -0.99403197, -0.98535408, -0.97286439, -0.95661096,\n",
       "        -0.93665662, -0.91307856, -0.88596798, -0.85542977, -0.82158207,\n",
       "        -0.78455583, -0.7444943 , -0.70155247, -0.65589647, -0.60770293,\n",
       "        -0.5571583 , -0.50445814, -0.44980633, -0.39341431, -0.33550025,\n",
       "        -0.27628819, -0.21600724, -0.15489059, -0.0931747 , -0.03109834,\n",
       "         0.03109834,  0.0931747 ,  0.15489059,  0.21600724,  0.27628819,\n",
       "         0.33550025,  0.39341431,  0.44980633,  0.50445814,  0.5571583 ,\n",
       "         0.60770293,  0.65589647,  0.70155247,  0.7444943 ,  0.78455583,\n",
       "         0.82158207,  0.85542977,  0.88596798,  0.91307856,  0.93665662,\n",
       "         0.95661096,  0.97286439,  0.98535408,  0.99403197,  0.9988664 ]),\n",
       " array([0.00290862, 0.0067598 , 0.01059055, 0.01438082, 0.01811556,\n",
       "        0.02178024, 0.02536067, 0.02884299, 0.03221373, 0.03545984,\n",
       "        0.03856876, 0.04152846, 0.0443275 , 0.04695505, 0.04940094,\n",
       "        0.0516557 , 0.05371062, 0.05555774, 0.05718993, 0.05860085,\n",
       "        0.05978506, 0.06073797, 0.0614559 , 0.06193607, 0.06217662,\n",
       "        0.06217662, 0.06193607, 0.0614559 , 0.06073797, 0.05978506,\n",
       "        0.05860085, 0.05718993, 0.05555774, 0.05371062, 0.0516557 ,\n",
       "        0.04940094, 0.04695505, 0.0443275 , 0.04152846, 0.03856876,\n",
       "        0.03545984, 0.03221373, 0.02884299, 0.02536067, 0.02178024,\n",
       "        0.01811556, 0.01438082, 0.01059055, 0.0067598 , 0.00290862]))"
      ]
     },
     "execution_count": 61,
     "metadata": {},
     "output_type": "execute_result"
    }
   ],
   "source": [
    "\n",
    "n=50\n",
    "roots, weights = np.polynomial.legendre.leggauss(n)\n",
    "roots, weights"
   ]
  },
  {
   "cell_type": "markdown",
   "id": "2845c849",
   "metadata": {},
   "source": [
    "c)"
   ]
  },
  {
   "cell_type": "code",
   "execution_count": 62,
   "id": "7fd9aa21",
   "metadata": {},
   "outputs": [
    {
     "ename": "TypeError",
     "evalue": "can't convert expression to float",
     "output_type": "error",
     "traceback": [
      "\u001b[1;31m---------------------------------------------------------------------------\u001b[0m",
      "\u001b[1;31mTypeError\u001b[0m                                 Traceback (most recent call last)",
      "\u001b[1;32m~\\AppData\\Local\\Temp/ipykernel_7456/2489398365.py\u001b[0m in \u001b[0;36m<module>\u001b[1;34m\u001b[0m\n\u001b[0;32m      6\u001b[0m \u001b[1;32mwhile\u001b[0m \u001b[0mdt\u001b[0m\u001b[1;33m<\u001b[0m\u001b[1;33m(\u001b[0m\u001b[1;36m20\u001b[0m\u001b[1;33m+\u001b[0m\u001b[1;36m1e-4\u001b[0m\u001b[1;33m)\u001b[0m\u001b[1;33m:\u001b[0m\u001b[1;33m\u001b[0m\u001b[1;33m\u001b[0m\u001b[0m\n\u001b[0;32m      7\u001b[0m \u001b[1;33m\u001b[0m\u001b[0m\n\u001b[1;32m----> 8\u001b[1;33m     \u001b[0mintegral\u001b[0m\u001b[1;33m=\u001b[0m\u001b[1;33m(\u001b[0m\u001b[0mintegrate\u001b[0m\u001b[1;33m.\u001b[0m\u001b[0mfixed_quad\u001b[0m\u001b[1;33m(\u001b[0m\u001b[0mf_\u001b[0m\u001b[1;33m(\u001b[0m\u001b[0mfloat\u001b[0m\u001b[1;33m(\u001b[0m\u001b[0mx\u001b[0m\u001b[1;33m)\u001b[0m\u001b[1;33m,\u001b[0m\u001b[0mfloat\u001b[0m\u001b[1;33m(\u001b[0m\u001b[0mdt\u001b[0m\u001b[1;33m)\u001b[0m\u001b[1;33m,\u001b[0m\u001b[0mfloat\u001b[0m\u001b[1;33m(\u001b[0m\u001b[1;36m0.\u001b[0m\u001b[1;33m)\u001b[0m\u001b[1;33m)\u001b[0m\u001b[1;33m,\u001b[0m\u001b[0mfloat\u001b[0m\u001b[1;33m(\u001b[0m\u001b[0ma\u001b[0m\u001b[1;33m)\u001b[0m\u001b[1;33m,\u001b[0m\u001b[0mfloat\u001b[0m\u001b[1;33m(\u001b[0m\u001b[0mb\u001b[0m\u001b[1;33m)\u001b[0m\u001b[1;33m,\u001b[0m\u001b[0mfloat\u001b[0m\u001b[1;33m(\u001b[0m\u001b[0mn\u001b[0m\u001b[1;33m)\u001b[0m\u001b[1;33m)\u001b[0m\u001b[1;33m)\u001b[0m\u001b[1;33m/\u001b[0m\u001b[1;36m2\u001b[0m\u001b[1;33m\u001b[0m\u001b[1;33m\u001b[0m\u001b[0m\n\u001b[0m\u001b[0;32m      9\u001b[0m     \u001b[0mresult\u001b[0m\u001b[1;33m=\u001b[0m\u001b[1;36m1\u001b[0m\u001b[1;33m/\u001b[0m\u001b[1;36m0.3\u001b[0m\u001b[1;33m\u001b[0m\u001b[1;33m\u001b[0m\u001b[0m\n\u001b[0;32m     10\u001b[0m \u001b[1;33m\u001b[0m\u001b[0m\n",
      "\u001b[1;32m~\\anaconda3\\lib\\site-packages\\sympy\\core\\expr.py\u001b[0m in \u001b[0;36m__float__\u001b[1;34m(self)\u001b[0m\n\u001b[0;32m    357\u001b[0m         \u001b[1;32mif\u001b[0m \u001b[0mresult\u001b[0m\u001b[1;33m.\u001b[0m\u001b[0mis_number\u001b[0m \u001b[1;32mand\u001b[0m \u001b[0mresult\u001b[0m\u001b[1;33m.\u001b[0m\u001b[0mas_real_imag\u001b[0m\u001b[1;33m(\u001b[0m\u001b[1;33m)\u001b[0m\u001b[1;33m[\u001b[0m\u001b[1;36m1\u001b[0m\u001b[1;33m]\u001b[0m\u001b[1;33m:\u001b[0m\u001b[1;33m\u001b[0m\u001b[1;33m\u001b[0m\u001b[0m\n\u001b[0;32m    358\u001b[0m             \u001b[1;32mraise\u001b[0m \u001b[0mTypeError\u001b[0m\u001b[1;33m(\u001b[0m\u001b[1;34m\"can't convert complex to float\"\u001b[0m\u001b[1;33m)\u001b[0m\u001b[1;33m\u001b[0m\u001b[1;33m\u001b[0m\u001b[0m\n\u001b[1;32m--> 359\u001b[1;33m         \u001b[1;32mraise\u001b[0m \u001b[0mTypeError\u001b[0m\u001b[1;33m(\u001b[0m\u001b[1;34m\"can't convert expression to float\"\u001b[0m\u001b[1;33m)\u001b[0m\u001b[1;33m\u001b[0m\u001b[1;33m\u001b[0m\u001b[0m\n\u001b[0m\u001b[0;32m    360\u001b[0m \u001b[1;33m\u001b[0m\u001b[0m\n\u001b[0;32m    361\u001b[0m     \u001b[1;32mdef\u001b[0m \u001b[0m__complex__\u001b[0m\u001b[1;33m(\u001b[0m\u001b[0mself\u001b[0m\u001b[1;33m)\u001b[0m\u001b[1;33m:\u001b[0m\u001b[1;33m\u001b[0m\u001b[1;33m\u001b[0m\u001b[0m\n",
      "\u001b[1;31mTypeError\u001b[0m: can't convert expression to float"
     ]
    }
   ],
   "source": [
    "dt=1\n",
    "a=-1\n",
    "b=1\n",
    "temp=0\n",
    "\n",
    "while dt<(20+1e-4):\n",
    "    \n",
    "    integral=(integrate.fixed_quad(f_(float(x),float(dt),float(0.)),float(a),float(b),float(n)))/2\n",
    "    result=1/0.3\n",
    "    \n",
    "    if np.abs((integral-1)/0.3)<(1e-4):\n",
    "        temp=dt\n",
    "        dt=21\n",
    "        \n",
    "    dt+=1e-4\n",
    "    \n",
    "temp    \n",
    "    "
   ]
  },
  {
   "cell_type": "code",
   "execution_count": null,
   "id": "fdfa8f5b",
   "metadata": {},
   "outputs": [],
   "source": []
  }
 ],
 "metadata": {
  "kernelspec": {
   "display_name": "Python 3 (ipykernel)",
   "language": "python",
   "name": "python3"
  },
  "language_info": {
   "codemirror_mode": {
    "name": "ipython",
    "version": 3
   },
   "file_extension": ".py",
   "mimetype": "text/x-python",
   "name": "python",
   "nbconvert_exporter": "python",
   "pygments_lexer": "ipython3",
   "version": "3.9.7"
  }
 },
 "nbformat": 4,
 "nbformat_minor": 5
}
