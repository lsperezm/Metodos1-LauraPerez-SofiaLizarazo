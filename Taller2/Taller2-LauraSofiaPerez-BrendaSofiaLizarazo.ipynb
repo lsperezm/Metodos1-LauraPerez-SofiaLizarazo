{
 "cells": [
  {
   "cell_type": "markdown",
   "id": "987dbbcd",
   "metadata": {},
   "source": [
    "Taller 2"
   ]
  },
  {
   "cell_type": "code",
   "execution_count": 1,
   "id": "ed39cf11",
   "metadata": {},
   "outputs": [
    {
     "data": {
      "text/html": [
       "<style>.container { width:100% !important; }</style>"
      ],
      "text/plain": [
       "<IPython.core.display.HTML object>"
      ]
     },
     "metadata": {},
     "output_type": "display_data"
    }
   ],
   "source": [
    "from IPython.display import display, HTML\n",
    "display(HTML(\"<style>.container { width:100% !important; }</style>\"))\n",
    "import numpy as np\n",
    "import matplotlib.pyplot as plt\n",
    "import sympy as sym\n",
    "from scipy import integrate"
   ]
  },
  {
   "cell_type": "markdown",
   "id": "a51a33a7",
   "metadata": {},
   "source": [
    "Raíces de Polinomios\n",
    "\n",
    "5"
   ]
  },
  {
   "cell_type": "code",
   "execution_count": 9,
   "id": "3b48306a",
   "metadata": {},
   "outputs": [],
   "source": [
    "x = sym.Symbol('x',real=True)\n",
    "y = sym.Symbol('y',real=True)\n",
    "n = 8\n",
    "\n"
   ]
  },
  {
   "cell_type": "code",
   "execution_count": 10,
   "id": "c1cc75ea",
   "metadata": {},
   "outputs": [],
   "source": [
    "def GetLaguerre(n,x,y):\n",
    "    \n",
    "    y= ((np.e**(-x))*x**n)\n",
    "    \n",
    "    poly = (np.e**x)*sym.diff( y,x,n )/(np.math.factorial(n))\n",
    "    \n",
    "    return poly"
   ]
  },
  {
   "cell_type": "code",
   "execution_count": 11,
   "id": "1b70cc7c",
   "metadata": {},
   "outputs": [],
   "source": [
    "Laguerre = []\n",
    "DLaguerre = []\n",
    "\n",
    "for i in range(n+1):\n",
    "    \n",
    "    Poly = GetLaguerre(i,x,y)\n",
    "    Laguerre.append(Poly)\n",
    "    DLaguerre.append( sym.diff(Poly,x,1) )"
   ]
  },
  {
   "cell_type": "code",
   "execution_count": 12,
   "id": "0912282e",
   "metadata": {},
   "outputs": [
    {
     "data": {
      "text/plain": [
       "[0,\n",
       " 1.0*2.71828182845905**x*(-1.0*x/2.71828182845905**x + 2.71828182845905**(-x)) + 2.71828182845905**x*(1.0*x/2.71828182845905**x - 2.0/2.71828182845905**x),\n",
       " 1.0*x - 2.0,\n",
       " -0.5*x**2 + 3.0*x - 3.0,\n",
       " 0.166666666666667*x**3 - 2.0*x**2 + 6.0*x - 4.0,\n",
       " -0.0416666666666667*x**4 + 0.833333333333333*x**3 - 5.0*x**2 + 10.0*x - 5.0,\n",
       " 0.00833333333333333*x**5 - 0.25*x**4 + 2.5*x**3 - 10.0*x**2 + 15.0*x - 6.0,\n",
       " -0.00138888888888889*x**6 + 0.0583333333333333*x**5 - 0.875*x**4 + 5.83333333333333*x**3 - 17.5*x**2 + 21.0*x - 7.0,\n",
       " 0.000198412698412698*x**7 - 0.0111111111111111*x**6 + 0.233333333333333*x**5 - 2.33333333333333*x**4 + 11.6666666666667*x**3 - 28.0*x**2 + 28.0*x - 8.0]"
      ]
     },
     "execution_count": 12,
     "metadata": {},
     "output_type": "execute_result"
    }
   ],
   "source": [
    "DLaguerre"
   ]
  },
  {
   "cell_type": "code",
   "execution_count": 14,
   "id": "d92337d8",
   "metadata": {},
   "outputs": [
    {
     "data": {
      "image/png": "[encoded data removed]",
      "text/plain": [
       "<Figure size 432x288 with 1 Axes>"
      ]
     },
     "metadata": {
      "needs_background": "light"
     },
     "output_type": "display_data"
    }
   ],
   "source": [
    "_x=np.linspace(0,50,10000)\n",
    "\n",
    "for i, p in enumerate(Laguerre):\n",
    "    if i!= 0:\n",
    "        pn = sym.lambdify([x],p,'numpy')\n",
    "        plt.plot(_x,pn(_x))"
   ]
  },
  {
   "cell_type": "code",
   "execution_count": null,
   "id": "72fb0594",
   "metadata": {},
   "outputs": [],
   "source": []
  }
 ],
 "metadata": {
  "kernelspec": {
   "display_name": "Python 3 (ipykernel)",
   "language": "python",
   "name": "python3"
  },
  "language_info": {
   "codemirror_mode": {
    "name": "ipython",
    "version": 3
   },
   "file_extension": ".py",
   "mimetype": "text/x-python",
   "name": "python",
   "nbconvert_exporter": "python",
   "pygments_lexer": "ipython3",
   "version": "3.9.7"
  }
 },
 "nbformat": 4,
 "nbformat_minor": 5
}
