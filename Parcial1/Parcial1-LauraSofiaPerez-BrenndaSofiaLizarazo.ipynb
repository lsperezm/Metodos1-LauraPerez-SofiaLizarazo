{
 "cells": [
  {
   "cell_type": "markdown",
   "id": "7b8e76aa",
   "metadata": {},
   "source": [
    "Parcial 1"
   ]
  },
  {
   "cell_type": "code",
   "execution_count": 1,
   "id": "72ca75c5",
   "metadata": {},
   "outputs": [],
   "source": [
    "%matplotlib notebook\n",
    "import numpy as np\n",
    "import matplotlib.pyplot as plt\n",
    "np.set_printoptions(suppress=True)\n",
    "import sympy as sym"
   ]
  },
  {
   "cell_type": "code",
   "execution_count": 2,
   "id": "99a5e97f",
   "metadata": {},
   "outputs": [],
   "source": [
    "x=sym.Symbol('x',real=True)\n",
    "\n",
    "h=sym.Symbol('h',real=True)\n",
    "\n",
    "X=[-2*h,-1*h,0*h,1*h,2*h]"
   ]
  },
  {
   "cell_type": "code",
   "execution_count": 5,
   "id": "a803ae4e",
   "metadata": {},
   "outputs": [],
   "source": [
    "def Lagrange(x,xi,j):\n",
    "    \n",
    "    prod = 1\n",
    "    n = len(xi)\n",
    "    \n",
    "    for i in range(n):\n",
    "        if i != j:\n",
    "            prod *= (x - xi[i])/(xi[j]-xi[i])\n",
    "            \n",
    "    return prod"
   ]
  },
  {
   "cell_type": "code",
   "execution_count": 11,
   "id": "b58856f0",
   "metadata": {},
   "outputs": [],
   "source": [
    "def GetCoefficients(x,p,X):\n",
    "    coefficients=[]\n",
    "    \n",
    "    for i in range(len(X)):\n",
    "        Li=Lagrange(x,X,i)\n",
    "        \n",
    "        dLi=sym.diff(Li,x,1)\n",
    "        \n",
    "        C=dLi.subs(x,X[p])\n",
    "        \n",
    "        coefficients.append(C)\n",
    "        \n",
    "    return coefficients"
   ]
  },
  {
   "cell_type": "code",
   "execution_count": 12,
   "id": "260c84bc",
   "metadata": {},
   "outputs": [
    {
     "data": {
      "text/plain": [
       "[1/(12*h), -2/(3*h), 0, 2/(3*h), -1/(12*h)]"
      ]
     },
     "execution_count": 12,
     "metadata": {},
     "output_type": "execute_result"
    }
   ],
   "source": [
    "coef=GetCoefficients(x,2,X)\n",
    "coef"
   ]
  },
  {
   "cell_type": "code",
   "execution_count": 13,
   "id": "569ca523",
   "metadata": {},
   "outputs": [],
   "source": [
    "def Interpolate(x,xi,yi):\n",
    "    \n",
    "    Sum = 0.\n",
    "    n = len(xi)\n",
    "    \n",
    "    for j in range(n):\n",
    "        Sum += yi[j]*Lagrange(x,xi,j)\n",
    "        \n",
    "    return Sum"
   ]
  },
  {
   "cell_type": "code",
   "execution_count": 14,
   "id": "73dd28ea",
   "metadata": {},
   "outputs": [
    {
     "ename": "TypeError",
     "evalue": "Cannot interpret '-2.0*h' as a data type",
     "output_type": "error",
     "traceback": [
      "\u001b[1;31m---------------------------------------------------------------------------\u001b[0m",
      "\u001b[1;31mTypeError\u001b[0m                                 Traceback (most recent call last)",
      "\u001b[1;32m~\\AppData\\Local\\Temp/ipykernel_24164/650362338.py\u001b[0m in \u001b[0;36m<module>\u001b[1;34m\u001b[0m\n\u001b[1;32m----> 1\u001b[1;33m \u001b[0mx_\u001b[0m \u001b[1;33m=\u001b[0m \u001b[0mnp\u001b[0m\u001b[1;33m.\u001b[0m\u001b[0mlinspace\u001b[0m\u001b[1;33m(\u001b[0m\u001b[0mX\u001b[0m\u001b[1;33m[\u001b[0m\u001b[1;36m0\u001b[0m\u001b[1;33m]\u001b[0m\u001b[1;33m,\u001b[0m\u001b[0mX\u001b[0m\u001b[1;33m[\u001b[0m\u001b[1;33m-\u001b[0m\u001b[1;36m1\u001b[0m\u001b[1;33m]\u001b[0m\u001b[1;33m,\u001b[0m\u001b[1;36m100\u001b[0m\u001b[1;33m)\u001b[0m\u001b[1;33m\u001b[0m\u001b[1;33m\u001b[0m\u001b[0m\n\u001b[0m\u001b[0;32m      2\u001b[0m \u001b[0my_\u001b[0m \u001b[1;33m=\u001b[0m \u001b[0mInterpolate\u001b[0m\u001b[1;33m(\u001b[0m\u001b[0mx\u001b[0m\u001b[1;33m,\u001b[0m\u001b[0mX\u001b[0m\u001b[1;33m,\u001b[0m\u001b[0mY\u001b[0m\u001b[1;33m)\u001b[0m\u001b[1;33m\u001b[0m\u001b[1;33m\u001b[0m\u001b[0m\n",
      "\u001b[1;32m<__array_function__ internals>\u001b[0m in \u001b[0;36mlinspace\u001b[1;34m(*args, **kwargs)\u001b[0m\n",
      "\u001b[1;32m~\\anaconda3\\lib\\site-packages\\numpy\\core\\function_base.py\u001b[0m in \u001b[0;36mlinspace\u001b[1;34m(start, stop, num, endpoint, retstep, dtype, axis)\u001b[0m\n\u001b[0;32m    128\u001b[0m     \u001b[0mstop\u001b[0m  \u001b[1;33m=\u001b[0m \u001b[0masanyarray\u001b[0m\u001b[1;33m(\u001b[0m\u001b[0mstop\u001b[0m\u001b[1;33m)\u001b[0m  \u001b[1;33m*\u001b[0m \u001b[1;36m1.0\u001b[0m\u001b[1;33m\u001b[0m\u001b[1;33m\u001b[0m\u001b[0m\n\u001b[0;32m    129\u001b[0m \u001b[1;33m\u001b[0m\u001b[0m\n\u001b[1;32m--> 130\u001b[1;33m     \u001b[0mdt\u001b[0m \u001b[1;33m=\u001b[0m \u001b[0mresult_type\u001b[0m\u001b[1;33m(\u001b[0m\u001b[0mstart\u001b[0m\u001b[1;33m,\u001b[0m \u001b[0mstop\u001b[0m\u001b[1;33m,\u001b[0m \u001b[0mfloat\u001b[0m\u001b[1;33m(\u001b[0m\u001b[0mnum\u001b[0m\u001b[1;33m)\u001b[0m\u001b[1;33m)\u001b[0m\u001b[1;33m\u001b[0m\u001b[1;33m\u001b[0m\u001b[0m\n\u001b[0m\u001b[0;32m    131\u001b[0m     \u001b[1;32mif\u001b[0m \u001b[0mdtype\u001b[0m \u001b[1;32mis\u001b[0m \u001b[1;32mNone\u001b[0m\u001b[1;33m:\u001b[0m\u001b[1;33m\u001b[0m\u001b[1;33m\u001b[0m\u001b[0m\n\u001b[0;32m    132\u001b[0m         \u001b[0mdtype\u001b[0m \u001b[1;33m=\u001b[0m \u001b[0mdt\u001b[0m\u001b[1;33m\u001b[0m\u001b[1;33m\u001b[0m\u001b[0m\n",
      "\u001b[1;32m<__array_function__ internals>\u001b[0m in \u001b[0;36mresult_type\u001b[1;34m(*args, **kwargs)\u001b[0m\n",
      "\u001b[1;31mTypeError\u001b[0m: Cannot interpret '-2.0*h' as a data type"
     ]
    }
   ],
   "source": [
    "x_ = np.linspace(X[0],X[-1],100)\n",
    "y_ = Interpolate(x_,X,Y)"
   ]
  },
  {
   "cell_type": "code",
   "execution_count": null,
   "id": "baf6b429",
   "metadata": {},
   "outputs": [],
   "source": [
    "plt.scatter(X,Y,marker='o',color='r')\n",
    "plt.plot(x_,y_,color='k')"
   ]
  }
 ],
 "metadata": {
  "kernelspec": {
   "display_name": "Python 3 (ipykernel)",
   "language": "python",
   "name": "python3"
  },
  "language_info": {
   "codemirror_mode": {
    "name": "ipython",
    "version": 3
   },
   "file_extension": ".py",
   "mimetype": "text/x-python",
   "name": "python",
   "nbconvert_exporter": "python",
   "pygments_lexer": "ipython3",
   "version": "3.9.7"
  }
 },
 "nbformat": 4,
 "nbformat_minor": 5
}
