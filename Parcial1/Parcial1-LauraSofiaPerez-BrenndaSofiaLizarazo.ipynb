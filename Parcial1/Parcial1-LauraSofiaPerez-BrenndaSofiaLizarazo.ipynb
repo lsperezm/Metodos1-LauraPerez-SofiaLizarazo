{
 "cells": [
  {
   "cell_type": "markdown",
   "id": "7b8e76aa",
   "metadata": {},
   "source": [
    "Parcial 1"
   ]
  },
  {
   "cell_type": "code",
   "execution_count": 15,
   "id": "72ca75c5",
   "metadata": {},
   "outputs": [],
   "source": [
    "%matplotlib notebook\n",
    "import numpy as np\n",
    "import matplotlib.pyplot as plt\n",
    "np.set_printoptions(suppress=True)\n",
    "import sympy as sym"
   ]
  },
  {
   "cell_type": "code",
   "execution_count": 16,
   "id": "99a5e97f",
   "metadata": {},
   "outputs": [],
   "source": [
    "x=sym.Symbol('x',real=True)\n",
    "\n",
    "h=sym.Symbol('h',real=True)\n",
    "\n",
    "X=[-2*h,-1*h,0*h,1*h,2*h]"
   ]
  },
  {
   "cell_type": "code",
   "execution_count": 17,
   "id": "7625e978",
   "metadata": {},
   "outputs": [],
   "source": [
    "def Lagrange(x,xi,j):\n",
    "    \n",
    "    prod = 1\n",
    "    n = len(xi)\n",
    "    \n",
    "    for i in range(n):\n",
    "        if i != j:\n",
    "            prod *= (x - xi[i])/(xi[j]-xi[i])\n",
    "            \n",
    "    return prod"
   ]
  },
  {
   "cell_type": "code",
   "execution_count": 18,
   "id": "cf12b5e8",
   "metadata": {},
   "outputs": [],
   "source": [
    "def GetCoefficients(x,p,X):\n",
    "    coefficients=[]\n",
    "    \n",
    "    for i in range(len(X)):\n",
    "        Li=Lagrange(x,X,i)\n",
    "        \n",
    "        dLi=sym.diff(Li,x,1)\n",
    "        \n",
    "        C=dLi.subs(x,X[p])\n",
    "        \n",
    "        coefficients.append(C)\n",
    "        \n",
    "    return coefficients"
   ]
  },
  {
   "cell_type": "code",
   "execution_count": 19,
   "id": "b5a2b6bc",
   "metadata": {},
   "outputs": [
    {
     "data": {
      "text/plain": [
       "[1/(12*h), -2/(3*h), 0, 2/(3*h), -1/(12*h)]"
      ]
     },
     "execution_count": 19,
     "metadata": {},
     "output_type": "execute_result"
    }
   ],
   "source": [
    "coef=GetCoefficients(x,2,X)\n",
    "coef"
   ]
  },
  {
   "cell_type": "markdown",
   "id": "5dec8f5a",
   "metadata": {},
   "source": [
    "Orden de aproximación:"
   ]
  },
  {
   "cell_type": "markdown",
   "id": "05bb9e77",
   "metadata": {},
   "source": [
    "A partir del polinomio obtenido mediante la interpolación de Lagrange, se realiza una aproximación mediante 5 puntos, obteniendo un polinomio derivable 5 veces. Esto implica que la última derivada (de grado 5) tiene al menos un cero. Entonces, sabiendo que este cero se asocia al error, se puede conlcuir que el orden de aproximación es de grado 4"
   ]
  },
  {
   "cell_type": "code",
   "execution_count": null,
   "id": "fcc719d6",
   "metadata": {},
   "outputs": [],
   "source": []
  }
 ],
 "metadata": {
  "kernelspec": {
   "display_name": "Python 3 (ipykernel)",
   "language": "python",
   "name": "python3"
  },
  "language_info": {
   "codemirror_mode": {
    "name": "ipython",
    "version": 3
   },
   "file_extension": ".py",
   "mimetype": "text/x-python",
   "name": "python",
   "nbconvert_exporter": "python",
   "pygments_lexer": "ipython3",
   "version": "3.9.7"
  }
 },
 "nbformat": 4,
 "nbformat_minor": 5
}
