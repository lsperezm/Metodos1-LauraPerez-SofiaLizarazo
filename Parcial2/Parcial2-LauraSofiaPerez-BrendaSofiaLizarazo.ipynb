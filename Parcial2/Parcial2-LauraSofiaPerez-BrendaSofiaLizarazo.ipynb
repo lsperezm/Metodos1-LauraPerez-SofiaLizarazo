{
 "cells": [
  {
   "cell_type": "code",
   "execution_count": 1,
   "id": "23675f10",
   "metadata": {},
   "outputs": [
    {
     "data": {
      "text/html": [
       "<style>.container { width:100% !important; }</style>"
      ],
      "text/plain": [
       "<IPython.core.display.HTML object>"
      ]
     },
     "metadata": {},
     "output_type": "display_data"
    }
   ],
   "source": [
    "from IPython.display import display, HTML\n",
    "display(HTML(\"<style>.container { width:100% !important; }</style>\"))\n",
    "import numpy as np\n",
    "import matplotlib.pyplot as plt\n",
    "import sympy as sym\n",
    "import pandas as pd\n",
    "from matplotlib import rc\n",
    "import os.path as path\n",
    "import os\n",
    "from scipy.special.orthogonal import roots_laguerre"
   ]
  },
  {
   "cell_type": "markdown",
   "id": "096fb9b7",
   "metadata": {},
   "source": [
    "21.\n",
    "\n",
    "a)"
   ]
  },
  {
   "cell_type": "markdown",
   "id": "6dc49cfc",
   "metadata": {},
   "source": [
    "b)"
   ]
  },
  {
   "cell_type": "code",
   "execution_count": 42,
   "id": "ff2ac2c7",
   "metadata": {},
   "outputs": [],
   "source": [
    "def sgn(x):\n",
    "    return np.sign(x)"
   ]
  },
  {
   "cell_type": "code",
   "execution_count": null,
   "id": "352970b1",
   "metadata": {},
   "outputs": [],
   "source": []
  },
  {
   "cell_type": "code",
   "execution_count": 55,
   "id": "c92081b4",
   "metadata": {},
   "outputs": [],
   "source": [
    "def Getpolynomial(n):\n",
    "    x=sym.Symbol('x')\n",
    "    y=sym.Symbol('y')\n",
    "    y=(x**2 - 1 )**n\n",
    "    \n",
    "    poly = sym.diff(y,x,n)/((2**n) * np.math.factorial(n))\n",
    "    poly= sym.lambdify(x,poly)\n",
    "    return poly"
   ]
  },
  {
   "cell_type": "code",
   "execution_count": 56,
   "id": "5282db7a",
   "metadata": {},
   "outputs": [],
   "source": [
    "n=20\n",
    "polinomios=[]\n",
    "for i in range(n):\n",
    "    polinomios.append(Getpolynomial(i))"
   ]
  },
  {
   "cell_type": "code",
   "execution_count": 65,
   "id": "4e493259",
   "metadata": {},
   "outputs": [],
   "source": [
    "def function(x,i):\n",
    "    func= sgn(x)*polinomios[i](x)\n",
    "    return func"
   ]
  },
  {
   "cell_type": "code",
   "execution_count": 66,
   "id": "9d3eba13",
   "metadata": {},
   "outputs": [],
   "source": [
    "#c\n",
    "roots_, weights_ = np.polynomial.legendre.leggauss(n+1)\n",
    "\n",
    "vectorizar= np.vectorize(function)"
   ]
  },
  {
   "cell_type": "code",
   "execution_count": 67,
   "id": "67f9467a",
   "metadata": {},
   "outputs": [
    {
     "data": {
      "text/plain": [
       "(array([-0.98940093, -0.94457502, -0.8656312 , -0.75540441, -0.61787624,\n",
       "        -0.45801678, -0.28160355, -0.09501251,  0.09501251,  0.28160355,\n",
       "         0.45801678,  0.61787624,  0.75540441,  0.8656312 ,  0.94457502,\n",
       "         0.98940093]),\n",
       " array([0.02715246, 0.06225352, 0.09515851, 0.12462897, 0.14959599,\n",
       "        0.16915652, 0.18260342, 0.18945061, 0.18945061, 0.18260342,\n",
       "        0.16915652, 0.14959599, 0.12462897, 0.09515851, 0.06225352,\n",
       "        0.02715246]))"
      ]
     },
     "execution_count": 67,
     "metadata": {},
     "output_type": "execute_result"
    }
   ],
   "source": [
    "#d\n",
    "n=15\n",
    "roots_, weights_ = np.polynomial.legendre.leggauss(n+1)\n",
    "\n",
    "roots_, weights_"
   ]
  },
  {
   "cell_type": "code",
   "execution_count": 68,
   "id": "ad4f92ec",
   "metadata": {},
   "outputs": [
    {
     "ename": "TypeError",
     "evalue": "function() missing 1 required positional argument: 'i'",
     "output_type": "error",
     "traceback": [
      "\u001b[1;31m---------------------------------------------------------------------------\u001b[0m",
      "\u001b[1;31mTypeError\u001b[0m                                 Traceback (most recent call last)",
      "\u001b[1;32m~\\AppData\\Local\\Temp/ipykernel_10936/1841793757.py\u001b[0m in \u001b[0;36m<module>\u001b[1;34m\u001b[0m\n\u001b[0;32m      6\u001b[0m \u001b[0mroots_\u001b[0m\u001b[1;33m,\u001b[0m \u001b[0mweights_\u001b[0m\u001b[1;33m\u001b[0m\u001b[1;33m\u001b[0m\u001b[0m\n\u001b[0;32m      7\u001b[0m \u001b[1;32mfor\u001b[0m \u001b[0mi\u001b[0m \u001b[1;32min\u001b[0m \u001b[0mrange\u001b[0m\u001b[1;33m(\u001b[0m\u001b[0mn\u001b[0m\u001b[1;33m+\u001b[0m\u001b[1;36m1\u001b[0m\u001b[1;33m)\u001b[0m\u001b[1;33m:\u001b[0m\u001b[1;33m\u001b[0m\u001b[1;33m\u001b[0m\u001b[0m\n\u001b[1;32m----> 8\u001b[1;33m     \u001b[0mc_i\u001b[0m \u001b[1;33m=\u001b[0m \u001b[1;33m(\u001b[0m\u001b[1;33m(\u001b[0m\u001b[1;36m2\u001b[0m\u001b[1;33m*\u001b[0m\u001b[0mi\u001b[0m\u001b[1;33m+\u001b[0m\u001b[1;36m1\u001b[0m\u001b[1;33m)\u001b[0m\u001b[1;33m/\u001b[0m\u001b[1;36m2\u001b[0m\u001b[1;33m)\u001b[0m \u001b[1;33m*\u001b[0m \u001b[0msum\u001b[0m\u001b[1;33m(\u001b[0m\u001b[0mweights_\u001b[0m\u001b[1;33m[\u001b[0m\u001b[0mj\u001b[0m\u001b[1;33m]\u001b[0m \u001b[1;33m*\u001b[0m \u001b[0mfunction\u001b[0m\u001b[1;33m(\u001b[0m\u001b[0mroots_\u001b[0m\u001b[1;33m[\u001b[0m\u001b[0mj\u001b[0m\u001b[1;33m]\u001b[0m\u001b[1;33m)\u001b[0m \u001b[1;33m*\u001b[0m \u001b[0mnp\u001b[0m\u001b[1;33m.\u001b[0m\u001b[0mpolynomial\u001b[0m\u001b[1;33m.\u001b[0m\u001b[0mlegendre\u001b[0m\u001b[1;33m.\u001b[0m\u001b[0mLegendre\u001b[0m\u001b[1;33m.\u001b[0m\u001b[0mbasis\u001b[0m\u001b[1;33m(\u001b[0m\u001b[0mi\u001b[0m\u001b[1;33m)\u001b[0m\u001b[1;33m(\u001b[0m\u001b[0mroots_\u001b[0m\u001b[1;33m[\u001b[0m\u001b[0mj\u001b[0m\u001b[1;33m]\u001b[0m\u001b[1;33m)\u001b[0m \u001b[1;32mfor\u001b[0m \u001b[0mj\u001b[0m \u001b[1;32min\u001b[0m \u001b[0mrange\u001b[0m\u001b[1;33m(\u001b[0m\u001b[0mn\u001b[0m\u001b[1;33m+\u001b[0m\u001b[1;36m1\u001b[0m\u001b[1;33m)\u001b[0m\u001b[1;33m)\u001b[0m\u001b[1;33m\u001b[0m\u001b[1;33m\u001b[0m\u001b[0m\n\u001b[0m\u001b[0;32m      9\u001b[0m     \u001b[0mcoefficients\u001b[0m\u001b[1;33m.\u001b[0m\u001b[0mappend\u001b[0m\u001b[1;33m(\u001b[0m\u001b[0mc_i\u001b[0m\u001b[1;33m)\u001b[0m\u001b[1;33m\u001b[0m\u001b[1;33m\u001b[0m\u001b[0m\n\u001b[0;32m     10\u001b[0m \u001b[1;33m\u001b[0m\u001b[0m\n",
      "\u001b[1;32m~\\AppData\\Local\\Temp/ipykernel_10936/1841793757.py\u001b[0m in \u001b[0;36m<genexpr>\u001b[1;34m(.0)\u001b[0m\n\u001b[0;32m      6\u001b[0m \u001b[0mroots_\u001b[0m\u001b[1;33m,\u001b[0m \u001b[0mweights_\u001b[0m\u001b[1;33m\u001b[0m\u001b[1;33m\u001b[0m\u001b[0m\n\u001b[0;32m      7\u001b[0m \u001b[1;32mfor\u001b[0m \u001b[0mi\u001b[0m \u001b[1;32min\u001b[0m \u001b[0mrange\u001b[0m\u001b[1;33m(\u001b[0m\u001b[0mn\u001b[0m\u001b[1;33m+\u001b[0m\u001b[1;36m1\u001b[0m\u001b[1;33m)\u001b[0m\u001b[1;33m:\u001b[0m\u001b[1;33m\u001b[0m\u001b[1;33m\u001b[0m\u001b[0m\n\u001b[1;32m----> 8\u001b[1;33m     \u001b[0mc_i\u001b[0m \u001b[1;33m=\u001b[0m \u001b[1;33m(\u001b[0m\u001b[1;33m(\u001b[0m\u001b[1;36m2\u001b[0m\u001b[1;33m*\u001b[0m\u001b[0mi\u001b[0m\u001b[1;33m+\u001b[0m\u001b[1;36m1\u001b[0m\u001b[1;33m)\u001b[0m\u001b[1;33m/\u001b[0m\u001b[1;36m2\u001b[0m\u001b[1;33m)\u001b[0m \u001b[1;33m*\u001b[0m \u001b[0msum\u001b[0m\u001b[1;33m(\u001b[0m\u001b[0mweights_\u001b[0m\u001b[1;33m[\u001b[0m\u001b[0mj\u001b[0m\u001b[1;33m]\u001b[0m \u001b[1;33m*\u001b[0m \u001b[0mfunction\u001b[0m\u001b[1;33m(\u001b[0m\u001b[0mroots_\u001b[0m\u001b[1;33m[\u001b[0m\u001b[0mj\u001b[0m\u001b[1;33m]\u001b[0m\u001b[1;33m)\u001b[0m \u001b[1;33m*\u001b[0m \u001b[0mnp\u001b[0m\u001b[1;33m.\u001b[0m\u001b[0mpolynomial\u001b[0m\u001b[1;33m.\u001b[0m\u001b[0mlegendre\u001b[0m\u001b[1;33m.\u001b[0m\u001b[0mLegendre\u001b[0m\u001b[1;33m.\u001b[0m\u001b[0mbasis\u001b[0m\u001b[1;33m(\u001b[0m\u001b[0mi\u001b[0m\u001b[1;33m)\u001b[0m\u001b[1;33m(\u001b[0m\u001b[0mroots_\u001b[0m\u001b[1;33m[\u001b[0m\u001b[0mj\u001b[0m\u001b[1;33m]\u001b[0m\u001b[1;33m)\u001b[0m \u001b[1;32mfor\u001b[0m \u001b[0mj\u001b[0m \u001b[1;32min\u001b[0m \u001b[0mrange\u001b[0m\u001b[1;33m(\u001b[0m\u001b[0mn\u001b[0m\u001b[1;33m+\u001b[0m\u001b[1;36m1\u001b[0m\u001b[1;33m)\u001b[0m\u001b[1;33m)\u001b[0m\u001b[1;33m\u001b[0m\u001b[1;33m\u001b[0m\u001b[0m\n\u001b[0m\u001b[0;32m      9\u001b[0m     \u001b[0mcoefficients\u001b[0m\u001b[1;33m.\u001b[0m\u001b[0mappend\u001b[0m\u001b[1;33m(\u001b[0m\u001b[0mc_i\u001b[0m\u001b[1;33m)\u001b[0m\u001b[1;33m\u001b[0m\u001b[1;33m\u001b[0m\u001b[0m\n\u001b[0;32m     10\u001b[0m \u001b[1;33m\u001b[0m\u001b[0m\n",
      "\u001b[1;31mTypeError\u001b[0m: function() missing 1 required positional argument: 'i'"
     ]
    }
   ],
   "source": [
    "#e\n",
    "coefficients = []\n",
    "n=20\n",
    "roots_, weights_ = np.polynomial.legendre.leggauss(n+1)\n",
    "\n",
    "roots_, weights_\n",
    "for i in range(n+1):\n",
    "    c_i = ((2*i+1)/2) * sum(weights_[j] * function(roots_[j]) * np.polynomial.legendre.Legendre.basis(i)(roots_[j]) for j in range(n+1))\n",
    "    coefficients.append(c_i)\n",
    "\n",
    "polinomio = np.polynomial.legendre.Legendre(coefficients)\n",
    "polinomio"
   ]
  },
  {
   "cell_type": "code",
   "execution_count": null,
   "id": "3bfa7367",
   "metadata": {},
   "outputs": [],
   "source": [
    "#f se desarrolla junto al punto anterior arriba"
   ]
  },
  {
   "cell_type": "markdown",
   "id": "3b0ae179",
   "metadata": {},
   "source": [
    "b)"
   ]
  },
  {
   "cell_type": "code",
   "execution_count": null,
   "id": "070aa52c",
   "metadata": {},
   "outputs": [],
   "source": [
    "Q_=1\n",
    "a=0.5\n",
    "c= Q_/(2*np.pi)\n",
    "\n",
    "\n",
    "def funcion(x,y,z,theta):\n",
    "    theta\n",
    "    f_x= (x-a*np.cos(theta))/()\n",
    "    \n",
    "\n",
    "def CampoElectrico(x,y,z):\n",
    "\n",
    "\n",
    "    campo=\n",
    "    "
   ]
  },
  {
   "cell_type": "markdown",
   "id": "c5eed645",
   "metadata": {},
   "source": [
    "Monte Carlo\n",
    "\n",
    "6."
   ]
  },
  {
   "cell_type": "code",
   "execution_count": 18,
   "id": "0989304e",
   "metadata": {},
   "outputs": [],
   "source": [
    "def f(r,z):\n",
    "    return r*z\n",
    "R = 1\n",
    "z1 = 0\n",
    "z2 = 2\n",
    "N = int(1e5)\n",
    "Sample = np.zeros(N)\n",
    "for i in range(N):\n",
    "    u = np.random.rand()\n",
    "    r = R*u**(1/2)\n",
    "    z = np.random.uniform(z1,z2)\n",
    "    Sample[i] = f(r,z)\n",
    "\n",
    "    \n",
    "    "
   ]
  },
  {
   "cell_type": "code",
   "execution_count": 19,
   "id": "8a76469d",
   "metadata": {},
   "outputs": [
    {
     "name": "stdout",
     "output_type": "stream",
     "text": [
      "4.183634858506927 4.1887902047863905\n"
     ]
    }
   ],
   "source": [
    "Vc = np.pi*R**2*(z2-z1)\n",
    "print(np.average(Sample)*Vc,4*np.pi/3)"
   ]
  },
  {
   "cell_type": "code",
   "execution_count": 35,
   "id": "d0f95197",
   "metadata": {},
   "outputs": [
    {
     "data": {
      "text/plain": [
       "array([[ 0.01984324,  0.42949285,  0.54093449],\n",
       "       [ 0.39245461,  0.85959959,  0.12907059],\n",
       "       [-0.29727548, -0.1173269 ,  0.45896401],\n",
       "       ...,\n",
       "       [ 0.30199449,  0.10492343, -0.5217875 ],\n",
       "       [ 0.50715916, -0.17133828, -0.50400902],\n",
       "       [ 0.59755391, -0.18389693,  0.72081973]])"
      ]
     },
     "execution_count": 35,
     "metadata": {},
     "output_type": "execute_result"
    }
   ],
   "source": [
    "def CreateSphere(N,R=1):\n",
    "    \n",
    "    Points = np.zeros((N,3))\n",
    "        \n",
    "    for i in range(N):\n",
    "        \n",
    "        phi = np.random.uniform(0,2*np.pi)\n",
    "        u = np.random.rand()\n",
    "        r = R*u**(1/3)\n",
    "        costheta = np.random.uniform(-1,1)\n",
    "        theta = np.arccos(costheta)\n",
    "        \n",
    "        Points[i] = [r*np.cos(phi)*np.sin(theta),r*np.sin(phi)*np.sin(theta),r*np.cos(theta)]\n",
    "        \n",
    "    return Points\n",
    "\n",
    "Points=CreateSphere(N)\n",
    "Points\n"
   ]
  },
  {
   "cell_type": "code",
   "execution_count": 36,
   "id": "af40db74",
   "metadata": {},
   "outputs": [],
   "source": [
    "Sphere = CreateSphere(10000)"
   ]
  },
  {
   "cell_type": "code",
   "execution_count": 37,
   "id": "ce3e6f77",
   "metadata": {},
   "outputs": [
    {
     "data": {
      "text/plain": [
       "<mpl_toolkits.mplot3d.art3d.Path3DCollection at 0x2577b4c6820>"
      ]
     },
     "execution_count": 37,
     "metadata": {},
     "output_type": "execute_result"
    },
    {
     "data": {
      "image/png": "[encoded data removed]",
      "text/plain": [
       "<Figure size 432x432 with 1 Axes>"
      ]
     },
     "metadata": {
      "needs_background": "light"
     },
     "output_type": "display_data"
    }
   ],
   "source": [
    "fig = plt.figure(figsize=(6,6))\n",
    "ax = fig.add_subplot(111,projection='3d')\n",
    "ax.scatter(Sphere[:,0],Sphere[:,1],Sphere[:,2])"
   ]
  },
  {
   "cell_type": "code",
   "execution_count": 69,
   "id": "3538b6b7",
   "metadata": {},
   "outputs": [],
   "source": [
    "\n",
    "def Momento_x(points):\n",
    "\n",
    "    sumas=np.zeros(len(points))\n",
    "    \n",
    "    for i in range(len(points)):\n",
    "        punto=points[i]\n",
    "        each=(punto[1])**2 + (punto[2])**2\n",
    "        sumas[i]=each \n",
    "    \n",
    "    suma_total=np.sum(sumas)\n",
    "    resp=(1/N)*suma_total\n",
    "    \n",
    "    return resp\n",
    "\n",
    "    \n",
    "def Momento_y(points):\n",
    "\n",
    "    sumas=np.zeros(len(points))\n",
    "    \n",
    "    for i in range(len(points)):\n",
    "        punto=points[i]\n",
    "        each=(punto[0])**2 + (punto[2])**2\n",
    "        sumas[i]=each \n",
    "    \n",
    "    suma_total=np.sum(sumas)\n",
    "    resp=(1/N)*suma_total\n",
    "    \n",
    "    return resp\n",
    "\n",
    "def Momento_z(points):\n",
    "\n",
    "    sumas=np.zeros(len(points))\n",
    "    \n",
    "    for i in range(len(points)):\n",
    "        punto=points[i]\n",
    "        each=(punto[0])**2 + (punto[1])**2\n",
    "        sumas[i]=each \n",
    "    \n",
    "    suma_total=np.sum(sumas)\n",
    "    resp=(1/N)*suma_total\n",
    "    \n",
    "    return resp"
   ]
  },
  {
   "cell_type": "code",
   "execution_count": null,
   "id": "b00e435f",
   "metadata": {},
   "outputs": [],
   "source": []
  },
  {
   "cell_type": "code",
   "execution_count": null,
   "id": "78057dcc",
   "metadata": {},
   "outputs": [],
   "source": []
  }
 ],
 "metadata": {
  "kernelspec": {
   "display_name": "Python 3 (ipykernel)",
   "language": "python",
   "name": "python3"
  },
  "language_info": {
   "codemirror_mode": {
    "name": "ipython",
    "version": 3
   },
   "file_extension": ".py",
   "mimetype": "text/x-python",
   "name": "python",
   "nbconvert_exporter": "python",
   "pygments_lexer": "ipython3",
   "version": "3.9.7"
  }
 },
 "nbformat": 4,
 "nbformat_minor": 5
}
