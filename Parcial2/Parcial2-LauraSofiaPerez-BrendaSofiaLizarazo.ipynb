{
 "cells": [
  {
   "cell_type": "code",
   "execution_count": 1,
   "id": "23675f10",
   "metadata": {},
   "outputs": [
    {
     "data": {
      "text/html": [
       "<style>.container { width:100% !important; }</style>"
      ],
      "text/plain": [
       "<IPython.core.display.HTML object>"
      ]
     },
     "metadata": {},
     "output_type": "display_data"
    }
   ],
   "source": [
    "from IPython.display import display, HTML\n",
    "display(HTML(\"<style>.container { width:100% !important; }</style>\"))\n",
    "import numpy as np\n",
    "import matplotlib.pyplot as plt\n",
    "import sympy as sym\n",
    "from scipy import integrate\n",
    "import pandas as pd\n",
    "from matplotlib import rc\n",
    "import os.path as path\n",
    "import os\n",
    "from scipy.special.orthogonal import roots_laguerre"
   ]
  },
  {
   "cell_type": "code",
   "execution_count": 2,
   "id": "6d6424b8",
   "metadata": {},
   "outputs": [],
   "source": [
    "def bandas_(x,T,deltaT):\n",
    "    T=T\n",
    "    f1=np.sqrt((x**2)+ deltaT**2)\n",
    "    f2= f1*300/(2*T)\n",
    "    tan= np.tanh(f2)\n",
    "    abajo= 2*np.sqrt((x**2)+deltaT**2)\n",
    "    f= tan/abajo\n",
    "    return f\n",
    "\n"
   ]
  },
  {
   "cell_type": "code",
   "execution_count": 3,
   "id": "25135352",
   "metadata": {},
   "outputs": [
    {
     "data": {
      "text/plain": [
       "(array([-0.9988664 , -0.99403197, -0.98535408, -0.97286439, -0.95661096,\n",
       "        -0.93665662, -0.91307856, -0.88596798, -0.85542977, -0.82158207,\n",
       "        -0.78455583, -0.7444943 , -0.70155247, -0.65589647, -0.60770293,\n",
       "        -0.5571583 , -0.50445814, -0.44980633, -0.39341431, -0.33550025,\n",
       "        -0.27628819, -0.21600724, -0.15489059, -0.0931747 , -0.03109834,\n",
       "         0.03109834,  0.0931747 ,  0.15489059,  0.21600724,  0.27628819,\n",
       "         0.33550025,  0.39341431,  0.44980633,  0.50445814,  0.5571583 ,\n",
       "         0.60770293,  0.65589647,  0.70155247,  0.7444943 ,  0.78455583,\n",
       "         0.82158207,  0.85542977,  0.88596798,  0.91307856,  0.93665662,\n",
       "         0.95661096,  0.97286439,  0.98535408,  0.99403197,  0.9988664 ]),\n",
       " array([0.00290862, 0.0067598 , 0.01059055, 0.01438082, 0.01811556,\n",
       "        0.02178024, 0.02536067, 0.02884299, 0.03221373, 0.03545984,\n",
       "        0.03856876, 0.04152846, 0.0443275 , 0.04695505, 0.04940094,\n",
       "        0.0516557 , 0.05371062, 0.05555774, 0.05718993, 0.05860085,\n",
       "        0.05978506, 0.06073797, 0.0614559 , 0.06193607, 0.06217662,\n",
       "        0.06217662, 0.06193607, 0.0614559 , 0.06073797, 0.05978506,\n",
       "        0.05860085, 0.05718993, 0.05555774, 0.05371062, 0.0516557 ,\n",
       "        0.04940094, 0.04695505, 0.0443275 , 0.04152846, 0.03856876,\n",
       "        0.03545984, 0.03221373, 0.02884299, 0.02536067, 0.02178024,\n",
       "        0.01811556, 0.01438082, 0.01059055, 0.0067598 , 0.00290862]))"
      ]
     },
     "execution_count": 3,
     "metadata": {},
     "output_type": "execute_result"
    }
   ],
   "source": [
    "n=50\n",
    "roots, weights = np.polynomial.legendre.leggauss(n)\n",
    "roots, weights"
   ]
  },
  {
   "cell_type": "code",
   "execution_count": 33,
   "id": "096e1185",
   "metadata": {},
   "outputs": [
    {
     "data": {
      "text/plain": [
       "[0.006030592718010168,\n",
       " 0.006030592718010168,\n",
       " 0.006030592718010168,\n",
       " 0.006030592718010168,\n",
       " 0.006030592718010168,\n",
       " 0.006030592718010168,\n",
       " 0.006030592718010168,\n",
       " 0.006022146509721638,\n",
       " 0.006022146509721638,\n",
       " 0.006005254093144579,\n",
       " 0.005996807884856049,\n",
       " 0.00597146925999046,\n",
       " 0.005937684426836342,\n",
       " 0.005887007177105164,\n",
       " 0.005827883719085457,\n",
       " 0.005760314052777219,\n",
       " 0.005667405761603393,\n",
       " 0.005566051262141038,\n",
       " 0.005447804346101623,\n",
       " 0.005304218805196618,\n",
       " 0.005143740847714555,\n",
       " 0.004957924265366903,\n",
       " 0.004746769058153661,\n",
       " 0.004501829017786302,\n",
       " 0.004214657935976294,\n",
       " 0.0038852558127236377,\n",
       " 0.0035051764397398036,\n",
       " 0.003040634983870673,\n",
       " 0.0024409541953850683,\n",
       " 0.0015878871582435737]"
      ]
     },
     "execution_count": 33,
     "metadata": {},
     "output_type": "execute_result"
    }
   ],
   "source": [
    "a=-1\n",
    "b=1\n",
    "temp=0\n",
    "t_=[]\n",
    "T=[]\n",
    "dt_=[]\n",
    "del_T=[]\n",
    "t=np.linspace(0.01,20.,50) \n",
    "delta = np.linspace(0.,1.,10000)\n",
    "\n",
    "for i in t:\n",
    "\n",
    "    \n",
    "    for j in delta:\n",
    "        _integral=np.sum(weights*bandas_(roots,i,j))\n",
    "        \n",
    "        if np.abs(_integral-(1/0.3))< 1e-3:\n",
    "            temp=i\n",
    "            delt=j\n",
    "            break \n",
    "            \n",
    "    if i<=temp:\n",
    "        dt_.append(j)\n",
    "        \n",
    "    if i<=temp:\n",
    "        t_.append(i)\n",
    "        \n",
    "\n",
    "            \n",
    "for n in t_:\n",
    "    T.append(n/temp)\n",
    "    \n",
    "for d in dt_:\n",
    "    del_T.append(d/temp)\n",
    "    \n",
    "\n",
    "eje_y="
   ]
  },
  {
   "cell_type": "code",
   "execution_count": null,
   "id": "688d96da",
   "metadata": {},
   "outputs": [],
   "source": []
  }
 ],
 "metadata": {
  "kernelspec": {
   "display_name": "Python 3 (ipykernel)",
   "language": "python",
   "name": "python3"
  },
  "language_info": {
   "codemirror_mode": {
    "name": "ipython",
    "version": 3
   },
   "file_extension": ".py",
   "mimetype": "text/x-python",
   "name": "python",
   "nbconvert_exporter": "python",
   "pygments_lexer": "ipython3",
   "version": "3.9.7"
  }
 },
 "nbformat": 4,
 "nbformat_minor": 5
}
